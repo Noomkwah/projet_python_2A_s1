{
  "cells": [
    {
      "cell_type": "markdown",
      "metadata": {
        "id": "view-in-github",
        "colab_type": "text"
      },
      "source": [
        "<a href=\"https://colab.research.google.com/github/Noomkwah/projet_python_2A_s1/blob/main/ProjetPython_RAYMONDjulien_DUPIREpaul_MASSINkeryann.ipynb\" target=\"_parent\"><img src=\"https://colab.research.google.com/assets/colab-badge.svg\" alt=\"Open In Colab\"/></a>"
      ]
    },
    {
      "cell_type": "markdown",
      "metadata": {
        "id": "LwFNVGuTdjNE"
      },
      "source": [
        "# Introduction"
      ]
    },
    {
      "cell_type": "markdown",
      "metadata": {
        "id": "aEZWrSJnbU-t"
      },
      "source": [
        "**Contexte :** Les énergies renouvelables sont au coeur des préoccupations environnementales de ces dernières décennies. La France dispose d'un taux d'ensoleillement de son territoire qui lui permet notamment d'exploiter l'énergie solaire. Cependant, la mise en place de panneaux solaires thermiques ou photovoltaïques présente des coûts incompressibles qu'il convient de prendre en compte. En particulier, les disparités d'ensoleillement et de températures selon les régions laissent présager que certaines régions sont plus propices à l'exploitation solaire que d'autres.\n",
        "\n",
        "**Quelles sont les meilleures régions pour l'implantation de panneaux solaires photovoltaïques ?**\n",
        "\n",
        "**Notre projet :** Ce projet tente de répondre à cette précédente question. Pour cela, on s'appuie sur une modélisation du rendement d'un panneau solaire photovoltaïque en fonction de différents paramètres tels que la température extérieure et la puissance reçue durant la journée."
      ]
    },
    {
      "cell_type": "markdown",
      "metadata": {
        "id": "nvQAkZMwfJNa"
      },
      "source": [
        "# Librairies importées"
      ]
    },
    {
      "cell_type": "markdown",
      "metadata": {
        "id": "mrDynHLNfPkC"
      },
      "source": [
        "On commence par importer toutes les librairies utiles."
      ]
    },
    {
      "cell_type": "code",
      "execution_count": null,
      "metadata": {
        "id": "Fvuuy4rHc3xj"
      },
      "outputs": [],
      "source": [
        "import numpy as np\n",
        "from scipy.optimize import minimize\n",
        "from sklearn.linear_model import LinearRegression\n",
        "from sklearn.model_selection import train_test_split\n",
        "import sklearn.metrics\n",
        "import matplotlib.pyplot as plt\n",
        "import seaborn as sns\n",
        "import pandas as pd\n",
        "import urllib.request\n",
        "import urllib.error\n",
        "import plotly.express as px\n",
        "from google.colab import files\n"
      ]
    },
    {
      "cell_type": "markdown",
      "metadata": {
        "id": "kqdYJYJficFd"
      },
      "source": [
        "# Création de la base de donnée"
      ]
    },
    {
      "cell_type": "markdown",
      "metadata": {
        "id": "BcIdYiDdfT16"
      },
      "source": [
        "La première étape du projet consiste en l'extraction des données utiles. On s'appuie pour cela sur l'API du [site de la commission européenne](https://re.jrc.ec.europa.eu). En particulier à partir de la base de données PVGIS. \n",
        "\n",
        "L’API donne accès pour chacun des points de coordonnées considéré à des variables d’intérets comme la puissance radiative reçue (“G(i)” en W/m2)  et la vitesse du vent (“WS10”, en m/s) pour une date donnée (Année-Mois-Jour-Heure). Les mesures sont réalisées de manière hebdomadaire.\n",
        "\n",
        "Notre objectif est de réunir ces données en des variables moyennes sur une zone géographique choisie. "
      ]
    },
    {
      "cell_type": "code",
      "source": [
        "def extraction(latitude,longitude, startyear, endyear):\n",
        "    \"\"\"Extraction de la base de données pour les paramètres de longitudes, latitudes et de périodes\n",
        "    à partir de l'API de la comission européenne https://re.jrc.ec.europa.eu\"\"\"\n",
        "    \n",
        "    req = \"https://re.jrc.ec.europa.eu/api/seriescalc?lat=\"+str(latitude)+\"&lon=\"+str(longitude)+\"&startyear=\"+str(startyear)+\"&endyear=\"+str(endyear)+\"&month=0&showtemperatures=1&outputformat=csv&browser=1\"\n",
        "    url = urllib.request.urlopen(req) \n",
        "    return url\n",
        "\n",
        "def normalisation(url, latitude,longitude):\n",
        "    \"\"\"On standardise les données récupérées pour les rendre comparables entre elles\"\"\"\n",
        "    \n",
        "    df_norm = pd.read_csv(url,skiprows=(8),skipfooter=9,engine='python') #On se débarasse des informations superflues\n",
        "    \n",
        "    df_norm['annee'] = df_norm['time'].str[:4] #On extrait la variable d'année à partir de la variable temps\n",
        "    df_norm = df_norm.groupby(['annee'])['G(i)', 'WS10m'].mean() #On calcule la moyenne annuelle de la variable puissance radiative reçue et de la variable vitesse du vent\n",
        "    df_norm['latitude'] = latitude #On rajoute les paramètres de latitude et de longitude\n",
        "    df_norm[\"longitude\"] = longitude\n",
        "\n",
        "    return df_norm\n"
      ],
      "metadata": {
        "id": "TI5R2bDIvaxi"
      },
      "execution_count": null,
      "outputs": []
    },
    {
      "cell_type": "code",
      "execution_count": null,
      "metadata": {
        "id": "ObwhtNSrjqMj"
      },
      "outputs": [],
      "source": [
        "def creation_df_zone(latitude_1,latitude_2,longitude_1, longitude_2, precision,startyear,endyear):\n",
        "    \"\"\"Cette fonction sert à créer une base de données des moyennes de puissance radiative reçue et de vitesses du vent par an\n",
        "        sur une zone géographique définie par ses paramètres de latitude et de longitude. \n",
        "        La variables précision donne la precision du quadrillage réalisé, type = int, > 0.\n",
        "        Les variables startyear et endyear permettent de définir l'intervalle de temps considéré (2005-2016).\n",
        "        Exemple : zone(1,2,-1,1,2,2010,2012)\"\"\"\n",
        "\n",
        "    ls_df = [] #création d'une liste vide qui servira a réunir les bases de données années par années\n",
        "    for longitude in range(longitude_1, (longitude_2+1), 1): #On parcourt un à un les longitude comprises entre longitude_1 et longitude_2\n",
        "        for latitude in range(latitude_1*precision,(latitude_2+1)*precision,1): #On parcourt les latitudes selon le meme principe en affinant le  quadrillage à l'aide de la variable précision\n",
        "            latitude = latitude/precision #La précision désigne le nombre de points supplémentaires \n",
        "            \n",
        "            try :  #try permet de ne pas considérer les coordonnées manquantes (ex : océan). \n",
        "                url = extraction(latitude, longitude, startyear, endyear)#Récupération de la base de données brute\n",
        "                df_norm = normalisation(url, latitude, longitude)#Standardisation de la base de données\n",
        "                ls_df.append(df_norm)#Ajout de la base de données à la liste \n",
        "                \n",
        "                \n",
        "            except urllib.error.HTTPError:     #au cas où l'on tombe sur des lieux sans mesures, ignorer\n",
        "                pass    \n",
        "                \n",
        "            \n",
        "    df_final = pd.concat(ls_df, axis=0, ignore_index=False) #Concaténation des différents df (un par coordonnées)\n",
        "    df_final.reset_index(level=0, inplace=True) #On enleve l'indexation par année\n",
        "    \n",
        "    \n",
        "    \n",
        "    \n",
        "    df_final.to_csv('BaseDonneesEnsoleilementPythonDS.csv')  #Mettre le chemin d'accès et le nom du fichier avant le .csv    \n",
        "    return df_final"
      ]
    },
    {
      "cell_type": "markdown",
      "source": [
        "**VISUALISATION DES DONNEES \"BRUTES\"**"
      ],
      "metadata": {
        "id": "H4VCpwuaA6fh"
      }
    },
    {
      "cell_type": "code",
      "source": [
        "def carte_interactive(df,parametre):\n",
        "    \"\"\"Création d'une carte intéractive avec plotly, permet de visualiser les données\n",
        "        Paramètre = \"G(i)\" [ensoleillement] ou \"WS10m\" [vitesse du vent]\n",
        "        Il est nécessaire d'avoir construit le df d'abord au moyen de la fonction creation_df_zone\n",
        "        \n",
        "        Exemple : carte_interactive(df, \"G(i)\")\n",
        "        \"\"\"\n",
        "    df[\"size\"] = pd.Series([50 for x in range(len(df.index))])  #Création d'une variable de taille pour les \n",
        "    \n",
        "    fig = px.scatter_mapbox(df.dropna(), #On se débarasse des valeurs manquantes\n",
        "                        lat=\"latitude\", #On donne les variables de coordonnées \n",
        "                        lon=\"longitude\", \n",
        "                        color=str(parametre), #La couleur vient du parametre regardé : \"G(i)\" ou \"WS10m\"\n",
        "                        size =\"size\", #La taille de chaque point\n",
        "                        mapbox_style=\"carto-positron\", #Le fond de carte\n",
        "                        \n",
        "                        #On joue avec les paramètres de légende pour les rendre cohérent avec les paramètres étudiés et consistants à travers le temps\n",
        "                        color_continuous_scale=[[0, 'blue'], [0.15, 'green'],[0.30, \"yellow\"], [0.45, 'orange'], [0.60, 'pink'], [0.75, 'crimson'] ,[1.0, 'red']],\n",
        "                        color_continuous_midpoint = df[parametre].mean(),\n",
        "                        range_color=([df[parametre].min(),df[parametre].max()]),\n",
        "                        zoom = 3,\n",
        "\n",
        "                        #On anime le tout en fonction de l'année\n",
        "                        animation_frame = 'annee')\n",
        "    \n",
        "    fig.show()"
      ],
      "metadata": {
        "id": "QLtEML9uA2aB"
      },
      "execution_count": null,
      "outputs": []
    },
    {
      "cell_type": "markdown",
      "source": [
        "Il ne reste plus qu'à récupérer les données. La ligne ci-dessous s'en occupe. Son exécution est assez longue (13 minutes depuis Google Colab, sur un Core AMD Ryzen 5). Notez que le résultat de cette ligne est déjà enregistré dans le github du projet. Il suffit de l'importer en utilisant le lien csv ci-après."
      ],
      "metadata": {
        "id": "qV7BEDCss7oa"
      }
    },
    {
      "cell_type": "code",
      "execution_count": null,
      "metadata": {
        "colab": {
          "base_uri": "https://localhost:8080/"
        },
        "id": "imvqB_wwoLi1",
        "outputId": "eb56c2e5-e33c-4535-b0bd-b3937b0adc6c"
      },
      "outputs": [
        {
          "output_type": "stream",
          "name": "stderr",
          "text": [
            "<ipython-input-14-f14cbfd4a909>:15: FutureWarning:\n",
            "\n",
            "Indexing with multiple keys (implicitly converted to a tuple of keys) will be deprecated, use a list instead.\n",
            "\n"
          ]
        }
      ],
      "source": [
        "df = creation_df_zone(41,52,-6,10,2,2013,2016) #On crée la base de données sur le territoire de France métropolitaine"
      ]
    },
    {
      "cell_type": "code",
      "source": [
        "df = pd.read_csv('https://raw.githubusercontent.com/Noomkwah/projet_python_2A_s1/main/BD_G(i).csv', index_col = 0)\n",
        "df.head()"
      ],
      "metadata": {
        "id": "t2A9_wvWzZwK",
        "outputId": "0a1b4572-83f1-4f0c-acb1-dfe03ec0e5a0",
        "colab": {
          "base_uri": "https://localhost:8080/",
          "height": 206
        }
      },
      "execution_count": null,
      "outputs": [
        {
          "output_type": "execute_result",
          "data": {
            "text/plain": [
              "   annee        G(i)     WS10m  latitude  longitude\n",
              "0   2013  192.259062  3.304105      41.0         -6\n",
              "1   2014  195.657178  3.172605      41.0         -6\n",
              "2   2015  197.981887  2.955639      41.0         -6\n",
              "3   2016  187.812598  3.534647      41.0         -6\n",
              "4   2013  190.524902  3.312728      41.5         -6"
            ],
            "text/html": [
              "\n",
              "  <div id=\"df-15bcdfe7-503a-4c58-8a43-2c249f374dba\">\n",
              "    <div class=\"colab-df-container\">\n",
              "      <div>\n",
              "<style scoped>\n",
              "    .dataframe tbody tr th:only-of-type {\n",
              "        vertical-align: middle;\n",
              "    }\n",
              "\n",
              "    .dataframe tbody tr th {\n",
              "        vertical-align: top;\n",
              "    }\n",
              "\n",
              "    .dataframe thead th {\n",
              "        text-align: right;\n",
              "    }\n",
              "</style>\n",
              "<table border=\"1\" class=\"dataframe\">\n",
              "  <thead>\n",
              "    <tr style=\"text-align: right;\">\n",
              "      <th></th>\n",
              "      <th>annee</th>\n",
              "      <th>G(i)</th>\n",
              "      <th>WS10m</th>\n",
              "      <th>latitude</th>\n",
              "      <th>longitude</th>\n",
              "    </tr>\n",
              "  </thead>\n",
              "  <tbody>\n",
              "    <tr>\n",
              "      <th>0</th>\n",
              "      <td>2013</td>\n",
              "      <td>192.259062</td>\n",
              "      <td>3.304105</td>\n",
              "      <td>41.0</td>\n",
              "      <td>-6</td>\n",
              "    </tr>\n",
              "    <tr>\n",
              "      <th>1</th>\n",
              "      <td>2014</td>\n",
              "      <td>195.657178</td>\n",
              "      <td>3.172605</td>\n",
              "      <td>41.0</td>\n",
              "      <td>-6</td>\n",
              "    </tr>\n",
              "    <tr>\n",
              "      <th>2</th>\n",
              "      <td>2015</td>\n",
              "      <td>197.981887</td>\n",
              "      <td>2.955639</td>\n",
              "      <td>41.0</td>\n",
              "      <td>-6</td>\n",
              "    </tr>\n",
              "    <tr>\n",
              "      <th>3</th>\n",
              "      <td>2016</td>\n",
              "      <td>187.812598</td>\n",
              "      <td>3.534647</td>\n",
              "      <td>41.0</td>\n",
              "      <td>-6</td>\n",
              "    </tr>\n",
              "    <tr>\n",
              "      <th>4</th>\n",
              "      <td>2013</td>\n",
              "      <td>190.524902</td>\n",
              "      <td>3.312728</td>\n",
              "      <td>41.5</td>\n",
              "      <td>-6</td>\n",
              "    </tr>\n",
              "  </tbody>\n",
              "</table>\n",
              "</div>\n",
              "      <button class=\"colab-df-convert\" onclick=\"convertToInteractive('df-15bcdfe7-503a-4c58-8a43-2c249f374dba')\"\n",
              "              title=\"Convert this dataframe to an interactive table.\"\n",
              "              style=\"display:none;\">\n",
              "        \n",
              "  <svg xmlns=\"http://www.w3.org/2000/svg\" height=\"24px\"viewBox=\"0 0 24 24\"\n",
              "       width=\"24px\">\n",
              "    <path d=\"M0 0h24v24H0V0z\" fill=\"none\"/>\n",
              "    <path d=\"M18.56 5.44l.94 2.06.94-2.06 2.06-.94-2.06-.94-.94-2.06-.94 2.06-2.06.94zm-11 1L8.5 8.5l.94-2.06 2.06-.94-2.06-.94L8.5 2.5l-.94 2.06-2.06.94zm10 10l.94 2.06.94-2.06 2.06-.94-2.06-.94-.94-2.06-.94 2.06-2.06.94z\"/><path d=\"M17.41 7.96l-1.37-1.37c-.4-.4-.92-.59-1.43-.59-.52 0-1.04.2-1.43.59L10.3 9.45l-7.72 7.72c-.78.78-.78 2.05 0 2.83L4 21.41c.39.39.9.59 1.41.59.51 0 1.02-.2 1.41-.59l7.78-7.78 2.81-2.81c.8-.78.8-2.07 0-2.86zM5.41 20L4 18.59l7.72-7.72 1.47 1.35L5.41 20z\"/>\n",
              "  </svg>\n",
              "      </button>\n",
              "      \n",
              "  <style>\n",
              "    .colab-df-container {\n",
              "      display:flex;\n",
              "      flex-wrap:wrap;\n",
              "      gap: 12px;\n",
              "    }\n",
              "\n",
              "    .colab-df-convert {\n",
              "      background-color: #E8F0FE;\n",
              "      border: none;\n",
              "      border-radius: 50%;\n",
              "      cursor: pointer;\n",
              "      display: none;\n",
              "      fill: #1967D2;\n",
              "      height: 32px;\n",
              "      padding: 0 0 0 0;\n",
              "      width: 32px;\n",
              "    }\n",
              "\n",
              "    .colab-df-convert:hover {\n",
              "      background-color: #E2EBFA;\n",
              "      box-shadow: 0px 1px 2px rgba(60, 64, 67, 0.3), 0px 1px 3px 1px rgba(60, 64, 67, 0.15);\n",
              "      fill: #174EA6;\n",
              "    }\n",
              "\n",
              "    [theme=dark] .colab-df-convert {\n",
              "      background-color: #3B4455;\n",
              "      fill: #D2E3FC;\n",
              "    }\n",
              "\n",
              "    [theme=dark] .colab-df-convert:hover {\n",
              "      background-color: #434B5C;\n",
              "      box-shadow: 0px 1px 3px 1px rgba(0, 0, 0, 0.15);\n",
              "      filter: drop-shadow(0px 1px 2px rgba(0, 0, 0, 0.3));\n",
              "      fill: #FFFFFF;\n",
              "    }\n",
              "  </style>\n",
              "\n",
              "      <script>\n",
              "        const buttonEl =\n",
              "          document.querySelector('#df-15bcdfe7-503a-4c58-8a43-2c249f374dba button.colab-df-convert');\n",
              "        buttonEl.style.display =\n",
              "          google.colab.kernel.accessAllowed ? 'block' : 'none';\n",
              "\n",
              "        async function convertToInteractive(key) {\n",
              "          const element = document.querySelector('#df-15bcdfe7-503a-4c58-8a43-2c249f374dba');\n",
              "          const dataTable =\n",
              "            await google.colab.kernel.invokeFunction('convertToInteractive',\n",
              "                                                     [key], {});\n",
              "          if (!dataTable) return;\n",
              "\n",
              "          const docLinkHtml = 'Like what you see? Visit the ' +\n",
              "            '<a target=\"_blank\" href=https://colab.research.google.com/notebooks/data_table.ipynb>data table notebook</a>'\n",
              "            + ' to learn more about interactive tables.';\n",
              "          element.innerHTML = '';\n",
              "          dataTable['output_type'] = 'display_data';\n",
              "          await google.colab.output.renderOutput(dataTable, element);\n",
              "          const docLink = document.createElement('div');\n",
              "          docLink.innerHTML = docLinkHtml;\n",
              "          element.appendChild(docLink);\n",
              "        }\n",
              "      </script>\n",
              "    </div>\n",
              "  </div>\n",
              "  "
            ]
          },
          "metadata": {},
          "execution_count": 20
        }
      ]
    },
    {
      "cell_type": "code",
      "source": [
        "carte_interactive(df,\"G(i)\")"
      ],
      "metadata": {
        "colab": {
          "base_uri": "https://localhost:8080/",
          "height": 542
        },
        "id": "yKipe3sPWpO5",
        "outputId": "e225c53c-feed-4b5a-f721-dc36d0efce7b"
      },
      "execution_count": null,
      "outputs": [
        {
          "output_type": "display_data",
          "data": {
            "text/html": [
              "<html>\n",
              "<head><meta charset=\"utf-8\" /></head>\n",
              "<body>\n",
              "    <div>            <script src=\"https://cdnjs.cloudflare.com/ajax/libs/mathjax/2.7.5/MathJax.js?config=TeX-AMS-MML_SVG\"></script><script type=\"text/javascript\">if (window.MathJax) {MathJax.Hub.Config({SVG: {font: \"STIX-Web\"}});}</script>                <script type=\"text/javascript\">window.PlotlyConfig = {MathJaxConfig: 'local'};</script>\n",
              "        <script src=\"https://cdn.plot.ly/plotly-2.8.3.min.js\"></script>                <div id=\"15e3d142-3e56-4b4f-9247-b0f792e3a5ae\" class=\"plotly-graph-div\" style=\"height:525px; width:100%;\"></div>            <script type=\"text/javascript\">                                    window.PLOTLYENV=window.PLOTLYENV || {};                                    if (document.getElementById(\"15e3d142-3e56-4b4f-9247-b0f792e3a5ae\")) {                    Plotly.newPlot(                        \"15e3d142-3e56-4b4f-9247-b0f792e3a5ae\",                        [{\"hovertemplate\":\"annee=2013<br>size=%{marker.size}<br>latitude=%{lat}<br>longitude=%{lon}<br>G(i)=%{marker.color}<extra></extra>\",\"lat\":[41.0,41.5,42.0,42.5,43.0,43.5,41.0,41.5,42.0,42.5,43.0,50.5,52.0,41.0,41.5,42.0,42.5,43.0,48.0,48.5,50.5,51.0,52.0,52.5,41.0,41.5,42.0,42.5,43.0,48.0,48.5,51.0,52.0,52.5,41.0,41.5,42.0,42.5,43.0,47.0,47.5,48.0,48.5,51.0,51.5,52.0,52.5,41.0,41.5,42.0,42.5,43.0,43.5,44.0,44.5,45.0,46.0,46.5,47.0,47.5,48.0,48.5,49.0,51.0,51.5,52.0,52.5,41.0,41.5,42.0,42.5,43.0,43.5,44.0,44.5,45.0,45.5,46.0,46.5,47.0,47.5,48.0,48.5,49.0,51.0,51.5,52.0,52.5,41.5,42.0,42.5,43.0,43.5,44.0,44.5,45.0,45.5,46.0,46.5,47.0,47.5,48.0,48.5,49.0,49.5,52.0,52.5,41.5,42.0,42.5,43.0,43.5,44.0,44.5,45.0,45.5,46.0,46.5,47.0,47.5,48.0,48.5,49.0,49.5,50.0,50.5,42.0,42.5,43.0,43.5,44.0,44.5,45.0,45.5,46.0,46.5,47.0,47.5,48.0,48.5,49.0,49.5,50.0,50.5,51.0,44.0,44.5,45.0,45.5,46.0,46.5,47.0,47.5,48.0,48.5,49.0,49.5,50.0,50.5,51.0,51.5,43.5,44.0,44.5,45.0,45.5,46.0,46.5,47.0,47.5,48.0,48.5,49.0,49.5,50.0,50.5,51.0,51.5,52.0,52.5,43.5,44.0,44.5,45.0,45.5,46.0,46.5,47.0,47.5,48.0,48.5,49.0,49.5,50.0,50.5,51.0,51.5,52.0,52.5,44.0,44.5,45.0,45.5,46.0,46.5,47.0,47.5,48.0,48.5,49.0,49.5,50.0,50.5,51.0,51.5,52.0,52.5,44.0,44.5,45.0,45.5,46.0,46.5,47.0,47.5,48.0,48.5,49.0,49.5,50.0,50.5,51.0,51.5,52.0,52.5,41.0,41.5,42.0,42.5,44.5,45.0,45.5,46.0,46.5,47.0,47.5,48.0,48.5,49.0,49.5,50.0,50.5,51.0,51.5,52.0,52.5,44.5,45.0,45.5,46.0,46.5,47.0,47.5,48.0,48.5,49.0,49.5,50.0,50.5,51.0,51.5,52.0,52.5],\"legendgroup\":\"\",\"lon\":[-6,-6,-6,-6,-6,-6,-5,-5,-5,-5,-5,-5,-5,-4,-4,-4,-4,-4,-4,-4,-4,-4,-4,-4,-3,-3,-3,-3,-3,-3,-3,-3,-3,-3,-2,-2,-2,-2,-2,-2,-2,-2,-2,-2,-2,-2,-2,-1,-1,-1,-1,-1,-1,-1,-1,-1,-1,-1,-1,-1,-1,-1,-1,-1,-1,-1,-1,0,0,0,0,0,0,0,0,0,0,0,0,0,0,0,0,0,0,0,0,0,1,1,1,1,1,1,1,1,1,1,1,1,1,1,1,1,1,1,1,2,2,2,2,2,2,2,2,2,2,2,2,2,2,2,2,2,2,2,3,3,3,3,3,3,3,3,3,3,3,3,3,3,3,3,3,3,3,4,4,4,4,4,4,4,4,4,4,4,4,4,4,4,4,5,5,5,5,5,5,5,5,5,5,5,5,5,5,5,5,5,5,5,6,6,6,6,6,6,6,6,6,6,6,6,6,6,6,6,6,6,6,7,7,7,7,7,7,7,7,7,7,7,7,7,7,7,7,7,7,8,8,8,8,8,8,8,8,8,8,8,8,8,8,8,8,8,8,9,9,9,9,9,9,9,9,9,9,9,9,9,9,9,9,9,9,9,9,9,10,10,10,10,10,10,10,10,10,10,10,10,10,10,10,10,10],\"marker\":{\"color\":[192.2590616438356,190.524901826484,188.56732420091325,185.0926757990868,160.8848607305936,136.5638310502283,192.1702865296804,188.89528310502283,187.13770433789955,182.65618607305936,157.52069063926942,117.61939840182649,116.34672374429223,168.31195662100455,180.42101940639267,179.04940296803653,170.46744292237443,147.01001255707763,133.55380821917808,122.32440296803654,116.29085273972602,115.5358801369863,108.17710502283104,108.55392579908676,188.90874429223743,180.25548401826484,164.93682648401827,153.77108904109588,138.20578767123288,133.22352283105025,127.09721461187216,120.186100456621,109.68956621004564,106.27611643835615,179.34715525114157,180.52145433789957,168.9079805936073,169.78286872146117,114.20503652968036,144.89520662100458,138.35331506849317,133.95607534246574,130.65623744292236,116.76824200913242,114.4696689497717,110.3124794520548,106.75807648401826,179.60291210045662,184.19017808219175,189.97805479452052,172.51996232876712,146.44388926940638,142.01999771689498,144.18248173515985,149.25337328767125,146.84314611872145,149.45400799086758,145.41233447488585,137.35156621004566,136.63019520547945,133.4811506849315,125.87814269406392,122.66089726027396,120.23735616438356,113.60651940639268,111.57277168949771,111.20612214611872,185.1683127853881,197.369198630137,199.70935730593607,170.95460273972603,127.90762328767124,149.9096506849315,146.07877397260273,149.35495319634703,146.87062328767124,143.80398744292236,143.2607876712329,139.64100228310502,136.80075114155252,133.74801712328767,132.2651187214612,128.51193607305936,121.6806289954338,121.9543687214612,112.52217237442922,113.6269200913242,113.48703652968037,192.4179646118721,190.42845662100456,149.3953002283105,129.63055022831048,150.99150228310504,152.0062728310502,147.7711689497717,143.1024988584475,139.25445433789957,135.12327168949773,135.0135582191781,134.7971289954338,130.0544406392694,129.56589497716894,127.26614497716896,124.39046232876711,120.52010273972604,118.21349543378994,114.66804794520549,187.8968105022831,181.91856392694064,162.37511872146118,147.57957648401828,141.50366894977168,150.52249315068494,145.6844086757991,137.5377203196347,135.1545605022831,127.70772831050228,130.29322374429222,135.01958675799088,124.44986986301372,127.7458299086758,129.35836757990867,125.69046803652968,121.86844406392694,119.32565525114155,116.9018892694064,174.17421347031964,163.54584474885846,168.26228310502285,167.20897031963472,144.68215068493149,144.72724543378993,137.48538698630136,127.43029794520548,134.68666438356163,131.8654497716895,130.8220399543379,130.16208333333336,129.14926598173517,130.33427511415525,126.59716894977169,122.67809246575344,121.88268721461188,118.50484589041096,118.58442123287672,170.17464383561642,145.8509292237443,128.2631974885845,131.1710707762557,134.72598858447486,132.62700684931508,128.0134497716895,126.23676712328768,125.45561415525114,128.96492694063926,125.8456506849315,124.2368789954338,118.33065753424655,117.83861643835615,116.9718093607306,117.52395319634702,186.621294520548,183.65750342465756,162.1778276255708,154.39100342465753,144.50789954337898,140.65259360730593,132.01729452054795,131.58339383561645,126.46959931506848,120.41390182648402,121.02668264840185,120.133598173516,117.93871689497718,112.14429337899544,113.83325114155252,118.08399315068492,112.85942351598176,113.2516621004566,112.70496232876712,178.37245890410958,179.40475570776255,172.04954680365296,124.6825684931507,144.36139611872147,141.96776484018264,123.9360913242009,116.16074429223744,128.62613584474886,126.2074874429224,122.11408105022832,123.6805388127854,119.41183904109587,114.7955125570776,108.13123173515982,115.72028310502284,115.01935159817351,112.82396689497716,109.1862488584475,160.43356050228311,133.90771232876713,121.76733675799088,109.43677283105023,111.4885308219178,130.32805821917808,136.94084703196347,126.37098287671232,110.9796906392694,114.74795205479452,121.33080821917808,118.99413812785389,114.91071347031964,110.66340753424656,112.44554680365296,110.1435194063927,112.0385410958904,110.5636700913242,169.2873881278539,155.67172146118722,159.39841324200916,158.22517351598174,107.71531278538814,119.14346689497717,111.8658904109589,126.58129452054791,112.00488242009132,120.54045205479451,124.73657762557076,117.34707534246576,123.15804452054796,119.31733675799089,106.9533812785388,106.15687214611872,111.07904223744292,109.02120662100457,169.93587442922376,186.41542351598176,159.53762442922374,149.7662808219178,146.3330593607306,154.38217694063923,157.19196118721462,137.651848173516,127.33138356164385,110.6741700913242,122.92289726027398,124.97568150684933,121.64447831050228,120.60968264840184,117.48162785388128,119.87593607305936,116.40853767123288,112.37209703196346,110.11074429223744,107.77818378995434,110.75458904109588,132.06630251141553,155.85520776255706,155.68220662100455,134.03461529680365,113.35653310502283,95.53939726027396,114.37854566210044,123.24054566210044,121.21947374429224,117.28752625570776,119.51282305936073,120.29163356164383,110.85417351598171,111.26721803652968,110.36572831050228,108.19851598173516,112.2087397260274],\"coloraxis\":\"coloraxis\",\"size\":[50,50,50,50,50,50,50,50,50,50,50,50,50,50,50,50,50,50,50,50,50,50,50,50,50,50,50,50,50,50,50,50,50,50,50,50,50,50,50,50,50,50,50,50,50,50,50,50,50,50,50,50,50,50,50,50,50,50,50,50,50,50,50,50,50,50,50,50,50,50,50,50,50,50,50,50,50,50,50,50,50,50,50,50,50,50,50,50,50,50,50,50,50,50,50,50,50,50,50,50,50,50,50,50,50,50,50,50,50,50,50,50,50,50,50,50,50,50,50,50,50,50,50,50,50,50,50,50,50,50,50,50,50,50,50,50,50,50,50,50,50,50,50,50,50,50,50,50,50,50,50,50,50,50,50,50,50,50,50,50,50,50,50,50,50,50,50,50,50,50,50,50,50,50,50,50,50,50,50,50,50,50,50,50,50,50,50,50,50,50,50,50,50,50,50,50,50,50,50,50,50,50,50,50,50,50,50,50,50,50,50,50,50,50,50,50,50,50,50,50,50,50,50,50,50,50,50,50,50,50,50,50,50,50,50,50,50,50,50,50,50,50,50,50,50,50,50,50,50,50,50,50,50,50,50,50,50,50,50,50,50,50,50,50,50,50,50,50,50,50,50,50,50],\"sizemode\":\"area\",\"sizeref\":0.125},\"mode\":\"markers\",\"name\":\"\",\"showlegend\":false,\"subplot\":\"mapbox\",\"type\":\"scattermapbox\"}],                        {\"template\":{\"data\":{\"bar\":[{\"error_x\":{\"color\":\"#2a3f5f\"},\"error_y\":{\"color\":\"#2a3f5f\"},\"marker\":{\"line\":{\"color\":\"#E5ECF6\",\"width\":0.5},\"pattern\":{\"fillmode\":\"overlay\",\"size\":10,\"solidity\":0.2}},\"type\":\"bar\"}],\"barpolar\":[{\"marker\":{\"line\":{\"color\":\"#E5ECF6\",\"width\":0.5},\"pattern\":{\"fillmode\":\"overlay\",\"size\":10,\"solidity\":0.2}},\"type\":\"barpolar\"}],\"carpet\":[{\"aaxis\":{\"endlinecolor\":\"#2a3f5f\",\"gridcolor\":\"white\",\"linecolor\":\"white\",\"minorgridcolor\":\"white\",\"startlinecolor\":\"#2a3f5f\"},\"baxis\":{\"endlinecolor\":\"#2a3f5f\",\"gridcolor\":\"white\",\"linecolor\":\"white\",\"minorgridcolor\":\"white\",\"startlinecolor\":\"#2a3f5f\"},\"type\":\"carpet\"}],\"choropleth\":[{\"colorbar\":{\"outlinewidth\":0,\"ticks\":\"\"},\"type\":\"choropleth\"}],\"contour\":[{\"colorbar\":{\"outlinewidth\":0,\"ticks\":\"\"},\"colorscale\":[[0.0,\"#0d0887\"],[0.1111111111111111,\"#46039f\"],[0.2222222222222222,\"#7201a8\"],[0.3333333333333333,\"#9c179e\"],[0.4444444444444444,\"#bd3786\"],[0.5555555555555556,\"#d8576b\"],[0.6666666666666666,\"#ed7953\"],[0.7777777777777778,\"#fb9f3a\"],[0.8888888888888888,\"#fdca26\"],[1.0,\"#f0f921\"]],\"type\":\"contour\"}],\"contourcarpet\":[{\"colorbar\":{\"outlinewidth\":0,\"ticks\":\"\"},\"type\":\"contourcarpet\"}],\"heatmap\":[{\"colorbar\":{\"outlinewidth\":0,\"ticks\":\"\"},\"colorscale\":[[0.0,\"#0d0887\"],[0.1111111111111111,\"#46039f\"],[0.2222222222222222,\"#7201a8\"],[0.3333333333333333,\"#9c179e\"],[0.4444444444444444,\"#bd3786\"],[0.5555555555555556,\"#d8576b\"],[0.6666666666666666,\"#ed7953\"],[0.7777777777777778,\"#fb9f3a\"],[0.8888888888888888,\"#fdca26\"],[1.0,\"#f0f921\"]],\"type\":\"heatmap\"}],\"heatmapgl\":[{\"colorbar\":{\"outlinewidth\":0,\"ticks\":\"\"},\"colorscale\":[[0.0,\"#0d0887\"],[0.1111111111111111,\"#46039f\"],[0.2222222222222222,\"#7201a8\"],[0.3333333333333333,\"#9c179e\"],[0.4444444444444444,\"#bd3786\"],[0.5555555555555556,\"#d8576b\"],[0.6666666666666666,\"#ed7953\"],[0.7777777777777778,\"#fb9f3a\"],[0.8888888888888888,\"#fdca26\"],[1.0,\"#f0f921\"]],\"type\":\"heatmapgl\"}],\"histogram\":[{\"marker\":{\"pattern\":{\"fillmode\":\"overlay\",\"size\":10,\"solidity\":0.2}},\"type\":\"histogram\"}],\"histogram2d\":[{\"colorbar\":{\"outlinewidth\":0,\"ticks\":\"\"},\"colorscale\":[[0.0,\"#0d0887\"],[0.1111111111111111,\"#46039f\"],[0.2222222222222222,\"#7201a8\"],[0.3333333333333333,\"#9c179e\"],[0.4444444444444444,\"#bd3786\"],[0.5555555555555556,\"#d8576b\"],[0.6666666666666666,\"#ed7953\"],[0.7777777777777778,\"#fb9f3a\"],[0.8888888888888888,\"#fdca26\"],[1.0,\"#f0f921\"]],\"type\":\"histogram2d\"}],\"histogram2dcontour\":[{\"colorbar\":{\"outlinewidth\":0,\"ticks\":\"\"},\"colorscale\":[[0.0,\"#0d0887\"],[0.1111111111111111,\"#46039f\"],[0.2222222222222222,\"#7201a8\"],[0.3333333333333333,\"#9c179e\"],[0.4444444444444444,\"#bd3786\"],[0.5555555555555556,\"#d8576b\"],[0.6666666666666666,\"#ed7953\"],[0.7777777777777778,\"#fb9f3a\"],[0.8888888888888888,\"#fdca26\"],[1.0,\"#f0f921\"]],\"type\":\"histogram2dcontour\"}],\"mesh3d\":[{\"colorbar\":{\"outlinewidth\":0,\"ticks\":\"\"},\"type\":\"mesh3d\"}],\"parcoords\":[{\"line\":{\"colorbar\":{\"outlinewidth\":0,\"ticks\":\"\"}},\"type\":\"parcoords\"}],\"pie\":[{\"automargin\":true,\"type\":\"pie\"}],\"scatter\":[{\"marker\":{\"colorbar\":{\"outlinewidth\":0,\"ticks\":\"\"}},\"type\":\"scatter\"}],\"scatter3d\":[{\"line\":{\"colorbar\":{\"outlinewidth\":0,\"ticks\":\"\"}},\"marker\":{\"colorbar\":{\"outlinewidth\":0,\"ticks\":\"\"}},\"type\":\"scatter3d\"}],\"scattercarpet\":[{\"marker\":{\"colorbar\":{\"outlinewidth\":0,\"ticks\":\"\"}},\"type\":\"scattercarpet\"}],\"scattergeo\":[{\"marker\":{\"colorbar\":{\"outlinewidth\":0,\"ticks\":\"\"}},\"type\":\"scattergeo\"}],\"scattergl\":[{\"marker\":{\"colorbar\":{\"outlinewidth\":0,\"ticks\":\"\"}},\"type\":\"scattergl\"}],\"scattermapbox\":[{\"marker\":{\"colorbar\":{\"outlinewidth\":0,\"ticks\":\"\"}},\"type\":\"scattermapbox\"}],\"scatterpolar\":[{\"marker\":{\"colorbar\":{\"outlinewidth\":0,\"ticks\":\"\"}},\"type\":\"scatterpolar\"}],\"scatterpolargl\":[{\"marker\":{\"colorbar\":{\"outlinewidth\":0,\"ticks\":\"\"}},\"type\":\"scatterpolargl\"}],\"scatterternary\":[{\"marker\":{\"colorbar\":{\"outlinewidth\":0,\"ticks\":\"\"}},\"type\":\"scatterternary\"}],\"surface\":[{\"colorbar\":{\"outlinewidth\":0,\"ticks\":\"\"},\"colorscale\":[[0.0,\"#0d0887\"],[0.1111111111111111,\"#46039f\"],[0.2222222222222222,\"#7201a8\"],[0.3333333333333333,\"#9c179e\"],[0.4444444444444444,\"#bd3786\"],[0.5555555555555556,\"#d8576b\"],[0.6666666666666666,\"#ed7953\"],[0.7777777777777778,\"#fb9f3a\"],[0.8888888888888888,\"#fdca26\"],[1.0,\"#f0f921\"]],\"type\":\"surface\"}],\"table\":[{\"cells\":{\"fill\":{\"color\":\"#EBF0F8\"},\"line\":{\"color\":\"white\"}},\"header\":{\"fill\":{\"color\":\"#C8D4E3\"},\"line\":{\"color\":\"white\"}},\"type\":\"table\"}]},\"layout\":{\"annotationdefaults\":{\"arrowcolor\":\"#2a3f5f\",\"arrowhead\":0,\"arrowwidth\":1},\"autotypenumbers\":\"strict\",\"coloraxis\":{\"colorbar\":{\"outlinewidth\":0,\"ticks\":\"\"}},\"colorscale\":{\"diverging\":[[0,\"#8e0152\"],[0.1,\"#c51b7d\"],[0.2,\"#de77ae\"],[0.3,\"#f1b6da\"],[0.4,\"#fde0ef\"],[0.5,\"#f7f7f7\"],[0.6,\"#e6f5d0\"],[0.7,\"#b8e186\"],[0.8,\"#7fbc41\"],[0.9,\"#4d9221\"],[1,\"#276419\"]],\"sequential\":[[0.0,\"#0d0887\"],[0.1111111111111111,\"#46039f\"],[0.2222222222222222,\"#7201a8\"],[0.3333333333333333,\"#9c179e\"],[0.4444444444444444,\"#bd3786\"],[0.5555555555555556,\"#d8576b\"],[0.6666666666666666,\"#ed7953\"],[0.7777777777777778,\"#fb9f3a\"],[0.8888888888888888,\"#fdca26\"],[1.0,\"#f0f921\"]],\"sequentialminus\":[[0.0,\"#0d0887\"],[0.1111111111111111,\"#46039f\"],[0.2222222222222222,\"#7201a8\"],[0.3333333333333333,\"#9c179e\"],[0.4444444444444444,\"#bd3786\"],[0.5555555555555556,\"#d8576b\"],[0.6666666666666666,\"#ed7953\"],[0.7777777777777778,\"#fb9f3a\"],[0.8888888888888888,\"#fdca26\"],[1.0,\"#f0f921\"]]},\"colorway\":[\"#636efa\",\"#EF553B\",\"#00cc96\",\"#ab63fa\",\"#FFA15A\",\"#19d3f3\",\"#FF6692\",\"#B6E880\",\"#FF97FF\",\"#FECB52\"],\"font\":{\"color\":\"#2a3f5f\"},\"geo\":{\"bgcolor\":\"white\",\"lakecolor\":\"white\",\"landcolor\":\"#E5ECF6\",\"showlakes\":true,\"showland\":true,\"subunitcolor\":\"white\"},\"hoverlabel\":{\"align\":\"left\"},\"hovermode\":\"closest\",\"mapbox\":{\"style\":\"light\"},\"paper_bgcolor\":\"white\",\"plot_bgcolor\":\"#E5ECF6\",\"polar\":{\"angularaxis\":{\"gridcolor\":\"white\",\"linecolor\":\"white\",\"ticks\":\"\"},\"bgcolor\":\"#E5ECF6\",\"radialaxis\":{\"gridcolor\":\"white\",\"linecolor\":\"white\",\"ticks\":\"\"}},\"scene\":{\"xaxis\":{\"backgroundcolor\":\"#E5ECF6\",\"gridcolor\":\"white\",\"gridwidth\":2,\"linecolor\":\"white\",\"showbackground\":true,\"ticks\":\"\",\"zerolinecolor\":\"white\"},\"yaxis\":{\"backgroundcolor\":\"#E5ECF6\",\"gridcolor\":\"white\",\"gridwidth\":2,\"linecolor\":\"white\",\"showbackground\":true,\"ticks\":\"\",\"zerolinecolor\":\"white\"},\"zaxis\":{\"backgroundcolor\":\"#E5ECF6\",\"gridcolor\":\"white\",\"gridwidth\":2,\"linecolor\":\"white\",\"showbackground\":true,\"ticks\":\"\",\"zerolinecolor\":\"white\"}},\"shapedefaults\":{\"line\":{\"color\":\"#2a3f5f\"}},\"ternary\":{\"aaxis\":{\"gridcolor\":\"white\",\"linecolor\":\"white\",\"ticks\":\"\"},\"baxis\":{\"gridcolor\":\"white\",\"linecolor\":\"white\",\"ticks\":\"\"},\"bgcolor\":\"#E5ECF6\",\"caxis\":{\"gridcolor\":\"white\",\"linecolor\":\"white\",\"ticks\":\"\"}},\"title\":{\"x\":0.05},\"xaxis\":{\"automargin\":true,\"gridcolor\":\"white\",\"linecolor\":\"white\",\"ticks\":\"\",\"title\":{\"standoff\":15},\"zerolinecolor\":\"white\",\"zerolinewidth\":2},\"yaxis\":{\"automargin\":true,\"gridcolor\":\"white\",\"linecolor\":\"white\",\"ticks\":\"\",\"title\":{\"standoff\":15},\"zerolinecolor\":\"white\",\"zerolinewidth\":2}}},\"mapbox\":{\"domain\":{\"x\":[0.0,1.0],\"y\":[0.0,1.0]},\"center\":{\"lat\":46.972527472527474,\"lon\":3.021978021978022},\"zoom\":10,\"style\":\"carto-positron\"},\"coloraxis\":{\"colorbar\":{\"title\":{\"text\":\"G(i)\"}},\"colorscale\":[[0,\"blue\"],[0.15,\"green\"],[0.3,\"yellow\"],[0.45,\"orange\"],[0.6,\"pink\"],[0.75,\"crimson\"],[1.0,\"red\"]],\"cmid\":143.3911740724112,\"cmin\":95.53939726027396,\"cmax\":200.6814920091324},\"legend\":{\"tracegroupgap\":0,\"itemsizing\":\"constant\"},\"margin\":{\"t\":60},\"updatemenus\":[{\"buttons\":[{\"args\":[null,{\"frame\":{\"duration\":500,\"redraw\":true},\"mode\":\"immediate\",\"fromcurrent\":true,\"transition\":{\"duration\":500,\"easing\":\"linear\"}}],\"label\":\"&#9654;\",\"method\":\"animate\"},{\"args\":[[null],{\"frame\":{\"duration\":0,\"redraw\":true},\"mode\":\"immediate\",\"fromcurrent\":true,\"transition\":{\"duration\":0,\"easing\":\"linear\"}}],\"label\":\"&#9724;\",\"method\":\"animate\"}],\"direction\":\"left\",\"pad\":{\"r\":10,\"t\":70},\"showactive\":false,\"type\":\"buttons\",\"x\":0.1,\"xanchor\":\"right\",\"y\":0,\"yanchor\":\"top\"}],\"sliders\":[{\"active\":0,\"currentvalue\":{\"prefix\":\"annee=\"},\"len\":0.9,\"pad\":{\"b\":10,\"t\":60},\"steps\":[{\"args\":[[\"2013\"],{\"frame\":{\"duration\":0,\"redraw\":true},\"mode\":\"immediate\",\"fromcurrent\":true,\"transition\":{\"duration\":0,\"easing\":\"linear\"}}],\"label\":\"2013\",\"method\":\"animate\"},{\"args\":[[\"2014\"],{\"frame\":{\"duration\":0,\"redraw\":true},\"mode\":\"immediate\",\"fromcurrent\":true,\"transition\":{\"duration\":0,\"easing\":\"linear\"}}],\"label\":\"2014\",\"method\":\"animate\"},{\"args\":[[\"2015\"],{\"frame\":{\"duration\":0,\"redraw\":true},\"mode\":\"immediate\",\"fromcurrent\":true,\"transition\":{\"duration\":0,\"easing\":\"linear\"}}],\"label\":\"2015\",\"method\":\"animate\"},{\"args\":[[\"2016\"],{\"frame\":{\"duration\":0,\"redraw\":true},\"mode\":\"immediate\",\"fromcurrent\":true,\"transition\":{\"duration\":0,\"easing\":\"linear\"}}],\"label\":\"2016\",\"method\":\"animate\"}],\"x\":0.1,\"xanchor\":\"left\",\"y\":0,\"yanchor\":\"top\"}]},                        {\"responsive\": true}                    ).then(function(){\n",
              "                            Plotly.addFrames('15e3d142-3e56-4b4f-9247-b0f792e3a5ae', [{\"data\":[{\"hovertemplate\":\"annee=2013<br>size=%{marker.size}<br>latitude=%{lat}<br>longitude=%{lon}<br>G(i)=%{marker.color}<extra></extra>\",\"lat\":[41.0,41.5,42.0,42.5,43.0,43.5,41.0,41.5,42.0,42.5,43.0,50.5,52.0,41.0,41.5,42.0,42.5,43.0,48.0,48.5,50.5,51.0,52.0,52.5,41.0,41.5,42.0,42.5,43.0,48.0,48.5,51.0,52.0,52.5,41.0,41.5,42.0,42.5,43.0,47.0,47.5,48.0,48.5,51.0,51.5,52.0,52.5,41.0,41.5,42.0,42.5,43.0,43.5,44.0,44.5,45.0,46.0,46.5,47.0,47.5,48.0,48.5,49.0,51.0,51.5,52.0,52.5,41.0,41.5,42.0,42.5,43.0,43.5,44.0,44.5,45.0,45.5,46.0,46.5,47.0,47.5,48.0,48.5,49.0,51.0,51.5,52.0,52.5,41.5,42.0,42.5,43.0,43.5,44.0,44.5,45.0,45.5,46.0,46.5,47.0,47.5,48.0,48.5,49.0,49.5,52.0,52.5,41.5,42.0,42.5,43.0,43.5,44.0,44.5,45.0,45.5,46.0,46.5,47.0,47.5,48.0,48.5,49.0,49.5,50.0,50.5,42.0,42.5,43.0,43.5,44.0,44.5,45.0,45.5,46.0,46.5,47.0,47.5,48.0,48.5,49.0,49.5,50.0,50.5,51.0,44.0,44.5,45.0,45.5,46.0,46.5,47.0,47.5,48.0,48.5,49.0,49.5,50.0,50.5,51.0,51.5,43.5,44.0,44.5,45.0,45.5,46.0,46.5,47.0,47.5,48.0,48.5,49.0,49.5,50.0,50.5,51.0,51.5,52.0,52.5,43.5,44.0,44.5,45.0,45.5,46.0,46.5,47.0,47.5,48.0,48.5,49.0,49.5,50.0,50.5,51.0,51.5,52.0,52.5,44.0,44.5,45.0,45.5,46.0,46.5,47.0,47.5,48.0,48.5,49.0,49.5,50.0,50.5,51.0,51.5,52.0,52.5,44.0,44.5,45.0,45.5,46.0,46.5,47.0,47.5,48.0,48.5,49.0,49.5,50.0,50.5,51.0,51.5,52.0,52.5,41.0,41.5,42.0,42.5,44.5,45.0,45.5,46.0,46.5,47.0,47.5,48.0,48.5,49.0,49.5,50.0,50.5,51.0,51.5,52.0,52.5,44.5,45.0,45.5,46.0,46.5,47.0,47.5,48.0,48.5,49.0,49.5,50.0,50.5,51.0,51.5,52.0,52.5],\"legendgroup\":\"\",\"lon\":[-6,-6,-6,-6,-6,-6,-5,-5,-5,-5,-5,-5,-5,-4,-4,-4,-4,-4,-4,-4,-4,-4,-4,-4,-3,-3,-3,-3,-3,-3,-3,-3,-3,-3,-2,-2,-2,-2,-2,-2,-2,-2,-2,-2,-2,-2,-2,-1,-1,-1,-1,-1,-1,-1,-1,-1,-1,-1,-1,-1,-1,-1,-1,-1,-1,-1,-1,0,0,0,0,0,0,0,0,0,0,0,0,0,0,0,0,0,0,0,0,0,1,1,1,1,1,1,1,1,1,1,1,1,1,1,1,1,1,1,1,2,2,2,2,2,2,2,2,2,2,2,2,2,2,2,2,2,2,2,3,3,3,3,3,3,3,3,3,3,3,3,3,3,3,3,3,3,3,4,4,4,4,4,4,4,4,4,4,4,4,4,4,4,4,5,5,5,5,5,5,5,5,5,5,5,5,5,5,5,5,5,5,5,6,6,6,6,6,6,6,6,6,6,6,6,6,6,6,6,6,6,6,7,7,7,7,7,7,7,7,7,7,7,7,7,7,7,7,7,7,8,8,8,8,8,8,8,8,8,8,8,8,8,8,8,8,8,8,9,9,9,9,9,9,9,9,9,9,9,9,9,9,9,9,9,9,9,9,9,10,10,10,10,10,10,10,10,10,10,10,10,10,10,10,10,10],\"marker\":{\"color\":[192.2590616438356,190.524901826484,188.56732420091325,185.0926757990868,160.8848607305936,136.5638310502283,192.1702865296804,188.89528310502283,187.13770433789955,182.65618607305936,157.52069063926942,117.61939840182649,116.34672374429223,168.31195662100455,180.42101940639267,179.04940296803653,170.46744292237443,147.01001255707763,133.55380821917808,122.32440296803654,116.29085273972602,115.5358801369863,108.17710502283104,108.55392579908676,188.90874429223743,180.25548401826484,164.93682648401827,153.77108904109588,138.20578767123288,133.22352283105025,127.09721461187216,120.186100456621,109.68956621004564,106.27611643835615,179.34715525114157,180.52145433789957,168.9079805936073,169.78286872146117,114.20503652968036,144.89520662100458,138.35331506849317,133.95607534246574,130.65623744292236,116.76824200913242,114.4696689497717,110.3124794520548,106.75807648401826,179.60291210045662,184.19017808219175,189.97805479452052,172.51996232876712,146.44388926940638,142.01999771689498,144.18248173515985,149.25337328767125,146.84314611872145,149.45400799086758,145.41233447488585,137.35156621004566,136.63019520547945,133.4811506849315,125.87814269406392,122.66089726027396,120.23735616438356,113.60651940639268,111.57277168949771,111.20612214611872,185.1683127853881,197.369198630137,199.70935730593607,170.95460273972603,127.90762328767124,149.9096506849315,146.07877397260273,149.35495319634703,146.87062328767124,143.80398744292236,143.2607876712329,139.64100228310502,136.80075114155252,133.74801712328767,132.2651187214612,128.51193607305936,121.6806289954338,121.9543687214612,112.52217237442922,113.6269200913242,113.48703652968037,192.4179646118721,190.42845662100456,149.3953002283105,129.63055022831048,150.99150228310504,152.0062728310502,147.7711689497717,143.1024988584475,139.25445433789957,135.12327168949773,135.0135582191781,134.7971289954338,130.0544406392694,129.56589497716894,127.26614497716896,124.39046232876711,120.52010273972604,118.21349543378994,114.66804794520549,187.8968105022831,181.91856392694064,162.37511872146118,147.57957648401828,141.50366894977168,150.52249315068494,145.6844086757991,137.5377203196347,135.1545605022831,127.70772831050228,130.29322374429222,135.01958675799088,124.44986986301372,127.7458299086758,129.35836757990867,125.69046803652968,121.86844406392694,119.32565525114155,116.9018892694064,174.17421347031964,163.54584474885846,168.26228310502285,167.20897031963472,144.68215068493149,144.72724543378993,137.48538698630136,127.43029794520548,134.68666438356163,131.8654497716895,130.8220399543379,130.16208333333336,129.14926598173517,130.33427511415525,126.59716894977169,122.67809246575344,121.88268721461188,118.50484589041096,118.58442123287672,170.17464383561642,145.8509292237443,128.2631974885845,131.1710707762557,134.72598858447486,132.62700684931508,128.0134497716895,126.23676712328768,125.45561415525114,128.96492694063926,125.8456506849315,124.2368789954338,118.33065753424655,117.83861643835615,116.9718093607306,117.52395319634702,186.621294520548,183.65750342465756,162.1778276255708,154.39100342465753,144.50789954337898,140.65259360730593,132.01729452054795,131.58339383561645,126.46959931506848,120.41390182648402,121.02668264840185,120.133598173516,117.93871689497718,112.14429337899544,113.83325114155252,118.08399315068492,112.85942351598176,113.2516621004566,112.70496232876712,178.37245890410958,179.40475570776255,172.04954680365296,124.6825684931507,144.36139611872147,141.96776484018264,123.9360913242009,116.16074429223744,128.62613584474886,126.2074874429224,122.11408105022832,123.6805388127854,119.41183904109587,114.7955125570776,108.13123173515982,115.72028310502284,115.01935159817351,112.82396689497716,109.1862488584475,160.43356050228311,133.90771232876713,121.76733675799088,109.43677283105023,111.4885308219178,130.32805821917808,136.94084703196347,126.37098287671232,110.9796906392694,114.74795205479452,121.33080821917808,118.99413812785389,114.91071347031964,110.66340753424656,112.44554680365296,110.1435194063927,112.0385410958904,110.5636700913242,169.2873881278539,155.67172146118722,159.39841324200916,158.22517351598174,107.71531278538814,119.14346689497717,111.8658904109589,126.58129452054791,112.00488242009132,120.54045205479451,124.73657762557076,117.34707534246576,123.15804452054796,119.31733675799089,106.9533812785388,106.15687214611872,111.07904223744292,109.02120662100457,169.93587442922376,186.41542351598176,159.53762442922374,149.7662808219178,146.3330593607306,154.38217694063923,157.19196118721462,137.651848173516,127.33138356164385,110.6741700913242,122.92289726027398,124.97568150684933,121.64447831050228,120.60968264840184,117.48162785388128,119.87593607305936,116.40853767123288,112.37209703196346,110.11074429223744,107.77818378995434,110.75458904109588,132.06630251141553,155.85520776255706,155.68220662100455,134.03461529680365,113.35653310502283,95.53939726027396,114.37854566210044,123.24054566210044,121.21947374429224,117.28752625570776,119.51282305936073,120.29163356164383,110.85417351598171,111.26721803652968,110.36572831050228,108.19851598173516,112.2087397260274],\"coloraxis\":\"coloraxis\",\"size\":[50,50,50,50,50,50,50,50,50,50,50,50,50,50,50,50,50,50,50,50,50,50,50,50,50,50,50,50,50,50,50,50,50,50,50,50,50,50,50,50,50,50,50,50,50,50,50,50,50,50,50,50,50,50,50,50,50,50,50,50,50,50,50,50,50,50,50,50,50,50,50,50,50,50,50,50,50,50,50,50,50,50,50,50,50,50,50,50,50,50,50,50,50,50,50,50,50,50,50,50,50,50,50,50,50,50,50,50,50,50,50,50,50,50,50,50,50,50,50,50,50,50,50,50,50,50,50,50,50,50,50,50,50,50,50,50,50,50,50,50,50,50,50,50,50,50,50,50,50,50,50,50,50,50,50,50,50,50,50,50,50,50,50,50,50,50,50,50,50,50,50,50,50,50,50,50,50,50,50,50,50,50,50,50,50,50,50,50,50,50,50,50,50,50,50,50,50,50,50,50,50,50,50,50,50,50,50,50,50,50,50,50,50,50,50,50,50,50,50,50,50,50,50,50,50,50,50,50,50,50,50,50,50,50,50,50,50,50,50,50,50,50,50,50,50,50,50,50,50,50,50,50,50,50,50,50,50,50,50,50,50,50,50,50,50,50,50,50,50,50,50,50,50],\"sizemode\":\"area\",\"sizeref\":0.125},\"mode\":\"markers\",\"name\":\"\",\"showlegend\":false,\"subplot\":\"mapbox\",\"type\":\"scattermapbox\"}],\"name\":\"2013\"},{\"data\":[{\"hovertemplate\":\"annee=2014<br>size=%{marker.size}<br>latitude=%{lat}<br>longitude=%{lon}<br>G(i)=%{marker.color}<extra></extra>\",\"lat\":[41.0,41.5,42.0,42.5,43.0,43.5,41.0,41.5,42.0,42.5,43.0,50.5,52.0,41.0,41.5,42.0,42.5,43.0,48.0,48.5,50.5,51.0,52.0,52.5,41.0,41.5,42.0,42.5,43.0,48.0,48.5,51.0,52.0,52.5,41.0,41.5,42.0,42.5,43.0,47.0,47.5,48.0,48.5,51.0,51.5,52.0,52.5,41.0,41.5,42.0,42.5,43.0,43.5,44.0,44.5,45.0,46.0,46.5,47.0,47.5,48.0,48.5,49.0,51.0,51.5,52.0,52.5,41.0,41.5,42.0,42.5,43.0,43.5,44.0,44.5,45.0,45.5,46.0,46.5,47.0,47.5,48.0,48.5,49.0,51.0,51.5,52.0,52.5,41.5,42.0,42.5,43.0,43.5,44.0,44.5,45.0,45.5,46.0,46.5,47.0,47.5,48.0,48.5,49.0,49.5,52.0,52.5,41.5,42.0,42.5,43.0,43.5,44.0,44.5,45.0,45.5,46.0,46.5,47.0,47.5,48.0,48.5,49.0,49.5,50.0,50.5,42.0,42.5,43.0,43.5,44.0,44.5,45.0,45.5,46.0,46.5,47.0,47.5,48.0,48.5,49.0,49.5,50.0,50.5,51.0,44.0,44.5,45.0,45.5,46.0,46.5,47.0,47.5,48.0,48.5,49.0,49.5,50.0,50.5,51.0,51.5,43.5,44.0,44.5,45.0,45.5,46.0,46.5,47.0,47.5,48.0,48.5,49.0,49.5,50.0,50.5,51.0,51.5,52.0,52.5,43.5,44.0,44.5,45.0,45.5,46.0,46.5,47.0,47.5,48.0,48.5,49.0,49.5,50.0,50.5,51.0,51.5,52.0,52.5,44.0,44.5,45.0,45.5,46.0,46.5,47.0,47.5,48.0,48.5,49.0,49.5,50.0,50.5,51.0,51.5,52.0,52.5,44.0,44.5,45.0,45.5,46.0,46.5,47.0,47.5,48.0,48.5,49.0,49.5,50.0,50.5,51.0,51.5,52.0,52.5,41.0,41.5,42.0,42.5,44.5,45.0,45.5,46.0,46.5,47.0,47.5,48.0,48.5,49.0,49.5,50.0,50.5,51.0,51.5,52.0,52.5,44.5,45.0,45.5,46.0,46.5,47.0,47.5,48.0,48.5,49.0,49.5,50.0,50.5,51.0,51.5,52.0,52.5],\"legendgroup\":\"\",\"lon\":[-6,-6,-6,-6,-6,-6,-5,-5,-5,-5,-5,-5,-5,-4,-4,-4,-4,-4,-4,-4,-4,-4,-4,-4,-3,-3,-3,-3,-3,-3,-3,-3,-3,-3,-2,-2,-2,-2,-2,-2,-2,-2,-2,-2,-2,-2,-2,-1,-1,-1,-1,-1,-1,-1,-1,-1,-1,-1,-1,-1,-1,-1,-1,-1,-1,-1,-1,0,0,0,0,0,0,0,0,0,0,0,0,0,0,0,0,0,0,0,0,0,1,1,1,1,1,1,1,1,1,1,1,1,1,1,1,1,1,1,1,2,2,2,2,2,2,2,2,2,2,2,2,2,2,2,2,2,2,2,3,3,3,3,3,3,3,3,3,3,3,3,3,3,3,3,3,3,3,4,4,4,4,4,4,4,4,4,4,4,4,4,4,4,4,5,5,5,5,5,5,5,5,5,5,5,5,5,5,5,5,5,5,5,6,6,6,6,6,6,6,6,6,6,6,6,6,6,6,6,6,6,6,7,7,7,7,7,7,7,7,7,7,7,7,7,7,7,7,7,7,8,8,8,8,8,8,8,8,8,8,8,8,8,8,8,8,8,8,9,9,9,9,9,9,9,9,9,9,9,9,9,9,9,9,9,9,9,9,9,10,10,10,10,10,10,10,10,10,10,10,10,10,10,10,10,10],\"marker\":{\"color\":[195.65717808219176,193.05555251141556,191.75392694063925,188.9578789954338,164.63270433789955,147.5659805936073,199.1248276255708,197.4246678082192,195.6018093607306,188.8875821917808,162.7880776255708,127.59982534246576,122.20427397260272,175.1350707762557,189.6965936073059,189.09867922374428,182.1571815068493,161.80628082191782,141.2490296803653,133.584350456621,122.56834703196348,122.55513584474886,114.93533561643837,112.14706849315068,194.98934703196343,186.04554680365297,172.39263584474887,167.67545547945204,153.54974657534248,144.61765639269404,138.26579337899545,128.43603424657533,119.43993835616438,114.99713470319637,186.76017694063927,186.90671232876716,178.22141780821917,177.71050342465753,122.3394303652968,157.911997716895,152.50540410958905,144.51653538812786,141.55041210045664,129.65970776255708,125.41776712328766,121.96379452054796,117.07232534246576,187.2988801369863,191.25650456621003,191.44787214611875,177.36894748858447,151.4772614155251,150.6935993150685,153.2887636986301,160.38490182648405,157.62966552511415,162.94355707762557,157.6606506849315,149.82054337899544,149.6814714611872,144.4531815068493,137.16225913242008,135.05738698630137,132.25142465753424,125.73438356164382,124.57644634703196,120.94008675799084,191.52649885844747,195.66119292237445,198.5646997716895,168.26646347031962,136.9770901826484,158.47147488584474,156.68242465753426,159.91580821917807,156.35606963470318,156.2064885844749,155.4095525114155,153.41328424657533,151.12857990867582,146.9537602739726,144.00469406392693,137.5955878995434,131.38398744292238,134.3986598173516,126.38681392694065,123.82970319634704,122.03216210045662,191.97396347031963,190.7671061643836,154.6554589041096,139.30893264840182,164.02674429223745,163.21177968036528,158.0424109589041,154.01404223744294,150.937600456621,148.19395205479452,150.37767808219178,148.70735388127852,145.17966552511413,144.51107534246574,137.59689726027398,134.30927625570777,129.52546575342467,128.87311415525113,122.41240410958903,189.99636415525117,181.9509189497717,169.5217899543379,159.1515205479452,157.8658778538813,162.7280296803653,157.36649429223743,150.85047716894977,146.2121689497717,145.09149429223743,148.82957305936074,148.3453299086758,141.97545319634702,142.3537203196347,140.04916666666665,135.50854109589042,131.0302305936073,128.6777317351598,127.22209360730594,177.81711872146118,167.1833196347032,174.85903310502283,172.26591666666667,155.18476598173515,154.57072374429225,150.1793892694064,140.99289497716896,148.1075102739726,149.69491894977168,147.0603127853881,144.43040867579907,143.85099657534246,140.8420810502283,137.61209360730592,132.33792579908675,130.95547374429222,125.86854452054794,128.66482191780824,171.7072888127854,148.1556712328767,144.98839611872148,149.0748002283105,148.81133333333332,148.90042465753424,141.99511415525114,144.43278538812783,141.29478767123288,143.0363584474886,139.5791289954338,137.24915182648402,127.67168607305936,126.5487694063927,125.07770433789952,126.83818721461188,188.0498561643836,184.95954794520543,163.7356210045662,163.70920547945204,155.7924200913242,157.8102716894977,152.37291210045663,150.0520205479452,142.81996803652967,137.64365296803652,135.9281312785388,133.3204166666667,131.57966894977167,122.38573287671232,125.6594920091324,127.9991917808219,122.03763812785388,123.35839155251142,120.3921883561644,179.86494748858448,181.0466267123288,173.19438127853883,136.51220433789953,154.1845194063927,152.83860388127854,131.02643036529682,130.1901723744292,143.63555936073058,142.07469178082192,137.4710502283105,134.1815216894977,130.91969292237442,124.90321347031964,118.7435205479452,125.71284474885844,122.49736986301367,121.52486301369863,117.806600456621,163.31887671232877,137.49525342465753,126.75344977168947,123.65842123287672,125.45226712328768,136.1709623287671,148.41653196347033,138.39543607305936,120.59376255707764,128.10222831050228,137.97910616438355,131.12879452054796,127.1741997716895,120.66902739726028,123.35366095890411,119.22181392694064,119.07693835616438,118.1971883561644,170.92443493150685,157.80004680365295,161.2661118721461,159.45024771689498,111.84852283105022,125.74069634703196,116.61652168949772,136.92159817351595,122.91398401826484,135.4102625570776,140.41027853881278,129.42537214611872,133.73630707762558,129.03299885844748,116.98414497716897,115.54905251141552,121.79967009132422,119.69921803652969,180.80335844748856,190.19713356164385,168.0386392694064,157.24129337899544,146.3613207762557,159.11274657534247,161.64938698630135,140.16110273972603,129.09473059360732,116.2166095890411,135.2982089041096,134.97310273972602,133.53297602739724,136.81298515981734,131.65777283105024,131.55586529680363,126.85376598173517,122.35305365296804,119.15158561643835,118.914200913242,121.57195547945206,135.8875399543379,162.3108401826484,163.1246404109589,137.30586415525113,116.75157305936074,98.80533904109588,118.04058333333332,133.92962328767123,130.93952625570776,132.07924429223743,134.3287408675799,132.9238789954338,121.36870890410958,122.16912328767124,121.77738926940638,118.88676255707765,119.93975456621004],\"coloraxis\":\"coloraxis\",\"size\":[50,50,50,50,50,50,50,50,50,50,50,50,50,50,50,50,50,50,50,50,50,50,50,50,50,50,50,50,50,50,50,50,50,50,50,50,50,50,50,50,50,50,50,50,50,50,50,50,50,50,50,50,50,50,50,50,50,50,50,50,50,50,50,50,50,50,50,50,50,50,50,50,50,50,50,50,50,50,50,50,50,50,50,50,50,50,50,50,50,50,50,50,50,50,50,50,50,50,50,50,50,50,50,50,50,50,50,50,50,50,50,50,50,50,50,50,50,50,50,50,50,50,50,50,50,50,50,50,50,50,50,50,50,50,50,50,50,50,50,50,50,50,50,50,50,50,50,50,50,50,50,50,50,50,50,50,50,50,50,50,50,50,50,50,50,50,50,50,50,50,50,50,50,50,50,50,50,50,50,50,50,50,50,50,50,50,50,50,50,50,50,50,50,50,50,50,50,50,50,50,50,50,50,50,50,50,50,50,50,50,50,50,50,50,50,50,50,50,50,50,50,50,50,50,50,50,50,50,50,50,50,50,50,50,50,50,50,50,50,50,50,50,50,50,50,50,50,50,50,50,50,50,50,50,50,50,50,50,50,50,50,50,50,50,50,50,50,50,50,50,50,50,50],\"sizemode\":\"area\",\"sizeref\":0.125},\"mode\":\"markers\",\"name\":\"\",\"showlegend\":false,\"subplot\":\"mapbox\",\"type\":\"scattermapbox\"}],\"name\":\"2014\"},{\"data\":[{\"hovertemplate\":\"annee=2015<br>size=%{marker.size}<br>latitude=%{lat}<br>longitude=%{lon}<br>G(i)=%{marker.color}<extra></extra>\",\"lat\":[41.0,41.5,42.0,42.5,43.0,43.5,41.0,41.5,42.0,42.5,43.0,50.5,52.0,41.0,41.5,42.0,42.5,43.0,48.0,48.5,50.5,51.0,52.0,52.5,41.0,41.5,42.0,42.5,43.0,48.0,48.5,51.0,52.0,52.5,41.0,41.5,42.0,42.5,43.0,47.0,47.5,48.0,48.5,51.0,51.5,52.0,52.5,41.0,41.5,42.0,42.5,43.0,43.5,44.0,44.5,45.0,46.0,46.5,47.0,47.5,48.0,48.5,49.0,51.0,51.5,52.0,52.5,41.0,41.5,42.0,42.5,43.0,43.5,44.0,44.5,45.0,45.5,46.0,46.5,47.0,47.5,48.0,48.5,49.0,51.0,51.5,52.0,52.5,41.5,42.0,42.5,43.0,43.5,44.0,44.5,45.0,45.5,46.0,46.5,47.0,47.5,48.0,48.5,49.0,49.5,52.0,52.5,41.5,42.0,42.5,43.0,43.5,44.0,44.5,45.0,45.5,46.0,46.5,47.0,47.5,48.0,48.5,49.0,49.5,50.0,50.5,42.0,42.5,43.0,43.5,44.0,44.5,45.0,45.5,46.0,46.5,47.0,47.5,48.0,48.5,49.0,49.5,50.0,50.5,51.0,44.0,44.5,45.0,45.5,46.0,46.5,47.0,47.5,48.0,48.5,49.0,49.5,50.0,50.5,51.0,51.5,43.5,44.0,44.5,45.0,45.5,46.0,46.5,47.0,47.5,48.0,48.5,49.0,49.5,50.0,50.5,51.0,51.5,52.0,52.5,43.5,44.0,44.5,45.0,45.5,46.0,46.5,47.0,47.5,48.0,48.5,49.0,49.5,50.0,50.5,51.0,51.5,52.0,52.5,44.0,44.5,45.0,45.5,46.0,46.5,47.0,47.5,48.0,48.5,49.0,49.5,50.0,50.5,51.0,51.5,52.0,52.5,44.0,44.5,45.0,45.5,46.0,46.5,47.0,47.5,48.0,48.5,49.0,49.5,50.0,50.5,51.0,51.5,52.0,52.5,41.0,41.5,42.0,42.5,44.5,45.0,45.5,46.0,46.5,47.0,47.5,48.0,48.5,49.0,49.5,50.0,50.5,51.0,51.5,52.0,52.5,44.5,45.0,45.5,46.0,46.5,47.0,47.5,48.0,48.5,49.0,49.5,50.0,50.5,51.0,51.5,52.0,52.5],\"legendgroup\":\"\",\"lon\":[-6,-6,-6,-6,-6,-6,-5,-5,-5,-5,-5,-5,-5,-4,-4,-4,-4,-4,-4,-4,-4,-4,-4,-4,-3,-3,-3,-3,-3,-3,-3,-3,-3,-3,-2,-2,-2,-2,-2,-2,-2,-2,-2,-2,-2,-2,-2,-1,-1,-1,-1,-1,-1,-1,-1,-1,-1,-1,-1,-1,-1,-1,-1,-1,-1,-1,-1,0,0,0,0,0,0,0,0,0,0,0,0,0,0,0,0,0,0,0,0,0,1,1,1,1,1,1,1,1,1,1,1,1,1,1,1,1,1,1,1,2,2,2,2,2,2,2,2,2,2,2,2,2,2,2,2,2,2,2,3,3,3,3,3,3,3,3,3,3,3,3,3,3,3,3,3,3,3,4,4,4,4,4,4,4,4,4,4,4,4,4,4,4,4,5,5,5,5,5,5,5,5,5,5,5,5,5,5,5,5,5,5,5,6,6,6,6,6,6,6,6,6,6,6,6,6,6,6,6,6,6,6,7,7,7,7,7,7,7,7,7,7,7,7,7,7,7,7,7,7,8,8,8,8,8,8,8,8,8,8,8,8,8,8,8,8,8,8,9,9,9,9,9,9,9,9,9,9,9,9,9,9,9,9,9,9,9,9,9,10,10,10,10,10,10,10,10,10,10,10,10,10,10,10,10,10],\"marker\":{\"color\":[197.9818869863014,193.38061643835616,191.2622705479452,190.30045776255707,169.39116780821917,140.58942694063924,198.30682534246577,197.07321689497715,194.8818892694064,192.3109897260274,169.0319817351598,124.00687557077626,121.81392465753424,180.8715707762557,192.93353538812784,193.0807591324201,182.01180936073055,160.0218093607306,135.9706997716895,127.32934474885846,119.97271461187216,121.42180251141552,113.55812671232876,109.64754566210046,200.6814920091324,188.5532899543379,178.11504452054794,168.26141666666666,151.1742283105023,138.2513401826484,132.0878196347032,122.73766780821916,119.35874771689498,117.4716700913242,191.106303652968,191.98772260273967,183.00977625570772,182.38996575342463,126.23220662100456,152.64415410958904,146.03393378995435,141.3663892694064,139.44167237442923,122.30412214611871,120.0858105022831,118.29987785388128,115.36387214611872,191.4746107305936,195.22287100456623,196.44717351598172,188.11724429223744,161.35398401826484,154.84054337899542,156.9554783105023,160.82191894977169,157.56812557077626,160.3226210045662,155.68388242009132,149.62373401826483,148.10493949771688,144.16474771689496,136.7313812785388,132.98566666666667,126.27368378995432,120.83194748858448,119.55638470319636,120.57941095890408,193.6511598173516,195.9885399543379,199.77969748858447,175.89611301369862,146.23153652968037,160.27673515981735,160.98694748858446,162.02561872146117,158.78194520547947,157.10758447488584,154.79186415525115,153.83313470319635,151.88497716894975,146.7540901826484,144.7193812785388,139.60707876712328,134.52231392694063,130.577299086758,121.44350228310503,120.3322796803653,120.72868150684933,194.10056621004568,196.2257111872146,169.25273401826485,140.08067579908675,163.4374794520548,167.5073595890411,163.80635502283104,159.2398698630137,157.34410159817352,151.61490981735162,152.81867922374428,149.9146381278539,147.33927739726028,146.4987408675799,141.708901826484,140.23232762557078,133.60333675799086,124.26178424657536,120.90049429223744,197.0740422374429,192.1201392694064,178.52075114155252,162.79358333333334,160.79896347031962,167.45208561643835,167.1767123287671,163.4515901826484,158.09077283105023,149.25833219178082,150.78601826484018,153.7491484018265,143.91373287671234,144.24769292237443,145.52011529680365,141.07826598173517,136.35199657534247,134.2237488584475,129.87563470319634,188.24406621004567,180.32428538812783,180.0602625570776,180.90075228310505,162.09033333333335,167.21356164383562,161.5707408675799,150.39000570776255,155.72520662100456,154.69706278538814,151.46520547945204,149.44491666666667,145.8200696347032,145.03381735159817,143.02441666666667,137.43666780821917,134.73123630136985,129.9513082191781,129.780301369863,183.97432876712327,162.47078310502283,154.42332191780824,157.33159589041097,156.60281506849313,153.8324805936073,147.88435502283104,147.27360388127855,146.91852283105024,147.45170776255708,145.18764611872146,140.76679452054793,131.30948173515984,130.75532648401827,128.44661301369865,129.69268607305935,194.1682168949772,192.21099657534248,172.38066438356162,169.5507111872146,164.33823515981734,163.28257762557075,157.7629611872146,155.71047716894978,149.13663698630137,141.13336872146118,139.4135878995434,136.45853767123288,134.64808333333332,127.21941324200914,129.929301369863,131.5805479452055,126.63145662100456,126.43691666666666,122.31504452054794,187.65606278538812,188.658151826484,183.6972591324201,147.47538470319634,161.84339954337898,158.99864041095893,146.8602020547945,141.0258082191781,150.12492351598175,145.85835730593607,141.2392614155251,137.43420547945203,134.72466438356165,127.62261757990866,121.78417922374427,129.95407762557076,127.521200913242,125.25523401826486,119.77004109589042,172.85695662100457,148.6274212328767,133.98222831050228,132.71943493150684,133.31589497716894,147.10780593607305,153.46880365296803,147.83974543378994,129.81059817351598,133.52337557077627,138.0764269406393,131.38257876712328,128.87418949771688,124.45703995433789,125.4983401826484,123.8060102739726,123.0244303652968,120.58134474885846,181.20132191780823,167.9830913242009,172.17653767123286,169.90903881278538,122.88391095890412,135.67971347031963,124.43437899543378,145.63028310502284,131.0840787671233,140.04786301369865,141.210649543379,131.50840525114154,134.9737100456621,132.32588242009132,121.28852853881278,121.95506506849314,124.0477203196347,120.25603652968036,184.0673219178082,195.55117465753423,179.44746347031963,160.75406164383563,161.02543721461188,170.09313470319637,171.7948687214612,154.1708607305936,141.00352283105025,126.15779109589042,142.63786529680365,143.66294748858448,139.06811529680363,137.46318721461188,133.2742705479452,134.68919406392695,130.52454680365298,127.8853801369863,123.91042694063928,121.60490525114156,121.59156735159816,153.4946689497717,170.64717694063927,172.24006278538812,148.13017351598174,127.0324280821918,106.60400456621004,131.08042465753425,140.43669292237442,137.78170433789955,135.4415114155251,136.20884474885844,136.68920433789953,128.25214497716897,129.56464726027397,127.9626621004566,121.81184474885843,122.46047488584476],\"coloraxis\":\"coloraxis\",\"size\":[50,50,50,50,50,50,50,50,50,50,50,50,50,50,50,50,50,50,50,50,50,50,50,50,50,50,50,50,50,50,50,50,50,50,50,50,50,50,50,50,50,50,50,50,50,50,50,50,50,50,50,50,50,50,50,50,50,50,50,50,50,50,50,50,50,50,50,50,50,50,50,50,50,50,50,50,50,50,50,50,50,50,50,50,50,50,50,50,50,50,50,50,50,50,50,50,50,50,50,50,50,50,50,50,50,50,50,50,50,50,50,50,50,50,50,50,50,50,50,50,50,50,50,50,50,50,50,50,50,50,50,50,50,50,50,50,50,50,50,50,50,50,50,50,50,50,50,50,50,50,50,50,50,50,50,50,50,50,50,50,50,50,50,50,50,50,50,50,50,50,50,50,50,50,50,50,50,50,50,50,50,50,50,50,50,50,50,50,50,50,50,50,50,50,50,50,50,50,50,50,50,50,50,50,50,50,50,50,50,50,50,50,50,50,50,50,50,50,50,50,50,50,50,50,50,50,50,50,50,50,50,50,50,50,50,50,50,50,50,50,50,50,50,50,50,50,50,50,50,50,50,50,50,50,50,50,50,50,50,50,50,50,50,50,50,50,50,50,50,50,50,50,50],\"sizemode\":\"area\",\"sizeref\":0.125},\"mode\":\"markers\",\"name\":\"\",\"showlegend\":false,\"subplot\":\"mapbox\",\"type\":\"scattermapbox\"}],\"name\":\"2015\"},{\"data\":[{\"hovertemplate\":\"annee=2016<br>size=%{marker.size}<br>latitude=%{lat}<br>longitude=%{lon}<br>G(i)=%{marker.color}<extra></extra>\",\"lat\":[41.0,41.5,42.0,42.5,43.0,43.5,41.0,41.5,42.0,42.5,43.0,50.5,52.0,41.0,41.5,42.0,42.5,43.0,48.0,48.5,50.5,51.0,52.0,52.5,41.0,41.5,42.0,42.5,43.0,48.0,48.5,51.0,52.0,52.5,41.0,41.5,42.0,42.5,43.0,47.0,47.5,48.0,48.5,51.0,51.5,52.0,52.5,41.0,41.5,42.0,42.5,43.0,43.5,44.0,44.5,45.0,46.0,46.5,47.0,47.5,48.0,48.5,49.0,51.0,51.5,52.0,52.5,41.0,41.5,42.0,42.5,43.0,43.5,44.0,44.5,45.0,45.5,46.0,46.5,47.0,47.5,48.0,48.5,49.0,51.0,51.5,52.0,52.5,41.5,42.0,42.5,43.0,43.5,44.0,44.5,45.0,45.5,46.0,46.5,47.0,47.5,48.0,48.5,49.0,49.5,52.0,52.5,41.5,42.0,42.5,43.0,43.5,44.0,44.5,45.0,45.5,46.0,46.5,47.0,47.5,48.0,48.5,49.0,49.5,50.0,50.5,42.0,42.5,43.0,43.5,44.0,44.5,45.0,45.5,46.0,46.5,47.0,47.5,48.0,48.5,49.0,49.5,50.0,50.5,51.0,44.0,44.5,45.0,45.5,46.0,46.5,47.0,47.5,48.0,48.5,49.0,49.5,50.0,50.5,51.0,51.5,43.5,44.0,44.5,45.0,45.5,46.0,46.5,47.0,47.5,48.0,48.5,49.0,49.5,50.0,50.5,51.0,51.5,52.0,52.5,43.5,44.0,44.5,45.0,45.5,46.0,46.5,47.0,47.5,48.0,48.5,49.0,49.5,50.0,50.5,51.0,51.5,52.0,52.5,44.0,44.5,45.0,45.5,46.0,46.5,47.0,47.5,48.0,48.5,49.0,49.5,50.0,50.5,51.0,51.5,52.0,52.5,44.0,44.5,45.0,45.5,46.0,46.5,47.0,47.5,48.0,48.5,49.0,49.5,50.0,50.5,51.0,51.5,52.0,52.5,41.0,41.5,42.0,42.5,44.5,45.0,45.5,46.0,46.5,47.0,47.5,48.0,48.5,49.0,49.5,50.0,50.5,51.0,51.5,52.0,52.5,44.5,45.0,45.5,46.0,46.5,47.0,47.5,48.0,48.5,49.0,49.5,50.0,50.5,51.0,51.5,52.0,52.5],\"legendgroup\":\"\",\"lon\":[-6,-6,-6,-6,-6,-6,-5,-5,-5,-5,-5,-5,-5,-4,-4,-4,-4,-4,-4,-4,-4,-4,-4,-4,-3,-3,-3,-3,-3,-3,-3,-3,-3,-3,-2,-2,-2,-2,-2,-2,-2,-2,-2,-2,-2,-2,-2,-1,-1,-1,-1,-1,-1,-1,-1,-1,-1,-1,-1,-1,-1,-1,-1,-1,-1,-1,-1,0,0,0,0,0,0,0,0,0,0,0,0,0,0,0,0,0,0,0,0,0,1,1,1,1,1,1,1,1,1,1,1,1,1,1,1,1,1,1,1,2,2,2,2,2,2,2,2,2,2,2,2,2,2,2,2,2,2,2,3,3,3,3,3,3,3,3,3,3,3,3,3,3,3,3,3,3,3,4,4,4,4,4,4,4,4,4,4,4,4,4,4,4,4,5,5,5,5,5,5,5,5,5,5,5,5,5,5,5,5,5,5,5,6,6,6,6,6,6,6,6,6,6,6,6,6,6,6,6,6,6,6,7,7,7,7,7,7,7,7,7,7,7,7,7,7,7,7,7,7,8,8,8,8,8,8,8,8,8,8,8,8,8,8,8,8,8,8,9,9,9,9,9,9,9,9,9,9,9,9,9,9,9,9,9,9,9,9,9,10,10,10,10,10,10,10,10,10,10,10,10,10,10,10,10,10],\"marker\":{\"color\":[187.81259790528236,187.2557126593807,170.83999430783243,170.2641678051002,151.0203324225865,148.1925011384335,192.5454269125683,193.288491575592,193.61663592896176,186.84890824225863,154.21656079234972,125.63427026411657,120.705183287796,191.88008765938068,190.60653346994536,190.3928916211293,187.07724043715848,157.2986623406193,130.88890027322407,132.37431238615665,122.80987249544626,117.47181580145718,113.567389571949,117.5526252276867,190.94677709471767,189.0724715391621,186.29005009107468,179.7707513661202,158.4271914845173,132.96641051912567,132.14530737704916,110.66928392531877,102.3255373406193,100.17676229508196,188.6513365209472,185.2145218579235,172.24220400728598,176.62342896174863,132.5628028233151,151.06866006375228,142.22699225865207,136.82481557377048,139.60039503642986,115.6824055100182,116.16184426229508,116.51843693078324,113.2416404826958,184.7808299180328,182.27357581967212,185.51869193989072,186.88470173041893,156.3331841985428,161.87636270491802,161.05692281420764,160.38187955373405,159.08060678506376,147.3740664845173,145.524522996357,140.67486452641165,138.39356898907104,132.05649362477232,132.8996630236794,131.30014799635703,118.22264116575592,116.2764492258652,116.87292805100182,113.7994410291439,196.89629439890712,198.61581967213112,194.181691712204,176.81548383424408,148.10815004553734,152.5656397996357,157.43958333333333,155.9159437613843,152.48925432604736,145.1726548269581,145.44112704918035,142.53667349726774,141.069081284153,136.22982809653917,127.6876980874317,130.69213797814209,133.37213911657557,119.76916894353369,119.61084927140254,118.4642793715847,118.74128870673952,198.22570013661203,196.3778756830601,176.3387283697632,153.42666438979964,158.74687613843352,158.43700591985427,155.6559107468124,151.51220856102003,144.08881489071038,141.1751115664845,141.2473816029144,140.4222871129326,138.37659949908925,131.53878301457195,130.8437716302368,129.560404143898,133.51749089253187,120.6586532331512,116.54247381602914,192.7921243169399,187.79159039162116,182.7025853825137,160.76172586520948,159.3089981785064,156.27804872495446,152.91625113843352,151.5297199453552,142.07735200364297,141.2369990892532,141.14541552823317,138.19787340619305,138.1499635701275,128.91809084699457,129.8569250910747,124.98385701275043,127.28437841530054,131.48760701275043,129.01812955373407,182.1851627959927,171.07231215846994,159.5577948542805,154.87291438979963,153.35320924408015,150.22989526411658,150.38288592896174,133.39384221311477,139.08504098360655,137.8654633424408,136.41310109289617,135.9220377959927,130.7919922586521,127.14115437158468,124.03670423497267,127.81458447176684,126.4429178051002,132.71507855191257,132.81804986338798,159.86736908014572,141.7796766848816,143.2882866575592,140.13275159380694,139.05120332422587,137.85474271402552,134.47338683970855,133.71801798724954,127.84180669398908,128.69565004553735,126.84456739526412,125.61086407103826,126.09731443533698,131.96614981785063,132.7763091985428,132.1389765482696,180.23679644808743,171.53736452641166,154.3274191712204,158.917316712204,142.53653233151184,141.06779599271405,140.57328551912568,139.78424635701276,137.45097108378872,126.36695924408014,124.60652322404373,125.71397313296904,121.5974351092896,115.80553164845172,121.05572290528232,121.96135132058288,122.58350182149364,119.84166438979965,120.5138752276867,174.4977140255009,170.34312841530055,159.50915869763205,144.97944672131146,140.07310564663024,137.99081739526412,137.86941484517305,131.1337226775956,137.75105760473588,125.34532673041896,125.394337431694,122.82376593806922,120.85415642076502,118.46298041894352,122.44972677595628,121.8174715391621,122.06910519125684,119.66507855191256,123.35765368852458,169.46606329690346,169.12100295992713,133.54539617486338,127.35218920765026,127.5084699453552,132.89644239526413,136.46926798724954,134.89479394353367,120.41024704007287,124.04682604735883,123.61350182149364,119.14793488160292,118.15459357923496,124.0596550546448,122.06203551912569,122.42250227686704,120.4425660291439,120.57638888888889,165.31839025500912,164.1590972222222,168.5519057377049,133.75750341530053,126.95093579234972,128.916141848816,126.82924863387976,132.6513080601093,128.70967896174864,122.67441142987248,123.30486338797812,124.30784039162114,123.63040528233152,117.32240892531875,120.79337090163934,121.6067406648452,117.96457194899818,117.43199795081968,189.7931352459016,190.4827413479053,189.42139913479053,176.25839253187613,166.50560564663024,166.25763547358835,123.23293032786886,119.8548679417122,122.89996584699456,131.80117486338798,136.2111247723133,132.2045286885246,130.68896288706742,129.2283037340619,127.7328608834244,128.33086862477234,115.67151639344262,121.9186259107468,120.25364184881605,119.91936361566484,120.62024362477231,164.20431807832423,167.80809767759564,129.7403233151184,136.85495218579234,114.07791097449908,107.04995787795993,121.13510928961747,127.79760018214937,129.897683287796,129.2431170309654,130.322720856102,130.31550660291438,121.84689093806922,121.2821550546448,122.0958299180328,123.90477459016394,119.747352003643],\"coloraxis\":\"coloraxis\",\"size\":[50,50,50,50,50,50,50,50,50,50,50,50,50,50,50,50,50,50,50,50,50,50,50,50,50,50,50,50,50,50,50,50,50,50,50,50,50,50,50,50,50,50,50,50,50,50,50,50,50,50,50,50,50,50,50,50,50,50,50,50,50,50,50,50,50,50,50,50,50,50,50,50,50,50,50,50,50,50,50,50,50,50,50,50,50,50,50,50,50,50,50,50,50,50,50,50,50,50,50,50,50,50,50,50,50,50,50,50,50,50,50,50,50,50,50,50,50,50,50,50,50,50,50,50,50,50,50,50,50,50,50,50,50,50,50,50,50,50,50,50,50,50,50,50,50,50,50,50,50,50,50,50,50,50,50,50,50,50,50,50,50,50,50,50,50,50,50,50,50,50,50,50,50,50,50,50,50,50,50,50,50,50,50,50,50,50,50,50,50,50,50,50,50,50,50,50,50,50,50,50,50,50,50,50,50,50,50,50,50,50,50,50,50,50,50,50,50,50,50,50,50,50,50,50,50,50,50,50,50,50,50,50,50,50,50,50,50,50,50,50,50,50,50,50,50,50,50,50,50,50,50,50,50,50,50,50,50,50,50,50,50,50,50,50,50,50,50,50,50,50,50,50,50],\"sizemode\":\"area\",\"sizeref\":0.125},\"mode\":\"markers\",\"name\":\"\",\"showlegend\":false,\"subplot\":\"mapbox\",\"type\":\"scattermapbox\"}],\"name\":\"2016\"}]);\n",
              "                        }).then(function(){\n",
              "                            \n",
              "var gd = document.getElementById('15e3d142-3e56-4b4f-9247-b0f792e3a5ae');\n",
              "var x = new MutationObserver(function (mutations, observer) {{\n",
              "        var display = window.getComputedStyle(gd).display;\n",
              "        if (!display || display === 'none') {{\n",
              "            console.log([gd, 'removed!']);\n",
              "            Plotly.purge(gd);\n",
              "            observer.disconnect();\n",
              "        }}\n",
              "}});\n",
              "\n",
              "// Listen for the removal of the full notebook cells\n",
              "var notebookContainer = gd.closest('#notebook-container');\n",
              "if (notebookContainer) {{\n",
              "    x.observe(notebookContainer, {childList: true});\n",
              "}}\n",
              "\n",
              "// Listen for the clearing of the current output cell\n",
              "var outputEl = gd.closest('.output');\n",
              "if (outputEl) {{\n",
              "    x.observe(outputEl, {childList: true});\n",
              "}}\n",
              "\n",
              "                        })                };                            </script>        </div>\n",
              "</body>\n",
              "</html>"
            ]
          },
          "metadata": {}
        }
      ]
    },
    {
      "cell_type": "code",
      "source": [
        "df.sample(10)"
      ],
      "metadata": {
        "colab": {
          "base_uri": "https://localhost:8080/",
          "height": 363
        },
        "id": "7ED7fe0AnFoy",
        "outputId": "b1c09ee6-627e-42f8-8e99-eff6199581c8"
      },
      "execution_count": null,
      "outputs": [
        {
          "output_type": "execute_result",
          "data": {
            "text/plain": [
              "     annee        G(i)     WS10m  latitude  longitude  size\n",
              "125   2014  153.288764  2.467200      44.0         -1    50\n",
              "498   2015  149.444917  3.319015      47.5          3    50\n",
              "191   2016  106.671456  5.087653      54.0         -1    50\n",
              "272   2013  121.680629  3.520871      49.0          0    50\n",
              "826   2015  131.382579  3.283612      49.5          7    50\n",
              "873   2014   85.062300  2.946023      60.0          7    50\n",
              "202   2015  195.905377  3.589591      40.0          0    50\n",
              "389   2014  159.151521  2.972715      43.0          2    50\n",
              "550   2015  157.331596  2.571890      45.5          4    50\n",
              "405   2014  150.850477  2.898603      45.0          2    50"
            ],
            "text/html": [
              "\n",
              "  <div id=\"df-c52eb566-76e7-4b30-b1c6-d1241144253b\">\n",
              "    <div class=\"colab-df-container\">\n",
              "      <div>\n",
              "<style scoped>\n",
              "    .dataframe tbody tr th:only-of-type {\n",
              "        vertical-align: middle;\n",
              "    }\n",
              "\n",
              "    .dataframe tbody tr th {\n",
              "        vertical-align: top;\n",
              "    }\n",
              "\n",
              "    .dataframe thead th {\n",
              "        text-align: right;\n",
              "    }\n",
              "</style>\n",
              "<table border=\"1\" class=\"dataframe\">\n",
              "  <thead>\n",
              "    <tr style=\"text-align: right;\">\n",
              "      <th></th>\n",
              "      <th>annee</th>\n",
              "      <th>G(i)</th>\n",
              "      <th>WS10m</th>\n",
              "      <th>latitude</th>\n",
              "      <th>longitude</th>\n",
              "      <th>size</th>\n",
              "    </tr>\n",
              "  </thead>\n",
              "  <tbody>\n",
              "    <tr>\n",
              "      <th>125</th>\n",
              "      <td>2014</td>\n",
              "      <td>153.288764</td>\n",
              "      <td>2.467200</td>\n",
              "      <td>44.0</td>\n",
              "      <td>-1</td>\n",
              "      <td>50</td>\n",
              "    </tr>\n",
              "    <tr>\n",
              "      <th>498</th>\n",
              "      <td>2015</td>\n",
              "      <td>149.444917</td>\n",
              "      <td>3.319015</td>\n",
              "      <td>47.5</td>\n",
              "      <td>3</td>\n",
              "      <td>50</td>\n",
              "    </tr>\n",
              "    <tr>\n",
              "      <th>191</th>\n",
              "      <td>2016</td>\n",
              "      <td>106.671456</td>\n",
              "      <td>5.087653</td>\n",
              "      <td>54.0</td>\n",
              "      <td>-1</td>\n",
              "      <td>50</td>\n",
              "    </tr>\n",
              "    <tr>\n",
              "      <th>272</th>\n",
              "      <td>2013</td>\n",
              "      <td>121.680629</td>\n",
              "      <td>3.520871</td>\n",
              "      <td>49.0</td>\n",
              "      <td>0</td>\n",
              "      <td>50</td>\n",
              "    </tr>\n",
              "    <tr>\n",
              "      <th>826</th>\n",
              "      <td>2015</td>\n",
              "      <td>131.382579</td>\n",
              "      <td>3.283612</td>\n",
              "      <td>49.5</td>\n",
              "      <td>7</td>\n",
              "      <td>50</td>\n",
              "    </tr>\n",
              "    <tr>\n",
              "      <th>873</th>\n",
              "      <td>2014</td>\n",
              "      <td>85.062300</td>\n",
              "      <td>2.946023</td>\n",
              "      <td>60.0</td>\n",
              "      <td>7</td>\n",
              "      <td>50</td>\n",
              "    </tr>\n",
              "    <tr>\n",
              "      <th>202</th>\n",
              "      <td>2015</td>\n",
              "      <td>195.905377</td>\n",
              "      <td>3.589591</td>\n",
              "      <td>40.0</td>\n",
              "      <td>0</td>\n",
              "      <td>50</td>\n",
              "    </tr>\n",
              "    <tr>\n",
              "      <th>389</th>\n",
              "      <td>2014</td>\n",
              "      <td>159.151521</td>\n",
              "      <td>2.972715</td>\n",
              "      <td>43.0</td>\n",
              "      <td>2</td>\n",
              "      <td>50</td>\n",
              "    </tr>\n",
              "    <tr>\n",
              "      <th>550</th>\n",
              "      <td>2015</td>\n",
              "      <td>157.331596</td>\n",
              "      <td>2.571890</td>\n",
              "      <td>45.5</td>\n",
              "      <td>4</td>\n",
              "      <td>50</td>\n",
              "    </tr>\n",
              "    <tr>\n",
              "      <th>405</th>\n",
              "      <td>2014</td>\n",
              "      <td>150.850477</td>\n",
              "      <td>2.898603</td>\n",
              "      <td>45.0</td>\n",
              "      <td>2</td>\n",
              "      <td>50</td>\n",
              "    </tr>\n",
              "  </tbody>\n",
              "</table>\n",
              "</div>\n",
              "      <button class=\"colab-df-convert\" onclick=\"convertToInteractive('df-c52eb566-76e7-4b30-b1c6-d1241144253b')\"\n",
              "              title=\"Convert this dataframe to an interactive table.\"\n",
              "              style=\"display:none;\">\n",
              "        \n",
              "  <svg xmlns=\"http://www.w3.org/2000/svg\" height=\"24px\"viewBox=\"0 0 24 24\"\n",
              "       width=\"24px\">\n",
              "    <path d=\"M0 0h24v24H0V0z\" fill=\"none\"/>\n",
              "    <path d=\"M18.56 5.44l.94 2.06.94-2.06 2.06-.94-2.06-.94-.94-2.06-.94 2.06-2.06.94zm-11 1L8.5 8.5l.94-2.06 2.06-.94-2.06-.94L8.5 2.5l-.94 2.06-2.06.94zm10 10l.94 2.06.94-2.06 2.06-.94-2.06-.94-.94-2.06-.94 2.06-2.06.94z\"/><path d=\"M17.41 7.96l-1.37-1.37c-.4-.4-.92-.59-1.43-.59-.52 0-1.04.2-1.43.59L10.3 9.45l-7.72 7.72c-.78.78-.78 2.05 0 2.83L4 21.41c.39.39.9.59 1.41.59.51 0 1.02-.2 1.41-.59l7.78-7.78 2.81-2.81c.8-.78.8-2.07 0-2.86zM5.41 20L4 18.59l7.72-7.72 1.47 1.35L5.41 20z\"/>\n",
              "  </svg>\n",
              "      </button>\n",
              "      \n",
              "  <style>\n",
              "    .colab-df-container {\n",
              "      display:flex;\n",
              "      flex-wrap:wrap;\n",
              "      gap: 12px;\n",
              "    }\n",
              "\n",
              "    .colab-df-convert {\n",
              "      background-color: #E8F0FE;\n",
              "      border: none;\n",
              "      border-radius: 50%;\n",
              "      cursor: pointer;\n",
              "      display: none;\n",
              "      fill: #1967D2;\n",
              "      height: 32px;\n",
              "      padding: 0 0 0 0;\n",
              "      width: 32px;\n",
              "    }\n",
              "\n",
              "    .colab-df-convert:hover {\n",
              "      background-color: #E2EBFA;\n",
              "      box-shadow: 0px 1px 2px rgba(60, 64, 67, 0.3), 0px 1px 3px 1px rgba(60, 64, 67, 0.15);\n",
              "      fill: #174EA6;\n",
              "    }\n",
              "\n",
              "    [theme=dark] .colab-df-convert {\n",
              "      background-color: #3B4455;\n",
              "      fill: #D2E3FC;\n",
              "    }\n",
              "\n",
              "    [theme=dark] .colab-df-convert:hover {\n",
              "      background-color: #434B5C;\n",
              "      box-shadow: 0px 1px 3px 1px rgba(0, 0, 0, 0.15);\n",
              "      filter: drop-shadow(0px 1px 2px rgba(0, 0, 0, 0.3));\n",
              "      fill: #FFFFFF;\n",
              "    }\n",
              "  </style>\n",
              "\n",
              "      <script>\n",
              "        const buttonEl =\n",
              "          document.querySelector('#df-c52eb566-76e7-4b30-b1c6-d1241144253b button.colab-df-convert');\n",
              "        buttonEl.style.display =\n",
              "          google.colab.kernel.accessAllowed ? 'block' : 'none';\n",
              "\n",
              "        async function convertToInteractive(key) {\n",
              "          const element = document.querySelector('#df-c52eb566-76e7-4b30-b1c6-d1241144253b');\n",
              "          const dataTable =\n",
              "            await google.colab.kernel.invokeFunction('convertToInteractive',\n",
              "                                                     [key], {});\n",
              "          if (!dataTable) return;\n",
              "\n",
              "          const docLinkHtml = 'Like what you see? Visit the ' +\n",
              "            '<a target=\"_blank\" href=https://colab.research.google.com/notebooks/data_table.ipynb>data table notebook</a>'\n",
              "            + ' to learn more about interactive tables.';\n",
              "          element.innerHTML = '';\n",
              "          dataTable['output_type'] = 'display_data';\n",
              "          await google.colab.output.renderOutput(dataTable, element);\n",
              "          const docLink = document.createElement('div');\n",
              "          docLink.innerHTML = docLinkHtml;\n",
              "          element.appendChild(docLink);\n",
              "        }\n",
              "      </script>\n",
              "    </div>\n",
              "  </div>\n",
              "  "
            ]
          },
          "metadata": {},
          "execution_count": 55
        }
      ]
    },
    {
      "cell_type": "markdown",
      "metadata": {
        "id": "UAIlIZgqnEoL"
      },
      "source": [
        "La base de donnée ainsi formée renseigne pour chaque latitude (précision  de 0.5 degré) et chaque longitude (précision de 1 degré) "
      ]
    },
    {
      "cell_type": "markdown",
      "source": [
        "# Modélisation"
      ],
      "metadata": {
        "id": "NKAQTwE9tugh"
      }
    },
    {
      "cell_type": "markdown",
      "source": [
        "**JUSTIFICATION DE POURQUOI ON UTILISE LES QUATRE BASES DE DONNÉES CI-DESSOUS**"
      ],
      "metadata": {
        "id": "9pY_ZxGe1JaL"
      }
    },
    {
      "cell_type": "code",
      "source": [
        "dfG1 = pd.read_csv('https://raw.githubusercontent.com/Noomkwah/projet_python_2A_s1/main/Plant_1_Generation_Data_.csv')\n",
        "dfW1 = pd.read_csv('https://raw.githubusercontent.com/Noomkwah/projet_python_2A_s1/main/Plant_1_Weather_Sensor_Data.csv')\n",
        "dfG2 = pd.read_csv('https://raw.githubusercontent.com/Noomkwah/projet_python_2A_s1/main/Plant_2_Generation_Data_.csv')\n",
        "dfW2 = pd.read_csv('https://raw.githubusercontent.com/Noomkwah/projet_python_2A_s1/main/Plant_2_Weather_Sensor_Data.csv')"
      ],
      "metadata": {
        "id": "cyXbkT18xZdB"
      },
      "execution_count": null,
      "outputs": []
    },
    {
      "cell_type": "code",
      "source": [
        "dfG1.sample(10)"
      ],
      "metadata": {
        "colab": {
          "base_uri": "https://localhost:8080/",
          "height": 363
        },
        "id": "1iY4sOpwAOiS",
        "outputId": "947b0478-4e52-4f49-c544-1f345b15f30a"
      },
      "execution_count": null,
      "outputs": [
        {
          "output_type": "execute_result",
          "data": {
            "text/plain": [
              "              DATE_TIME  PLANT_ID       SOURCE_KEY      DC_POWER     AC_POWER  \\\n",
              "59327  13-06-2020 12:00   4135001  ZoEaEvLYb1n2sOq  13143.000000  1281.642857   \n",
              "17552  24-05-2020 04:45   4135001  WRmjgnKYAwPKWDb      0.000000     0.000000   \n",
              "61851  14-06-2020 16:45   4135001  7JYdWkrLSPkdwr4   2147.285714   210.514286   \n",
              "41747  05-06-2020 03:15   4135001  7JYdWkrLSPkdwr4      0.000000     0.000000   \n",
              "17148  24-05-2020 00:00   4135001  zBIq5rxdHJRwDNY      0.000000     0.000000   \n",
              "48733  08-06-2020 11:30   4135001  z9Y9gH1T5YWrNuG   8855.875000   866.300000   \n",
              "65631  16-06-2020 11:30   4135001  zVJPv84UY57bAof   5533.142857   542.314286   \n",
              "50404  09-06-2020 06:30   4135001  wCURE6d3bPkepu2    820.500000    79.575000   \n",
              "25750  28-05-2020 03:30   4135001  wCURE6d3bPkepu2      0.000000     0.000000   \n",
              "17479  24-05-2020 03:45   4135001  zVJPv84UY57bAof      0.000000     0.000000   \n",
              "\n",
              "       DAILY_YIELD  TOTAL_YIELD  \n",
              "59327  4081.857143  7311466.857  \n",
              "17552     0.000000  7093026.000  \n",
              "61851  7140.000000  7827992.000  \n",
              "41747     0.000000  7756621.000  \n",
              "17148  1239.142857  6404481.000  \n",
              "48733  3529.625000  7187160.625  \n",
              "65631  3028.428571  7354128.429  \n",
              "50404    24.375000  6967994.375  \n",
              "25750     0.000000  6879195.000  \n",
              "17479     0.000000  7180838.000  "
            ],
            "text/html": [
              "\n",
              "  <div id=\"df-2cb9c2b3-fb91-4e57-baa9-94c056c8ea16\">\n",
              "    <div class=\"colab-df-container\">\n",
              "      <div>\n",
              "<style scoped>\n",
              "    .dataframe tbody tr th:only-of-type {\n",
              "        vertical-align: middle;\n",
              "    }\n",
              "\n",
              "    .dataframe tbody tr th {\n",
              "        vertical-align: top;\n",
              "    }\n",
              "\n",
              "    .dataframe thead th {\n",
              "        text-align: right;\n",
              "    }\n",
              "</style>\n",
              "<table border=\"1\" class=\"dataframe\">\n",
              "  <thead>\n",
              "    <tr style=\"text-align: right;\">\n",
              "      <th></th>\n",
              "      <th>DATE_TIME</th>\n",
              "      <th>PLANT_ID</th>\n",
              "      <th>SOURCE_KEY</th>\n",
              "      <th>DC_POWER</th>\n",
              "      <th>AC_POWER</th>\n",
              "      <th>DAILY_YIELD</th>\n",
              "      <th>TOTAL_YIELD</th>\n",
              "    </tr>\n",
              "  </thead>\n",
              "  <tbody>\n",
              "    <tr>\n",
              "      <th>59327</th>\n",
              "      <td>13-06-2020 12:00</td>\n",
              "      <td>4135001</td>\n",
              "      <td>ZoEaEvLYb1n2sOq</td>\n",
              "      <td>13143.000000</td>\n",
              "      <td>1281.642857</td>\n",
              "      <td>4081.857143</td>\n",
              "      <td>7311466.857</td>\n",
              "    </tr>\n",
              "    <tr>\n",
              "      <th>17552</th>\n",
              "      <td>24-05-2020 04:45</td>\n",
              "      <td>4135001</td>\n",
              "      <td>WRmjgnKYAwPKWDb</td>\n",
              "      <td>0.000000</td>\n",
              "      <td>0.000000</td>\n",
              "      <td>0.000000</td>\n",
              "      <td>7093026.000</td>\n",
              "    </tr>\n",
              "    <tr>\n",
              "      <th>61851</th>\n",
              "      <td>14-06-2020 16:45</td>\n",
              "      <td>4135001</td>\n",
              "      <td>7JYdWkrLSPkdwr4</td>\n",
              "      <td>2147.285714</td>\n",
              "      <td>210.514286</td>\n",
              "      <td>7140.000000</td>\n",
              "      <td>7827992.000</td>\n",
              "    </tr>\n",
              "    <tr>\n",
              "      <th>41747</th>\n",
              "      <td>05-06-2020 03:15</td>\n",
              "      <td>4135001</td>\n",
              "      <td>7JYdWkrLSPkdwr4</td>\n",
              "      <td>0.000000</td>\n",
              "      <td>0.000000</td>\n",
              "      <td>0.000000</td>\n",
              "      <td>7756621.000</td>\n",
              "    </tr>\n",
              "    <tr>\n",
              "      <th>17148</th>\n",
              "      <td>24-05-2020 00:00</td>\n",
              "      <td>4135001</td>\n",
              "      <td>zBIq5rxdHJRwDNY</td>\n",
              "      <td>0.000000</td>\n",
              "      <td>0.000000</td>\n",
              "      <td>1239.142857</td>\n",
              "      <td>6404481.000</td>\n",
              "    </tr>\n",
              "    <tr>\n",
              "      <th>48733</th>\n",
              "      <td>08-06-2020 11:30</td>\n",
              "      <td>4135001</td>\n",
              "      <td>z9Y9gH1T5YWrNuG</td>\n",
              "      <td>8855.875000</td>\n",
              "      <td>866.300000</td>\n",
              "      <td>3529.625000</td>\n",
              "      <td>7187160.625</td>\n",
              "    </tr>\n",
              "    <tr>\n",
              "      <th>65631</th>\n",
              "      <td>16-06-2020 11:30</td>\n",
              "      <td>4135001</td>\n",
              "      <td>zVJPv84UY57bAof</td>\n",
              "      <td>5533.142857</td>\n",
              "      <td>542.314286</td>\n",
              "      <td>3028.428571</td>\n",
              "      <td>7354128.429</td>\n",
              "    </tr>\n",
              "    <tr>\n",
              "      <th>50404</th>\n",
              "      <td>09-06-2020 06:30</td>\n",
              "      <td>4135001</td>\n",
              "      <td>wCURE6d3bPkepu2</td>\n",
              "      <td>820.500000</td>\n",
              "      <td>79.575000</td>\n",
              "      <td>24.375000</td>\n",
              "      <td>6967994.375</td>\n",
              "    </tr>\n",
              "    <tr>\n",
              "      <th>25750</th>\n",
              "      <td>28-05-2020 03:30</td>\n",
              "      <td>4135001</td>\n",
              "      <td>wCURE6d3bPkepu2</td>\n",
              "      <td>0.000000</td>\n",
              "      <td>0.000000</td>\n",
              "      <td>0.000000</td>\n",
              "      <td>6879195.000</td>\n",
              "    </tr>\n",
              "    <tr>\n",
              "      <th>17479</th>\n",
              "      <td>24-05-2020 03:45</td>\n",
              "      <td>4135001</td>\n",
              "      <td>zVJPv84UY57bAof</td>\n",
              "      <td>0.000000</td>\n",
              "      <td>0.000000</td>\n",
              "      <td>0.000000</td>\n",
              "      <td>7180838.000</td>\n",
              "    </tr>\n",
              "  </tbody>\n",
              "</table>\n",
              "</div>\n",
              "      <button class=\"colab-df-convert\" onclick=\"convertToInteractive('df-2cb9c2b3-fb91-4e57-baa9-94c056c8ea16')\"\n",
              "              title=\"Convert this dataframe to an interactive table.\"\n",
              "              style=\"display:none;\">\n",
              "        \n",
              "  <svg xmlns=\"http://www.w3.org/2000/svg\" height=\"24px\"viewBox=\"0 0 24 24\"\n",
              "       width=\"24px\">\n",
              "    <path d=\"M0 0h24v24H0V0z\" fill=\"none\"/>\n",
              "    <path d=\"M18.56 5.44l.94 2.06.94-2.06 2.06-.94-2.06-.94-.94-2.06-.94 2.06-2.06.94zm-11 1L8.5 8.5l.94-2.06 2.06-.94-2.06-.94L8.5 2.5l-.94 2.06-2.06.94zm10 10l.94 2.06.94-2.06 2.06-.94-2.06-.94-.94-2.06-.94 2.06-2.06.94z\"/><path d=\"M17.41 7.96l-1.37-1.37c-.4-.4-.92-.59-1.43-.59-.52 0-1.04.2-1.43.59L10.3 9.45l-7.72 7.72c-.78.78-.78 2.05 0 2.83L4 21.41c.39.39.9.59 1.41.59.51 0 1.02-.2 1.41-.59l7.78-7.78 2.81-2.81c.8-.78.8-2.07 0-2.86zM5.41 20L4 18.59l7.72-7.72 1.47 1.35L5.41 20z\"/>\n",
              "  </svg>\n",
              "      </button>\n",
              "      \n",
              "  <style>\n",
              "    .colab-df-container {\n",
              "      display:flex;\n",
              "      flex-wrap:wrap;\n",
              "      gap: 12px;\n",
              "    }\n",
              "\n",
              "    .colab-df-convert {\n",
              "      background-color: #E8F0FE;\n",
              "      border: none;\n",
              "      border-radius: 50%;\n",
              "      cursor: pointer;\n",
              "      display: none;\n",
              "      fill: #1967D2;\n",
              "      height: 32px;\n",
              "      padding: 0 0 0 0;\n",
              "      width: 32px;\n",
              "    }\n",
              "\n",
              "    .colab-df-convert:hover {\n",
              "      background-color: #E2EBFA;\n",
              "      box-shadow: 0px 1px 2px rgba(60, 64, 67, 0.3), 0px 1px 3px 1px rgba(60, 64, 67, 0.15);\n",
              "      fill: #174EA6;\n",
              "    }\n",
              "\n",
              "    [theme=dark] .colab-df-convert {\n",
              "      background-color: #3B4455;\n",
              "      fill: #D2E3FC;\n",
              "    }\n",
              "\n",
              "    [theme=dark] .colab-df-convert:hover {\n",
              "      background-color: #434B5C;\n",
              "      box-shadow: 0px 1px 3px 1px rgba(0, 0, 0, 0.15);\n",
              "      filter: drop-shadow(0px 1px 2px rgba(0, 0, 0, 0.3));\n",
              "      fill: #FFFFFF;\n",
              "    }\n",
              "  </style>\n",
              "\n",
              "      <script>\n",
              "        const buttonEl =\n",
              "          document.querySelector('#df-2cb9c2b3-fb91-4e57-baa9-94c056c8ea16 button.colab-df-convert');\n",
              "        buttonEl.style.display =\n",
              "          google.colab.kernel.accessAllowed ? 'block' : 'none';\n",
              "\n",
              "        async function convertToInteractive(key) {\n",
              "          const element = document.querySelector('#df-2cb9c2b3-fb91-4e57-baa9-94c056c8ea16');\n",
              "          const dataTable =\n",
              "            await google.colab.kernel.invokeFunction('convertToInteractive',\n",
              "                                                     [key], {});\n",
              "          if (!dataTable) return;\n",
              "\n",
              "          const docLinkHtml = 'Like what you see? Visit the ' +\n",
              "            '<a target=\"_blank\" href=https://colab.research.google.com/notebooks/data_table.ipynb>data table notebook</a>'\n",
              "            + ' to learn more about interactive tables.';\n",
              "          element.innerHTML = '';\n",
              "          dataTable['output_type'] = 'display_data';\n",
              "          await google.colab.output.renderOutput(dataTable, element);\n",
              "          const docLink = document.createElement('div');\n",
              "          docLink.innerHTML = docLinkHtml;\n",
              "          element.appendChild(docLink);\n",
              "        }\n",
              "      </script>\n",
              "    </div>\n",
              "  </div>\n",
              "  "
            ]
          },
          "metadata": {},
          "execution_count": 3
        }
      ]
    },
    {
      "cell_type": "markdown",
      "source": [
        "**Partie 1 : Nettoyage des données.** Pour utiliser ces bases de données, la première chose à faire est de les nettoyer. On commence par retravailler les données temporelles pour qu'elles soient toutes au format jj/mm/aaaa hh:mm."
      ],
      "metadata": {
        "id": "fqnkQhD81DMf"
      }
    },
    {
      "cell_type": "code",
      "source": [
        "def ref_time(dfW):\n",
        "    vect_time=[]\n",
        "    for i in range(dfW.shape[0]):\n",
        "        a = dfW['DATE_TIME'][i]\n",
        "        vect_time.append(a[8:10]+a[4:8]+a[:4]+' '+a[11:16])\n",
        "\n",
        "    dfW['DATE_TIME']=np.array(vect_time).tolist()\n",
        "\n",
        "ref_time(dfW1) # Formatage des données temporelles\n"
      ],
      "metadata": {
        "id": "MRNYqm5E0fjz"
      },
      "execution_count": null,
      "outputs": []
    },
    {
      "cell_type": "markdown",
      "source": [
        "La deuxième étape consiste à supprimer les lignes qui ne sont pas à la fois dans dfG et dans dfW."
      ],
      "metadata": {
        "id": "nCpYItP11pll"
      }
    },
    {
      "cell_type": "code",
      "source": [
        "def epuration(dfG,dfW):\n",
        "    dateG = list(dfG['DATE_TIME'].to_numpy())\n",
        "    dateW = list(dfW['DATE_TIME'].to_numpy())\n",
        "\n",
        "    LW,LG=[],[]\n",
        "\n",
        "    for i in range(len(dateW)):\n",
        "        if dateW[i] not in dateG:\n",
        "            LW.append(i)\n",
        "    for i in range(len(dateG)):\n",
        "        if dateG[i] not in dateW:\n",
        "            LG.append(i)\n",
        "\n",
        "    dfG_=dfG.drop(LG).reset_index().drop(columns=[\"index\"])\n",
        "    dfW_=dfW.drop(LW).reset_index().drop(columns=[\"index\"])\n",
        "\n",
        "    return dfG_,dfW_\n",
        "\n",
        "dfG1,dfW1 = epuration(dfG1,dfW1)"
      ],
      "metadata": {
        "id": "HN4RgxBb0p47"
      },
      "execution_count": null,
      "outputs": []
    },
    {
      "cell_type": "markdown",
      "source": [
        "On s'occupe ensuite de dupliquer les données jointes afin d'aligner chaque date de dfW à la date de dfG correspondante. (environ 10 min de computing)"
      ],
      "metadata": {
        "id": "iG2VdEuo2W59"
      }
    },
    {
      "cell_type": "code",
      "source": [
        "def dupli_join(dfG,dfW):\n",
        "\n",
        "    #duplication des données de dfW pour s'aligner à dfG\n",
        "    v = dfW['DATE_TIME'].to_numpy()\n",
        "    for time in v:\n",
        "        index = np.where(v==time)\n",
        "        df_try = dfW.loc[index]\n",
        "        d=dfG.where(dfG['DATE_TIME']==time, inplace=False).count()['DATE_TIME']\n",
        "        for j in range(d-1):\n",
        "            dfW=dfW.append(df_try)\n",
        "\n",
        "    #tri sur l'order alphabétique des dates :\n",
        "    dfW = dfW.sort_values(by=['DATE_TIME'])\n",
        "    dfG = dfG.sort_values(by=['DATE_TIME'])\n",
        "\n",
        "    #Jointure indirecte sur les dates\n",
        "    dfG['Jointure'] = list(range(dfG.shape[0]))\n",
        "    dfW['Jointure'] = list(range(dfW.shape[0]))\n",
        "\n",
        "    df = pd.merge(dfG,dfW,on='Jointure')\n",
        "    return df\n",
        "    \n",
        "df1 = dupli_join(dfG1,dfW1)"
      ],
      "metadata": {
        "id": "nWs6dQZ20xnw"
      },
      "execution_count": null,
      "outputs": []
    },
    {
      "cell_type": "markdown",
      "source": [
        "On peut alors construire la base de données finale."
      ],
      "metadata": {
        "id": "tzZJV-Katt3m"
      }
    },
    {
      "cell_type": "code",
      "source": [
        "df1rl = df1[['DATE_TIME_x','AMBIENT_TEMPERATURE', 'MODULE_TEMPERATURE',\n",
        "       'IRRADIATION','AC_POWER']]\n",
        "\n",
        "df1rl['AC_POWER']=df1rl['AC_POWER']*10**(-4)*10**3 #pour ramener de kW à l'hectare en W au mètre carré\n",
        "df1rl['IRRADIATION']=df1rl['IRRADIATION']*10**3 #pour ramener de kW en W\n",
        "\n",
        "df1rl['Delta_T']=df1rl['MODULE_TEMPERATURE']-df1rl['AMBIENT_TEMPERATURE']\n",
        "\n",
        "df1rl['Delta_T2']= df1rl['Delta_T'] ** 2"
      ],
      "metadata": {
        "id": "6kWpnvQ23HDI"
      },
      "execution_count": null,
      "outputs": []
    },
    {
      "cell_type": "markdown",
      "source": [
        "**Partie 2 : Modélisation de la différence de température entre capteur et extérieur.** On cherche à inférer une relation Delta_T  = f(minutes journalière). "
      ],
      "metadata": {
        "id": "1HJcYJqP3fAN"
      }
    },
    {
      "cell_type": "code",
      "source": [
        "def minutes(dfrl):\n",
        "    c= []\n",
        "    for i in range(len(dfrl['DATE_TIME_x'])):\n",
        "        t = int(dfrl['DATE_TIME_x'][i][14:]) + 60*(int(dfrl['DATE_TIME_x'][i][11:13]))\n",
        "        c.append(t)\n",
        "\n",
        "    dfrl['minutes']=c\n",
        "\n",
        "minutes(df1rl)\n",
        "\n",
        "def g(x):\n",
        "    \"\"\"\n",
        "    Au vu des données, nous allons supposer que Delta_T  = f(minutes journalière) est une fonction symétrique centré en 720,\n",
        "    les resultats de cette transformation seront nommées \"minutes ajustées\" (en minutes carrées)\n",
        "    \"\"\"\n",
        "    return (x - 720)**2\n",
        "\n",
        "df1rl['minutes_ajustées'] = df1rl['minutes'].apply(g)"
      ],
      "metadata": {
        "id": "ByXCF47b4-_l"
      },
      "execution_count": null,
      "outputs": []
    },
    {
      "cell_type": "markdown",
      "source": [
        "Le code ci-dessous permet de construire un graphique des données."
      ],
      "metadata": {
        "id": "MFd5319Z5Auf"
      }
    },
    {
      "cell_type": "code",
      "source": [
        "def graphes(labelX,labelY,titre,size=0.5):\n",
        "    df1rl.plot.scatter(x=labelX, y=labelY, alpha=size)\n",
        "    plt.title(titre)\n",
        "    plt.show()\n",
        "\n",
        "graphes('minutes','Delta_T','Différence de température en fonction des minutes dans la journée')\n",
        "graphes('minutes_ajustées','Delta_T','Différence de température en fonction des minutes_ajustées dans la journée')"
      ],
      "metadata": {
        "id": "Cmnkm-nb6Vtt",
        "colab": {
          "base_uri": "https://localhost:8080/",
          "height": 575
        },
        "outputId": "842167b8-527a-4ea5-b076-763ea2ed97da"
      },
      "execution_count": null,
      "outputs": [
        {
          "output_type": "display_data",
          "data": {
            "text/plain": [
              "<Figure size 432x288 with 1 Axes>"
            ],
            "image/png": "[encoded data removed]"
          },
          "metadata": {
            "needs_background": "light"
          }
        },
        {
          "output_type": "display_data",
          "data": {
            "text/plain": [
              "<Figure size 432x288 with 1 Axes>"
            ],
            "image/png": "[encoded data removed]"
          },
          "metadata": {
            "needs_background": "light"
          }
        }
      ]
    },
    {
      "cell_type": "markdown",
      "source": [
        "Finalement, on peut modéliser la relation Delta_T = f(minutes journalières) comme suit :"
      ],
      "metadata": {
        "id": "eeCp4AkD6gUL"
      }
    },
    {
      "cell_type": "code",
      "source": [
        "def f_opt(coeff):\n",
        "    \"\"\"\n",
        "    Nous prenons un modele de la forme Delta_T = exp ( x/w + b1 ) + b2 où x : minutes ajustées.\n",
        "    Nous cherchons alors w,b1,b2 qui réduit la mse (Mean Square Error)\n",
        "    \"\"\"\n",
        "    [w,b1,b2] = coeff\n",
        "    Y = df1rl['Delta_T'].to_numpy() #target\n",
        "    PY = np.exp(-df1rl['minutes_ajustées'].to_numpy()*(1/w) + b1) + b2 #prediction\n",
        "    return np.mean((Y - PY)**2)\n",
        "\n",
        "res = minimize(f_opt,[10**4,3,0])\n",
        "\n",
        "def f(x):\n",
        "    \"\"\" Fonction optimale pour le modèle pris \"\"\"\n",
        "    [w,b1,b2] = list(res['x'])\n",
        "    return np.exp(-x/w + b1) + b2\n",
        "\n",
        "df1rl['prediction_dtemp'] = df1rl['minutes_ajustées'].apply(f)"
      ],
      "metadata": {
        "id": "AS6Yq15v6oQx",
        "colab": {
          "base_uri": "https://localhost:8080/"
        },
        "outputId": "213a55ce-4040-4c50-ed96-bf6d7dee7033"
      },
      "execution_count": null,
      "outputs": [
        {
          "output_type": "stream",
          "name": "stderr",
          "text": [
            "<ipython-input-17-8caa9ea92377>:18: SettingWithCopyWarning:\n",
            "\n",
            "\n",
            "A value is trying to be set on a copy of a slice from a DataFrame.\n",
            "Try using .loc[row_indexer,col_indexer] = value instead\n",
            "\n",
            "See the caveats in the documentation: https://pandas.pydata.org/pandas-docs/stable/user_guide/indexing.html#returning-a-view-versus-a-copy\n",
            "\n"
          ]
        }
      ]
    },
    {
      "cell_type": "markdown",
      "source": [
        "Maintenant le modèle formé, on peut comparer ses prédictions aux données effectivement observées sur la base de données de kaggle :"
      ],
      "metadata": {
        "id": "a0AKPbGN6so3"
      }
    },
    {
      "cell_type": "code",
      "source": [
        "plt.scatter(df1rl['minutes_ajustées'].to_numpy(),df1rl['Delta_T'].to_numpy())\n",
        "plt.scatter(df1rl['minutes_ajustées'].to_numpy(),df1rl['prediction_dtemp'])\n",
        "plt.show()"
      ],
      "metadata": {
        "id": "hCm2PAdP64gj",
        "colab": {
          "base_uri": "https://localhost:8080/",
          "height": 265
        },
        "outputId": "2e78d278-70dc-4f0f-8ace-189d9486c055"
      },
      "execution_count": null,
      "outputs": [
        {
          "output_type": "display_data",
          "data": {
            "text/plain": [
              "<Figure size 432x288 with 1 Axes>"
            ],
            "image/png": "[encoded data removed]"
          },
          "metadata": {
            "needs_background": "light"
          }
        }
      ]
    },
    {
      "cell_type": "code",
      "source": [
        "plt.scatter(df1rl['minutes'].to_numpy(),df1rl['Delta_T'].to_numpy())\n",
        "plt.scatter(df1rl['minutes'].to_numpy(),df1rl['prediction_dtemp'])\n",
        "plt.show()"
      ],
      "metadata": {
        "id": "g01_0bdI6-Aj",
        "colab": {
          "base_uri": "https://localhost:8080/",
          "height": 265
        },
        "outputId": "ebf77362-ec46-44b2-8b9c-a9d0b7229c46"
      },
      "execution_count": null,
      "outputs": [
        {
          "output_type": "display_data",
          "data": {
            "text/plain": [
              "<Figure size 432x288 with 1 Axes>"
            ],
            "image/png": "[encoded data removed]"
          },
          "metadata": {
            "needs_background": "light"
          }
        }
      ]
    },
    {
      "cell_type": "markdown",
      "source": [
        "On effectue ensuite les mêmes opérations sur la deuxième base de données de kaggle afin de les comparer. (environ 10 min)"
      ],
      "metadata": {
        "id": "cV2om8Mg7NFt"
      }
    },
    {
      "cell_type": "code",
      "source": [
        "ref_time(dfW2)\n",
        "ref_time(dfG2)\n",
        "dfG2,dfW2 = epuration(dfG2,dfW2)\n",
        "df2 = dupli_join(dfG2,dfW2)\n",
        "df2rl = df2[['DATE_TIME_x','AMBIENT_TEMPERATURE', 'MODULE_TEMPERATURE',\n",
        "       'IRRADIATION','AC_POWER']]\n",
        "df2rl['AC_POWER'] = df2rl['AC_POWER']*10**(-4)*10**3\n",
        "df2rl['IRRADIATION']=df2rl['IRRADIATION']*10**3\n",
        "df2rl['Delta_T']=df2rl['MODULE_TEMPERATURE']-df1rl['AMBIENT_TEMPERATURE']\n",
        "df2rl['Delta_T2']= df2rl['Delta_T'] ** 2\n",
        "minutes(df2rl)\n",
        "df2rl['minutes_ajustées'] = df2rl['minutes'].apply(g)\n",
        "df2rl['prediction_dtemp'] = df2rl['minutes_ajustées'].apply(f)\n",
        "\n",
        "plt.scatter(df2rl['minutes_ajustées'].to_numpy(),df2rl['Delta_T'].to_numpy())\n",
        "plt.scatter(df2rl['minutes_ajustées'].to_numpy(),df2rl['prediction_dtemp'])\n",
        "plt.show()"
      ],
      "metadata": {
        "id": "9QKlAJOg7RhQ"
      },
      "execution_count": null,
      "outputs": []
    },
    {
      "cell_type": "markdown",
      "source": [
        "Nous observons une erreur due au fait que les données de df2rl ne sont pas aussi symétriques que celles de df1rl, nous nous permettrons néamoins de conserver cette hypothèse pour la suite."
      ],
      "metadata": {
        "id": "3t21sRQ-7UbU"
      }
    },
    {
      "cell_type": "code",
      "source": [
        "plt.scatter(df2rl['minutes'].to_numpy(),df2rl['Delta_T'].to_numpy())\n",
        "plt.scatter(df2rl['minutes'].to_numpy(),df2rl['prediction_dtemp'])\n",
        "plt.show()"
      ],
      "metadata": {
        "id": "iWj3Rm_P7RcJ",
        "colab": {
          "base_uri": "https://localhost:8080/",
          "height": 265
        },
        "outputId": "937cc87c-5c52-4928-e64f-25006db32952"
      },
      "execution_count": null,
      "outputs": [
        {
          "output_type": "display_data",
          "data": {
            "text/plain": [
              "<Figure size 432x288 with 1 Axes>"
            ],
            "image/png": "[encoded data removed]"
          },
          "metadata": {
            "needs_background": "light"
          }
        }
      ]
    },
    {
      "cell_type": "markdown",
      "source": [
        "**Partie 3 : Modelisation de la puissance fournie par un panneau solaire.** Cette modélisation se base sur une régression linéaire, que la fonction ci-dessous nous permet de réaliser."
      ],
      "metadata": {
        "id": "q2mpayhP7aTe"
      }
    },
    {
      "cell_type": "code",
      "source": [
        "def RL(X_train,Y_train,X_test,Y_test):\n",
        "    \"\"\"\n",
        "    Fonction de regression linéaire\n",
        "    \"\"\"\n",
        "    x_train = X_train.to_numpy()\n",
        "    y_train = Y_train.to_numpy()\n",
        "    x_test = X_test.to_numpy()\n",
        "    y_test = Y_test.to_numpy()\n",
        "\n",
        "    # Création du modèle\n",
        "    model_linRegMul = LinearRegression()\n",
        "\n",
        "    # Entrainement du modèle\n",
        "    model_linRegMul.fit(x_train, y_train)\n",
        "\n",
        "    # Précision du modèle\n",
        "    precision_train = model_linRegMul.score(x_train, y_train)\n",
        "    precision_test = model_linRegMul.score(x_test, y_test)\n",
        "    print('accuracy_train =',precision_train)\n",
        "    print('accuracy_test =',precision_test)\n",
        "\n",
        "    # Coefficient du modèle\n",
        "    print('cons_ =', model_linRegMul.intercept_)\n",
        "    print('coeff_ =',model_linRegMul.coef_)\n",
        "    a=model_linRegMul.intercept_[0]\n",
        "    b=model_linRegMul.coef_[0]\n",
        "\n",
        "    return a,b"
      ],
      "metadata": {
        "id": "xWIwRsAD7o-7"
      },
      "execution_count": null,
      "outputs": []
    },
    {
      "cell_type": "code",
      "source": [
        "# Modele de la RL : P_fournie = f(Delta_T, Delta_T2, IRRADIATION)\n",
        "alpha,beta = RL(df1rl[['Delta_T', 'Delta_T2','IRRADIATION']],df1rl[['AC_POWER']],df2rl[['Delta_T', 'Delta_T2','IRRADIATION']],df2rl[['AC_POWER']])"
      ],
      "metadata": {
        "id": "DKeTVPDo72_s"
      },
      "execution_count": null,
      "outputs": []
    },
    {
      "cell_type": "markdown",
      "source": [
        "Enfin il ne reste plus qu'à construire et visualiser les prédictions."
      ],
      "metadata": {
        "id": "9fQOEjVE75Ed"
      }
    },
    {
      "cell_type": "code",
      "source": [
        "# Visualisation des données\n",
        "graphes(\"IRRADIATION\",\"AC_POWER\",'P=f(G)')\n",
        "graphes(\"Delta_T\", \"AC_POWER\",'P=f(Delta_T)')\n",
        "graphes(\"Delta_T2\", \"AC_POWER\",'P=f(Delta_T2)')\n",
        "\n",
        "# Construction de la prediction\n",
        "df1rl['Y']=alpha + beta[0]*df1rl['Delta_T']+beta[1]*df1rl['Delta_T2']+beta[2]*df1rl['IRRADIATION']\n",
        "df2rl['Y']=alpha + beta[0]*df2rl['Delta_T']+beta[1]*df2rl['Delta_T2']+beta[2]*df2rl['IRRADIATION']"
      ],
      "metadata": {
        "id": "qjB3XKm98iAU"
      },
      "execution_count": null,
      "outputs": []
    },
    {
      "cell_type": "code",
      "source": [
        "# Visualisation de la prédiction sur df1rl\n",
        "df1rl.plot.scatter(x=\"AC_POWER\", y=\"Y\", alpha=0.5, label=\"prediction = AC_POWER + e\")\n",
        "plt.plot([0,140],[0,140], label=\"x = y\",color='r')\n",
        "plt.legend()\n",
        "plt.show()"
      ],
      "metadata": {
        "id": "v7rmxUY88ljs"
      },
      "execution_count": null,
      "outputs": []
    },
    {
      "cell_type": "code",
      "source": [
        "# Visualisation de la prédiction sur df2rl\n",
        "df2rl.plot.scatter(x=\"AC_POWER\", y=\"Y\", alpha=0.5, label=\"prediction = AC_POWER + e\")\n",
        "plt.plot([0,140],[0,140], label=\"x = y\",color='r')\n",
        "plt.legend()\n",
        "plt.show()"
      ],
      "metadata": {
        "id": "TRmWPAh58mpJ"
      },
      "execution_count": null,
      "outputs": []
    },
    {
      "cell_type": "markdown",
      "source": [
        "Afin d'éviter de reconstruire le modèle de A à Z à chaque fois, voici les résultats que nous avons obtenu pour la régression linéaire :\n"
      ],
      "metadata": {
        "id": "qquwaLvfxUIJ"
      }
    },
    {
      "cell_type": "code",
      "source": [
        "alpha = 1.28937272 \n",
        "beta = [0.7596788, -0.02660441, 0.12258335]"
      ],
      "metadata": {
        "id": "X9DmJcrixxBq"
      },
      "execution_count": null,
      "outputs": []
    },
    {
      "cell_type": "markdown",
      "source": [
        "et pour la modélisation de la différence de température en fonction de la minute au cours de la journée :"
      ],
      "metadata": {
        "id": "SBXtmK4q6Ls_"
      }
    },
    {
      "cell_type": "code",
      "source": [
        "def g(x):\n",
        "    \"\"\"\n",
        "    Au vu des données, nous allons supposer que Delta_T  = f(minutes journalière) est une fonction symétrique centré en 720,\n",
        "    les resultats de cette transformation seront nommées \"minutes ajustées\" (en minutes carrées)\n",
        "    \"\"\"\n",
        "    return (x - 720)**2\n",
        "\n",
        "def f(x):\n",
        "    \"\"\" Fonction optimale pour le modèle pris \"\"\"\n",
        "    [w,b1,b2] = [ 6.45260113e+04,  3.23363775e+00, -2.44429761e+00]\n",
        "    return np.exp(-x/w + b1) + b2"
      ],
      "metadata": {
        "id": "C66V_NZJxmFp"
      },
      "execution_count": null,
      "outputs": []
    },
    {
      "cell_type": "markdown",
      "source": [
        "Nous avons désormais un modèle pour déterminer la différence de température entre l'extérieur et le capteur au cours du temps dans une journée, et nous savons également comment déterminer la puissance fournie par le panneau solaire en fonction de ces températures et de la puissance solaire reçue."
      ],
      "metadata": {
        "id": "bOawZfo2-Rar"
      }
    },
    {
      "cell_type": "markdown",
      "source": [
        "# Visualisation des données"
      ],
      "metadata": {
        "id": "cH9WTMvUUZSn"
      }
    },
    {
      "cell_type": "markdown",
      "source": [
        "Nous allons commencer par appliquer le modèle que nous venons de construire sur notre base de données principale, en redéfinissant la fonction \"normalisation\" de la partie 'Création de la base de données' : (environ 20 min)\n",
        "\n",
        "Note1 : seules les deux dernières case de code de la partie modélisation peuvent être computée pour faire fonctionner le code suivant (il est néanmoins nécessaire de computer les fonctions des parties précédentes).\n",
        "\n",
        "Note2 : Nous avons au préalable enregistrée la base de données sur GitHub afin d'éviter de recalculer creation_df_zone comme nous l'avons fait dans la partie \"Création de la base de données\"."
      ],
      "metadata": {
        "id": "VO9n-dAoUp0B"
      }
    },
    {
      "cell_type": "code",
      "source": [
        "from _plotly_utils.colors.diverging import delta\n",
        "def normalisation(url, latitude,longitude):\n",
        "    \"\"\"On standardise les données récupérées pour les rendre comparables entre elles\"\"\"\n",
        "\n",
        "\n",
        "    delta_t = 1 # = 1 heure (notre précision temporelle)\n",
        "\n",
        "    df_norm = pd.read_csv(url,skiprows=(8),skipfooter=9,engine='python') #On se débarasse des informations superflues\n",
        "\n",
        "    df_norm['annee'] = df_norm['time'].str[:4] #On extrait la variable d'année à partir de la variable temps\n",
        "\n",
        "    #transformation en minutes\n",
        "    c = []\n",
        "    for i in range(len(df_norm)):\n",
        "        c.append(int(df_norm['time'][i][9:11])*60 + int(df_norm['time'][i][11:]))\n",
        "    df_norm['minutes']=c\n",
        "\n",
        "    #construction de Delta_T\n",
        "    df_norm['Delta_T'] = df_norm['minutes'].apply(g).apply(f)\n",
        "    df_norm['Delta_T2'] = df_norm['Delta_T']**2\n",
        "\n",
        "    #construction de P_fournie\n",
        "    df_norm['P_fournie'] = alpha + beta[0]*df_norm['Delta_T'] + beta[1]*df_norm['Delta_T2']+beta[2]*df_norm['G(i)']\n",
        "    df_norm['Energie_recue'] = df_norm['G(i)']*delta_t #en Wh par m2\n",
        "    df_norm['Energie_fournie'] = df_norm['P_fournie']*delta_t #en Wh par m2\n",
        "    df_norm['rendement'] = df_norm['Energie_fournie'] / df_norm['Energie_recue']\n",
        "\n",
        "\n",
        "    df_norm = df_norm.groupby(['annee'])['Energie_recue', 'Energie_fournie'].sum() \n",
        "    df_norm['latitude'] = latitude \n",
        "    df_norm['longitude'] = longitude\n",
        "    df_norm['rendement_annuel'] = df_norm['Energie_fournie'] / df_norm['Energie_recue']\n",
        "    df_norm['retour_énergétique'] = 25/420000 * df_norm['Energie_fournie']\n",
        "\n",
        "    return df_norm\n",
        "\n"
      ],
      "metadata": {
        "id": "gDjG9gk4UVvu"
      },
      "execution_count": null,
      "outputs": []
    },
    {
      "cell_type": "code",
      "source": [
        "df = creation_df_zone(41,52,-6,10,2,2013,2016) #On recrée la base de données sur le territoire de France métropolitaine\n",
        "#20min30"
      ],
      "metadata": {
        "id": "9f_d563DVS-G",
        "outputId": "483547f2-7af5-4118-9c0e-bf08706f6929",
        "colab": {
          "base_uri": "https://localhost:8080/"
        }
      },
      "execution_count": null,
      "outputs": [
        {
          "output_type": "stream",
          "name": "stderr",
          "text": [
            "<ipython-input-10-829005142192>:29: FutureWarning: Indexing with multiple keys (implicitly converted to a tuple of keys) will be deprecated, use a list instead.\n",
            "  df_norm = df_norm.groupby(['annee'])['Energie_recue', 'Energie_fournie'].sum()\n"
          ]
        }
      ]
    },
    {
      "cell_type": "markdown",
      "source": [
        "Nous pouvons donc désormais visualiser l'énergie fournie par un mètre carré de panneau solaire ainsi que le rendement obtenue pour chaque point de l'espace considérer, à savoir la France Métropolitaine."
      ],
      "metadata": {
        "id": "i2IaeG02WPDE"
      }
    },
    {
      "cell_type": "code",
      "source": [
        "df = pd.read_csv('https://raw.githubusercontent.com/Noomkwah/projet_python_2A_s1/main/BD_norm.csv', index_col=0)\n",
        "df.head()"
      ],
      "metadata": {
        "id": "tz3hcvlt1QcO",
        "outputId": "c2be0063-83dc-45eb-b981-a6bc45229e0e",
        "colab": {
          "base_uri": "https://localhost:8080/",
          "height": 206
        }
      },
      "execution_count": null,
      "outputs": [
        {
          "output_type": "execute_result",
          "data": {
            "text/plain": [
              "   annee  Energie_recue  Energie_fournie  latitude  longitude  \\\n",
              "0   2013     1684189.38    228747.144093      41.0         -6   \n",
              "1   2014     1713956.88    232396.143964      41.0         -6   \n",
              "2   2015     1734321.33    234892.486466      41.0         -6   \n",
              "3   2016     1649745.86    224586.020293      41.0         -6   \n",
              "4   2013     1668998.14    226884.951003      41.5         -6   \n",
              "\n",
              "   rendement_annuel  retour_énergétique  \n",
              "0          0.135820           13.615901  \n",
              "1          0.135590           13.833104  \n",
              "2          0.135438           13.981696  \n",
              "3          0.136134           13.368215  \n",
              "4          0.135941           13.505057  "
            ],
            "text/html": [
              "\n",
              "  <div id=\"df-abd16525-a957-48fc-8445-6bbf1238b1dc\">\n",
              "    <div class=\"colab-df-container\">\n",
              "      <div>\n",
              "<style scoped>\n",
              "    .dataframe tbody tr th:only-of-type {\n",
              "        vertical-align: middle;\n",
              "    }\n",
              "\n",
              "    .dataframe tbody tr th {\n",
              "        vertical-align: top;\n",
              "    }\n",
              "\n",
              "    .dataframe thead th {\n",
              "        text-align: right;\n",
              "    }\n",
              "</style>\n",
              "<table border=\"1\" class=\"dataframe\">\n",
              "  <thead>\n",
              "    <tr style=\"text-align: right;\">\n",
              "      <th></th>\n",
              "      <th>annee</th>\n",
              "      <th>Energie_recue</th>\n",
              "      <th>Energie_fournie</th>\n",
              "      <th>latitude</th>\n",
              "      <th>longitude</th>\n",
              "      <th>rendement_annuel</th>\n",
              "      <th>retour_énergétique</th>\n",
              "    </tr>\n",
              "  </thead>\n",
              "  <tbody>\n",
              "    <tr>\n",
              "      <th>0</th>\n",
              "      <td>2013</td>\n",
              "      <td>1684189.38</td>\n",
              "      <td>228747.144093</td>\n",
              "      <td>41.0</td>\n",
              "      <td>-6</td>\n",
              "      <td>0.135820</td>\n",
              "      <td>13.615901</td>\n",
              "    </tr>\n",
              "    <tr>\n",
              "      <th>1</th>\n",
              "      <td>2014</td>\n",
              "      <td>1713956.88</td>\n",
              "      <td>232396.143964</td>\n",
              "      <td>41.0</td>\n",
              "      <td>-6</td>\n",
              "      <td>0.135590</td>\n",
              "      <td>13.833104</td>\n",
              "    </tr>\n",
              "    <tr>\n",
              "      <th>2</th>\n",
              "      <td>2015</td>\n",
              "      <td>1734321.33</td>\n",
              "      <td>234892.486466</td>\n",
              "      <td>41.0</td>\n",
              "      <td>-6</td>\n",
              "      <td>0.135438</td>\n",
              "      <td>13.981696</td>\n",
              "    </tr>\n",
              "    <tr>\n",
              "      <th>3</th>\n",
              "      <td>2016</td>\n",
              "      <td>1649745.86</td>\n",
              "      <td>224586.020293</td>\n",
              "      <td>41.0</td>\n",
              "      <td>-6</td>\n",
              "      <td>0.136134</td>\n",
              "      <td>13.368215</td>\n",
              "    </tr>\n",
              "    <tr>\n",
              "      <th>4</th>\n",
              "      <td>2013</td>\n",
              "      <td>1668998.14</td>\n",
              "      <td>226884.951003</td>\n",
              "      <td>41.5</td>\n",
              "      <td>-6</td>\n",
              "      <td>0.135941</td>\n",
              "      <td>13.505057</td>\n",
              "    </tr>\n",
              "  </tbody>\n",
              "</table>\n",
              "</div>\n",
              "      <button class=\"colab-df-convert\" onclick=\"convertToInteractive('df-abd16525-a957-48fc-8445-6bbf1238b1dc')\"\n",
              "              title=\"Convert this dataframe to an interactive table.\"\n",
              "              style=\"display:none;\">\n",
              "        \n",
              "  <svg xmlns=\"http://www.w3.org/2000/svg\" height=\"24px\"viewBox=\"0 0 24 24\"\n",
              "       width=\"24px\">\n",
              "    <path d=\"M0 0h24v24H0V0z\" fill=\"none\"/>\n",
              "    <path d=\"M18.56 5.44l.94 2.06.94-2.06 2.06-.94-2.06-.94-.94-2.06-.94 2.06-2.06.94zm-11 1L8.5 8.5l.94-2.06 2.06-.94-2.06-.94L8.5 2.5l-.94 2.06-2.06.94zm10 10l.94 2.06.94-2.06 2.06-.94-2.06-.94-.94-2.06-.94 2.06-2.06.94z\"/><path d=\"M17.41 7.96l-1.37-1.37c-.4-.4-.92-.59-1.43-.59-.52 0-1.04.2-1.43.59L10.3 9.45l-7.72 7.72c-.78.78-.78 2.05 0 2.83L4 21.41c.39.39.9.59 1.41.59.51 0 1.02-.2 1.41-.59l7.78-7.78 2.81-2.81c.8-.78.8-2.07 0-2.86zM5.41 20L4 18.59l7.72-7.72 1.47 1.35L5.41 20z\"/>\n",
              "  </svg>\n",
              "      </button>\n",
              "      \n",
              "  <style>\n",
              "    .colab-df-container {\n",
              "      display:flex;\n",
              "      flex-wrap:wrap;\n",
              "      gap: 12px;\n",
              "    }\n",
              "\n",
              "    .colab-df-convert {\n",
              "      background-color: #E8F0FE;\n",
              "      border: none;\n",
              "      border-radius: 50%;\n",
              "      cursor: pointer;\n",
              "      display: none;\n",
              "      fill: #1967D2;\n",
              "      height: 32px;\n",
              "      padding: 0 0 0 0;\n",
              "      width: 32px;\n",
              "    }\n",
              "\n",
              "    .colab-df-convert:hover {\n",
              "      background-color: #E2EBFA;\n",
              "      box-shadow: 0px 1px 2px rgba(60, 64, 67, 0.3), 0px 1px 3px 1px rgba(60, 64, 67, 0.15);\n",
              "      fill: #174EA6;\n",
              "    }\n",
              "\n",
              "    [theme=dark] .colab-df-convert {\n",
              "      background-color: #3B4455;\n",
              "      fill: #D2E3FC;\n",
              "    }\n",
              "\n",
              "    [theme=dark] .colab-df-convert:hover {\n",
              "      background-color: #434B5C;\n",
              "      box-shadow: 0px 1px 3px 1px rgba(0, 0, 0, 0.15);\n",
              "      filter: drop-shadow(0px 1px 2px rgba(0, 0, 0, 0.3));\n",
              "      fill: #FFFFFF;\n",
              "    }\n",
              "  </style>\n",
              "\n",
              "      <script>\n",
              "        const buttonEl =\n",
              "          document.querySelector('#df-abd16525-a957-48fc-8445-6bbf1238b1dc button.colab-df-convert');\n",
              "        buttonEl.style.display =\n",
              "          google.colab.kernel.accessAllowed ? 'block' : 'none';\n",
              "\n",
              "        async function convertToInteractive(key) {\n",
              "          const element = document.querySelector('#df-abd16525-a957-48fc-8445-6bbf1238b1dc');\n",
              "          const dataTable =\n",
              "            await google.colab.kernel.invokeFunction('convertToInteractive',\n",
              "                                                     [key], {});\n",
              "          if (!dataTable) return;\n",
              "\n",
              "          const docLinkHtml = 'Like what you see? Visit the ' +\n",
              "            '<a target=\"_blank\" href=https://colab.research.google.com/notebooks/data_table.ipynb>data table notebook</a>'\n",
              "            + ' to learn more about interactive tables.';\n",
              "          element.innerHTML = '';\n",
              "          dataTable['output_type'] = 'display_data';\n",
              "          await google.colab.output.renderOutput(dataTable, element);\n",
              "          const docLink = document.createElement('div');\n",
              "          docLink.innerHTML = docLinkHtml;\n",
              "          element.appendChild(docLink);\n",
              "        }\n",
              "      </script>\n",
              "    </div>\n",
              "  </div>\n",
              "  "
            ]
          },
          "metadata": {},
          "execution_count": 17
        }
      ]
    },
    {
      "cell_type": "code",
      "source": [
        "carte_interactive(df,\"Energie_fournie\")\n",
        "carte_interactive(df,\"rendement_annuel\")"
      ],
      "metadata": {
        "id": "n-Ymow3kYxUh",
        "outputId": "bfff4abb-9ace-41c7-d354-3b771829afee",
        "colab": {
          "base_uri": "https://localhost:8080/",
          "height": 1000
        }
      },
      "execution_count": null,
      "outputs": [
        {
          "output_type": "display_data",
          "data": {
            "text/html": [
              "<html>\n",
              "<head><meta charset=\"utf-8\" /></head>\n",
              "<body>\n",
              "    <div>            <script src=\"https://cdnjs.cloudflare.com/ajax/libs/mathjax/2.7.5/MathJax.js?config=TeX-AMS-MML_SVG\"></script><script type=\"text/javascript\">if (window.MathJax) {MathJax.Hub.Config({SVG: {font: \"STIX-Web\"}});}</script>                <script type=\"text/javascript\">window.PlotlyConfig = {MathJaxConfig: 'local'};</script>\n",
              "        <script src=\"https://cdn.plot.ly/plotly-2.8.3.min.js\"></script>                <div id=\"f3963d0d-09a9-4c2b-8360-fa5b9e47ef0e\" class=\"plotly-graph-div\" style=\"height:525px; width:100%;\"></div>            <script type=\"text/javascript\">                                    window.PLOTLYENV=window.PLOTLYENV || {};                                    if (document.getElementById(\"f3963d0d-09a9-4c2b-8360-fa5b9e47ef0e\")) {                    Plotly.newPlot(                        \"f3963d0d-09a9-4c2b-8360-fa5b9e47ef0e\",                        [{\"hovertemplate\":\"annee=2013<br>size=%{marker.size}<br>latitude=%{lat}<br>longitude=%{lon}<br>Energie_fournie=%{marker.color}<extra></extra>\",\"lat\":[41.0,41.5,42.0,42.5,43.0,43.5,41.0,41.5,42.0,42.5,43.0,50.5,52.0,41.0,41.5,42.0,42.5,43.0,48.0,48.5,50.5,51.0,52.0,52.5,41.0,41.5,42.0,42.5,43.0,48.0,48.5,51.0,52.0,52.5,41.0,41.5,42.0,42.5,43.0,47.0,47.5,48.0,48.5,51.0,51.5,52.0,52.5,41.0,41.5,42.0,42.5,43.0,43.5,44.0,44.5,45.0,46.0,46.5,47.0,47.5,48.0,48.5,49.0,51.0,51.5,52.0,52.5,41.0,41.5,42.0,42.5,43.0,43.5,44.0,44.5,45.0,45.5,46.0,46.5,47.0,47.5,48.0,48.5,49.0,51.0,51.5,52.0,52.5,41.5,42.0,42.5,43.0,43.5,44.0,44.5,45.0,45.5,46.0,46.5,47.0,47.5,48.0,48.5,49.0,49.5,52.0,52.5,41.5,42.0,42.5,43.0,43.5,44.0,44.5,45.0,45.5,46.0,46.5,47.0,47.5,48.0,48.5,49.0,49.5,50.0,50.5,42.0,42.5,43.0,43.5,44.0,44.5,45.0,45.5,46.0,46.5,47.0,47.5,48.0,48.5,49.0,49.5,50.0,50.5,51.0,44.0,44.5,45.0,45.5,46.0,46.5,47.0,47.5,48.0,48.5,49.0,49.5,50.0,50.5,51.0,51.5,43.5,44.0,44.5,45.0,45.5,46.0,46.5,47.0,47.5,48.0,48.5,49.0,49.5,50.0,50.5,51.0,51.5,52.0,52.5,43.5,44.0,44.5,45.0,45.5,46.0,46.5,47.0,47.5,48.0,48.5,49.0,49.5,50.0,50.5,51.0,51.5,52.0,52.5,44.0,44.5,45.0,45.5,46.0,46.5,47.0,47.5,48.0,48.5,49.0,49.5,50.0,50.5,51.0,51.5,52.0,52.5,44.0,44.5,45.0,45.5,46.0,46.5,47.0,47.5,48.0,48.5,49.0,49.5,50.0,50.5,51.0,51.5,52.0,52.5,41.0,41.5,42.0,42.5,44.5,45.0,45.5,46.0,46.5,47.0,47.5,48.0,48.5,49.0,49.5,50.0,50.5,51.0,51.5,52.0,52.5,44.5,45.0,45.5,46.0,46.5,47.0,47.5,48.0,48.5,49.0,49.5,50.0,50.5,51.0,51.5,52.0,52.5],\"legendgroup\":\"\",\"lon\":[-6,-6,-6,-6,-6,-6,-5,-5,-5,-5,-5,-5,-5,-4,-4,-4,-4,-4,-4,-4,-4,-4,-4,-4,-3,-3,-3,-3,-3,-3,-3,-3,-3,-3,-2,-2,-2,-2,-2,-2,-2,-2,-2,-2,-2,-2,-2,-1,-1,-1,-1,-1,-1,-1,-1,-1,-1,-1,-1,-1,-1,-1,-1,-1,-1,-1,-1,0,0,0,0,0,0,0,0,0,0,0,0,0,0,0,0,0,0,0,0,0,1,1,1,1,1,1,1,1,1,1,1,1,1,1,1,1,1,1,1,2,2,2,2,2,2,2,2,2,2,2,2,2,2,2,2,2,2,2,3,3,3,3,3,3,3,3,3,3,3,3,3,3,3,3,3,3,3,4,4,4,4,4,4,4,4,4,4,4,4,4,4,4,4,5,5,5,5,5,5,5,5,5,5,5,5,5,5,5,5,5,5,5,6,6,6,6,6,6,6,6,6,6,6,6,6,6,6,6,6,6,6,7,7,7,7,7,7,7,7,7,7,7,7,7,7,7,7,7,7,8,8,8,8,8,8,8,8,8,8,8,8,8,8,8,8,8,8,9,9,9,9,9,9,9,9,9,9,9,9,9,9,9,9,9,9,9,9,9,10,10,10,10,10,10,10,10,10,10,10,10,10,10,10,10,10],\"marker\":{\"color\":[228747.1440927508,226884.9510028968,224782.84513542376,221051.66293479176,195056.5813454508,168939.92649291377,228651.81469895627,225135.01729330575,223247.67622919928,218435.28681656427,191444.03408511527,148596.8236161933,147230.22461412248,203032.0208098068,216035.09746856327,214562.21438830727,205346.64697950776,180157.35110555627,165707.67323678377,153649.19935645728,147170.19123389228,146359.47889366627,138457.44174969147,138862.083258874,225149.47232193776,215857.34057856177,199407.70432203775,187417.5988535068,170703.10901097278,165353.00283022877,158774.38838078777,151353.02565843178,140081.56816717747,136416.10290048047,214881.94976594576,216142.9475257268,203672.04931932627,204611.53056539327,144930.37890852976,177886.40873846126,170861.52837751177,166139.63980051476,162596.17438707178,147682.82622275778,145214.54917883276,140750.4711847895,136933.64612668,215156.58918078628,220082.53367969376,226297.73017472375,207550.70419334227,179549.43085290227,174798.92274118078,177121.06327023677,182566.33948642027,179978.1648936938,182781.78707904628,178441.71621729527,169785.82025458978,169011.19032343628,165629.65138617577,157465.3122053033,154010.53707141877,151408.06558258177,144287.67317864628,142103.81098212546,141710.09164942798,221132.8842108348,234234.5632388308,236747.49617132728,205869.77387729977,159644.62964744077,183271.0699397368,179157.35904042877,182675.41905458423,180007.67070603877,176714.62468914327,176131.32039900278,172244.28572718077,169194.33842917078,165916.22061263828,164323.83960530176,160293.55893400378,152957.89545746628,153251.84542743227,143123.26864699827,144309.61746036448,144159.4062749415,228917.77889011728,226781.38523381576,182718.74491380827,161494.7605356548,184432.79479935375,185522.48600501023,180974.70378585177,175961.34510005926,171829.19889074477,167393.01042425877,167275.19679240728,167042.78856747528,161949.94683754278,161425.33177788177,158955.79089961827,155867.79618143526,151711.6873788628,149234.82033000447,145427.61193570247,224062.8273125288,217643.2059197048,196656.86530136177,180768.96602037927,174244.47334579678,183929.15865421176,178733.87769618476,169985.71814926827,167426.60929466027,159429.97639492276,162206.35933407178,167281.67041912078,155931.58978260876,159470.89103965228,161202.48260258278,157263.78150040278,153159.57693988728,150429.05365780677,147826.34067977028,209327.08893819628,197914.02620228776,202978.67989088775,201847.6008687708,177657.62285152177,177706.04695227227,169929.52103829428,159132.06330525127,166924.16833718077,163894.66303861677,162774.21812211227,162065.53680742526,160977.94300288727,162250.44153256528,158237.42427444778,154029.0018014293,153174.87166446677,149547.6438221353,149633.0942237533,205032.23049342577,178912.69248049677,160026.4559435213,163149.01794057075,166966.39584958876,164712.44598647076,159758.26931622476,157850.41392849578,157011.58832278076,160779.99418347378,157430.42130639276,155702.87376817878,149360.59511420378,148832.22655236578,147901.42298164527,148494.33167725828,222693.1397996368,219510.53157442328,196445.00817505727,188083.28160651427,177470.50672274778,173330.56298653976,164057.71850745278,163591.78287160327,158100.43615498926,151597.64563669078,152255.66815615678,151296.64712409978,148939.71744031378,142717.49079016128,144531.14455091578,149095.71946319076,143485.41908957026,143906.65411724348,143319.59142159196,213835.2914453068,214943.8028726888,207045.55782132823,156181.46858658278,177313.18692885828,174742.83350355478,155379.87889926377,147030.47686072977,160416.19009151027,157818.97252505427,153423.34934075028,155105.45890861977,150521.60040955627,145564.44986723928,138408.1442192543,146557.49635975578,145804.81497741977,143447.38211229997,139541.09082202648,194571.96155539423,166087.70613845377,153051.00486679227,139810.07360486328,142013.3131877533,162243.76564332427,169344.77761962477,157994.53885059129,141466.90526012928,145513.37796612878,152582.24736222578,150073.06057690526,145688.15608072528,141127.27092728528,143040.98579914428,140568.99938304827,142603.96821179448,141020.20726563,204079.46856721977,189458.55524266575,193460.3892217628,192200.52903546975,137961.5179126968,150233.4143087073,142418.53329034778,158220.37783379678,142567.78709980726,151733.53908683377,156239.46522113477,148304.39490560078,154544.38878650227,150420.12100909228,137143.33289145475,136288.01737349777,141573.62941254096,139363.86349209698,204775.8327068988,222472.06930874623,193609.87839125423,183117.1150588048,179430.41835588778,188073.80346189227,191091.0344896208,170108.27207926428,159025.84605830978,141138.82808552327,154291.8805696708,156496.2221768773,152919.07576218827,151807.88098527477,148448.8814485788,151019.96179314778,147296.56486107426,142962.11322008728,140533.80447742977,138029.068103949,141225.2217893375,164110.34476544126,189655.5883644548,189469.81452336328,166223.97837114826,144019.23035214827,124886.65276667978,145116.69824552877,154632.9809993808,152462.69304680428,148240.44930107327,150630.04009263328,151466.35028800627,141332.12118930378,141775.6608471083,140807.61400299077,138480.4334828175,142786.73263164348],\"coloraxis\":\"coloraxis\",\"size\":[50,50,50,50,50,50,50,50,50,50,50,50,50,50,50,50,50,50,50,50,50,50,50,50,50,50,50,50,50,50,50,50,50,50,50,50,50,50,50,50,50,50,50,50,50,50,50,50,50,50,50,50,50,50,50,50,50,50,50,50,50,50,50,50,50,50,50,50,50,50,50,50,50,50,50,50,50,50,50,50,50,50,50,50,50,50,50,50,50,50,50,50,50,50,50,50,50,50,50,50,50,50,50,50,50,50,50,50,50,50,50,50,50,50,50,50,50,50,50,50,50,50,50,50,50,50,50,50,50,50,50,50,50,50,50,50,50,50,50,50,50,50,50,50,50,50,50,50,50,50,50,50,50,50,50,50,50,50,50,50,50,50,50,50,50,50,50,50,50,50,50,50,50,50,50,50,50,50,50,50,50,50,50,50,50,50,50,50,50,50,50,50,50,50,50,50,50,50,50,50,50,50,50,50,50,50,50,50,50,50,50,50,50,50,50,50,50,50,50,50,50,50,50,50,50,50,50,50,50,50,50,50,50,50,50,50,50,50,50,50,50,50,50,50,50,50,50,50,50,50,50,50,50,50,50,50,50,50,50,50,50,50,50,50,50,50,50,50,50,50,50,50,50],\"sizemode\":\"area\",\"sizeref\":0.125},\"mode\":\"markers\",\"name\":\"\",\"showlegend\":false,\"subplot\":\"mapbox\",\"type\":\"scattermapbox\"}],                        {\"template\":{\"data\":{\"bar\":[{\"error_x\":{\"color\":\"#2a3f5f\"},\"error_y\":{\"color\":\"#2a3f5f\"},\"marker\":{\"line\":{\"color\":\"#E5ECF6\",\"width\":0.5},\"pattern\":{\"fillmode\":\"overlay\",\"size\":10,\"solidity\":0.2}},\"type\":\"bar\"}],\"barpolar\":[{\"marker\":{\"line\":{\"color\":\"#E5ECF6\",\"width\":0.5},\"pattern\":{\"fillmode\":\"overlay\",\"size\":10,\"solidity\":0.2}},\"type\":\"barpolar\"}],\"carpet\":[{\"aaxis\":{\"endlinecolor\":\"#2a3f5f\",\"gridcolor\":\"white\",\"linecolor\":\"white\",\"minorgridcolor\":\"white\",\"startlinecolor\":\"#2a3f5f\"},\"baxis\":{\"endlinecolor\":\"#2a3f5f\",\"gridcolor\":\"white\",\"linecolor\":\"white\",\"minorgridcolor\":\"white\",\"startlinecolor\":\"#2a3f5f\"},\"type\":\"carpet\"}],\"choropleth\":[{\"colorbar\":{\"outlinewidth\":0,\"ticks\":\"\"},\"type\":\"choropleth\"}],\"contour\":[{\"colorbar\":{\"outlinewidth\":0,\"ticks\":\"\"},\"colorscale\":[[0.0,\"#0d0887\"],[0.1111111111111111,\"#46039f\"],[0.2222222222222222,\"#7201a8\"],[0.3333333333333333,\"#9c179e\"],[0.4444444444444444,\"#bd3786\"],[0.5555555555555556,\"#d8576b\"],[0.6666666666666666,\"#ed7953\"],[0.7777777777777778,\"#fb9f3a\"],[0.8888888888888888,\"#fdca26\"],[1.0,\"#f0f921\"]],\"type\":\"contour\"}],\"contourcarpet\":[{\"colorbar\":{\"outlinewidth\":0,\"ticks\":\"\"},\"type\":\"contourcarpet\"}],\"heatmap\":[{\"colorbar\":{\"outlinewidth\":0,\"ticks\":\"\"},\"colorscale\":[[0.0,\"#0d0887\"],[0.1111111111111111,\"#46039f\"],[0.2222222222222222,\"#7201a8\"],[0.3333333333333333,\"#9c179e\"],[0.4444444444444444,\"#bd3786\"],[0.5555555555555556,\"#d8576b\"],[0.6666666666666666,\"#ed7953\"],[0.7777777777777778,\"#fb9f3a\"],[0.8888888888888888,\"#fdca26\"],[1.0,\"#f0f921\"]],\"type\":\"heatmap\"}],\"heatmapgl\":[{\"colorbar\":{\"outlinewidth\":0,\"ticks\":\"\"},\"colorscale\":[[0.0,\"#0d0887\"],[0.1111111111111111,\"#46039f\"],[0.2222222222222222,\"#7201a8\"],[0.3333333333333333,\"#9c179e\"],[0.4444444444444444,\"#bd3786\"],[0.5555555555555556,\"#d8576b\"],[0.6666666666666666,\"#ed7953\"],[0.7777777777777778,\"#fb9f3a\"],[0.8888888888888888,\"#fdca26\"],[1.0,\"#f0f921\"]],\"type\":\"heatmapgl\"}],\"histogram\":[{\"marker\":{\"pattern\":{\"fillmode\":\"overlay\",\"size\":10,\"solidity\":0.2}},\"type\":\"histogram\"}],\"histogram2d\":[{\"colorbar\":{\"outlinewidth\":0,\"ticks\":\"\"},\"colorscale\":[[0.0,\"#0d0887\"],[0.1111111111111111,\"#46039f\"],[0.2222222222222222,\"#7201a8\"],[0.3333333333333333,\"#9c179e\"],[0.4444444444444444,\"#bd3786\"],[0.5555555555555556,\"#d8576b\"],[0.6666666666666666,\"#ed7953\"],[0.7777777777777778,\"#fb9f3a\"],[0.8888888888888888,\"#fdca26\"],[1.0,\"#f0f921\"]],\"type\":\"histogram2d\"}],\"histogram2dcontour\":[{\"colorbar\":{\"outlinewidth\":0,\"ticks\":\"\"},\"colorscale\":[[0.0,\"#0d0887\"],[0.1111111111111111,\"#46039f\"],[0.2222222222222222,\"#7201a8\"],[0.3333333333333333,\"#9c179e\"],[0.4444444444444444,\"#bd3786\"],[0.5555555555555556,\"#d8576b\"],[0.6666666666666666,\"#ed7953\"],[0.7777777777777778,\"#fb9f3a\"],[0.8888888888888888,\"#fdca26\"],[1.0,\"#f0f921\"]],\"type\":\"histogram2dcontour\"}],\"mesh3d\":[{\"colorbar\":{\"outlinewidth\":0,\"ticks\":\"\"},\"type\":\"mesh3d\"}],\"parcoords\":[{\"line\":{\"colorbar\":{\"outlinewidth\":0,\"ticks\":\"\"}},\"type\":\"parcoords\"}],\"pie\":[{\"automargin\":true,\"type\":\"pie\"}],\"scatter\":[{\"marker\":{\"colorbar\":{\"outlinewidth\":0,\"ticks\":\"\"}},\"type\":\"scatter\"}],\"scatter3d\":[{\"line\":{\"colorbar\":{\"outlinewidth\":0,\"ticks\":\"\"}},\"marker\":{\"colorbar\":{\"outlinewidth\":0,\"ticks\":\"\"}},\"type\":\"scatter3d\"}],\"scattercarpet\":[{\"marker\":{\"colorbar\":{\"outlinewidth\":0,\"ticks\":\"\"}},\"type\":\"scattercarpet\"}],\"scattergeo\":[{\"marker\":{\"colorbar\":{\"outlinewidth\":0,\"ticks\":\"\"}},\"type\":\"scattergeo\"}],\"scattergl\":[{\"marker\":{\"colorbar\":{\"outlinewidth\":0,\"ticks\":\"\"}},\"type\":\"scattergl\"}],\"scattermapbox\":[{\"marker\":{\"colorbar\":{\"outlinewidth\":0,\"ticks\":\"\"}},\"type\":\"scattermapbox\"}],\"scatterpolar\":[{\"marker\":{\"colorbar\":{\"outlinewidth\":0,\"ticks\":\"\"}},\"type\":\"scatterpolar\"}],\"scatterpolargl\":[{\"marker\":{\"colorbar\":{\"outlinewidth\":0,\"ticks\":\"\"}},\"type\":\"scatterpolargl\"}],\"scatterternary\":[{\"marker\":{\"colorbar\":{\"outlinewidth\":0,\"ticks\":\"\"}},\"type\":\"scatterternary\"}],\"surface\":[{\"colorbar\":{\"outlinewidth\":0,\"ticks\":\"\"},\"colorscale\":[[0.0,\"#0d0887\"],[0.1111111111111111,\"#46039f\"],[0.2222222222222222,\"#7201a8\"],[0.3333333333333333,\"#9c179e\"],[0.4444444444444444,\"#bd3786\"],[0.5555555555555556,\"#d8576b\"],[0.6666666666666666,\"#ed7953\"],[0.7777777777777778,\"#fb9f3a\"],[0.8888888888888888,\"#fdca26\"],[1.0,\"#f0f921\"]],\"type\":\"surface\"}],\"table\":[{\"cells\":{\"fill\":{\"color\":\"#EBF0F8\"},\"line\":{\"color\":\"white\"}},\"header\":{\"fill\":{\"color\":\"#C8D4E3\"},\"line\":{\"color\":\"white\"}},\"type\":\"table\"}]},\"layout\":{\"annotationdefaults\":{\"arrowcolor\":\"#2a3f5f\",\"arrowhead\":0,\"arrowwidth\":1},\"autotypenumbers\":\"strict\",\"coloraxis\":{\"colorbar\":{\"outlinewidth\":0,\"ticks\":\"\"}},\"colorscale\":{\"diverging\":[[0,\"#8e0152\"],[0.1,\"#c51b7d\"],[0.2,\"#de77ae\"],[0.3,\"#f1b6da\"],[0.4,\"#fde0ef\"],[0.5,\"#f7f7f7\"],[0.6,\"#e6f5d0\"],[0.7,\"#b8e186\"],[0.8,\"#7fbc41\"],[0.9,\"#4d9221\"],[1,\"#276419\"]],\"sequential\":[[0.0,\"#0d0887\"],[0.1111111111111111,\"#46039f\"],[0.2222222222222222,\"#7201a8\"],[0.3333333333333333,\"#9c179e\"],[0.4444444444444444,\"#bd3786\"],[0.5555555555555556,\"#d8576b\"],[0.6666666666666666,\"#ed7953\"],[0.7777777777777778,\"#fb9f3a\"],[0.8888888888888888,\"#fdca26\"],[1.0,\"#f0f921\"]],\"sequentialminus\":[[0.0,\"#0d0887\"],[0.1111111111111111,\"#46039f\"],[0.2222222222222222,\"#7201a8\"],[0.3333333333333333,\"#9c179e\"],[0.4444444444444444,\"#bd3786\"],[0.5555555555555556,\"#d8576b\"],[0.6666666666666666,\"#ed7953\"],[0.7777777777777778,\"#fb9f3a\"],[0.8888888888888888,\"#fdca26\"],[1.0,\"#f0f921\"]]},\"colorway\":[\"#636efa\",\"#EF553B\",\"#00cc96\",\"#ab63fa\",\"#FFA15A\",\"#19d3f3\",\"#FF6692\",\"#B6E880\",\"#FF97FF\",\"#FECB52\"],\"font\":{\"color\":\"#2a3f5f\"},\"geo\":{\"bgcolor\":\"white\",\"lakecolor\":\"white\",\"landcolor\":\"#E5ECF6\",\"showlakes\":true,\"showland\":true,\"subunitcolor\":\"white\"},\"hoverlabel\":{\"align\":\"left\"},\"hovermode\":\"closest\",\"mapbox\":{\"style\":\"light\"},\"paper_bgcolor\":\"white\",\"plot_bgcolor\":\"#E5ECF6\",\"polar\":{\"angularaxis\":{\"gridcolor\":\"white\",\"linecolor\":\"white\",\"ticks\":\"\"},\"bgcolor\":\"#E5ECF6\",\"radialaxis\":{\"gridcolor\":\"white\",\"linecolor\":\"white\",\"ticks\":\"\"}},\"scene\":{\"xaxis\":{\"backgroundcolor\":\"#E5ECF6\",\"gridcolor\":\"white\",\"gridwidth\":2,\"linecolor\":\"white\",\"showbackground\":true,\"ticks\":\"\",\"zerolinecolor\":\"white\"},\"yaxis\":{\"backgroundcolor\":\"#E5ECF6\",\"gridcolor\":\"white\",\"gridwidth\":2,\"linecolor\":\"white\",\"showbackground\":true,\"ticks\":\"\",\"zerolinecolor\":\"white\"},\"zaxis\":{\"backgroundcolor\":\"#E5ECF6\",\"gridcolor\":\"white\",\"gridwidth\":2,\"linecolor\":\"white\",\"showbackground\":true,\"ticks\":\"\",\"zerolinecolor\":\"white\"}},\"shapedefaults\":{\"line\":{\"color\":\"#2a3f5f\"}},\"ternary\":{\"aaxis\":{\"gridcolor\":\"white\",\"linecolor\":\"white\",\"ticks\":\"\"},\"baxis\":{\"gridcolor\":\"white\",\"linecolor\":\"white\",\"ticks\":\"\"},\"bgcolor\":\"#E5ECF6\",\"caxis\":{\"gridcolor\":\"white\",\"linecolor\":\"white\",\"ticks\":\"\"}},\"title\":{\"x\":0.05},\"xaxis\":{\"automargin\":true,\"gridcolor\":\"white\",\"linecolor\":\"white\",\"ticks\":\"\",\"title\":{\"standoff\":15},\"zerolinecolor\":\"white\",\"zerolinewidth\":2},\"yaxis\":{\"automargin\":true,\"gridcolor\":\"white\",\"linecolor\":\"white\",\"ticks\":\"\",\"title\":{\"standoff\":15},\"zerolinecolor\":\"white\",\"zerolinewidth\":2}}},\"mapbox\":{\"domain\":{\"x\":[0.0,1.0],\"y\":[0.0,1.0]},\"center\":{\"lat\":46.972527472527474,\"lon\":3.021978021978022},\"zoom\":3,\"style\":\"carto-positron\"},\"coloraxis\":{\"colorbar\":{\"title\":{\"text\":\"Energie_fournie\"}},\"colorscale\":[[0,\"blue\"],[0.15,\"green\"],[0.3,\"yellow\"],[0.45,\"orange\"],[0.6,\"pink\"],[0.75,\"crimson\"],[1.0,\"red\"]],\"cmid\":176391.13583299032,\"cmin\":124886.65276667978,\"cmax\":237791.40372159227},\"legend\":{\"tracegroupgap\":0,\"itemsizing\":\"constant\"},\"margin\":{\"t\":60},\"updatemenus\":[{\"buttons\":[{\"args\":[null,{\"frame\":{\"duration\":500,\"redraw\":true},\"mode\":\"immediate\",\"fromcurrent\":true,\"transition\":{\"duration\":500,\"easing\":\"linear\"}}],\"label\":\"&#9654;\",\"method\":\"animate\"},{\"args\":[[null],{\"frame\":{\"duration\":0,\"redraw\":true},\"mode\":\"immediate\",\"fromcurrent\":true,\"transition\":{\"duration\":0,\"easing\":\"linear\"}}],\"label\":\"&#9724;\",\"method\":\"animate\"}],\"direction\":\"left\",\"pad\":{\"r\":10,\"t\":70},\"showactive\":false,\"type\":\"buttons\",\"x\":0.1,\"xanchor\":\"right\",\"y\":0,\"yanchor\":\"top\"}],\"sliders\":[{\"active\":0,\"currentvalue\":{\"prefix\":\"annee=\"},\"len\":0.9,\"pad\":{\"b\":10,\"t\":60},\"steps\":[{\"args\":[[\"2013\"],{\"frame\":{\"duration\":0,\"redraw\":true},\"mode\":\"immediate\",\"fromcurrent\":true,\"transition\":{\"duration\":0,\"easing\":\"linear\"}}],\"label\":\"2013\",\"method\":\"animate\"},{\"args\":[[\"2014\"],{\"frame\":{\"duration\":0,\"redraw\":true},\"mode\":\"immediate\",\"fromcurrent\":true,\"transition\":{\"duration\":0,\"easing\":\"linear\"}}],\"label\":\"2014\",\"method\":\"animate\"},{\"args\":[[\"2015\"],{\"frame\":{\"duration\":0,\"redraw\":true},\"mode\":\"immediate\",\"fromcurrent\":true,\"transition\":{\"duration\":0,\"easing\":\"linear\"}}],\"label\":\"2015\",\"method\":\"animate\"},{\"args\":[[\"2016\"],{\"frame\":{\"duration\":0,\"redraw\":true},\"mode\":\"immediate\",\"fromcurrent\":true,\"transition\":{\"duration\":0,\"easing\":\"linear\"}}],\"label\":\"2016\",\"method\":\"animate\"}],\"x\":0.1,\"xanchor\":\"left\",\"y\":0,\"yanchor\":\"top\"}]},                        {\"responsive\": true}                    ).then(function(){\n",
              "                            Plotly.addFrames('f3963d0d-09a9-4c2b-8360-fa5b9e47ef0e', [{\"data\":[{\"hovertemplate\":\"annee=2013<br>size=%{marker.size}<br>latitude=%{lat}<br>longitude=%{lon}<br>Energie_fournie=%{marker.color}<extra></extra>\",\"lat\":[41.0,41.5,42.0,42.5,43.0,43.5,41.0,41.5,42.0,42.5,43.0,50.5,52.0,41.0,41.5,42.0,42.5,43.0,48.0,48.5,50.5,51.0,52.0,52.5,41.0,41.5,42.0,42.5,43.0,48.0,48.5,51.0,52.0,52.5,41.0,41.5,42.0,42.5,43.0,47.0,47.5,48.0,48.5,51.0,51.5,52.0,52.5,41.0,41.5,42.0,42.5,43.0,43.5,44.0,44.5,45.0,46.0,46.5,47.0,47.5,48.0,48.5,49.0,51.0,51.5,52.0,52.5,41.0,41.5,42.0,42.5,43.0,43.5,44.0,44.5,45.0,45.5,46.0,46.5,47.0,47.5,48.0,48.5,49.0,51.0,51.5,52.0,52.5,41.5,42.0,42.5,43.0,43.5,44.0,44.5,45.0,45.5,46.0,46.5,47.0,47.5,48.0,48.5,49.0,49.5,52.0,52.5,41.5,42.0,42.5,43.0,43.5,44.0,44.5,45.0,45.5,46.0,46.5,47.0,47.5,48.0,48.5,49.0,49.5,50.0,50.5,42.0,42.5,43.0,43.5,44.0,44.5,45.0,45.5,46.0,46.5,47.0,47.5,48.0,48.5,49.0,49.5,50.0,50.5,51.0,44.0,44.5,45.0,45.5,46.0,46.5,47.0,47.5,48.0,48.5,49.0,49.5,50.0,50.5,51.0,51.5,43.5,44.0,44.5,45.0,45.5,46.0,46.5,47.0,47.5,48.0,48.5,49.0,49.5,50.0,50.5,51.0,51.5,52.0,52.5,43.5,44.0,44.5,45.0,45.5,46.0,46.5,47.0,47.5,48.0,48.5,49.0,49.5,50.0,50.5,51.0,51.5,52.0,52.5,44.0,44.5,45.0,45.5,46.0,46.5,47.0,47.5,48.0,48.5,49.0,49.5,50.0,50.5,51.0,51.5,52.0,52.5,44.0,44.5,45.0,45.5,46.0,46.5,47.0,47.5,48.0,48.5,49.0,49.5,50.0,50.5,51.0,51.5,52.0,52.5,41.0,41.5,42.0,42.5,44.5,45.0,45.5,46.0,46.5,47.0,47.5,48.0,48.5,49.0,49.5,50.0,50.5,51.0,51.5,52.0,52.5,44.5,45.0,45.5,46.0,46.5,47.0,47.5,48.0,48.5,49.0,49.5,50.0,50.5,51.0,51.5,52.0,52.5],\"legendgroup\":\"\",\"lon\":[-6,-6,-6,-6,-6,-6,-5,-5,-5,-5,-5,-5,-5,-4,-4,-4,-4,-4,-4,-4,-4,-4,-4,-4,-3,-3,-3,-3,-3,-3,-3,-3,-3,-3,-2,-2,-2,-2,-2,-2,-2,-2,-2,-2,-2,-2,-2,-1,-1,-1,-1,-1,-1,-1,-1,-1,-1,-1,-1,-1,-1,-1,-1,-1,-1,-1,-1,0,0,0,0,0,0,0,0,0,0,0,0,0,0,0,0,0,0,0,0,0,1,1,1,1,1,1,1,1,1,1,1,1,1,1,1,1,1,1,1,2,2,2,2,2,2,2,2,2,2,2,2,2,2,2,2,2,2,2,3,3,3,3,3,3,3,3,3,3,3,3,3,3,3,3,3,3,3,4,4,4,4,4,4,4,4,4,4,4,4,4,4,4,4,5,5,5,5,5,5,5,5,5,5,5,5,5,5,5,5,5,5,5,6,6,6,6,6,6,6,6,6,6,6,6,6,6,6,6,6,6,6,7,7,7,7,7,7,7,7,7,7,7,7,7,7,7,7,7,7,8,8,8,8,8,8,8,8,8,8,8,8,8,8,8,8,8,8,9,9,9,9,9,9,9,9,9,9,9,9,9,9,9,9,9,9,9,9,9,10,10,10,10,10,10,10,10,10,10,10,10,10,10,10,10,10],\"marker\":{\"color\":[228747.1440927508,226884.9510028968,224782.84513542376,221051.66293479176,195056.5813454508,168939.92649291377,228651.81469895627,225135.01729330575,223247.67622919928,218435.28681656427,191444.03408511527,148596.8236161933,147230.22461412248,203032.0208098068,216035.09746856327,214562.21438830727,205346.64697950776,180157.35110555627,165707.67323678377,153649.19935645728,147170.19123389228,146359.47889366627,138457.44174969147,138862.083258874,225149.47232193776,215857.34057856177,199407.70432203775,187417.5988535068,170703.10901097278,165353.00283022877,158774.38838078777,151353.02565843178,140081.56816717747,136416.10290048047,214881.94976594576,216142.9475257268,203672.04931932627,204611.53056539327,144930.37890852976,177886.40873846126,170861.52837751177,166139.63980051476,162596.17438707178,147682.82622275778,145214.54917883276,140750.4711847895,136933.64612668,215156.58918078628,220082.53367969376,226297.73017472375,207550.70419334227,179549.43085290227,174798.92274118078,177121.06327023677,182566.33948642027,179978.1648936938,182781.78707904628,178441.71621729527,169785.82025458978,169011.19032343628,165629.65138617577,157465.3122053033,154010.53707141877,151408.06558258177,144287.67317864628,142103.81098212546,141710.09164942798,221132.8842108348,234234.5632388308,236747.49617132728,205869.77387729977,159644.62964744077,183271.0699397368,179157.35904042877,182675.41905458423,180007.67070603877,176714.62468914327,176131.32039900278,172244.28572718077,169194.33842917078,165916.22061263828,164323.83960530176,160293.55893400378,152957.89545746628,153251.84542743227,143123.26864699827,144309.61746036448,144159.4062749415,228917.77889011728,226781.38523381576,182718.74491380827,161494.7605356548,184432.79479935375,185522.48600501023,180974.70378585177,175961.34510005926,171829.19889074477,167393.01042425877,167275.19679240728,167042.78856747528,161949.94683754278,161425.33177788177,158955.79089961827,155867.79618143526,151711.6873788628,149234.82033000447,145427.61193570247,224062.8273125288,217643.2059197048,196656.86530136177,180768.96602037927,174244.47334579678,183929.15865421176,178733.87769618476,169985.71814926827,167426.60929466027,159429.97639492276,162206.35933407178,167281.67041912078,155931.58978260876,159470.89103965228,161202.48260258278,157263.78150040278,153159.57693988728,150429.05365780677,147826.34067977028,209327.08893819628,197914.02620228776,202978.67989088775,201847.6008687708,177657.62285152177,177706.04695227227,169929.52103829428,159132.06330525127,166924.16833718077,163894.66303861677,162774.21812211227,162065.53680742526,160977.94300288727,162250.44153256528,158237.42427444778,154029.0018014293,153174.87166446677,149547.6438221353,149633.0942237533,205032.23049342577,178912.69248049677,160026.4559435213,163149.01794057075,166966.39584958876,164712.44598647076,159758.26931622476,157850.41392849578,157011.58832278076,160779.99418347378,157430.42130639276,155702.87376817878,149360.59511420378,148832.22655236578,147901.42298164527,148494.33167725828,222693.1397996368,219510.53157442328,196445.00817505727,188083.28160651427,177470.50672274778,173330.56298653976,164057.71850745278,163591.78287160327,158100.43615498926,151597.64563669078,152255.66815615678,151296.64712409978,148939.71744031378,142717.49079016128,144531.14455091578,149095.71946319076,143485.41908957026,143906.65411724348,143319.59142159196,213835.2914453068,214943.8028726888,207045.55782132823,156181.46858658278,177313.18692885828,174742.83350355478,155379.87889926377,147030.47686072977,160416.19009151027,157818.97252505427,153423.34934075028,155105.45890861977,150521.60040955627,145564.44986723928,138408.1442192543,146557.49635975578,145804.81497741977,143447.38211229997,139541.09082202648,194571.96155539423,166087.70613845377,153051.00486679227,139810.07360486328,142013.3131877533,162243.76564332427,169344.77761962477,157994.53885059129,141466.90526012928,145513.37796612878,152582.24736222578,150073.06057690526,145688.15608072528,141127.27092728528,143040.98579914428,140568.99938304827,142603.96821179448,141020.20726563,204079.46856721977,189458.55524266575,193460.3892217628,192200.52903546975,137961.5179126968,150233.4143087073,142418.53329034778,158220.37783379678,142567.78709980726,151733.53908683377,156239.46522113477,148304.39490560078,154544.38878650227,150420.12100909228,137143.33289145475,136288.01737349777,141573.62941254096,139363.86349209698,204775.8327068988,222472.06930874623,193609.87839125423,183117.1150588048,179430.41835588778,188073.80346189227,191091.0344896208,170108.27207926428,159025.84605830978,141138.82808552327,154291.8805696708,156496.2221768773,152919.07576218827,151807.88098527477,148448.8814485788,151019.96179314778,147296.56486107426,142962.11322008728,140533.80447742977,138029.068103949,141225.2217893375,164110.34476544126,189655.5883644548,189469.81452336328,166223.97837114826,144019.23035214827,124886.65276667978,145116.69824552877,154632.9809993808,152462.69304680428,148240.44930107327,150630.04009263328,151466.35028800627,141332.12118930378,141775.6608471083,140807.61400299077,138480.4334828175,142786.73263164348],\"coloraxis\":\"coloraxis\",\"size\":[50,50,50,50,50,50,50,50,50,50,50,50,50,50,50,50,50,50,50,50,50,50,50,50,50,50,50,50,50,50,50,50,50,50,50,50,50,50,50,50,50,50,50,50,50,50,50,50,50,50,50,50,50,50,50,50,50,50,50,50,50,50,50,50,50,50,50,50,50,50,50,50,50,50,50,50,50,50,50,50,50,50,50,50,50,50,50,50,50,50,50,50,50,50,50,50,50,50,50,50,50,50,50,50,50,50,50,50,50,50,50,50,50,50,50,50,50,50,50,50,50,50,50,50,50,50,50,50,50,50,50,50,50,50,50,50,50,50,50,50,50,50,50,50,50,50,50,50,50,50,50,50,50,50,50,50,50,50,50,50,50,50,50,50,50,50,50,50,50,50,50,50,50,50,50,50,50,50,50,50,50,50,50,50,50,50,50,50,50,50,50,50,50,50,50,50,50,50,50,50,50,50,50,50,50,50,50,50,50,50,50,50,50,50,50,50,50,50,50,50,50,50,50,50,50,50,50,50,50,50,50,50,50,50,50,50,50,50,50,50,50,50,50,50,50,50,50,50,50,50,50,50,50,50,50,50,50,50,50,50,50,50,50,50,50,50,50,50,50,50,50,50,50],\"sizemode\":\"area\",\"sizeref\":0.125},\"mode\":\"markers\",\"name\":\"\",\"showlegend\":false,\"subplot\":\"mapbox\",\"type\":\"scattermapbox\"}],\"name\":\"2013\"},{\"data\":[{\"hovertemplate\":\"annee=2014<br>size=%{marker.size}<br>latitude=%{lat}<br>longitude=%{lon}<br>Energie_fournie=%{marker.color}<extra></extra>\",\"lat\":[41.0,41.5,42.0,42.5,43.0,43.5,41.0,41.5,42.0,42.5,43.0,50.5,52.0,41.0,41.5,42.0,42.5,43.0,48.0,48.5,50.5,51.0,52.0,52.5,41.0,41.5,42.0,42.5,43.0,48.0,48.5,51.0,52.0,52.5,41.0,41.5,42.0,42.5,43.0,47.0,47.5,48.0,48.5,51.0,51.5,52.0,52.5,41.0,41.5,42.0,42.5,43.0,43.5,44.0,44.5,45.0,46.0,46.5,47.0,47.5,48.0,48.5,49.0,51.0,51.5,52.0,52.5,41.0,41.5,42.0,42.5,43.0,43.5,44.0,44.5,45.0,45.5,46.0,46.5,47.0,47.5,48.0,48.5,49.0,51.0,51.5,52.0,52.5,41.5,42.0,42.5,43.0,43.5,44.0,44.5,45.0,45.5,46.0,46.5,47.0,47.5,48.0,48.5,49.0,49.5,52.0,52.5,41.5,42.0,42.5,43.0,43.5,44.0,44.5,45.0,45.5,46.0,46.5,47.0,47.5,48.0,48.5,49.0,49.5,50.0,50.5,42.0,42.5,43.0,43.5,44.0,44.5,45.0,45.5,46.0,46.5,47.0,47.5,48.0,48.5,49.0,49.5,50.0,50.5,51.0,44.0,44.5,45.0,45.5,46.0,46.5,47.0,47.5,48.0,48.5,49.0,49.5,50.0,50.5,51.0,51.5,43.5,44.0,44.5,45.0,45.5,46.0,46.5,47.0,47.5,48.0,48.5,49.0,49.5,50.0,50.5,51.0,51.5,52.0,52.5,43.5,44.0,44.5,45.0,45.5,46.0,46.5,47.0,47.5,48.0,48.5,49.0,49.5,50.0,50.5,51.0,51.5,52.0,52.5,44.0,44.5,45.0,45.5,46.0,46.5,47.0,47.5,48.0,48.5,49.0,49.5,50.0,50.5,51.0,51.5,52.0,52.5,44.0,44.5,45.0,45.5,46.0,46.5,47.0,47.5,48.0,48.5,49.0,49.5,50.0,50.5,51.0,51.5,52.0,52.5,41.0,41.5,42.0,42.5,44.5,45.0,45.5,46.0,46.5,47.0,47.5,48.0,48.5,49.0,49.5,50.0,50.5,51.0,51.5,52.0,52.5,44.5,45.0,45.5,46.0,46.5,47.0,47.5,48.0,48.5,49.0,49.5,50.0,50.5,51.0,51.5,52.0,52.5],\"legendgroup\":\"\",\"lon\":[-6,-6,-6,-6,-6,-6,-5,-5,-5,-5,-5,-5,-5,-4,-4,-4,-4,-4,-4,-4,-4,-4,-4,-4,-3,-3,-3,-3,-3,-3,-3,-3,-3,-3,-2,-2,-2,-2,-2,-2,-2,-2,-2,-2,-2,-2,-2,-1,-1,-1,-1,-1,-1,-1,-1,-1,-1,-1,-1,-1,-1,-1,-1,-1,-1,-1,-1,0,0,0,0,0,0,0,0,0,0,0,0,0,0,0,0,0,0,0,0,0,1,1,1,1,1,1,1,1,1,1,1,1,1,1,1,1,1,1,1,2,2,2,2,2,2,2,2,2,2,2,2,2,2,2,2,2,2,2,3,3,3,3,3,3,3,3,3,3,3,3,3,3,3,3,3,3,3,4,4,4,4,4,4,4,4,4,4,4,4,4,4,4,4,5,5,5,5,5,5,5,5,5,5,5,5,5,5,5,5,5,5,5,6,6,6,6,6,6,6,6,6,6,6,6,6,6,6,6,6,6,6,7,7,7,7,7,7,7,7,7,7,7,7,7,7,7,7,7,7,8,8,8,8,8,8,8,8,8,8,8,8,8,8,8,8,8,8,9,9,9,9,9,9,9,9,9,9,9,9,9,9,9,9,9,9,9,9,9,10,10,10,10,10,10,10,10,10,10,10,10,10,10,10,10,10],\"marker\":{\"color\":[232396.14396387577,229602.43999737175,228204.71522066777,225202.2346474448,199081.12879346928,180754.36634339427,236119.81057931928,234294.12771442925,232336.68736162529,225126.7478205148,197100.31302165377,159314.10693500226,153520.2386309915,210358.8864793148,225995.48866696376,225353.43017716828,217899.4406703763,196046.0300166448,173971.03402195277,165740.47041207628,153911.1538462398,153896.96727514427,145714.63349472647,142720.50820263947,231679.00684970577,222074.88454474427,207413.97717641928,202348.52669604428,187179.9146411908,177588.36693627227,170767.54494890026,160212.0532645888,150551.81171239848,145780.99521708247,222842.27592908024,222999.63004630775,213673.0989632548,213124.46369616129,153665.3362286513,191864.2314214128,186058.4682187168,177479.78015317526,174294.66755012126,161526.0707749118,156970.94703892176,153262.00454588147,148009.39748422697,223420.75166106428,227670.5680797108,227876.06435598375,212757.6906354608,184954.41759944128,184112.89761169328,186899.6633605873,194519.7104024568,191561.05460269228,197267.27154435377,191594.3274013828,183175.38382839377,183026.0442105893,177411.74884559226,169582.53660778428,167322.26144380626,164309.13450663578,157310.9393151478,156067.54883816198,152162.71628975347,227960.49608996327,232400.4552202953,235518.32840420728,202983.1688931648,169383.69660741626,192465.01487142977,190543.87880356176,194015.98354563577,190193.4289417473,190032.80430074176,189177.03032105576,187033.3772787673,184579.99288603375,180096.94570817676,176930.14950927978,170047.85810105028,163377.65427582327,166614.90035179877,158011.5387095693,155265.67353163747,153335.41971419647,228440.99707945975,227145.03732242525,188367.2618726248,171887.69934286526,198430.43062916576,197555.29706101428,192004.27309211975,187678.48931981128,184374.9133931508,181428.7010292448,183773.6518680688,181980.0073875348,178191.86928499228,177473.91699154477,170049.26413207478,166518.91758874877,161381.91765864578,160681.44025797548,153743.73504637848,226317.39131823028,217677.94971859528,204331.17631477577,193195.26840404977,191814.70652217927,197035.8317278868,191278.4533992693,184281.3577804308,179300.60258823776,178097.18835711927,182111.2500253788,181591.25513217927,174751.08949217727,175157.28413240428,172682.58494677278,167806.72432717477,162997.77950667476,160471.59531404328,158908.48721068678,213238.95041589375,201820.05639002577,210062.46890651327,207277.90230291823,188935.64776907023,188276.2707035868,183560.72336328527,173695.98885622376,181335.87723912427,183040.48452921928,180211.3650070668,177387.29469310076,176765.10451267328,173534.04031503826,170065.58242762677,164402.0220400983,162917.50334826027,157455.00539723528,160457.73236299178,206678.03087302527,181387.59392865576,177986.47843040028,182374.58235201528,182091.66365771575,182187.33260738975,174772.20202254778,177389.84687844777,174020.17033196677,175890.32153290277,172177.84432564728,169675.84460213728,159391.27315382726,158185.45138571478,156605.77736843927,158496.23695296978,224227.1723582068,220908.70623202177,198117.81366666176,198089.44787947176,189588.16507028777,191754.9949465608,185916.19430520627,183423.9509905228,175657.95498630978,170099.47182056776,168257.29291426827,165457.05035187528,163587.78297689278,153715.05726124477,157230.51850838028,159742.95865580978,153341.26262625627,154759.56488032598,151574.36646892698,215437.9706798768,216706.89345323527,208274.91559264075,168884.48817287627,187861.55284303427,186416.2681781973,162993.69870695326,162095.69966652629,176533.76153705278,174857.65487583278,169914.1257953678,166381.73088426326,162879.08082303626,156418.40381463026,149803.93986448177,157287.81028866977,153834.93642254375,152790.66666179747,148797.8842372645,197670.30108248373,169940.11591723477,158405.24333226477,155081.70838455728,157007.99417895876,168518.05221638829,181667.7140450748,170906.75918199477,151790.7855112838,159853.6023875198,170459.69157537728,163103.62042273176,158857.05736619426,151871.60716560576,154754.44761506226,150317.54571347928,150162.01136940048,149217.30929845697,205837.37877539528,191744.0151559013,195465.9803144468,193516.0506434973,142399.88345947876,157317.71817440278,147519.90436977328,169324.10761514778,154282.3092617028,167701.18986949278,173070.35776116178,161274.43412569878,165903.64601259527,160853.09186091227,147914.66933844629,146373.62378642277,153085.76278608598,150830.23404942,216445.6646568848,226532.98355920927,202738.52439823575,191144.00888432327,179460.76631584726,193153.6317433888,195877.55268623828,172802.78527644876,160919.38125909178,147090.46670055276,167580.86327896628,167231.75447900078,165685.30300124228,169207.47568679028,163671.65327912927,163562.22189675077,158512.96590274427,153679.96532564028,150242.13243655927,149987.25899730748,152841.23597117298,168213.70472667526,196587.84106864376,197461.72428662528,169736.7440104173,147664.92660199077,128393.71950600728,149049.10469268626,166111.2347866528,162900.37845426527,164124.24203983077,166539.81927575727,165031.23624648078,152622.94626025928,153482.45535461977,153061.7995565933,149957.79486330147,151088.52942620497],\"coloraxis\":\"coloraxis\",\"size\":[50,50,50,50,50,50,50,50,50,50,50,50,50,50,50,50,50,50,50,50,50,50,50,50,50,50,50,50,50,50,50,50,50,50,50,50,50,50,50,50,50,50,50,50,50,50,50,50,50,50,50,50,50,50,50,50,50,50,50,50,50,50,50,50,50,50,50,50,50,50,50,50,50,50,50,50,50,50,50,50,50,50,50,50,50,50,50,50,50,50,50,50,50,50,50,50,50,50,50,50,50,50,50,50,50,50,50,50,50,50,50,50,50,50,50,50,50,50,50,50,50,50,50,50,50,50,50,50,50,50,50,50,50,50,50,50,50,50,50,50,50,50,50,50,50,50,50,50,50,50,50,50,50,50,50,50,50,50,50,50,50,50,50,50,50,50,50,50,50,50,50,50,50,50,50,50,50,50,50,50,50,50,50,50,50,50,50,50,50,50,50,50,50,50,50,50,50,50,50,50,50,50,50,50,50,50,50,50,50,50,50,50,50,50,50,50,50,50,50,50,50,50,50,50,50,50,50,50,50,50,50,50,50,50,50,50,50,50,50,50,50,50,50,50,50,50,50,50,50,50,50,50,50,50,50,50,50,50,50,50,50,50,50,50,50,50,50,50,50,50,50,50,50],\"sizemode\":\"area\",\"sizeref\":0.125},\"mode\":\"markers\",\"name\":\"\",\"showlegend\":false,\"subplot\":\"mapbox\",\"type\":\"scattermapbox\"}],\"name\":\"2014\"},{\"data\":[{\"hovertemplate\":\"annee=2015<br>size=%{marker.size}<br>latitude=%{lat}<br>longitude=%{lon}<br>Energie_fournie=%{marker.color}<extra></extra>\",\"lat\":[41.0,41.5,42.0,42.5,43.0,43.5,41.0,41.5,42.0,42.5,43.0,50.5,52.0,41.0,41.5,42.0,42.5,43.0,48.0,48.5,50.5,51.0,52.0,52.5,41.0,41.5,42.0,42.5,43.0,48.0,48.5,51.0,52.0,52.5,41.0,41.5,42.0,42.5,43.0,47.0,47.5,48.0,48.5,51.0,51.5,52.0,52.5,41.0,41.5,42.0,42.5,43.0,43.5,44.0,44.5,45.0,46.0,46.5,47.0,47.5,48.0,48.5,49.0,51.0,51.5,52.0,52.5,41.0,41.5,42.0,42.5,43.0,43.5,44.0,44.5,45.0,45.5,46.0,46.5,47.0,47.5,48.0,48.5,49.0,51.0,51.5,52.0,52.5,41.5,42.0,42.5,43.0,43.5,44.0,44.5,45.0,45.5,46.0,46.5,47.0,47.5,48.0,48.5,49.0,49.5,52.0,52.5,41.5,42.0,42.5,43.0,43.5,44.0,44.5,45.0,45.5,46.0,46.5,47.0,47.5,48.0,48.5,49.0,49.5,50.0,50.5,42.0,42.5,43.0,43.5,44.0,44.5,45.0,45.5,46.0,46.5,47.0,47.5,48.0,48.5,49.0,49.5,50.0,50.5,51.0,44.0,44.5,45.0,45.5,46.0,46.5,47.0,47.5,48.0,48.5,49.0,49.5,50.0,50.5,51.0,51.5,43.5,44.0,44.5,45.0,45.5,46.0,46.5,47.0,47.5,48.0,48.5,49.0,49.5,50.0,50.5,51.0,51.5,52.0,52.5,43.5,44.0,44.5,45.0,45.5,46.0,46.5,47.0,47.5,48.0,48.5,49.0,49.5,50.0,50.5,51.0,51.5,52.0,52.5,44.0,44.5,45.0,45.5,46.0,46.5,47.0,47.5,48.0,48.5,49.0,49.5,50.0,50.5,51.0,51.5,52.0,52.5,44.0,44.5,45.0,45.5,46.0,46.5,47.0,47.5,48.0,48.5,49.0,49.5,50.0,50.5,51.0,51.5,52.0,52.5,41.0,41.5,42.0,42.5,44.5,45.0,45.5,46.0,46.5,47.0,47.5,48.0,48.5,49.0,49.5,50.0,50.5,51.0,51.5,52.0,52.5,44.5,45.0,45.5,46.0,46.5,47.0,47.5,48.0,48.5,49.0,49.5,50.0,50.5,51.0,51.5,52.0,52.5],\"legendgroup\":\"\",\"lon\":[-6,-6,-6,-6,-6,-6,-5,-5,-5,-5,-5,-5,-5,-4,-4,-4,-4,-4,-4,-4,-4,-4,-4,-4,-3,-3,-3,-3,-3,-3,-3,-3,-3,-3,-2,-2,-2,-2,-2,-2,-2,-2,-2,-2,-2,-2,-2,-1,-1,-1,-1,-1,-1,-1,-1,-1,-1,-1,-1,-1,-1,-1,-1,-1,-1,-1,-1,0,0,0,0,0,0,0,0,0,0,0,0,0,0,0,0,0,0,0,0,0,1,1,1,1,1,1,1,1,1,1,1,1,1,1,1,1,1,1,1,2,2,2,2,2,2,2,2,2,2,2,2,2,2,2,2,2,2,2,3,3,3,3,3,3,3,3,3,3,3,3,3,3,3,3,3,3,3,4,4,4,4,4,4,4,4,4,4,4,4,4,4,4,4,5,5,5,5,5,5,5,5,5,5,5,5,5,5,5,5,5,5,5,6,6,6,6,6,6,6,6,6,6,6,6,6,6,6,6,6,6,6,7,7,7,7,7,7,7,7,7,7,7,7,7,7,7,7,7,7,8,8,8,8,8,8,8,8,8,8,8,8,8,8,8,8,8,8,9,9,9,9,9,9,9,9,9,9,9,9,9,9,9,9,9,9,9,9,9,10,10,10,10,10,10,10,10,10,10,10,10,10,10,10,10,10],\"marker\":{\"color\":[234892.48646578327,229951.50344149777,227676.7597647193,226643.93620096127,204190.91031653827,173262.73271565078,235241.41506822428,233916.7291289508,231563.61546485027,228802.90603283228,203805.20548326377,155455.88915709828,153101.0697690005,216518.91311184375,229471.4143320573,229629.5076268853,217743.33567748527,194129.81076694527,168303.00424548326,159023.65671967878,151123.8855056108,152679.95977634427,144235.74505615397,140036.44523604246,237791.40372159227,224767.7747383748,213558.87212022423,202977.7494832613,184629.01151603175,170752.02467095677,164133.4505010828,154092.97560012728,150464.62675637798,148438.22591419797,227509.2778111148,228455.77205063528,218814.98261402175,218149.4114118628,157845.51672366328,186207.46215147423,179109.20830054878,174097.05828658727,172030.23926224528,153627.42119849627,151245.3312821228,149327.58037678298,146174.80893895947,227904.77705405423,231929.77193130023,233244.46487588176,224299.5357613788,195560.3400739428,188566.01116131377,190837.09204759428,194988.99256376128,191494.9711445408,194452.83137836377,189471.61404694128,182964.04400382628,181333.11666208223,177102.01994681428,169119.84697904278,165097.58571050176,157890.05615805226,152046.55567105877,150676.855310233,151775.41174376148,230242.02107766373,232751.97033142127,236823.02957993027,211176.11657626028,179321.40007939877,194403.55777499775,195166.2051836888,196281.5616653348,192798.40726009177,191000.42823230175,188513.73794337327,187484.2253558988,185392.23506646775,179882.53394485827,177697.60218529077,172207.85763306127,166747.68386235228,162511.40800054677,152703.26164534577,151510.03472684696,151935.702958055,230724.60720994376,233006.65195104823,204042.25593966027,172716.42040303978,197797.66027979975,202168.02026150227,198193.76998782228,193290.1405619488,191254.4074493333,185102.22860287127,186394.87248028824,183276.42560629823,180510.92561696228,179608.33215257726,174464.85859576077,172879.26870601426,165760.85847484827,155729.65518888796,152120.20070647297,233917.61540657128,228597.9650591348,213994.5321202908,197106.22521662427,194964.34227790975,202108.66540343227,201812.96126572776,197812.8128076933,192056.2055283473,182571.66450714428,184212.13986601977,187394.0383336368,176832.47264433277,177191.08900892426,178557.45451303126,173787.66281452126,168712.45224781928,166427.07569126177,161757.9396331038,224435.7209598948,215931.2215636068,215647.7058883928,216550.24909360427,196351.05416644976,201852.53117110775,195793.10011308928,183786.88964403528,189515.98921964128,188411.93737453228,184941.47157184777,182772.02454105223,178879.55452349127,178035.2531195318,175877.49808865928,169877.20491618128,166972.03100618828,161839.20013581877,161655.56782585176,219850.74817817973,196759.5926003288,188117.9861787328,191240.9784433408,190458.3916269388,187483.52295330327,181096.24640321027,180440.4034157073,180059.10667969877,180631.65673254375,178200.43908699078,173453.19536987977,163297.64780077877,162702.57918653876,160223.41306363328,161561.48387889328,230797.2525548208,228695.53037323325,207401.1218605048,204362.23280649827,198764.9189129768,197631.3220288508,191704.1915029868,189500.1722899908,182440.9845268768,173846.83379756627,172000.08130647827,168826.85928837428,166882.73884238128,158905.60895362878,161815.56851760577,163588.72686868778,158274.24340945375,158065.37795312397,153639.18738466396,223804.30515654627,224880.37857785125,219553.22245189428,180657.0817451673,196085.8892187308,193031.10110422928,179996.48007201726,173731.33208769577,183502.23639533328,178920.66897908127,173960.54456469326,169874.56079332178,166964.97388272878,159338.58192666326,153069.09081425128,161842.1740078898,159229.67765268977,156796.45150226497,150906.28598559348,207912.5788233768,181894.17330003128,166167.72364599977,164811.69804746527,165452.19482538177,180262.3645840008,187092.99569103977,181048.34328169728,161688.1014469418,165674.99374150726,170564.19755875278,163376.14159728427,160682.55758189276,155939.28924282227,157057.46881901877,155240.19394610528,154400.94728990097,151777.4883057105,216873.0098283208,202678.87534012576,207181.92444320227,204747.0158129808,154250.01590397878,167990.53438299926,155914.95522201378,178675.75602661577,163055.60329870327,172681.18504491576,173929.82027384927,163511.25786898826,167232.40662242277,164389.08949667326,152536.84616688627,153252.59318586727,155499.78689096798,151428.16253321548,219950.6070267568,232282.3142908993,214989.6637555908,194916.1253430208,195207.53661180823,204944.7035298588,206772.07681914527,187846.8857452068,173707.40136610877,157765.60708946528,175462.40757472278,176563.17173438478,171629.10241103926,169905.68225421978,165407.49725847127,166926.88478421676,162454.76100867827,159620.74428169327,155352.31971051678,152876.61842931696,152862.29579070298,187120.7706264828,205539.65078658224,207250.13962581023,181360.21371159976,158704.81865216227,136768.16164544577,163051.67940566977,173098.72232251827,170247.71554322328,167734.74583572178,168558.73150108577,169074.55610871827,160014.58742357427,161423.99194186626,159703.73198380976,153098.83630036347,153795.35489506347],\"coloraxis\":\"coloraxis\",\"size\":[50,50,50,50,50,50,50,50,50,50,50,50,50,50,50,50,50,50,50,50,50,50,50,50,50,50,50,50,50,50,50,50,50,50,50,50,50,50,50,50,50,50,50,50,50,50,50,50,50,50,50,50,50,50,50,50,50,50,50,50,50,50,50,50,50,50,50,50,50,50,50,50,50,50,50,50,50,50,50,50,50,50,50,50,50,50,50,50,50,50,50,50,50,50,50,50,50,50,50,50,50,50,50,50,50,50,50,50,50,50,50,50,50,50,50,50,50,50,50,50,50,50,50,50,50,50,50,50,50,50,50,50,50,50,50,50,50,50,50,50,50,50,50,50,50,50,50,50,50,50,50,50,50,50,50,50,50,50,50,50,50,50,50,50,50,50,50,50,50,50,50,50,50,50,50,50,50,50,50,50,50,50,50,50,50,50,50,50,50,50,50,50,50,50,50,50,50,50,50,50,50,50,50,50,50,50,50,50,50,50,50,50,50,50,50,50,50,50,50,50,50,50,50,50,50,50,50,50,50,50,50,50,50,50,50,50,50,50,50,50,50,50,50,50,50,50,50,50,50,50,50,50,50,50,50,50,50,50,50,50,50,50,50,50,50,50,50,50,50,50,50,50,50],\"sizemode\":\"area\",\"sizeref\":0.125},\"mode\":\"markers\",\"name\":\"\",\"showlegend\":false,\"subplot\":\"mapbox\",\"type\":\"scattermapbox\"}],\"name\":\"2015\"},{\"data\":[{\"hovertemplate\":\"annee=2016<br>size=%{marker.size}<br>latitude=%{lat}<br>longitude=%{lon}<br>Energie_fournie=%{marker.color}<extra></extra>\",\"lat\":[41.0,41.5,42.0,42.5,43.0,43.5,41.0,41.5,42.0,42.5,43.0,50.5,52.0,41.0,41.5,42.0,42.5,43.0,48.0,48.5,50.5,51.0,52.0,52.5,41.0,41.5,42.0,42.5,43.0,48.0,48.5,51.0,52.0,52.5,41.0,41.5,42.0,42.5,43.0,47.0,47.5,48.0,48.5,51.0,51.5,52.0,52.5,41.0,41.5,42.0,42.5,43.0,43.5,44.0,44.5,45.0,46.0,46.5,47.0,47.5,48.0,48.5,49.0,51.0,51.5,52.0,52.5,41.0,41.5,42.0,42.5,43.0,43.5,44.0,44.5,45.0,45.5,46.0,46.5,47.0,47.5,48.0,48.5,49.0,51.0,51.5,52.0,52.5,41.5,42.0,42.5,43.0,43.5,44.0,44.5,45.0,45.5,46.0,46.5,47.0,47.5,48.0,48.5,49.0,49.5,52.0,52.5,41.5,42.0,42.5,43.0,43.5,44.0,44.5,45.0,45.5,46.0,46.5,47.0,47.5,48.0,48.5,49.0,49.5,50.0,50.5,42.0,42.5,43.0,43.5,44.0,44.5,45.0,45.5,46.0,46.5,47.0,47.5,48.0,48.5,49.0,49.5,50.0,50.5,51.0,44.0,44.5,45.0,45.5,46.0,46.5,47.0,47.5,48.0,48.5,49.0,49.5,50.0,50.5,51.0,51.5,43.5,44.0,44.5,45.0,45.5,46.0,46.5,47.0,47.5,48.0,48.5,49.0,49.5,50.0,50.5,51.0,51.5,52.0,52.5,43.5,44.0,44.5,45.0,45.5,46.0,46.5,47.0,47.5,48.0,48.5,49.0,49.5,50.0,50.5,51.0,51.5,52.0,52.5,44.0,44.5,45.0,45.5,46.0,46.5,47.0,47.5,48.0,48.5,49.0,49.5,50.0,50.5,51.0,51.5,52.0,52.5,44.0,44.5,45.0,45.5,46.0,46.5,47.0,47.5,48.0,48.5,49.0,49.5,50.0,50.5,51.0,51.5,52.0,52.5,41.0,41.5,42.0,42.5,44.5,45.0,45.5,46.0,46.5,47.0,47.5,48.0,48.5,49.0,49.5,50.0,50.5,51.0,51.5,52.0,52.5,44.5,45.0,45.5,46.0,46.5,47.0,47.5,48.0,48.5,49.0,49.5,50.0,50.5,51.0,51.5,52.0,52.5],\"legendgroup\":\"\",\"lon\":[-6,-6,-6,-6,-6,-6,-5,-5,-5,-5,-5,-5,-5,-4,-4,-4,-4,-4,-4,-4,-4,-4,-4,-4,-3,-3,-3,-3,-3,-3,-3,-3,-3,-3,-2,-2,-2,-2,-2,-2,-2,-2,-2,-2,-2,-2,-2,-1,-1,-1,-1,-1,-1,-1,-1,-1,-1,-1,-1,-1,-1,-1,-1,-1,-1,-1,-1,0,0,0,0,0,0,0,0,0,0,0,0,0,0,0,0,0,0,0,0,0,1,1,1,1,1,1,1,1,1,1,1,1,1,1,1,1,1,1,1,2,2,2,2,2,2,2,2,2,2,2,2,2,2,2,2,2,2,2,3,3,3,3,3,3,3,3,3,3,3,3,3,3,3,3,3,3,3,4,4,4,4,4,4,4,4,4,4,4,4,4,4,4,4,5,5,5,5,5,5,5,5,5,5,5,5,5,5,5,5,5,5,5,6,6,6,6,6,6,6,6,6,6,6,6,6,6,6,6,6,6,6,7,7,7,7,7,7,7,7,7,7,7,7,7,7,7,7,7,7,8,8,8,8,8,8,8,8,8,8,8,8,8,8,8,8,8,8,9,9,9,9,9,9,9,9,9,9,9,9,9,9,9,9,9,9,9,9,9,10,10,10,10,10,10,10,10,10,10,10,10,10,10,10,10,10],\"marker\":{\"color\":[224586.02029346267,223986.38177193468,206310.3934878402,205690.3595485392,184969.13361874167,181924.2036572472,229682.19874218217,230482.31007430016,230835.6467740072,223548.3461065452,188410.74330083615,157634.12897972218,152326.66293017342,228965.7799664432,227594.45228832815,227364.40869621767,223794.20785413968,191729.4644003892,163292.16821316667,164891.61860229768,154592.89613206367,148845.02536807218,144640.88547020045,148932.07622113894,227960.8171464732,225942.61713040815,222946.58321556167,215926.78393446968,192944.6331489392,165529.1733798142,164645.03238710467,141520.24851884818,132535.97211355992,130222.23099564594,225489.1506729207,221788.4843714377,207820.25383562368,212537.8348337017,165094.57985489268,185021.1714766502,175500.7098563967,169683.79647218468,172672.4631276962,146918.23820776917,147434.48450212568,147818.49106890045,144290.12792417745,221321.4969704452,218621.7555933832,222116.00624346815,223586.8875376187,190689.8644290432,196658.6046472312,195776.2545972652,195049.3868167722,193648.2125445992,181042.93601826168,179051.39910665518,173829.42194666518,171372.98645435018,164549.4002124357,165457.30153587568,163734.98830670668,149653.49320715968,147557.8879347372,148200.19723329795,144890.75201583945,234367.0916641492,236218.62858338768,231444.08310256468,212744.6341709852,181833.3767498982,186633.07755997468,191881.20420018668,190240.5915479592,186550.8278096252,178672.5172626417,178961.60067361267,175834.1659884007,174253.90357104517,169043.1305292452,159845.20286451068,163080.30005436068,165966.0506325462,151318.75124190468,151148.27702872668,149913.72001043844,150211.99594682595,235798.55873377417,233808.8728307527,212231.27716618817,187560.2048560287,193288.8606799077,192955.20105954268,189960.5952407237,185498.77214408567,177505.4686081342,174368.07402573468,174445.89238798167,173557.4536230212,171354.7141801992,163991.94384747618,163243.57494739318,161861.6805845082,166122.56137632567,152276.56066336142,147844.37331741943,229947.8356357987,224563.3999878872,219083.7011411902,195458.3947448817,193894.1380355357,190630.4960868047,187010.6060838042,185517.62791498267,175339.58139782268,174434.7127864617,174336.09815888718,171162.26690153367,171110.67892451969,161170.0555171402,162180.96608125218,156933.7821070017,159410.91947546467,163936.83895415068,161277.7744101192,218526.5549121062,206560.5468785182,194162.0353661262,189117.4865727597,187481.1104011082,184118.01290302168,184282.7489895862,165989.4199223902,172117.5442380817,170804.33700370218,169240.4737869097,168711.71050668467,163187.8203623127,159256.69981449668,155913.9143775052,159981.8305889202,158504.85812810817,165258.54611801918,165369.42275809418,194495.3762697812,175019.0529059097,176643.4821042702,173245.6898406332,172081.1087889612,170792.7933296327,167151.8435071022,166338.4833665162,160011.14271957218,160930.53745790818,158937.3432194097,157608.9258429622,158132.72204584518,164452.12051754267,165324.4775728167,164638.2155270112,216428.6082976987,207061.3023149352,188530.1125153992,193472.38634236017,175834.01398504668,174252.51960502367,173720.04450096068,172870.42910877868,170358.0232846872,158423.0680653212,156527.4795934267,157719.9508088907,153287.3773253962,147050.81700412818,152704.07671275618,153679.2321653402,154349.1464955897,151396.84983292094,152120.66773966592,210248.92419916368,205775.38213426567,194109.6653073392,178464.4761560227,173181.46474606768,170939.31475622067,170808.5918717807,163555.78615900868,170681.1480919532,157323.00263075417,157375.77598876267,154607.85620409768,152487.0355365802,149912.28382067868,154205.10125267168,153524.30642427618,153795.2585319487,151206.70712123543,155182.76917682844,204830.98284419667,204459.4314845132,166152.60900707767,159483.93624789218,159652.2149932717,165453.83365290417,169300.95273429918,167605.6029387962,152009.04627992518,155924.8132631537,155458.22180638168,150649.82370762268,149580.22146136418,155938.62718086518,153787.64610591368,154175.78667035268,152043.88398089295,152187.98070881792,200364.8840403107,199116.58959309015,203846.64344703068,166381.00017563018,159051.87774664868,161167.9568901882,158920.8484038337,165189.8798286832,160945.64340412867,154447.03542973218,155125.88853786368,156205.86623886618,155476.4229821897,148684.1482053657,152421.5833826812,153297.3972884252,149375.64897644793,148802.18812931245,226718.6077367467,227461.15637937168,226318.3326464912,212144.77377359368,201643.24450578567,201376.23713031615,155048.4330223327,151411.02953611768,154689.90614358668,164274.48008172368,169022.99131067368,164708.80024577468,163076.88120472917,161504.08411338867,159893.8329052892,160537.75098450418,146906.51311034168,153633.22663408518,151840.41817199817,151480.51419512942,152235.20226690493,199165.2821513772,203045.7316456372,162055.4125366817,169716.2467365967,145190.56318287118,137623.05904231218,152789.5577602117,159963.5423789337,162224.8533722192,161520.03465889068,162682.5219869447,162674.75388005518,153555.98441358318,152947.89254423918,153824.03497336118,155771.89372442695,151295.29688244694],\"coloraxis\":\"coloraxis\",\"size\":[50,50,50,50,50,50,50,50,50,50,50,50,50,50,50,50,50,50,50,50,50,50,50,50,50,50,50,50,50,50,50,50,50,50,50,50,50,50,50,50,50,50,50,50,50,50,50,50,50,50,50,50,50,50,50,50,50,50,50,50,50,50,50,50,50,50,50,50,50,50,50,50,50,50,50,50,50,50,50,50,50,50,50,50,50,50,50,50,50,50,50,50,50,50,50,50,50,50,50,50,50,50,50,50,50,50,50,50,50,50,50,50,50,50,50,50,50,50,50,50,50,50,50,50,50,50,50,50,50,50,50,50,50,50,50,50,50,50,50,50,50,50,50,50,50,50,50,50,50,50,50,50,50,50,50,50,50,50,50,50,50,50,50,50,50,50,50,50,50,50,50,50,50,50,50,50,50,50,50,50,50,50,50,50,50,50,50,50,50,50,50,50,50,50,50,50,50,50,50,50,50,50,50,50,50,50,50,50,50,50,50,50,50,50,50,50,50,50,50,50,50,50,50,50,50,50,50,50,50,50,50,50,50,50,50,50,50,50,50,50,50,50,50,50,50,50,50,50,50,50,50,50,50,50,50,50,50,50,50,50,50,50,50,50,50,50,50,50,50,50,50,50,50],\"sizemode\":\"area\",\"sizeref\":0.125},\"mode\":\"markers\",\"name\":\"\",\"showlegend\":false,\"subplot\":\"mapbox\",\"type\":\"scattermapbox\"}],\"name\":\"2016\"}]);\n",
              "                        }).then(function(){\n",
              "                            \n",
              "var gd = document.getElementById('f3963d0d-09a9-4c2b-8360-fa5b9e47ef0e');\n",
              "var x = new MutationObserver(function (mutations, observer) {{\n",
              "        var display = window.getComputedStyle(gd).display;\n",
              "        if (!display || display === 'none') {{\n",
              "            console.log([gd, 'removed!']);\n",
              "            Plotly.purge(gd);\n",
              "            observer.disconnect();\n",
              "        }}\n",
              "}});\n",
              "\n",
              "// Listen for the removal of the full notebook cells\n",
              "var notebookContainer = gd.closest('#notebook-container');\n",
              "if (notebookContainer) {{\n",
              "    x.observe(notebookContainer, {childList: true});\n",
              "}}\n",
              "\n",
              "// Listen for the clearing of the current output cell\n",
              "var outputEl = gd.closest('.output');\n",
              "if (outputEl) {{\n",
              "    x.observe(outputEl, {childList: true});\n",
              "}}\n",
              "\n",
              "                        })                };                            </script>        </div>\n",
              "</body>\n",
              "</html>"
            ]
          },
          "metadata": {}
        },
        {
          "output_type": "display_data",
          "data": {
            "text/html": [
              "<html>\n",
              "<head><meta charset=\"utf-8\" /></head>\n",
              "<body>\n",
              "    <div>            <script src=\"https://cdnjs.cloudflare.com/ajax/libs/mathjax/2.7.5/MathJax.js?config=TeX-AMS-MML_SVG\"></script><script type=\"text/javascript\">if (window.MathJax) {MathJax.Hub.Config({SVG: {font: \"STIX-Web\"}});}</script>                <script type=\"text/javascript\">window.PlotlyConfig = {MathJaxConfig: 'local'};</script>\n",
              "        <script src=\"https://cdn.plot.ly/plotly-2.8.3.min.js\"></script>                <div id=\"ca706351-1c9b-44e2-a490-adf2bb29ca60\" class=\"plotly-graph-div\" style=\"height:525px; width:100%;\"></div>            <script type=\"text/javascript\">                                    window.PLOTLYENV=window.PLOTLYENV || {};                                    if (document.getElementById(\"ca706351-1c9b-44e2-a490-adf2bb29ca60\")) {                    Plotly.newPlot(                        \"ca706351-1c9b-44e2-a490-adf2bb29ca60\",                        [{\"hovertemplate\":\"annee=2013<br>size=%{marker.size}<br>latitude=%{lat}<br>longitude=%{lon}<br>rendement_annuel=%{marker.color}<extra></extra>\",\"lat\":[41.0,41.5,42.0,42.5,43.0,43.5,41.0,41.5,42.0,42.5,43.0,50.5,52.0,41.0,41.5,42.0,42.5,43.0,48.0,48.5,50.5,51.0,52.0,52.5,41.0,41.5,42.0,42.5,43.0,48.0,48.5,51.0,52.0,52.5,41.0,41.5,42.0,42.5,43.0,47.0,47.5,48.0,48.5,51.0,51.5,52.0,52.5,41.0,41.5,42.0,42.5,43.0,43.5,44.0,44.5,45.0,46.0,46.5,47.0,47.5,48.0,48.5,49.0,51.0,51.5,52.0,52.5,41.0,41.5,42.0,42.5,43.0,43.5,44.0,44.5,45.0,45.5,46.0,46.5,47.0,47.5,48.0,48.5,49.0,51.0,51.5,52.0,52.5,41.5,42.0,42.5,43.0,43.5,44.0,44.5,45.0,45.5,46.0,46.5,47.0,47.5,48.0,48.5,49.0,49.5,52.0,52.5,41.5,42.0,42.5,43.0,43.5,44.0,44.5,45.0,45.5,46.0,46.5,47.0,47.5,48.0,48.5,49.0,49.5,50.0,50.5,42.0,42.5,43.0,43.5,44.0,44.5,45.0,45.5,46.0,46.5,47.0,47.5,48.0,48.5,49.0,49.5,50.0,50.5,51.0,44.0,44.5,45.0,45.5,46.0,46.5,47.0,47.5,48.0,48.5,49.0,49.5,50.0,50.5,51.0,51.5,43.5,44.0,44.5,45.0,45.5,46.0,46.5,47.0,47.5,48.0,48.5,49.0,49.5,50.0,50.5,51.0,51.5,52.0,52.5,43.5,44.0,44.5,45.0,45.5,46.0,46.5,47.0,47.5,48.0,48.5,49.0,49.5,50.0,50.5,51.0,51.5,52.0,52.5,44.0,44.5,45.0,45.5,46.0,46.5,47.0,47.5,48.0,48.5,49.0,49.5,50.0,50.5,51.0,51.5,52.0,52.5,44.0,44.5,45.0,45.5,46.0,46.5,47.0,47.5,48.0,48.5,49.0,49.5,50.0,50.5,51.0,51.5,52.0,52.5,41.0,41.5,42.0,42.5,44.5,45.0,45.5,46.0,46.5,47.0,47.5,48.0,48.5,49.0,49.5,50.0,50.5,51.0,51.5,52.0,52.5,44.5,45.0,45.5,46.0,46.5,47.0,47.5,48.0,48.5,49.0,49.5,50.0,50.5,51.0,51.5,52.0,52.5],\"legendgroup\":\"\",\"lon\":[-6,-6,-6,-6,-6,-6,-5,-5,-5,-5,-5,-5,-5,-4,-4,-4,-4,-4,-4,-4,-4,-4,-4,-4,-3,-3,-3,-3,-3,-3,-3,-3,-3,-3,-2,-2,-2,-2,-2,-2,-2,-2,-2,-2,-2,-2,-2,-1,-1,-1,-1,-1,-1,-1,-1,-1,-1,-1,-1,-1,-1,-1,-1,-1,-1,-1,-1,0,0,0,0,0,0,0,0,0,0,0,0,0,0,0,0,0,0,0,0,0,1,1,1,1,1,1,1,1,1,1,1,1,1,1,1,1,1,1,1,2,2,2,2,2,2,2,2,2,2,2,2,2,2,2,2,2,2,2,3,3,3,3,3,3,3,3,3,3,3,3,3,3,3,3,3,3,3,4,4,4,4,4,4,4,4,4,4,4,4,4,4,4,4,5,5,5,5,5,5,5,5,5,5,5,5,5,5,5,5,5,5,5,6,6,6,6,6,6,6,6,6,6,6,6,6,6,6,6,6,6,6,7,7,7,7,7,7,7,7,7,7,7,7,7,7,7,7,7,7,8,8,8,8,8,8,8,8,8,8,8,8,8,8,8,8,8,8,9,9,9,9,9,9,9,9,9,9,9,9,9,9,9,9,9,9,9,9,9,10,10,10,10,10,10,10,10,10,10,10,10,10,10,10,10,10],\"marker\":{\"color\":[0.1358203221141026,0.1359408051844184,0.1360794731933876,0.1363328288849745,0.1384016676844995,0.1412187955501981,0.1358264370745979,0.1360560413019212,0.1361825754830048,0.136516236109015,0.1387394995657164,0.1442203237665948,0.1444570394899225,0.1377036533269556,0.1366888452800738,0.1367969010952656,0.1375124637007426,0.139894605154644,0.1416387994222017,0.14338809358275,0.1444675118038425,0.1446105145020193,0.1461089574546951,0.1460272935480449,0.1360550812700255,0.1367017988867207,0.1380130626476456,0.1391334560929785,0.1409973967671073,0.141686041353466,0.1426068245146434,0.1437582431697932,0.1457845732000182,0.1465297661247235,0.1367733037469624,0.1366809975455344,0.1376502984574923,0.137572658737845,0.1448671994255163,0.1401472701393296,0.1409777617016863,0.1415815763302112,0.1420613932030636,0.1443780417233193,0.1448156833422033,0.1456535603786775,0.1464216598700118,0.1367530970709135,0.1364001987818463,0.1359792542817633,0.137334847758927,0.1399615270639893,0.1405028534401851,0.1402340923581292,0.1396344074173616,0.1399142769443562,0.1396115172059172,0.140084807815482,0.1411119180235429,0.141209743922922,0.1416491718377966,0.1428007426560723,0.1433310201581834,0.1437492165729781,0.1449845981938583,0.1453929662694146,0.1454681701811097,0.1363272125398752,0.1354776002443458,0.1353265077167633,0.1374699210362743,0.1424799579757365,0.1395597609651067,0.1400049627946165,0.1396228105816476,0.1399110346022387,0.1402805493817146,0.1403476515861626,0.140808139252826,0.1411865215208176,0.1416111299432129,0.1418244610522827,0.1423863964362173,0.1434981649436217,0.1434512193870778,0.145200473220786,0.1449806138377159,0.1450082205946857,0.1358093907327163,0.1359475702579416,0.1396182087524088,0.142215511039051,0.1394381252633874,0.1393256053705503,0.1398054363903974,0.1403673010697877,0.1408587283335917,0.1414174694365913,0.1414327742447237,0.1414630387339432,0.1421515233369015,0.1422253077706883,0.1425802457818243,0.1430425378671266,0.1436995603235091,0.1441116205161005,0.1447772580149734,0.1361276343913099,0.1365727295483403,0.1382564891958429,0.1398277946467061,0.1405682394134776,0.139490642620481,0.1400521228137496,0.1410868400371231,0.1414131092638022,0.1425111012123258,0.1421156615395283,0.1414319326299003,0.1430327714454725,0.1425051575414464,0.1422568190246528,0.1428309302454912,0.1434659325028834,0.1439109331782088,0.1443531250957477,0.137194742736943,0.1381442946487068,0.1377081170642537,0.1378033937141508,0.1401731344040553,0.1401676537020092,0.1410938833261094,0.1425544862109292,0.1414785230990644,0.1418827786378217,0.1420367069309213,0.1421353406603343,0.1422886717323194,0.1421095094498759,0.1426859151582517,0.1433281120558122,0.1434634921745966,0.1440586560817145,0.1440442452103855,0.1375381504350243,0.1400321784113631,0.1424248001391912,0.1419849438316458,0.1414730079227346,0.1417719594553458,0.1424635097972856,0.1427433073219228,0.1428688338725164,0.1423168379958051,0.1428059625719235,0.1430678297957016,0.1440902687537173,0.1441800719794564,0.144340112176899,0.144237895889987,0.1362202066309713,0.1364402727513593,0.1382755557405936,0.1390670037182356,0.1401943445940986,0.1406770642529222,0.1418605806606153,0.1419241479797382,0.1427061925759689,0.1437181840935768,0.1436111744596386,0.143767497285651,0.1441617417670497,0.1452766833920284,0.144939979650315,0.1441351943250428,0.1451328878088884,0.1450548268962511,0.1451638296502991,0.1368508431617728,0.1367687478598454,0.1373751811029747,0.1429946061075672,0.1402122168999159,0.140509446396093,0.1431175447649921,0.1444920236502002,0.1423688144466246,0.1427479843590663,0.1434239264165412,0.1431599731461461,0.1438955402995493,0.1447525775331548,0.1461188983963796,0.1445754137020332,0.1447094340223985,0.1451400121914776,0.1458915241973916,0.1384461646735344,0.1415884378579326,0.1434832719776068,0.1458381278212711,0.1454101629367319,0.142110440884628,0.1411674897422419,0.1427218958887015,0.1455148235246025,0.1447617661903624,0.1435584665018674,0.1439703517271655,0.1447303523186334,0.1455803631443442,0.1452158855694772,0.1456889112838469,0.1452981415660051,0.1456011469512984,0.1376165303556502,0.1389313919807492,0.1385491791817441,0.1386675658116258,0.1462097757314417,0.14394354627418,0.1453331607628138,0.1426884362001563,0.1453049294764896,0.1436959955416487,0.1429857683291468,0.1442705358990594,0.1432472688497214,0.1439124200816162,0.1463780894204885,0.146556624515474,0.1454943515452995,0.1459268093803342,0.1375591627659084,0.1362352667226782,0.138535247533688,0.1395760123248999,0.1399746889686564,0.1390679461372958,0.1387732862947192,0.1410714986985558,0.1425700003172875,0.1455781267899502,0.1432867982133497,0.1429467343558877,0.1435043804734668,0.1436838767718172,0.1442456974168085,0.1438130306267436,0.1444453876870509,0.1452306788732798,0.1456957887907929,0.1461960331874639,0.1455614688335965,0.1418534271450992,0.1389121456443531,0.138930290943986,0.141570443983353,0.1450339998915696,0.149220820097597,0.144833395434056,0.1432334357651234,0.1435777311753499,0.1442815468919234,0.1438775322686169,0.1437396662151159,0.145540788199619,0.1454555659371997,0.1456423908510067,0.1461043020690844,0.145263687686407],\"coloraxis\":\"coloraxis\",\"size\":[50,50,50,50,50,50,50,50,50,50,50,50,50,50,50,50,50,50,50,50,50,50,50,50,50,50,50,50,50,50,50,50,50,50,50,50,50,50,50,50,50,50,50,50,50,50,50,50,50,50,50,50,50,50,50,50,50,50,50,50,50,50,50,50,50,50,50,50,50,50,50,50,50,50,50,50,50,50,50,50,50,50,50,50,50,50,50,50,50,50,50,50,50,50,50,50,50,50,50,50,50,50,50,50,50,50,50,50,50,50,50,50,50,50,50,50,50,50,50,50,50,50,50,50,50,50,50,50,50,50,50,50,50,50,50,50,50,50,50,50,50,50,50,50,50,50,50,50,50,50,50,50,50,50,50,50,50,50,50,50,50,50,50,50,50,50,50,50,50,50,50,50,50,50,50,50,50,50,50,50,50,50,50,50,50,50,50,50,50,50,50,50,50,50,50,50,50,50,50,50,50,50,50,50,50,50,50,50,50,50,50,50,50,50,50,50,50,50,50,50,50,50,50,50,50,50,50,50,50,50,50,50,50,50,50,50,50,50,50,50,50,50,50,50,50,50,50,50,50,50,50,50,50,50,50,50,50,50,50,50,50,50,50,50,50,50,50,50,50,50,50,50,50],\"sizemode\":\"area\",\"sizeref\":0.125},\"mode\":\"markers\",\"name\":\"\",\"showlegend\":false,\"subplot\":\"mapbox\",\"type\":\"scattermapbox\"}],                        {\"template\":{\"data\":{\"bar\":[{\"error_x\":{\"color\":\"#2a3f5f\"},\"error_y\":{\"color\":\"#2a3f5f\"},\"marker\":{\"line\":{\"color\":\"#E5ECF6\",\"width\":0.5},\"pattern\":{\"fillmode\":\"overlay\",\"size\":10,\"solidity\":0.2}},\"type\":\"bar\"}],\"barpolar\":[{\"marker\":{\"line\":{\"color\":\"#E5ECF6\",\"width\":0.5},\"pattern\":{\"fillmode\":\"overlay\",\"size\":10,\"solidity\":0.2}},\"type\":\"barpolar\"}],\"carpet\":[{\"aaxis\":{\"endlinecolor\":\"#2a3f5f\",\"gridcolor\":\"white\",\"linecolor\":\"white\",\"minorgridcolor\":\"white\",\"startlinecolor\":\"#2a3f5f\"},\"baxis\":{\"endlinecolor\":\"#2a3f5f\",\"gridcolor\":\"white\",\"linecolor\":\"white\",\"minorgridcolor\":\"white\",\"startlinecolor\":\"#2a3f5f\"},\"type\":\"carpet\"}],\"choropleth\":[{\"colorbar\":{\"outlinewidth\":0,\"ticks\":\"\"},\"type\":\"choropleth\"}],\"contour\":[{\"colorbar\":{\"outlinewidth\":0,\"ticks\":\"\"},\"colorscale\":[[0.0,\"#0d0887\"],[0.1111111111111111,\"#46039f\"],[0.2222222222222222,\"#7201a8\"],[0.3333333333333333,\"#9c179e\"],[0.4444444444444444,\"#bd3786\"],[0.5555555555555556,\"#d8576b\"],[0.6666666666666666,\"#ed7953\"],[0.7777777777777778,\"#fb9f3a\"],[0.8888888888888888,\"#fdca26\"],[1.0,\"#f0f921\"]],\"type\":\"contour\"}],\"contourcarpet\":[{\"colorbar\":{\"outlinewidth\":0,\"ticks\":\"\"},\"type\":\"contourcarpet\"}],\"heatmap\":[{\"colorbar\":{\"outlinewidth\":0,\"ticks\":\"\"},\"colorscale\":[[0.0,\"#0d0887\"],[0.1111111111111111,\"#46039f\"],[0.2222222222222222,\"#7201a8\"],[0.3333333333333333,\"#9c179e\"],[0.4444444444444444,\"#bd3786\"],[0.5555555555555556,\"#d8576b\"],[0.6666666666666666,\"#ed7953\"],[0.7777777777777778,\"#fb9f3a\"],[0.8888888888888888,\"#fdca26\"],[1.0,\"#f0f921\"]],\"type\":\"heatmap\"}],\"heatmapgl\":[{\"colorbar\":{\"outlinewidth\":0,\"ticks\":\"\"},\"colorscale\":[[0.0,\"#0d0887\"],[0.1111111111111111,\"#46039f\"],[0.2222222222222222,\"#7201a8\"],[0.3333333333333333,\"#9c179e\"],[0.4444444444444444,\"#bd3786\"],[0.5555555555555556,\"#d8576b\"],[0.6666666666666666,\"#ed7953\"],[0.7777777777777778,\"#fb9f3a\"],[0.8888888888888888,\"#fdca26\"],[1.0,\"#f0f921\"]],\"type\":\"heatmapgl\"}],\"histogram\":[{\"marker\":{\"pattern\":{\"fillmode\":\"overlay\",\"size\":10,\"solidity\":0.2}},\"type\":\"histogram\"}],\"histogram2d\":[{\"colorbar\":{\"outlinewidth\":0,\"ticks\":\"\"},\"colorscale\":[[0.0,\"#0d0887\"],[0.1111111111111111,\"#46039f\"],[0.2222222222222222,\"#7201a8\"],[0.3333333333333333,\"#9c179e\"],[0.4444444444444444,\"#bd3786\"],[0.5555555555555556,\"#d8576b\"],[0.6666666666666666,\"#ed7953\"],[0.7777777777777778,\"#fb9f3a\"],[0.8888888888888888,\"#fdca26\"],[1.0,\"#f0f921\"]],\"type\":\"histogram2d\"}],\"histogram2dcontour\":[{\"colorbar\":{\"outlinewidth\":0,\"ticks\":\"\"},\"colorscale\":[[0.0,\"#0d0887\"],[0.1111111111111111,\"#46039f\"],[0.2222222222222222,\"#7201a8\"],[0.3333333333333333,\"#9c179e\"],[0.4444444444444444,\"#bd3786\"],[0.5555555555555556,\"#d8576b\"],[0.6666666666666666,\"#ed7953\"],[0.7777777777777778,\"#fb9f3a\"],[0.8888888888888888,\"#fdca26\"],[1.0,\"#f0f921\"]],\"type\":\"histogram2dcontour\"}],\"mesh3d\":[{\"colorbar\":{\"outlinewidth\":0,\"ticks\":\"\"},\"type\":\"mesh3d\"}],\"parcoords\":[{\"line\":{\"colorbar\":{\"outlinewidth\":0,\"ticks\":\"\"}},\"type\":\"parcoords\"}],\"pie\":[{\"automargin\":true,\"type\":\"pie\"}],\"scatter\":[{\"marker\":{\"colorbar\":{\"outlinewidth\":0,\"ticks\":\"\"}},\"type\":\"scatter\"}],\"scatter3d\":[{\"line\":{\"colorbar\":{\"outlinewidth\":0,\"ticks\":\"\"}},\"marker\":{\"colorbar\":{\"outlinewidth\":0,\"ticks\":\"\"}},\"type\":\"scatter3d\"}],\"scattercarpet\":[{\"marker\":{\"colorbar\":{\"outlinewidth\":0,\"ticks\":\"\"}},\"type\":\"scattercarpet\"}],\"scattergeo\":[{\"marker\":{\"colorbar\":{\"outlinewidth\":0,\"ticks\":\"\"}},\"type\":\"scattergeo\"}],\"scattergl\":[{\"marker\":{\"colorbar\":{\"outlinewidth\":0,\"ticks\":\"\"}},\"type\":\"scattergl\"}],\"scattermapbox\":[{\"marker\":{\"colorbar\":{\"outlinewidth\":0,\"ticks\":\"\"}},\"type\":\"scattermapbox\"}],\"scatterpolar\":[{\"marker\":{\"colorbar\":{\"outlinewidth\":0,\"ticks\":\"\"}},\"type\":\"scatterpolar\"}],\"scatterpolargl\":[{\"marker\":{\"colorbar\":{\"outlinewidth\":0,\"ticks\":\"\"}},\"type\":\"scatterpolargl\"}],\"scatterternary\":[{\"marker\":{\"colorbar\":{\"outlinewidth\":0,\"ticks\":\"\"}},\"type\":\"scatterternary\"}],\"surface\":[{\"colorbar\":{\"outlinewidth\":0,\"ticks\":\"\"},\"colorscale\":[[0.0,\"#0d0887\"],[0.1111111111111111,\"#46039f\"],[0.2222222222222222,\"#7201a8\"],[0.3333333333333333,\"#9c179e\"],[0.4444444444444444,\"#bd3786\"],[0.5555555555555556,\"#d8576b\"],[0.6666666666666666,\"#ed7953\"],[0.7777777777777778,\"#fb9f3a\"],[0.8888888888888888,\"#fdca26\"],[1.0,\"#f0f921\"]],\"type\":\"surface\"}],\"table\":[{\"cells\":{\"fill\":{\"color\":\"#EBF0F8\"},\"line\":{\"color\":\"white\"}},\"header\":{\"fill\":{\"color\":\"#C8D4E3\"},\"line\":{\"color\":\"white\"}},\"type\":\"table\"}]},\"layout\":{\"annotationdefaults\":{\"arrowcolor\":\"#2a3f5f\",\"arrowhead\":0,\"arrowwidth\":1},\"autotypenumbers\":\"strict\",\"coloraxis\":{\"colorbar\":{\"outlinewidth\":0,\"ticks\":\"\"}},\"colorscale\":{\"diverging\":[[0,\"#8e0152\"],[0.1,\"#c51b7d\"],[0.2,\"#de77ae\"],[0.3,\"#f1b6da\"],[0.4,\"#fde0ef\"],[0.5,\"#f7f7f7\"],[0.6,\"#e6f5d0\"],[0.7,\"#b8e186\"],[0.8,\"#7fbc41\"],[0.9,\"#4d9221\"],[1,\"#276419\"]],\"sequential\":[[0.0,\"#0d0887\"],[0.1111111111111111,\"#46039f\"],[0.2222222222222222,\"#7201a8\"],[0.3333333333333333,\"#9c179e\"],[0.4444444444444444,\"#bd3786\"],[0.5555555555555556,\"#d8576b\"],[0.6666666666666666,\"#ed7953\"],[0.7777777777777778,\"#fb9f3a\"],[0.8888888888888888,\"#fdca26\"],[1.0,\"#f0f921\"]],\"sequentialminus\":[[0.0,\"#0d0887\"],[0.1111111111111111,\"#46039f\"],[0.2222222222222222,\"#7201a8\"],[0.3333333333333333,\"#9c179e\"],[0.4444444444444444,\"#bd3786\"],[0.5555555555555556,\"#d8576b\"],[0.6666666666666666,\"#ed7953\"],[0.7777777777777778,\"#fb9f3a\"],[0.8888888888888888,\"#fdca26\"],[1.0,\"#f0f921\"]]},\"colorway\":[\"#636efa\",\"#EF553B\",\"#00cc96\",\"#ab63fa\",\"#FFA15A\",\"#19d3f3\",\"#FF6692\",\"#B6E880\",\"#FF97FF\",\"#FECB52\"],\"font\":{\"color\":\"#2a3f5f\"},\"geo\":{\"bgcolor\":\"white\",\"lakecolor\":\"white\",\"landcolor\":\"#E5ECF6\",\"showlakes\":true,\"showland\":true,\"subunitcolor\":\"white\"},\"hoverlabel\":{\"align\":\"left\"},\"hovermode\":\"closest\",\"mapbox\":{\"style\":\"light\"},\"paper_bgcolor\":\"white\",\"plot_bgcolor\":\"#E5ECF6\",\"polar\":{\"angularaxis\":{\"gridcolor\":\"white\",\"linecolor\":\"white\",\"ticks\":\"\"},\"bgcolor\":\"#E5ECF6\",\"radialaxis\":{\"gridcolor\":\"white\",\"linecolor\":\"white\",\"ticks\":\"\"}},\"scene\":{\"xaxis\":{\"backgroundcolor\":\"#E5ECF6\",\"gridcolor\":\"white\",\"gridwidth\":2,\"linecolor\":\"white\",\"showbackground\":true,\"ticks\":\"\",\"zerolinecolor\":\"white\"},\"yaxis\":{\"backgroundcolor\":\"#E5ECF6\",\"gridcolor\":\"white\",\"gridwidth\":2,\"linecolor\":\"white\",\"showbackground\":true,\"ticks\":\"\",\"zerolinecolor\":\"white\"},\"zaxis\":{\"backgroundcolor\":\"#E5ECF6\",\"gridcolor\":\"white\",\"gridwidth\":2,\"linecolor\":\"white\",\"showbackground\":true,\"ticks\":\"\",\"zerolinecolor\":\"white\"}},\"shapedefaults\":{\"line\":{\"color\":\"#2a3f5f\"}},\"ternary\":{\"aaxis\":{\"gridcolor\":\"white\",\"linecolor\":\"white\",\"ticks\":\"\"},\"baxis\":{\"gridcolor\":\"white\",\"linecolor\":\"white\",\"ticks\":\"\"},\"bgcolor\":\"#E5ECF6\",\"caxis\":{\"gridcolor\":\"white\",\"linecolor\":\"white\",\"ticks\":\"\"}},\"title\":{\"x\":0.05},\"xaxis\":{\"automargin\":true,\"gridcolor\":\"white\",\"linecolor\":\"white\",\"ticks\":\"\",\"title\":{\"standoff\":15},\"zerolinecolor\":\"white\",\"zerolinewidth\":2},\"yaxis\":{\"automargin\":true,\"gridcolor\":\"white\",\"linecolor\":\"white\",\"ticks\":\"\",\"title\":{\"standoff\":15},\"zerolinecolor\":\"white\",\"zerolinewidth\":2}}},\"mapbox\":{\"domain\":{\"x\":[0.0,1.0],\"y\":[0.0,1.0]},\"center\":{\"lat\":46.972527472527474,\"lon\":3.021978021978022},\"zoom\":3,\"style\":\"carto-positron\"},\"coloraxis\":{\"colorbar\":{\"title\":{\"text\":\"rendement_annuel\"}},\"colorscale\":[[0,\"blue\"],[0.15,\"green\"],[0.3,\"yellow\"],[0.45,\"orange\"],[0.6,\"pink\"],[0.75,\"crimson\"],[1.0,\"red\"]],\"cmid\":0.14078470589227976,\"cmin\":0.135264777730003,\"cmax\":0.149220820097597},\"legend\":{\"tracegroupgap\":0,\"itemsizing\":\"constant\"},\"margin\":{\"t\":60},\"updatemenus\":[{\"buttons\":[{\"args\":[null,{\"frame\":{\"duration\":500,\"redraw\":true},\"mode\":\"immediate\",\"fromcurrent\":true,\"transition\":{\"duration\":500,\"easing\":\"linear\"}}],\"label\":\"&#9654;\",\"method\":\"animate\"},{\"args\":[[null],{\"frame\":{\"duration\":0,\"redraw\":true},\"mode\":\"immediate\",\"fromcurrent\":true,\"transition\":{\"duration\":0,\"easing\":\"linear\"}}],\"label\":\"&#9724;\",\"method\":\"animate\"}],\"direction\":\"left\",\"pad\":{\"r\":10,\"t\":70},\"showactive\":false,\"type\":\"buttons\",\"x\":0.1,\"xanchor\":\"right\",\"y\":0,\"yanchor\":\"top\"}],\"sliders\":[{\"active\":0,\"currentvalue\":{\"prefix\":\"annee=\"},\"len\":0.9,\"pad\":{\"b\":10,\"t\":60},\"steps\":[{\"args\":[[\"2013\"],{\"frame\":{\"duration\":0,\"redraw\":true},\"mode\":\"immediate\",\"fromcurrent\":true,\"transition\":{\"duration\":0,\"easing\":\"linear\"}}],\"label\":\"2013\",\"method\":\"animate\"},{\"args\":[[\"2014\"],{\"frame\":{\"duration\":0,\"redraw\":true},\"mode\":\"immediate\",\"fromcurrent\":true,\"transition\":{\"duration\":0,\"easing\":\"linear\"}}],\"label\":\"2014\",\"method\":\"animate\"},{\"args\":[[\"2015\"],{\"frame\":{\"duration\":0,\"redraw\":true},\"mode\":\"immediate\",\"fromcurrent\":true,\"transition\":{\"duration\":0,\"easing\":\"linear\"}}],\"label\":\"2015\",\"method\":\"animate\"},{\"args\":[[\"2016\"],{\"frame\":{\"duration\":0,\"redraw\":true},\"mode\":\"immediate\",\"fromcurrent\":true,\"transition\":{\"duration\":0,\"easing\":\"linear\"}}],\"label\":\"2016\",\"method\":\"animate\"}],\"x\":0.1,\"xanchor\":\"left\",\"y\":0,\"yanchor\":\"top\"}]},                        {\"responsive\": true}                    ).then(function(){\n",
              "                            Plotly.addFrames('ca706351-1c9b-44e2-a490-adf2bb29ca60', [{\"data\":[{\"hovertemplate\":\"annee=2013<br>size=%{marker.size}<br>latitude=%{lat}<br>longitude=%{lon}<br>rendement_annuel=%{marker.color}<extra></extra>\",\"lat\":[41.0,41.5,42.0,42.5,43.0,43.5,41.0,41.5,42.0,42.5,43.0,50.5,52.0,41.0,41.5,42.0,42.5,43.0,48.0,48.5,50.5,51.0,52.0,52.5,41.0,41.5,42.0,42.5,43.0,48.0,48.5,51.0,52.0,52.5,41.0,41.5,42.0,42.5,43.0,47.0,47.5,48.0,48.5,51.0,51.5,52.0,52.5,41.0,41.5,42.0,42.5,43.0,43.5,44.0,44.5,45.0,46.0,46.5,47.0,47.5,48.0,48.5,49.0,51.0,51.5,52.0,52.5,41.0,41.5,42.0,42.5,43.0,43.5,44.0,44.5,45.0,45.5,46.0,46.5,47.0,47.5,48.0,48.5,49.0,51.0,51.5,52.0,52.5,41.5,42.0,42.5,43.0,43.5,44.0,44.5,45.0,45.5,46.0,46.5,47.0,47.5,48.0,48.5,49.0,49.5,52.0,52.5,41.5,42.0,42.5,43.0,43.5,44.0,44.5,45.0,45.5,46.0,46.5,47.0,47.5,48.0,48.5,49.0,49.5,50.0,50.5,42.0,42.5,43.0,43.5,44.0,44.5,45.0,45.5,46.0,46.5,47.0,47.5,48.0,48.5,49.0,49.5,50.0,50.5,51.0,44.0,44.5,45.0,45.5,46.0,46.5,47.0,47.5,48.0,48.5,49.0,49.5,50.0,50.5,51.0,51.5,43.5,44.0,44.5,45.0,45.5,46.0,46.5,47.0,47.5,48.0,48.5,49.0,49.5,50.0,50.5,51.0,51.5,52.0,52.5,43.5,44.0,44.5,45.0,45.5,46.0,46.5,47.0,47.5,48.0,48.5,49.0,49.5,50.0,50.5,51.0,51.5,52.0,52.5,44.0,44.5,45.0,45.5,46.0,46.5,47.0,47.5,48.0,48.5,49.0,49.5,50.0,50.5,51.0,51.5,52.0,52.5,44.0,44.5,45.0,45.5,46.0,46.5,47.0,47.5,48.0,48.5,49.0,49.5,50.0,50.5,51.0,51.5,52.0,52.5,41.0,41.5,42.0,42.5,44.5,45.0,45.5,46.0,46.5,47.0,47.5,48.0,48.5,49.0,49.5,50.0,50.5,51.0,51.5,52.0,52.5,44.5,45.0,45.5,46.0,46.5,47.0,47.5,48.0,48.5,49.0,49.5,50.0,50.5,51.0,51.5,52.0,52.5],\"legendgroup\":\"\",\"lon\":[-6,-6,-6,-6,-6,-6,-5,-5,-5,-5,-5,-5,-5,-4,-4,-4,-4,-4,-4,-4,-4,-4,-4,-4,-3,-3,-3,-3,-3,-3,-3,-3,-3,-3,-2,-2,-2,-2,-2,-2,-2,-2,-2,-2,-2,-2,-2,-1,-1,-1,-1,-1,-1,-1,-1,-1,-1,-1,-1,-1,-1,-1,-1,-1,-1,-1,-1,0,0,0,0,0,0,0,0,0,0,0,0,0,0,0,0,0,0,0,0,0,1,1,1,1,1,1,1,1,1,1,1,1,1,1,1,1,1,1,1,2,2,2,2,2,2,2,2,2,2,2,2,2,2,2,2,2,2,2,3,3,3,3,3,3,3,3,3,3,3,3,3,3,3,3,3,3,3,4,4,4,4,4,4,4,4,4,4,4,4,4,4,4,4,5,5,5,5,5,5,5,5,5,5,5,5,5,5,5,5,5,5,5,6,6,6,6,6,6,6,6,6,6,6,6,6,6,6,6,6,6,6,7,7,7,7,7,7,7,7,7,7,7,7,7,7,7,7,7,7,8,8,8,8,8,8,8,8,8,8,8,8,8,8,8,8,8,8,9,9,9,9,9,9,9,9,9,9,9,9,9,9,9,9,9,9,9,9,9,10,10,10,10,10,10,10,10,10,10,10,10,10,10,10,10,10],\"marker\":{\"color\":[0.1358203221141026,0.1359408051844184,0.1360794731933876,0.1363328288849745,0.1384016676844995,0.1412187955501981,0.1358264370745979,0.1360560413019212,0.1361825754830048,0.136516236109015,0.1387394995657164,0.1442203237665948,0.1444570394899225,0.1377036533269556,0.1366888452800738,0.1367969010952656,0.1375124637007426,0.139894605154644,0.1416387994222017,0.14338809358275,0.1444675118038425,0.1446105145020193,0.1461089574546951,0.1460272935480449,0.1360550812700255,0.1367017988867207,0.1380130626476456,0.1391334560929785,0.1409973967671073,0.141686041353466,0.1426068245146434,0.1437582431697932,0.1457845732000182,0.1465297661247235,0.1367733037469624,0.1366809975455344,0.1376502984574923,0.137572658737845,0.1448671994255163,0.1401472701393296,0.1409777617016863,0.1415815763302112,0.1420613932030636,0.1443780417233193,0.1448156833422033,0.1456535603786775,0.1464216598700118,0.1367530970709135,0.1364001987818463,0.1359792542817633,0.137334847758927,0.1399615270639893,0.1405028534401851,0.1402340923581292,0.1396344074173616,0.1399142769443562,0.1396115172059172,0.140084807815482,0.1411119180235429,0.141209743922922,0.1416491718377966,0.1428007426560723,0.1433310201581834,0.1437492165729781,0.1449845981938583,0.1453929662694146,0.1454681701811097,0.1363272125398752,0.1354776002443458,0.1353265077167633,0.1374699210362743,0.1424799579757365,0.1395597609651067,0.1400049627946165,0.1396228105816476,0.1399110346022387,0.1402805493817146,0.1403476515861626,0.140808139252826,0.1411865215208176,0.1416111299432129,0.1418244610522827,0.1423863964362173,0.1434981649436217,0.1434512193870778,0.145200473220786,0.1449806138377159,0.1450082205946857,0.1358093907327163,0.1359475702579416,0.1396182087524088,0.142215511039051,0.1394381252633874,0.1393256053705503,0.1398054363903974,0.1403673010697877,0.1408587283335917,0.1414174694365913,0.1414327742447237,0.1414630387339432,0.1421515233369015,0.1422253077706883,0.1425802457818243,0.1430425378671266,0.1436995603235091,0.1441116205161005,0.1447772580149734,0.1361276343913099,0.1365727295483403,0.1382564891958429,0.1398277946467061,0.1405682394134776,0.139490642620481,0.1400521228137496,0.1410868400371231,0.1414131092638022,0.1425111012123258,0.1421156615395283,0.1414319326299003,0.1430327714454725,0.1425051575414464,0.1422568190246528,0.1428309302454912,0.1434659325028834,0.1439109331782088,0.1443531250957477,0.137194742736943,0.1381442946487068,0.1377081170642537,0.1378033937141508,0.1401731344040553,0.1401676537020092,0.1410938833261094,0.1425544862109292,0.1414785230990644,0.1418827786378217,0.1420367069309213,0.1421353406603343,0.1422886717323194,0.1421095094498759,0.1426859151582517,0.1433281120558122,0.1434634921745966,0.1440586560817145,0.1440442452103855,0.1375381504350243,0.1400321784113631,0.1424248001391912,0.1419849438316458,0.1414730079227346,0.1417719594553458,0.1424635097972856,0.1427433073219228,0.1428688338725164,0.1423168379958051,0.1428059625719235,0.1430678297957016,0.1440902687537173,0.1441800719794564,0.144340112176899,0.144237895889987,0.1362202066309713,0.1364402727513593,0.1382755557405936,0.1390670037182356,0.1401943445940986,0.1406770642529222,0.1418605806606153,0.1419241479797382,0.1427061925759689,0.1437181840935768,0.1436111744596386,0.143767497285651,0.1441617417670497,0.1452766833920284,0.144939979650315,0.1441351943250428,0.1451328878088884,0.1450548268962511,0.1451638296502991,0.1368508431617728,0.1367687478598454,0.1373751811029747,0.1429946061075672,0.1402122168999159,0.140509446396093,0.1431175447649921,0.1444920236502002,0.1423688144466246,0.1427479843590663,0.1434239264165412,0.1431599731461461,0.1438955402995493,0.1447525775331548,0.1461188983963796,0.1445754137020332,0.1447094340223985,0.1451400121914776,0.1458915241973916,0.1384461646735344,0.1415884378579326,0.1434832719776068,0.1458381278212711,0.1454101629367319,0.142110440884628,0.1411674897422419,0.1427218958887015,0.1455148235246025,0.1447617661903624,0.1435584665018674,0.1439703517271655,0.1447303523186334,0.1455803631443442,0.1452158855694772,0.1456889112838469,0.1452981415660051,0.1456011469512984,0.1376165303556502,0.1389313919807492,0.1385491791817441,0.1386675658116258,0.1462097757314417,0.14394354627418,0.1453331607628138,0.1426884362001563,0.1453049294764896,0.1436959955416487,0.1429857683291468,0.1442705358990594,0.1432472688497214,0.1439124200816162,0.1463780894204885,0.146556624515474,0.1454943515452995,0.1459268093803342,0.1375591627659084,0.1362352667226782,0.138535247533688,0.1395760123248999,0.1399746889686564,0.1390679461372958,0.1387732862947192,0.1410714986985558,0.1425700003172875,0.1455781267899502,0.1432867982133497,0.1429467343558877,0.1435043804734668,0.1436838767718172,0.1442456974168085,0.1438130306267436,0.1444453876870509,0.1452306788732798,0.1456957887907929,0.1461960331874639,0.1455614688335965,0.1418534271450992,0.1389121456443531,0.138930290943986,0.141570443983353,0.1450339998915696,0.149220820097597,0.144833395434056,0.1432334357651234,0.1435777311753499,0.1442815468919234,0.1438775322686169,0.1437396662151159,0.145540788199619,0.1454555659371997,0.1456423908510067,0.1461043020690844,0.145263687686407],\"coloraxis\":\"coloraxis\",\"size\":[50,50,50,50,50,50,50,50,50,50,50,50,50,50,50,50,50,50,50,50,50,50,50,50,50,50,50,50,50,50,50,50,50,50,50,50,50,50,50,50,50,50,50,50,50,50,50,50,50,50,50,50,50,50,50,50,50,50,50,50,50,50,50,50,50,50,50,50,50,50,50,50,50,50,50,50,50,50,50,50,50,50,50,50,50,50,50,50,50,50,50,50,50,50,50,50,50,50,50,50,50,50,50,50,50,50,50,50,50,50,50,50,50,50,50,50,50,50,50,50,50,50,50,50,50,50,50,50,50,50,50,50,50,50,50,50,50,50,50,50,50,50,50,50,50,50,50,50,50,50,50,50,50,50,50,50,50,50,50,50,50,50,50,50,50,50,50,50,50,50,50,50,50,50,50,50,50,50,50,50,50,50,50,50,50,50,50,50,50,50,50,50,50,50,50,50,50,50,50,50,50,50,50,50,50,50,50,50,50,50,50,50,50,50,50,50,50,50,50,50,50,50,50,50,50,50,50,50,50,50,50,50,50,50,50,50,50,50,50,50,50,50,50,50,50,50,50,50,50,50,50,50,50,50,50,50,50,50,50,50,50,50,50,50,50,50,50,50,50,50,50,50,50],\"sizemode\":\"area\",\"sizeref\":0.125},\"mode\":\"markers\",\"name\":\"\",\"showlegend\":false,\"subplot\":\"mapbox\",\"type\":\"scattermapbox\"}],\"name\":\"2013\"},{\"data\":[{\"hovertemplate\":\"annee=2014<br>size=%{marker.size}<br>latitude=%{lat}<br>longitude=%{lon}<br>rendement_annuel=%{marker.color}<extra></extra>\",\"lat\":[41.0,41.5,42.0,42.5,43.0,43.5,41.0,41.5,42.0,42.5,43.0,50.5,52.0,41.0,41.5,42.0,42.5,43.0,48.0,48.5,50.5,51.0,52.0,52.5,41.0,41.5,42.0,42.5,43.0,48.0,48.5,51.0,52.0,52.5,41.0,41.5,42.0,42.5,43.0,47.0,47.5,48.0,48.5,51.0,51.5,52.0,52.5,41.0,41.5,42.0,42.5,43.0,43.5,44.0,44.5,45.0,46.0,46.5,47.0,47.5,48.0,48.5,49.0,51.0,51.5,52.0,52.5,41.0,41.5,42.0,42.5,43.0,43.5,44.0,44.5,45.0,45.5,46.0,46.5,47.0,47.5,48.0,48.5,49.0,51.0,51.5,52.0,52.5,41.5,42.0,42.5,43.0,43.5,44.0,44.5,45.0,45.5,46.0,46.5,47.0,47.5,48.0,48.5,49.0,49.5,52.0,52.5,41.5,42.0,42.5,43.0,43.5,44.0,44.5,45.0,45.5,46.0,46.5,47.0,47.5,48.0,48.5,49.0,49.5,50.0,50.5,42.0,42.5,43.0,43.5,44.0,44.5,45.0,45.5,46.0,46.5,47.0,47.5,48.0,48.5,49.0,49.5,50.0,50.5,51.0,44.0,44.5,45.0,45.5,46.0,46.5,47.0,47.5,48.0,48.5,49.0,49.5,50.0,50.5,51.0,51.5,43.5,44.0,44.5,45.0,45.5,46.0,46.5,47.0,47.5,48.0,48.5,49.0,49.5,50.0,50.5,51.0,51.5,52.0,52.5,43.5,44.0,44.5,45.0,45.5,46.0,46.5,47.0,47.5,48.0,48.5,49.0,49.5,50.0,50.5,51.0,51.5,52.0,52.5,44.0,44.5,45.0,45.5,46.0,46.5,47.0,47.5,48.0,48.5,49.0,49.5,50.0,50.5,51.0,51.5,52.0,52.5,44.0,44.5,45.0,45.5,46.0,46.5,47.0,47.5,48.0,48.5,49.0,49.5,50.0,50.5,51.0,51.5,52.0,52.5,41.0,41.5,42.0,42.5,44.5,45.0,45.5,46.0,46.5,47.0,47.5,48.0,48.5,49.0,49.5,50.0,50.5,51.0,51.5,52.0,52.5,44.5,45.0,45.5,46.0,46.5,47.0,47.5,48.0,48.5,49.0,49.5,50.0,50.5,51.0,51.5,52.0,52.5],\"legendgroup\":\"\",\"lon\":[-6,-6,-6,-6,-6,-6,-5,-5,-5,-5,-5,-5,-5,-4,-4,-4,-4,-4,-4,-4,-4,-4,-4,-4,-3,-3,-3,-3,-3,-3,-3,-3,-3,-3,-2,-2,-2,-2,-2,-2,-2,-2,-2,-2,-2,-2,-2,-1,-1,-1,-1,-1,-1,-1,-1,-1,-1,-1,-1,-1,-1,-1,-1,-1,-1,-1,-1,0,0,0,0,0,0,0,0,0,0,0,0,0,0,0,0,0,0,0,0,0,1,1,1,1,1,1,1,1,1,1,1,1,1,1,1,1,1,1,1,2,2,2,2,2,2,2,2,2,2,2,2,2,2,2,2,2,2,2,3,3,3,3,3,3,3,3,3,3,3,3,3,3,3,3,3,3,3,4,4,4,4,4,4,4,4,4,4,4,4,4,4,4,4,5,5,5,5,5,5,5,5,5,5,5,5,5,5,5,5,5,5,5,6,6,6,6,6,6,6,6,6,6,6,6,6,6,6,6,6,6,6,7,7,7,7,7,7,7,7,7,7,7,7,7,7,7,7,7,7,8,8,8,8,8,8,8,8,8,8,8,8,8,8,8,8,8,8,9,9,9,9,9,9,9,9,9,9,9,9,9,9,9,9,9,9,9,9,9,10,10,10,10,10,10,10,10,10,10,10,10,10,10,10,10,10],\"marker\":{\"color\":[0.1355904262678275,0.1357657102302892,0.1358551920856685,0.1360515782167471,0.1380415655951205,0.1398293834517862,0.1353639151761738,0.135473977427243,0.1355941081621068,0.1360565905811573,0.1382167297584156,0.1425279528302362,0.1434085799663677,0.137114579104388,0.1359991303746928,0.1360415499626332,0.1365544041006987,0.1383115888837792,0.1406006620015192,0.1416344426539213,0.1433466865325496,0.1433489247767834,0.1447256450105212,0.1452761599195734,0.1356349750061897,0.1362624080660811,0.137345742982696,0.1377610504594143,0.1391573131254569,0.1401809788175525,0.1409894052900974,0.1423980994399987,0.1438905621718916,0.1447137458130855,0.1362100657129107,0.1361993823294675,0.1368629347376859,0.136903988277534,0.1433855380604153,0.1386994645097128,0.1392708100445911,0.1401932922175329,0.140562300395827,0.1422110962102834,0.1428749553764638,0.1434496416593964,0.1443214687305188,0.1361708729782564,0.1358897096630878,0.1358764088840424,0.136931565252429,0.1393840751641674,0.139471445109747,0.1391855312444543,0.1384509772434688,0.1387283302560008,0.1382018125112277,0.1387251572715478,0.1395698578597744,0.1395856403490957,0.140201015537829,0.1411374905759878,0.1414266572373976,0.1418264533862439,0.1428238583285375,0.1430120279963449,0.1436262661791907,0.1358709517304732,0.1355901593710981,0.1353999676595797,0.1377077413087404,0.1411625725128269,0.1386425672155666,0.1388259365136151,0.1384975230014268,0.1388598389371339,0.1388754250650297,0.1389589703948663,0.1391720557966416,0.1394228375357185,0.1399012317127126,0.1402558839004105,0.1410790581583241,0.1419535022323532,0.1415190138014215,0.1427193733602701,0.1431352211800282,0.1434379514800382,0.135839980178688,0.1359238461097959,0.139038817241159,0.1408515815432425,0.1380986725081931,0.1381761450951027,0.1386861658341924,0.1391073487256453,0.1394441443280137,0.139756303432823,0.1395069244966883,0.1396970150020331,0.1401128561361245,0.1401939575719937,0.1410788821546901,0.1415316155897703,0.1422314386817093,0.1423309298193766,0.1433731721333364,0.1359779633599875,0.1365702419176249,0.1375957436182392,0.138573947066877,0.1387041727658832,0.1382224986006547,0.1387553302497279,0.1394538822344636,0.1399890683881681,0.1401235087121096,0.1396829612220784,0.1397387794242339,0.1405084756493151,0.1404608443988026,0.1407550242643689,0.1413639214465047,0.1420057979811542,0.1423608810719719,0.1425871698201514,0.1368954019326907,0.1378057289025345,0.1371375185349161,0.1373566022306627,0.1389826906283353,0.1390478380739064,0.1395292694769906,0.1406333931463237,0.1397663262917175,0.1395841129886015,0.1398886840460176,0.1402037933747435,0.1402747661059014,0.1406527211615592,0.1410768397141037,0.1418138753561753,0.1420168854216067,0.142802284344216,0.1423628654862818,0.1374046651302956,0.1397607406222109,0.140135981146972,0.1396548324622631,0.1396850571123367,0.1396748246785728,0.1405059936966026,0.1402035034217049,0.1405948271366129,0.1403755244183475,0.1408162180224551,0.1411257439149758,0.1425167268977302,0.1426936035378303,0.1429301244402137,0.1426477162098145,0.1361166112827863,0.1363427253117137,0.1381262588798705,0.1381287668274148,0.1389187264975932,0.1387098531129932,0.1392853202031104,0.1395436536891451,0.1404024818248444,0.1410725994698173,0.1413059485800394,0.1416721580107484,0.1419246954979467,0.1433776679147088,0.1428359214291287,0.1424657242732748,0.143436980705281,0.1432137430873573,0.1437220313638074,0.1367324539426929,0.136640103687583,0.1372774054241775,0.141225843174923,0.1390890786390417,0.1392344301135021,0.1420063613006041,0.1421311222415462,0.1403013012440341,0.1404959550232017,0.1410958137764562,0.1415496562813676,0.1420221966765801,0.1429585490597722,0.1440154906837135,0.1428273262042382,0.1433587171814254,0.143525007906379,0.1441859775139783,0.1381659200549339,0.1410925550399944,0.1426611296757954,0.1431636534867339,0.1428693750836437,0.1412725609311719,0.1397305491967132,0.1409721633154876,0.1436866623413697,0.1424497322731829,0.1410276486217858,0.1419911989546717,0.1425947032637263,0.1436734995815053,0.1432144996382003,0.1439295093464978,0.1439555161262439,0.1441145906644038,0.1374725484851832,0.1387108980534526,0.1383642714106968,0.1385439889711073,0.1453366933008065,0.1428228421580459,0.1444063970330704,0.1411701023576367,0.1432882995465448,0.1413775520760078,0.1407082897419257,0.1422466339099725,0.1416127960290863,0.1423064275086831,0.1443378179935872,0.1446080034467391,0.1434777588801249,0.1438444087612677,0.1366590168433353,0.1359638241954124,0.137728246725704,0.1387682069353153,0.1399713308146405,0.1385778437941092,0.1383268544147656,0.1407405119223689,0.1422969961415646,0.1444814921559467,0.1413931173892096,0.141438423981447,0.1416417722217951,0.1411848579978712,0.1419132215521245,0.1419281951114009,0.1426452521277572,0.1433832218600126,0.1439420908383752,0.1439847645392878,0.143516895884952,0.1413115412566682,0.1382626960917285,0.1381844745833343,0.1411180852301388,0.1443811534126277,0.148340337045047,0.1441431200875164,0.1415853286152662,0.1420192522858619,0.1418515389671635,0.1415288699328619,0.1417291036215175,0.1435519164504652,0.1434145368758397,0.1434815467254436,0.1439897038581987,0.1438017701773364],\"coloraxis\":\"coloraxis\",\"size\":[50,50,50,50,50,50,50,50,50,50,50,50,50,50,50,50,50,50,50,50,50,50,50,50,50,50,50,50,50,50,50,50,50,50,50,50,50,50,50,50,50,50,50,50,50,50,50,50,50,50,50,50,50,50,50,50,50,50,50,50,50,50,50,50,50,50,50,50,50,50,50,50,50,50,50,50,50,50,50,50,50,50,50,50,50,50,50,50,50,50,50,50,50,50,50,50,50,50,50,50,50,50,50,50,50,50,50,50,50,50,50,50,50,50,50,50,50,50,50,50,50,50,50,50,50,50,50,50,50,50,50,50,50,50,50,50,50,50,50,50,50,50,50,50,50,50,50,50,50,50,50,50,50,50,50,50,50,50,50,50,50,50,50,50,50,50,50,50,50,50,50,50,50,50,50,50,50,50,50,50,50,50,50,50,50,50,50,50,50,50,50,50,50,50,50,50,50,50,50,50,50,50,50,50,50,50,50,50,50,50,50,50,50,50,50,50,50,50,50,50,50,50,50,50,50,50,50,50,50,50,50,50,50,50,50,50,50,50,50,50,50,50,50,50,50,50,50,50,50,50,50,50,50,50,50,50,50,50,50,50,50,50,50,50,50,50,50,50,50,50,50,50,50],\"sizemode\":\"area\",\"sizeref\":0.125},\"mode\":\"markers\",\"name\":\"\",\"showlegend\":false,\"subplot\":\"mapbox\",\"type\":\"scattermapbox\"}],\"name\":\"2014\"},{\"data\":[{\"hovertemplate\":\"annee=2015<br>size=%{marker.size}<br>latitude=%{lat}<br>longitude=%{lon}<br>rendement_annuel=%{marker.color}<extra></extra>\",\"lat\":[41.0,41.5,42.0,42.5,43.0,43.5,41.0,41.5,42.0,42.5,43.0,50.5,52.0,41.0,41.5,42.0,42.5,43.0,48.0,48.5,50.5,51.0,52.0,52.5,41.0,41.5,42.0,42.5,43.0,48.0,48.5,51.0,52.0,52.5,41.0,41.5,42.0,42.5,43.0,47.0,47.5,48.0,48.5,51.0,51.5,52.0,52.5,41.0,41.5,42.0,42.5,43.0,43.5,44.0,44.5,45.0,46.0,46.5,47.0,47.5,48.0,48.5,49.0,51.0,51.5,52.0,52.5,41.0,41.5,42.0,42.5,43.0,43.5,44.0,44.5,45.0,45.5,46.0,46.5,47.0,47.5,48.0,48.5,49.0,51.0,51.5,52.0,52.5,41.5,42.0,42.5,43.0,43.5,44.0,44.5,45.0,45.5,46.0,46.5,47.0,47.5,48.0,48.5,49.0,49.5,52.0,52.5,41.5,42.0,42.5,43.0,43.5,44.0,44.5,45.0,45.5,46.0,46.5,47.0,47.5,48.0,48.5,49.0,49.5,50.0,50.5,42.0,42.5,43.0,43.5,44.0,44.5,45.0,45.5,46.0,46.5,47.0,47.5,48.0,48.5,49.0,49.5,50.0,50.5,51.0,44.0,44.5,45.0,45.5,46.0,46.5,47.0,47.5,48.0,48.5,49.0,49.5,50.0,50.5,51.0,51.5,43.5,44.0,44.5,45.0,45.5,46.0,46.5,47.0,47.5,48.0,48.5,49.0,49.5,50.0,50.5,51.0,51.5,52.0,52.5,43.5,44.0,44.5,45.0,45.5,46.0,46.5,47.0,47.5,48.0,48.5,49.0,49.5,50.0,50.5,51.0,51.5,52.0,52.5,44.0,44.5,45.0,45.5,46.0,46.5,47.0,47.5,48.0,48.5,49.0,49.5,50.0,50.5,51.0,51.5,52.0,52.5,44.0,44.5,45.0,45.5,46.0,46.5,47.0,47.5,48.0,48.5,49.0,49.5,50.0,50.5,51.0,51.5,52.0,52.5,41.0,41.5,42.0,42.5,44.5,45.0,45.5,46.0,46.5,47.0,47.5,48.0,48.5,49.0,49.5,50.0,50.5,51.0,51.5,52.0,52.5,44.5,45.0,45.5,46.0,46.5,47.0,47.5,48.0,48.5,49.0,49.5,50.0,50.5,51.0,51.5,52.0,52.5],\"legendgroup\":\"\",\"lon\":[-6,-6,-6,-6,-6,-6,-5,-5,-5,-5,-5,-5,-5,-4,-4,-4,-4,-4,-4,-4,-4,-4,-4,-4,-3,-3,-3,-3,-3,-3,-3,-3,-3,-3,-2,-2,-2,-2,-2,-2,-2,-2,-2,-2,-2,-2,-2,-1,-1,-1,-1,-1,-1,-1,-1,-1,-1,-1,-1,-1,-1,-1,-1,-1,-1,-1,-1,0,0,0,0,0,0,0,0,0,0,0,0,0,0,0,0,0,0,0,0,0,1,1,1,1,1,1,1,1,1,1,1,1,1,1,1,1,1,1,1,2,2,2,2,2,2,2,2,2,2,2,2,2,2,2,2,2,2,2,3,3,3,3,3,3,3,3,3,3,3,3,3,3,3,3,3,3,3,4,4,4,4,4,4,4,4,4,4,4,4,4,4,4,4,5,5,5,5,5,5,5,5,5,5,5,5,5,5,5,5,5,5,5,6,6,6,6,6,6,6,6,6,6,6,6,6,6,6,6,6,6,6,7,7,7,7,7,7,7,7,7,7,7,7,7,7,7,7,7,7,8,8,8,8,8,8,8,8,8,8,8,8,8,8,8,8,8,8,9,9,9,9,9,9,9,9,9,9,9,9,9,9,9,9,9,9,9,9,9,10,10,10,10,10,10,10,10,10,10,10,10,10,10,10,10,10],\"marker\":{\"color\":[0.1354376968112265,0.1357435512887068,0.1358893085163976,0.1359565592270548,0.137607320084109,0.1406851937377764,0.1354166341457576,0.1354969659532993,0.1356421716647718,0.1358167478483943,0.1376392454083044,0.1431058236608292,0.1434753138334224,0.1366537084689445,0.1357740471618143,0.1357639892780836,0.1365655627289508,0.1384869811852096,0.1413000870759745,0.1425703203459367,0.1437959052538856,0.1435427476124982,0.1449941820736868,0.1457934646722894,0.135264777730003,0.1360804777259563,0.1368714627448467,0.1377081949471015,0.1394177527027931,0.1409913295125371,0.1418502880469837,0.1433180428054678,0.1439050558408549,0.1442475700317232,0.1359001678600971,0.1358390301193425,0.1364893166086205,0.1365365728494604,0.1427440356584849,0.1392556415299847,0.1400103121560934,0.140585704384344,0.140834191332635,0.1433915434852737,0.1437759274329066,0.1440959006003974,0.144643394110942,0.1358745525670271,0.135619362761043,0.1355381194279039,0.1361117633426358,0.1383556772415443,0.139019147641409,0.1387976794713702,0.1384078585886447,0.1387346358545738,0.1384571413696564,0.1389301149836471,0.1395922012652165,0.1397666245504225,0.1402362636142257,0.1411959597305976,0.1417202081400726,0.1427374134697587,0.1436450633180231,0.1438698092273374,0.143689209517093,0.1357251656238429,0.1355684349353534,0.1353220209943757,0.137051707452929,0.1399867630944554,0.1384616858990021,0.1383916368043911,0.1382902971960356,0.1386111662253875,0.1387819813147714,0.1390243164006017,0.1391267809232086,0.1393389757708893,0.1399247940067435,0.1401686092457178,0.1408125677455281,0.1415016079705337,0.1420731683333696,0.1435390025447556,0.1437325554759742,0.1436631139516014,0.1356947380157824,0.1355527403121336,0.137619608364892,0.1407509368077128,0.1381546121498764,0.1377762814861547,0.1381195472208482,0.1385650751788278,0.1387576317926676,0.1393688220932712,0.1392366010985579,0.139559196184497,0.1398559190163477,0.1399550203815451,0.1405421924217635,0.1407312897850266,0.1416317353129572,0.143063758548637,0.1436331573084871,0.1354969118713131,0.1358298937894269,0.1368389915508529,0.1382162010347489,0.1384101176777203,0.1377812964949295,0.1378063305348616,0.1381532678871197,0.1386812397888159,0.139633840919281,0.1394610941499455,0.1391358178615569,0.1402670538883785,0.1402261128484326,0.1400718451985664,0.1406224704836077,0.1412477473068393,0.141543689428061,0.1421784637677124,0.1361026491147105,0.136696412099125,0.1367171061187675,0.1366514387478026,0.138284026192882,0.1378029758045365,0.1383345177176052,0.1395055372536416,0.1389257771053092,0.1390343917446876,0.1393854124248797,0.1396125530965455,0.1400358710695505,0.1401304840693836,0.1403770099706203,0.1411004450245549,0.1414722721796379,0.1421670531003233,0.1421928578436453,0.1364164095073641,0.1382472606984418,0.1390635539358894,0.1387589174266194,0.1388341934893071,0.1391268512673698,0.1397922551426034,0.1398636213493351,0.139905385292919,0.1398427488654313,0.1401118925840017,0.1406623852322152,0.1419644929611449,0.1420466323464675,0.1423964675120326,0.1422061052587611,0.1356901698408573,0.1358236322055263,0.1373467681986925,0.1375931828685447,0.138069264371589,0.1381693841909769,0.1387146891845058,0.1389273230192444,0.1396477540866816,0.1406154274648667,0.1408378679132522,0.1412331749291989,0.1414839371800105,0.1425875912774045,0.1421703701011739,0.1419245662922652,0.1426804720387972,0.1427114279019771,0.1433897202901642,0.1361450106247008,0.1360729756166214,0.1364372738401398,0.1398399778961388,0.1383079816182383,0.13858932232206,0.1399122641786245,0.1406291805454824,0.1395354175052471,0.1400312898004259,0.1406019080989115,0.1411007767845822,0.1414731935880869,0.1425243909057746,0.1434803815675191,0.1421666357588012,0.142540249867924,0.1429013201694648,0.1438318365586288,0.1373060888900687,0.1397062188256353,0.1415778679278937,0.1417585961798557,0.1416728054478955,0.139883097090028,0.1391660546089296,0.1397974478070253,0.1421882811340605,0.1416431425403257,0.1410146484775966,0.1419537099179149,0.1423307319046448,0.1430315933343802,0.1428619276605422,0.1431391197241941,0.1432697461962333,0.1436888710377104,0.1366281031548216,0.1377332547767336,0.1373642712107776,0.137561528061893,0.1432933666149015,0.1413402280370375,0.1430353171991643,0.1400586153321952,0.1419978194122935,0.1407551934176611,0.1406055589898482,0.1419351764692126,0.1414383391441972,0.1418156255844822,0.1435657781679582,0.1434511002343481,0.143099100727179,0.1437459642170779,0.136409420869871,0.1355974770801358,0.1367653717931579,0.1384145384106635,0.1383878581676825,0.137545316819553,0.1373971093200713,0.1390905409542629,0.1406320326610162,0.1427559276549831,0.1404252311328075,0.1402979234662391,0.1408832157329289,0.1410968727054627,0.1416787674965636,0.141478168217229,0.14208104526104,0.1424834185999991,0.143121797816681,0.1435112237818724,0.1435135194499376,0.139163260267084,0.1374967396223097,0.1373588197513898,0.1397636973745908,0.1426170364852837,0.1464560726807167,0.1419983606265826,0.1407048806676986,0.1410540740332993,0.1413732159064378,0.1412673630856063,0.141201702853762,0.142426510035382,0.1422254969241578,0.1424714001225045,0.1434756705588042,0.1433650112725435],\"coloraxis\":\"coloraxis\",\"size\":[50,50,50,50,50,50,50,50,50,50,50,50,50,50,50,50,50,50,50,50,50,50,50,50,50,50,50,50,50,50,50,50,50,50,50,50,50,50,50,50,50,50,50,50,50,50,50,50,50,50,50,50,50,50,50,50,50,50,50,50,50,50,50,50,50,50,50,50,50,50,50,50,50,50,50,50,50,50,50,50,50,50,50,50,50,50,50,50,50,50,50,50,50,50,50,50,50,50,50,50,50,50,50,50,50,50,50,50,50,50,50,50,50,50,50,50,50,50,50,50,50,50,50,50,50,50,50,50,50,50,50,50,50,50,50,50,50,50,50,50,50,50,50,50,50,50,50,50,50,50,50,50,50,50,50,50,50,50,50,50,50,50,50,50,50,50,50,50,50,50,50,50,50,50,50,50,50,50,50,50,50,50,50,50,50,50,50,50,50,50,50,50,50,50,50,50,50,50,50,50,50,50,50,50,50,50,50,50,50,50,50,50,50,50,50,50,50,50,50,50,50,50,50,50,50,50,50,50,50,50,50,50,50,50,50,50,50,50,50,50,50,50,50,50,50,50,50,50,50,50,50,50,50,50,50,50,50,50,50,50,50,50,50,50,50,50,50,50,50,50,50,50,50],\"sizemode\":\"area\",\"sizeref\":0.125},\"mode\":\"markers\",\"name\":\"\",\"showlegend\":false,\"subplot\":\"mapbox\",\"type\":\"scattermapbox\"}],\"name\":\"2015\"},{\"data\":[{\"hovertemplate\":\"annee=2016<br>size=%{marker.size}<br>latitude=%{lat}<br>longitude=%{lon}<br>rendement_annuel=%{marker.color}<extra></extra>\",\"lat\":[41.0,41.5,42.0,42.5,43.0,43.5,41.0,41.5,42.0,42.5,43.0,50.5,52.0,41.0,41.5,42.0,42.5,43.0,48.0,48.5,50.5,51.0,52.0,52.5,41.0,41.5,42.0,42.5,43.0,48.0,48.5,51.0,52.0,52.5,41.0,41.5,42.0,42.5,43.0,47.0,47.5,48.0,48.5,51.0,51.5,52.0,52.5,41.0,41.5,42.0,42.5,43.0,43.5,44.0,44.5,45.0,46.0,46.5,47.0,47.5,48.0,48.5,49.0,51.0,51.5,52.0,52.5,41.0,41.5,42.0,42.5,43.0,43.5,44.0,44.5,45.0,45.5,46.0,46.5,47.0,47.5,48.0,48.5,49.0,51.0,51.5,52.0,52.5,41.5,42.0,42.5,43.0,43.5,44.0,44.5,45.0,45.5,46.0,46.5,47.0,47.5,48.0,48.5,49.0,49.5,52.0,52.5,41.5,42.0,42.5,43.0,43.5,44.0,44.5,45.0,45.5,46.0,46.5,47.0,47.5,48.0,48.5,49.0,49.5,50.0,50.5,42.0,42.5,43.0,43.5,44.0,44.5,45.0,45.5,46.0,46.5,47.0,47.5,48.0,48.5,49.0,49.5,50.0,50.5,51.0,44.0,44.5,45.0,45.5,46.0,46.5,47.0,47.5,48.0,48.5,49.0,49.5,50.0,50.5,51.0,51.5,43.5,44.0,44.5,45.0,45.5,46.0,46.5,47.0,47.5,48.0,48.5,49.0,49.5,50.0,50.5,51.0,51.5,52.0,52.5,43.5,44.0,44.5,45.0,45.5,46.0,46.5,47.0,47.5,48.0,48.5,49.0,49.5,50.0,50.5,51.0,51.5,52.0,52.5,44.0,44.5,45.0,45.5,46.0,46.5,47.0,47.5,48.0,48.5,49.0,49.5,50.0,50.5,51.0,51.5,52.0,52.5,44.0,44.5,45.0,45.5,46.0,46.5,47.0,47.5,48.0,48.5,49.0,49.5,50.0,50.5,51.0,51.5,52.0,52.5,41.0,41.5,42.0,42.5,44.5,45.0,45.5,46.0,46.5,47.0,47.5,48.0,48.5,49.0,49.5,50.0,50.5,51.0,51.5,52.0,52.5,44.5,45.0,45.5,46.0,46.5,47.0,47.5,48.0,48.5,49.0,49.5,50.0,50.5,51.0,51.5,52.0,52.5],\"legendgroup\":\"\",\"lon\":[-6,-6,-6,-6,-6,-6,-5,-5,-5,-5,-5,-5,-5,-4,-4,-4,-4,-4,-4,-4,-4,-4,-4,-4,-3,-3,-3,-3,-3,-3,-3,-3,-3,-3,-2,-2,-2,-2,-2,-2,-2,-2,-2,-2,-2,-2,-2,-1,-1,-1,-1,-1,-1,-1,-1,-1,-1,-1,-1,-1,-1,-1,-1,-1,-1,-1,-1,0,0,0,0,0,0,0,0,0,0,0,0,0,0,0,0,0,0,0,0,0,1,1,1,1,1,1,1,1,1,1,1,1,1,1,1,1,1,1,1,2,2,2,2,2,2,2,2,2,2,2,2,2,2,2,2,2,2,2,3,3,3,3,3,3,3,3,3,3,3,3,3,3,3,3,3,3,3,4,4,4,4,4,4,4,4,4,4,4,4,4,4,4,4,5,5,5,5,5,5,5,5,5,5,5,5,5,5,5,5,5,5,5,6,6,6,6,6,6,6,6,6,6,6,6,6,6,6,6,6,6,6,7,7,7,7,7,7,7,7,7,7,7,7,7,7,7,7,7,7,8,8,8,8,8,8,8,8,8,8,8,8,8,8,8,8,8,8,9,9,9,9,9,9,9,9,9,9,9,9,9,9,9,9,9,9,9,9,9,10,10,10,10,10,10,10,10,10,10,10,10,10,10,10,10,10],\"marker\":{\"color\":[0.1361337074629559,0.1361740052677099,0.1374799077292009,0.1375302872826356,0.1394349076468322,0.1397564715689898,0.1358006352841558,0.1357498236835493,0.1357275089481842,0.1362035946222664,0.139085649264018,0.1428399872400848,0.1436672176437332,0.1358464658798544,0.1359350845462046,0.1359500666667505,0.1361869707916903,0.1387623040978557,0.1420267698190264,0.1418085893367607,0.1433058520753714,0.1442475068047628,0.1449923541863659,0.1442326505019938,0.1359112934006922,0.1360434154285934,0.1362444544788425,0.1367398677779115,0.1386470560710105,0.1417229795329558,0.1418419062679238,0.1455791420336806,0.1474542881303411,0.1479877656553599,0.1360734629490827,0.136323783590921,0.1373586360707433,0.1369921283405798,0.14178125305773,0.1394295167468885,0.1404767737253278,0.1411832496380219,0.1408134405165696,0.1445826145073636,0.1444918161906409,0.1444248042401066,0.1450568155688897,0.1363560332312199,0.1365454826142235,0.1363012552474538,0.1362009859760792,0.1388622216337469,0.1383047795845162,0.1383847684872932,0.1384512762566588,0.1385810752356189,0.1398518416577934,0.1400713155006785,0.1406741997493891,0.1409724114011404,0.1418548584870736,0.1417325922159832,0.1419658707092196,0.1441099189597885,0.1444702226608559,0.1443585562072225,0.1449466593918334,0.1355085695701917,0.1353966689081518,0.1356892603215292,0.1369764776971689,0.1397662520677155,0.1392642215317894,0.138747822642657,0.1389057848727143,0.1392725773748123,0.1401137026734871,0.1400813431006889,0.1404378977119737,0.140623644971063,0.1412644852052762,0.1425142272558527,0.1420560426732855,0.1416647552658971,0.143831955631244,0.1438600807745506,0.1440660460654511,0.1440159294849488,0.1354218862539221,0.1355426909074774,0.1370153914533474,0.13917060911682,0.1386147069600179,0.138646060999161,0.1389330525294627,0.1393801999821454,0.1402455664572127,0.1406100957161844,0.1406008722278986,0.1407067397409481,0.1409746665005889,0.141930707329443,0.1420334759475684,0.1422261402064617,0.1416439825856692,0.1436753482956781,0.1444202994401656,0.1357837224046282,0.1361352232886589,0.1365126977009907,0.1384137836680036,0.1385581402928332,0.1388679648798671,0.1392259750886774,0.1393782588705551,0.1404956196318111,0.1406021967191571,0.1406138884212349,0.1409984512959722,0.1410048375769484,0.1423240071951443,0.1421812870055013,0.1429454023361138,0.1425773812342136,0.1419382374717615,0.1423087005880587,0.1365522583271438,0.1374596780600635,0.1385332309819175,0.1390157122867822,0.1391785543012835,0.1395235724050599,0.1395063384234644,0.1416616507329313,0.1408809887659327,0.1410428523000191,0.1412393868269167,0.1413067879275766,0.1420411760772278,0.1425999044370089,0.1431008883638211,0.1424944411182842,0.1427104388226871,0.1417592256083433,0.1417443589161873,0.1385023449287721,0.1405332275647466,0.140344242373185,0.1407441854129789,0.1408854414369865,0.1410442878506646,0.1415084912303352,0.1416153987543096,0.1424902013147244,0.1423581274440122,0.1426467069881843,0.1428437618400437,0.1427656024853852,0.1418680517297669,0.1417503825303101,0.141842828952702,0.1367032627359988,0.1374193470708955,0.1390737951284802,0.1385975131529797,0.1404379153948139,0.1406238093390998,0.1406872722940886,0.1407894633782069,0.1410985181184677,0.1427225371173177,0.1430070627544854,0.1428271444982551,0.143512474330424,0.1445592245669297,0.1436061300601729,0.1434500246482128,0.1433441195966209,0.1438191374142564,0.1437006869335631,0.1371676547393221,0.1375233588006978,0.1385380942820333,0.1401370646486357,0.1407519186621613,0.1410260832608171,0.1410423232285506,0.1419904695852491,0.1410581833836058,0.1428866824340554,0.1428787468240334,0.1433035080103495,0.1436411928829753,0.1440662455734767,0.1433668005202236,0.1434746704773326,0.1434316050410738,0.1438504743703602,0.1432138664880839,0.1376006802438983,0.1376313203473968,0.1416399997277875,0.142566735079572,0.142542242446546,0.1417330562810289,0.1412317085293412,0.1414493696829262,0.1437188255946645,0.1430992142002769,0.1431711320801326,0.1439427452777434,0.1441223165401062,0.1430970926550317,0.1434328125445126,0.1433714223750234,0.1437131896593165,0.1436897385044492,0.1379774500377353,0.1380861633117588,0.1376821281866039,0.141609780463204,0.1426298965006548,0.1423243056411291,0.1426491302918117,0.1417684441756999,0.1423559720606868,0.1433287345345555,0.1432226643606622,0.1430561361866589,0.1431683172000282,0.1442750955154109,0.1436517895895805,0.1435108727980737,0.14415704849528,0.1442548888715285,0.1359923062004743,0.1359437616554309,0.1360186210374187,0.1370219693537011,0.1378676872917066,0.1378904835966838,0.1432347118631972,0.1438167623875605,0.1432906611869804,0.141892190306627,0.1412670503359088,0.1418332793549835,0.1420565157627595,0.1422766196950056,0.1425071802505854,0.1424143373916939,0.1445846854800911,0.1434573372078779,0.1437463501265366,0.143805378133078,0.1436820647088615,0.138081893932621,0.1377490534009912,0.142198900297973,0.1411791537836148,0.1448920319869262,0.1463566226673678,0.1435923526961416,0.1424970873005104,0.1421751377305367,0.1422743625361124,0.1421112406160424,0.1421123216780802,0.1434696263593737,0.1435668808130561,0.1434270417081565,0.1431227692174615,0.1438358626090055],\"coloraxis\":\"coloraxis\",\"size\":[50,50,50,50,50,50,50,50,50,50,50,50,50,50,50,50,50,50,50,50,50,50,50,50,50,50,50,50,50,50,50,50,50,50,50,50,50,50,50,50,50,50,50,50,50,50,50,50,50,50,50,50,50,50,50,50,50,50,50,50,50,50,50,50,50,50,50,50,50,50,50,50,50,50,50,50,50,50,50,50,50,50,50,50,50,50,50,50,50,50,50,50,50,50,50,50,50,50,50,50,50,50,50,50,50,50,50,50,50,50,50,50,50,50,50,50,50,50,50,50,50,50,50,50,50,50,50,50,50,50,50,50,50,50,50,50,50,50,50,50,50,50,50,50,50,50,50,50,50,50,50,50,50,50,50,50,50,50,50,50,50,50,50,50,50,50,50,50,50,50,50,50,50,50,50,50,50,50,50,50,50,50,50,50,50,50,50,50,50,50,50,50,50,50,50,50,50,50,50,50,50,50,50,50,50,50,50,50,50,50,50,50,50,50,50,50,50,50,50,50,50,50,50,50,50,50,50,50,50,50,50,50,50,50,50,50,50,50,50,50,50,50,50,50,50,50,50,50,50,50,50,50,50,50,50,50,50,50,50,50,50,50,50,50,50,50,50,50,50,50,50,50,50],\"sizemode\":\"area\",\"sizeref\":0.125},\"mode\":\"markers\",\"name\":\"\",\"showlegend\":false,\"subplot\":\"mapbox\",\"type\":\"scattermapbox\"}],\"name\":\"2016\"}]);\n",
              "                        }).then(function(){\n",
              "                            \n",
              "var gd = document.getElementById('ca706351-1c9b-44e2-a490-adf2bb29ca60');\n",
              "var x = new MutationObserver(function (mutations, observer) {{\n",
              "        var display = window.getComputedStyle(gd).display;\n",
              "        if (!display || display === 'none') {{\n",
              "            console.log([gd, 'removed!']);\n",
              "            Plotly.purge(gd);\n",
              "            observer.disconnect();\n",
              "        }}\n",
              "}});\n",
              "\n",
              "// Listen for the removal of the full notebook cells\n",
              "var notebookContainer = gd.closest('#notebook-container');\n",
              "if (notebookContainer) {{\n",
              "    x.observe(notebookContainer, {childList: true});\n",
              "}}\n",
              "\n",
              "// Listen for the clearing of the current output cell\n",
              "var outputEl = gd.closest('.output');\n",
              "if (outputEl) {{\n",
              "    x.observe(outputEl, {childList: true});\n",
              "}}\n",
              "\n",
              "                        })                };                            </script>        </div>\n",
              "</body>\n",
              "</html>"
            ]
          },
          "metadata": {}
        }
      ]
    },
    {
      "cell_type": "markdown",
      "source": [
        "Nous pouvons premièrement noter que les régions de France ayant plus d'Energie fournie (ce qui est corrélé à l'Energie reçue vu précédemment) correspondent également aux zone ayant le moins bon rendement estimé (bien que la différence se joue au point de pourcentage près).\n",
        "\n",
        "Ceci est essentiellement dû à la construction de notre estimateur de rendement qui décroît avec la puissance radiative reçue."
      ],
      "metadata": {
        "id": "9lvg4pAX7DCb"
      }
    },
    {
      "cell_type": "markdown",
      "source": [
        "Par ailleurs, nous constatons qu'un mètre carré de panneaux solaires peut produire jusqu'à 220 kWh dans l'année. Or nous savons que pour produire une telle surface, sans tenir compte du transport, il est nécessaire de mobiliser environ 420 kWh.\n",
        "(sources utilisées : )\n",
        "\n",
        "Nous en déduisons que d'un point de vue énergétique, ces panneaux solaires là deviennent rentable à partir de la troisième année de fonctionnement.\n",
        "Aujourd'hui un panneau photovoltaïque a une durée de vie estimée de 25 ans. Dans le meilleur des cas, nous pourrions alors obtenir un taux de retour énergétique équivalent à 12,5 sur toute la durée de vie de ces panneaux solaires.\n",
        "C'est-à-dire que pour un kWh investit nous en récupérerions 12,5 avec ces panneaux photovoltaïques.\n",
        "\n",
        "Ce qui en fait une source d'énergie plutôt intéressante lorsqu'on sait que le pétrole conventionnel, la reine des énergies, à aujourd'hui un taux de retour énergétique de 8. \n",
        "Si nous devions comparée ces panneaux au nucléaire qui en 2022 produit 60% de l'électricité consommé en France et qui a un taux de retour énergétique de 10 environ. Nous constatons que le solaire pourrait être un bon challenger.\n",
        "\n",
        "\n",
        "\n"
      ],
      "metadata": {
        "id": "N2EPzIjqYyX3"
      }
    },
    {
      "cell_type": "code",
      "source": [
        "carte_interactive(df,\"retour_énergétique\")"
      ],
      "metadata": {
        "id": "W8HfX50Uu1vS",
        "outputId": "c3b5caed-96af-42da-ad73-809697d0a5c4",
        "colab": {
          "base_uri": "https://localhost:8080/",
          "height": 542
        }
      },
      "execution_count": null,
      "outputs": [
        {
          "output_type": "display_data",
          "data": {
            "text/html": [
              "<html>\n",
              "<head><meta charset=\"utf-8\" /></head>\n",
              "<body>\n",
              "    <div>            <script src=\"https://cdnjs.cloudflare.com/ajax/libs/mathjax/2.7.5/MathJax.js?config=TeX-AMS-MML_SVG\"></script><script type=\"text/javascript\">if (window.MathJax) {MathJax.Hub.Config({SVG: {font: \"STIX-Web\"}});}</script>                <script type=\"text/javascript\">window.PlotlyConfig = {MathJaxConfig: 'local'};</script>\n",
              "        <script src=\"https://cdn.plot.ly/plotly-2.8.3.min.js\"></script>                <div id=\"1bd5e0e0-cf2f-492d-87ae-bea81ec12227\" class=\"plotly-graph-div\" style=\"height:525px; width:100%;\"></div>            <script type=\"text/javascript\">                                    window.PLOTLYENV=window.PLOTLYENV || {};                                    if (document.getElementById(\"1bd5e0e0-cf2f-492d-87ae-bea81ec12227\")) {                    Plotly.newPlot(                        \"1bd5e0e0-cf2f-492d-87ae-bea81ec12227\",                        [{\"hovertemplate\":\"annee=2013<br>size=%{marker.size}<br>latitude=%{lat}<br>longitude=%{lon}<br>retour_\\u00e9nerg\\u00e9tique=%{marker.color}<extra></extra>\",\"lat\":[41.0,41.5,42.0,42.5,43.0,43.5,41.0,41.5,42.0,42.5,43.0,50.5,52.0,41.0,41.5,42.0,42.5,43.0,48.0,48.5,50.5,51.0,52.0,52.5,41.0,41.5,42.0,42.5,43.0,48.0,48.5,51.0,52.0,52.5,41.0,41.5,42.0,42.5,43.0,47.0,47.5,48.0,48.5,51.0,51.5,52.0,52.5,41.0,41.5,42.0,42.5,43.0,43.5,44.0,44.5,45.0,46.0,46.5,47.0,47.5,48.0,48.5,49.0,51.0,51.5,52.0,52.5,41.0,41.5,42.0,42.5,43.0,43.5,44.0,44.5,45.0,45.5,46.0,46.5,47.0,47.5,48.0,48.5,49.0,51.0,51.5,52.0,52.5,41.5,42.0,42.5,43.0,43.5,44.0,44.5,45.0,45.5,46.0,46.5,47.0,47.5,48.0,48.5,49.0,49.5,52.0,52.5,41.5,42.0,42.5,43.0,43.5,44.0,44.5,45.0,45.5,46.0,46.5,47.0,47.5,48.0,48.5,49.0,49.5,50.0,50.5,42.0,42.5,43.0,43.5,44.0,44.5,45.0,45.5,46.0,46.5,47.0,47.5,48.0,48.5,49.0,49.5,50.0,50.5,51.0,44.0,44.5,45.0,45.5,46.0,46.5,47.0,47.5,48.0,48.5,49.0,49.5,50.0,50.5,51.0,51.5,43.5,44.0,44.5,45.0,45.5,46.0,46.5,47.0,47.5,48.0,48.5,49.0,49.5,50.0,50.5,51.0,51.5,52.0,52.5,43.5,44.0,44.5,45.0,45.5,46.0,46.5,47.0,47.5,48.0,48.5,49.0,49.5,50.0,50.5,51.0,51.5,52.0,52.5,44.0,44.5,45.0,45.5,46.0,46.5,47.0,47.5,48.0,48.5,49.0,49.5,50.0,50.5,51.0,51.5,52.0,52.5,44.0,44.5,45.0,45.5,46.0,46.5,47.0,47.5,48.0,48.5,49.0,49.5,50.0,50.5,51.0,51.5,52.0,52.5,41.0,41.5,42.0,42.5,44.5,45.0,45.5,46.0,46.5,47.0,47.5,48.0,48.5,49.0,49.5,50.0,50.5,51.0,51.5,52.0,52.5,44.5,45.0,45.5,46.0,46.5,47.0,47.5,48.0,48.5,49.0,49.5,50.0,50.5,51.0,51.5,52.0,52.5],\"legendgroup\":\"\",\"lon\":[-6,-6,-6,-6,-6,-6,-5,-5,-5,-5,-5,-5,-5,-4,-4,-4,-4,-4,-4,-4,-4,-4,-4,-4,-3,-3,-3,-3,-3,-3,-3,-3,-3,-3,-2,-2,-2,-2,-2,-2,-2,-2,-2,-2,-2,-2,-2,-1,-1,-1,-1,-1,-1,-1,-1,-1,-1,-1,-1,-1,-1,-1,-1,-1,-1,-1,-1,0,0,0,0,0,0,0,0,0,0,0,0,0,0,0,0,0,0,0,0,0,1,1,1,1,1,1,1,1,1,1,1,1,1,1,1,1,1,1,1,2,2,2,2,2,2,2,2,2,2,2,2,2,2,2,2,2,2,2,3,3,3,3,3,3,3,3,3,3,3,3,3,3,3,3,3,3,3,4,4,4,4,4,4,4,4,4,4,4,4,4,4,4,4,5,5,5,5,5,5,5,5,5,5,5,5,5,5,5,5,5,5,5,6,6,6,6,6,6,6,6,6,6,6,6,6,6,6,6,6,6,6,7,7,7,7,7,7,7,7,7,7,7,7,7,7,7,7,7,7,8,8,8,8,8,8,8,8,8,8,8,8,8,8,8,8,8,8,9,9,9,9,9,9,9,9,9,9,9,9,9,9,9,9,9,9,9,9,9,10,10,10,10,10,10,10,10,10,10,10,10,10,10,10,10,10],\"marker\":{\"color\":[13.615901434092308,13.505056607315284,13.37993125806094,13.157837079451893,11.61051079437207,10.05594800553058,13.610227065414064,13.400893886506296,13.288552156499955,13.002100405747871,11.3954782193521,8.84504902477341,8.76370384607872,12.08523933391707,12.859231992176383,12.771560380256386,12.223014701161176,10.723651851521206,9.863551978379986,9.1457856759796,8.760130430588827,8.711873743670612,8.241514389862587,8.265600193980594,13.401754304877247,12.848651224914391,11.869506209645106,11.155809455565878,10.160899345891236,9.842440644656474,9.450856451237367,9.00910867014475,8.338188581379612,8.120006125028599,12.79059224797296,12.865651638436118,12.123336269007517,12.1792577717496,8.626808268364867,10.588476710622697,10.170329070089986,9.889264273840164,9.678343713516178,8.790644418021296,8.643723165406712,8.378004237189849,8.150812269445238,12.80693983218966,13.100150814267488,13.4701029865907,12.35420858293704,10.687466122196565,10.40469778221314,10.542920432752188,10.867044017048826,10.712986005577012,10.87986827851466,10.621530727219955,10.106298824677964,10.06018990020454,9.8589078206057,9.372935250315672,9.167293873298735,9.012384856106058,8.58855197491942,8.458560177507469,8.435124502942141,13.162671679216356,13.94253352612088,14.092112867340909,12.25415320698213,9.50265652663338,10.908992258317666,10.664128514311235,10.873536848487158,10.71474230393088,10.518727660068052,10.48400716660731,10.252636055189331,10.071091573164928,9.87596551265704,9.781180928887007,9.541283269881175,9.104636634372993,9.122133656394778,8.519242181368945,8.589858182164551,8.58091704017509,13.626058267268885,13.49889197820332,10.876115768679064,9.612783365217547,10.978142547580582,11.043005119345848,10.77230379677689,10.47388958928924,10.227928505401474,9.96386966811064,9.956856951929003,9.943023129016384,9.639877787948976,9.608650701064391,9.461654220215372,9.277845010799718,9.030457582075163,8.883025019643123,8.656405472363243,13.33707305431719,12.95495273331576,11.705765791747725,10.760057501213051,10.371694842011712,10.948164205607842,10.63892129143957,10.118197508885016,9.965869600872637,9.489879547316832,9.655140436551893,9.957242286852429,9.281642248964808,9.492314942836446,9.595385869201356,9.360939375023976,9.1166414845171,8.954110336774212,8.799186945224422,12.45994577013073,11.780596797755225,12.08206427921951,12.01473814695064,10.574858503066771,10.577740890016209,10.11485244275561,9.472146625312575,9.935962401022666,9.755634704679569,9.688941554887636,9.646758143299122,9.582020416838528,9.65776437693841,9.418894302050465,9.16839296437079,9.11755188478969,8.901645465603291,8.906731799032933,12.204299434132489,10.649565028600998,9.525384282352457,9.711251067891116,9.938475943427903,9.80431226109945,9.509420792632426,9.395857971934271,9.345927876355995,9.570237749016297,9.370858411094806,9.268028200486832,8.890511613940701,8.859061104307488,8.803656129859837,8.838948314122517,13.255544035692663,13.066103069906148,11.693155248515314,11.195433428959182,10.563720638258795,10.317295415865464,9.76534038734838,9.737606123309718,9.41074024732079,9.023669383136356,9.062837390247427,9.005752805005939,8.86545937144725,8.4950887375096,8.60304431850689,8.874745206142308,8.540798755331563,8.56587226888354,8.530928060809046,12.728291157458736,12.794273980517188,12.324140346507637,9.296515987296594,10.554356364812993,10.401359137116357,9.248802315432368,8.751814098852963,9.548582743542278,9.393986459824658,9.132342222663707,9.232467792179747,8.959619071997396,8.664550587335672,8.23858001305085,8.723660497604511,8.678858034370224,8.538534649541665,8.30601731083491,11.581664378297278,9.886172984431772,9.110178861118587,8.322028190765671,8.453173404032933,9.657367002578823,10.080046286882428,9.40443683634472,8.420649122626743,8.661510593221951,9.082276628703916,8.932920272434837,8.671914052424125,8.40043279329079,8.514344392806207,8.367202344229064,8.488331441178243,8.3940599562875,12.147587414715462,11.277294954920585,11.51549935843826,11.440507680682725,8.211995113851,8.942465137423053,8.477293648234987,9.417879632964096,8.486177803559956,9.0317582789782,9.299968167924687,8.82764255390481,9.199070761101323,8.953578631493588,8.163293624491356,8.112381986517725,8.427001750746486,8.295468065005773,12.189037661124926,13.242385077901565,11.524397523288943,10.899828277309808,10.68038204499332,11.194869253684065,11.374466338667904,10.125492385670492,9.465824170137486,8.401120719376385,9.184040510099452,9.31525132005222,9.102325938225492,9.03618339198064,8.836242943367784,8.98928344006832,8.76765267030204,8.509649596433766,8.36510740937082,8.216015958568391,8.40626320174628,9.768472902704836,11.289023116931832,11.277965150200195,9.894284426854062,8.57257323524692,7.433729331349987,8.637898705090999,9.204344107106,9.075160300405017,8.823836267921028,8.966073815037696,9.015854183809898,8.412626261268082,8.439027431375493,8.381405595416117,8.242882945405803,8.499210275693065],\"coloraxis\":\"coloraxis\",\"size\":[50,50,50,50,50,50,50,50,50,50,50,50,50,50,50,50,50,50,50,50,50,50,50,50,50,50,50,50,50,50,50,50,50,50,50,50,50,50,50,50,50,50,50,50,50,50,50,50,50,50,50,50,50,50,50,50,50,50,50,50,50,50,50,50,50,50,50,50,50,50,50,50,50,50,50,50,50,50,50,50,50,50,50,50,50,50,50,50,50,50,50,50,50,50,50,50,50,50,50,50,50,50,50,50,50,50,50,50,50,50,50,50,50,50,50,50,50,50,50,50,50,50,50,50,50,50,50,50,50,50,50,50,50,50,50,50,50,50,50,50,50,50,50,50,50,50,50,50,50,50,50,50,50,50,50,50,50,50,50,50,50,50,50,50,50,50,50,50,50,50,50,50,50,50,50,50,50,50,50,50,50,50,50,50,50,50,50,50,50,50,50,50,50,50,50,50,50,50,50,50,50,50,50,50,50,50,50,50,50,50,50,50,50,50,50,50,50,50,50,50,50,50,50,50,50,50,50,50,50,50,50,50,50,50,50,50,50,50,50,50,50,50,50,50,50,50,50,50,50,50,50,50,50,50,50,50,50,50,50,50,50,50,50,50,50,50,50,50,50,50,50,50,50],\"sizemode\":\"area\",\"sizeref\":0.125},\"mode\":\"markers\",\"name\":\"\",\"showlegend\":false,\"subplot\":\"mapbox\",\"type\":\"scattermapbox\"}],                        {\"template\":{\"data\":{\"bar\":[{\"error_x\":{\"color\":\"#2a3f5f\"},\"error_y\":{\"color\":\"#2a3f5f\"},\"marker\":{\"line\":{\"color\":\"#E5ECF6\",\"width\":0.5},\"pattern\":{\"fillmode\":\"overlay\",\"size\":10,\"solidity\":0.2}},\"type\":\"bar\"}],\"barpolar\":[{\"marker\":{\"line\":{\"color\":\"#E5ECF6\",\"width\":0.5},\"pattern\":{\"fillmode\":\"overlay\",\"size\":10,\"solidity\":0.2}},\"type\":\"barpolar\"}],\"carpet\":[{\"aaxis\":{\"endlinecolor\":\"#2a3f5f\",\"gridcolor\":\"white\",\"linecolor\":\"white\",\"minorgridcolor\":\"white\",\"startlinecolor\":\"#2a3f5f\"},\"baxis\":{\"endlinecolor\":\"#2a3f5f\",\"gridcolor\":\"white\",\"linecolor\":\"white\",\"minorgridcolor\":\"white\",\"startlinecolor\":\"#2a3f5f\"},\"type\":\"carpet\"}],\"choropleth\":[{\"colorbar\":{\"outlinewidth\":0,\"ticks\":\"\"},\"type\":\"choropleth\"}],\"contour\":[{\"colorbar\":{\"outlinewidth\":0,\"ticks\":\"\"},\"colorscale\":[[0.0,\"#0d0887\"],[0.1111111111111111,\"#46039f\"],[0.2222222222222222,\"#7201a8\"],[0.3333333333333333,\"#9c179e\"],[0.4444444444444444,\"#bd3786\"],[0.5555555555555556,\"#d8576b\"],[0.6666666666666666,\"#ed7953\"],[0.7777777777777778,\"#fb9f3a\"],[0.8888888888888888,\"#fdca26\"],[1.0,\"#f0f921\"]],\"type\":\"contour\"}],\"contourcarpet\":[{\"colorbar\":{\"outlinewidth\":0,\"ticks\":\"\"},\"type\":\"contourcarpet\"}],\"heatmap\":[{\"colorbar\":{\"outlinewidth\":0,\"ticks\":\"\"},\"colorscale\":[[0.0,\"#0d0887\"],[0.1111111111111111,\"#46039f\"],[0.2222222222222222,\"#7201a8\"],[0.3333333333333333,\"#9c179e\"],[0.4444444444444444,\"#bd3786\"],[0.5555555555555556,\"#d8576b\"],[0.6666666666666666,\"#ed7953\"],[0.7777777777777778,\"#fb9f3a\"],[0.8888888888888888,\"#fdca26\"],[1.0,\"#f0f921\"]],\"type\":\"heatmap\"}],\"heatmapgl\":[{\"colorbar\":{\"outlinewidth\":0,\"ticks\":\"\"},\"colorscale\":[[0.0,\"#0d0887\"],[0.1111111111111111,\"#46039f\"],[0.2222222222222222,\"#7201a8\"],[0.3333333333333333,\"#9c179e\"],[0.4444444444444444,\"#bd3786\"],[0.5555555555555556,\"#d8576b\"],[0.6666666666666666,\"#ed7953\"],[0.7777777777777778,\"#fb9f3a\"],[0.8888888888888888,\"#fdca26\"],[1.0,\"#f0f921\"]],\"type\":\"heatmapgl\"}],\"histogram\":[{\"marker\":{\"pattern\":{\"fillmode\":\"overlay\",\"size\":10,\"solidity\":0.2}},\"type\":\"histogram\"}],\"histogram2d\":[{\"colorbar\":{\"outlinewidth\":0,\"ticks\":\"\"},\"colorscale\":[[0.0,\"#0d0887\"],[0.1111111111111111,\"#46039f\"],[0.2222222222222222,\"#7201a8\"],[0.3333333333333333,\"#9c179e\"],[0.4444444444444444,\"#bd3786\"],[0.5555555555555556,\"#d8576b\"],[0.6666666666666666,\"#ed7953\"],[0.7777777777777778,\"#fb9f3a\"],[0.8888888888888888,\"#fdca26\"],[1.0,\"#f0f921\"]],\"type\":\"histogram2d\"}],\"histogram2dcontour\":[{\"colorbar\":{\"outlinewidth\":0,\"ticks\":\"\"},\"colorscale\":[[0.0,\"#0d0887\"],[0.1111111111111111,\"#46039f\"],[0.2222222222222222,\"#7201a8\"],[0.3333333333333333,\"#9c179e\"],[0.4444444444444444,\"#bd3786\"],[0.5555555555555556,\"#d8576b\"],[0.6666666666666666,\"#ed7953\"],[0.7777777777777778,\"#fb9f3a\"],[0.8888888888888888,\"#fdca26\"],[1.0,\"#f0f921\"]],\"type\":\"histogram2dcontour\"}],\"mesh3d\":[{\"colorbar\":{\"outlinewidth\":0,\"ticks\":\"\"},\"type\":\"mesh3d\"}],\"parcoords\":[{\"line\":{\"colorbar\":{\"outlinewidth\":0,\"ticks\":\"\"}},\"type\":\"parcoords\"}],\"pie\":[{\"automargin\":true,\"type\":\"pie\"}],\"scatter\":[{\"marker\":{\"colorbar\":{\"outlinewidth\":0,\"ticks\":\"\"}},\"type\":\"scatter\"}],\"scatter3d\":[{\"line\":{\"colorbar\":{\"outlinewidth\":0,\"ticks\":\"\"}},\"marker\":{\"colorbar\":{\"outlinewidth\":0,\"ticks\":\"\"}},\"type\":\"scatter3d\"}],\"scattercarpet\":[{\"marker\":{\"colorbar\":{\"outlinewidth\":0,\"ticks\":\"\"}},\"type\":\"scattercarpet\"}],\"scattergeo\":[{\"marker\":{\"colorbar\":{\"outlinewidth\":0,\"ticks\":\"\"}},\"type\":\"scattergeo\"}],\"scattergl\":[{\"marker\":{\"colorbar\":{\"outlinewidth\":0,\"ticks\":\"\"}},\"type\":\"scattergl\"}],\"scattermapbox\":[{\"marker\":{\"colorbar\":{\"outlinewidth\":0,\"ticks\":\"\"}},\"type\":\"scattermapbox\"}],\"scatterpolar\":[{\"marker\":{\"colorbar\":{\"outlinewidth\":0,\"ticks\":\"\"}},\"type\":\"scatterpolar\"}],\"scatterpolargl\":[{\"marker\":{\"colorbar\":{\"outlinewidth\":0,\"ticks\":\"\"}},\"type\":\"scatterpolargl\"}],\"scatterternary\":[{\"marker\":{\"colorbar\":{\"outlinewidth\":0,\"ticks\":\"\"}},\"type\":\"scatterternary\"}],\"surface\":[{\"colorbar\":{\"outlinewidth\":0,\"ticks\":\"\"},\"colorscale\":[[0.0,\"#0d0887\"],[0.1111111111111111,\"#46039f\"],[0.2222222222222222,\"#7201a8\"],[0.3333333333333333,\"#9c179e\"],[0.4444444444444444,\"#bd3786\"],[0.5555555555555556,\"#d8576b\"],[0.6666666666666666,\"#ed7953\"],[0.7777777777777778,\"#fb9f3a\"],[0.8888888888888888,\"#fdca26\"],[1.0,\"#f0f921\"]],\"type\":\"surface\"}],\"table\":[{\"cells\":{\"fill\":{\"color\":\"#EBF0F8\"},\"line\":{\"color\":\"white\"}},\"header\":{\"fill\":{\"color\":\"#C8D4E3\"},\"line\":{\"color\":\"white\"}},\"type\":\"table\"}]},\"layout\":{\"annotationdefaults\":{\"arrowcolor\":\"#2a3f5f\",\"arrowhead\":0,\"arrowwidth\":1},\"autotypenumbers\":\"strict\",\"coloraxis\":{\"colorbar\":{\"outlinewidth\":0,\"ticks\":\"\"}},\"colorscale\":{\"diverging\":[[0,\"#8e0152\"],[0.1,\"#c51b7d\"],[0.2,\"#de77ae\"],[0.3,\"#f1b6da\"],[0.4,\"#fde0ef\"],[0.5,\"#f7f7f7\"],[0.6,\"#e6f5d0\"],[0.7,\"#b8e186\"],[0.8,\"#7fbc41\"],[0.9,\"#4d9221\"],[1,\"#276419\"]],\"sequential\":[[0.0,\"#0d0887\"],[0.1111111111111111,\"#46039f\"],[0.2222222222222222,\"#7201a8\"],[0.3333333333333333,\"#9c179e\"],[0.4444444444444444,\"#bd3786\"],[0.5555555555555556,\"#d8576b\"],[0.6666666666666666,\"#ed7953\"],[0.7777777777777778,\"#fb9f3a\"],[0.8888888888888888,\"#fdca26\"],[1.0,\"#f0f921\"]],\"sequentialminus\":[[0.0,\"#0d0887\"],[0.1111111111111111,\"#46039f\"],[0.2222222222222222,\"#7201a8\"],[0.3333333333333333,\"#9c179e\"],[0.4444444444444444,\"#bd3786\"],[0.5555555555555556,\"#d8576b\"],[0.6666666666666666,\"#ed7953\"],[0.7777777777777778,\"#fb9f3a\"],[0.8888888888888888,\"#fdca26\"],[1.0,\"#f0f921\"]]},\"colorway\":[\"#636efa\",\"#EF553B\",\"#00cc96\",\"#ab63fa\",\"#FFA15A\",\"#19d3f3\",\"#FF6692\",\"#B6E880\",\"#FF97FF\",\"#FECB52\"],\"font\":{\"color\":\"#2a3f5f\"},\"geo\":{\"bgcolor\":\"white\",\"lakecolor\":\"white\",\"landcolor\":\"#E5ECF6\",\"showlakes\":true,\"showland\":true,\"subunitcolor\":\"white\"},\"hoverlabel\":{\"align\":\"left\"},\"hovermode\":\"closest\",\"mapbox\":{\"style\":\"light\"},\"paper_bgcolor\":\"white\",\"plot_bgcolor\":\"#E5ECF6\",\"polar\":{\"angularaxis\":{\"gridcolor\":\"white\",\"linecolor\":\"white\",\"ticks\":\"\"},\"bgcolor\":\"#E5ECF6\",\"radialaxis\":{\"gridcolor\":\"white\",\"linecolor\":\"white\",\"ticks\":\"\"}},\"scene\":{\"xaxis\":{\"backgroundcolor\":\"#E5ECF6\",\"gridcolor\":\"white\",\"gridwidth\":2,\"linecolor\":\"white\",\"showbackground\":true,\"ticks\":\"\",\"zerolinecolor\":\"white\"},\"yaxis\":{\"backgroundcolor\":\"#E5ECF6\",\"gridcolor\":\"white\",\"gridwidth\":2,\"linecolor\":\"white\",\"showbackground\":true,\"ticks\":\"\",\"zerolinecolor\":\"white\"},\"zaxis\":{\"backgroundcolor\":\"#E5ECF6\",\"gridcolor\":\"white\",\"gridwidth\":2,\"linecolor\":\"white\",\"showbackground\":true,\"ticks\":\"\",\"zerolinecolor\":\"white\"}},\"shapedefaults\":{\"line\":{\"color\":\"#2a3f5f\"}},\"ternary\":{\"aaxis\":{\"gridcolor\":\"white\",\"linecolor\":\"white\",\"ticks\":\"\"},\"baxis\":{\"gridcolor\":\"white\",\"linecolor\":\"white\",\"ticks\":\"\"},\"bgcolor\":\"#E5ECF6\",\"caxis\":{\"gridcolor\":\"white\",\"linecolor\":\"white\",\"ticks\":\"\"}},\"title\":{\"x\":0.05},\"xaxis\":{\"automargin\":true,\"gridcolor\":\"white\",\"linecolor\":\"white\",\"ticks\":\"\",\"title\":{\"standoff\":15},\"zerolinecolor\":\"white\",\"zerolinewidth\":2},\"yaxis\":{\"automargin\":true,\"gridcolor\":\"white\",\"linecolor\":\"white\",\"ticks\":\"\",\"title\":{\"standoff\":15},\"zerolinecolor\":\"white\",\"zerolinewidth\":2}}},\"mapbox\":{\"domain\":{\"x\":[0.0,1.0],\"y\":[0.0,1.0]},\"center\":{\"lat\":46.972527472527474,\"lon\":3.021978021978022},\"zoom\":3,\"style\":\"carto-positron\"},\"coloraxis\":{\"colorbar\":{\"title\":{\"text\":\"retour_\\u00e9nerg\\u00e9tique\"}},\"colorscale\":[[0,\"blue\"],[0.15,\"green\"],[0.3,\"yellow\"],[0.45,\"orange\"],[0.6,\"pink\"],[0.75,\"crimson\"],[1.0,\"red\"]],\"cmid\":10.49947237101133,\"cmin\":7.433729331349987,\"cmax\":14.15425022152335},\"legend\":{\"tracegroupgap\":0,\"itemsizing\":\"constant\"},\"margin\":{\"t\":60},\"updatemenus\":[{\"buttons\":[{\"args\":[null,{\"frame\":{\"duration\":500,\"redraw\":true},\"mode\":\"immediate\",\"fromcurrent\":true,\"transition\":{\"duration\":500,\"easing\":\"linear\"}}],\"label\":\"&#9654;\",\"method\":\"animate\"},{\"args\":[[null],{\"frame\":{\"duration\":0,\"redraw\":true},\"mode\":\"immediate\",\"fromcurrent\":true,\"transition\":{\"duration\":0,\"easing\":\"linear\"}}],\"label\":\"&#9724;\",\"method\":\"animate\"}],\"direction\":\"left\",\"pad\":{\"r\":10,\"t\":70},\"showactive\":false,\"type\":\"buttons\",\"x\":0.1,\"xanchor\":\"right\",\"y\":0,\"yanchor\":\"top\"}],\"sliders\":[{\"active\":0,\"currentvalue\":{\"prefix\":\"annee=\"},\"len\":0.9,\"pad\":{\"b\":10,\"t\":60},\"steps\":[{\"args\":[[\"2013\"],{\"frame\":{\"duration\":0,\"redraw\":true},\"mode\":\"immediate\",\"fromcurrent\":true,\"transition\":{\"duration\":0,\"easing\":\"linear\"}}],\"label\":\"2013\",\"method\":\"animate\"},{\"args\":[[\"2014\"],{\"frame\":{\"duration\":0,\"redraw\":true},\"mode\":\"immediate\",\"fromcurrent\":true,\"transition\":{\"duration\":0,\"easing\":\"linear\"}}],\"label\":\"2014\",\"method\":\"animate\"},{\"args\":[[\"2015\"],{\"frame\":{\"duration\":0,\"redraw\":true},\"mode\":\"immediate\",\"fromcurrent\":true,\"transition\":{\"duration\":0,\"easing\":\"linear\"}}],\"label\":\"2015\",\"method\":\"animate\"},{\"args\":[[\"2016\"],{\"frame\":{\"duration\":0,\"redraw\":true},\"mode\":\"immediate\",\"fromcurrent\":true,\"transition\":{\"duration\":0,\"easing\":\"linear\"}}],\"label\":\"2016\",\"method\":\"animate\"}],\"x\":0.1,\"xanchor\":\"left\",\"y\":0,\"yanchor\":\"top\"}]},                        {\"responsive\": true}                    ).then(function(){\n",
              "                            Plotly.addFrames('1bd5e0e0-cf2f-492d-87ae-bea81ec12227', [{\"data\":[{\"hovertemplate\":\"annee=2013<br>size=%{marker.size}<br>latitude=%{lat}<br>longitude=%{lon}<br>retour_\\u00e9nerg\\u00e9tique=%{marker.color}<extra></extra>\",\"lat\":[41.0,41.5,42.0,42.5,43.0,43.5,41.0,41.5,42.0,42.5,43.0,50.5,52.0,41.0,41.5,42.0,42.5,43.0,48.0,48.5,50.5,51.0,52.0,52.5,41.0,41.5,42.0,42.5,43.0,48.0,48.5,51.0,52.0,52.5,41.0,41.5,42.0,42.5,43.0,47.0,47.5,48.0,48.5,51.0,51.5,52.0,52.5,41.0,41.5,42.0,42.5,43.0,43.5,44.0,44.5,45.0,46.0,46.5,47.0,47.5,48.0,48.5,49.0,51.0,51.5,52.0,52.5,41.0,41.5,42.0,42.5,43.0,43.5,44.0,44.5,45.0,45.5,46.0,46.5,47.0,47.5,48.0,48.5,49.0,51.0,51.5,52.0,52.5,41.5,42.0,42.5,43.0,43.5,44.0,44.5,45.0,45.5,46.0,46.5,47.0,47.5,48.0,48.5,49.0,49.5,52.0,52.5,41.5,42.0,42.5,43.0,43.5,44.0,44.5,45.0,45.5,46.0,46.5,47.0,47.5,48.0,48.5,49.0,49.5,50.0,50.5,42.0,42.5,43.0,43.5,44.0,44.5,45.0,45.5,46.0,46.5,47.0,47.5,48.0,48.5,49.0,49.5,50.0,50.5,51.0,44.0,44.5,45.0,45.5,46.0,46.5,47.0,47.5,48.0,48.5,49.0,49.5,50.0,50.5,51.0,51.5,43.5,44.0,44.5,45.0,45.5,46.0,46.5,47.0,47.5,48.0,48.5,49.0,49.5,50.0,50.5,51.0,51.5,52.0,52.5,43.5,44.0,44.5,45.0,45.5,46.0,46.5,47.0,47.5,48.0,48.5,49.0,49.5,50.0,50.5,51.0,51.5,52.0,52.5,44.0,44.5,45.0,45.5,46.0,46.5,47.0,47.5,48.0,48.5,49.0,49.5,50.0,50.5,51.0,51.5,52.0,52.5,44.0,44.5,45.0,45.5,46.0,46.5,47.0,47.5,48.0,48.5,49.0,49.5,50.0,50.5,51.0,51.5,52.0,52.5,41.0,41.5,42.0,42.5,44.5,45.0,45.5,46.0,46.5,47.0,47.5,48.0,48.5,49.0,49.5,50.0,50.5,51.0,51.5,52.0,52.5,44.5,45.0,45.5,46.0,46.5,47.0,47.5,48.0,48.5,49.0,49.5,50.0,50.5,51.0,51.5,52.0,52.5],\"legendgroup\":\"\",\"lon\":[-6,-6,-6,-6,-6,-6,-5,-5,-5,-5,-5,-5,-5,-4,-4,-4,-4,-4,-4,-4,-4,-4,-4,-4,-3,-3,-3,-3,-3,-3,-3,-3,-3,-3,-2,-2,-2,-2,-2,-2,-2,-2,-2,-2,-2,-2,-2,-1,-1,-1,-1,-1,-1,-1,-1,-1,-1,-1,-1,-1,-1,-1,-1,-1,-1,-1,-1,0,0,0,0,0,0,0,0,0,0,0,0,0,0,0,0,0,0,0,0,0,1,1,1,1,1,1,1,1,1,1,1,1,1,1,1,1,1,1,1,2,2,2,2,2,2,2,2,2,2,2,2,2,2,2,2,2,2,2,3,3,3,3,3,3,3,3,3,3,3,3,3,3,3,3,3,3,3,4,4,4,4,4,4,4,4,4,4,4,4,4,4,4,4,5,5,5,5,5,5,5,5,5,5,5,5,5,5,5,5,5,5,5,6,6,6,6,6,6,6,6,6,6,6,6,6,6,6,6,6,6,6,7,7,7,7,7,7,7,7,7,7,7,7,7,7,7,7,7,7,8,8,8,8,8,8,8,8,8,8,8,8,8,8,8,8,8,8,9,9,9,9,9,9,9,9,9,9,9,9,9,9,9,9,9,9,9,9,9,10,10,10,10,10,10,10,10,10,10,10,10,10,10,10,10,10],\"marker\":{\"color\":[13.615901434092308,13.505056607315284,13.37993125806094,13.157837079451893,11.61051079437207,10.05594800553058,13.610227065414064,13.400893886506296,13.288552156499955,13.002100405747871,11.3954782193521,8.84504902477341,8.76370384607872,12.08523933391707,12.859231992176383,12.771560380256386,12.223014701161176,10.723651851521206,9.863551978379986,9.1457856759796,8.760130430588827,8.711873743670612,8.241514389862587,8.265600193980594,13.401754304877247,12.848651224914391,11.869506209645106,11.155809455565878,10.160899345891236,9.842440644656474,9.450856451237367,9.00910867014475,8.338188581379612,8.120006125028599,12.79059224797296,12.865651638436118,12.123336269007517,12.1792577717496,8.626808268364867,10.588476710622697,10.170329070089986,9.889264273840164,9.678343713516178,8.790644418021296,8.643723165406712,8.378004237189849,8.150812269445238,12.80693983218966,13.100150814267488,13.4701029865907,12.35420858293704,10.687466122196565,10.40469778221314,10.542920432752188,10.867044017048826,10.712986005577012,10.87986827851466,10.621530727219955,10.106298824677964,10.06018990020454,9.8589078206057,9.372935250315672,9.167293873298735,9.012384856106058,8.58855197491942,8.458560177507469,8.435124502942141,13.162671679216356,13.94253352612088,14.092112867340909,12.25415320698213,9.50265652663338,10.908992258317666,10.664128514311235,10.873536848487158,10.71474230393088,10.518727660068052,10.48400716660731,10.252636055189331,10.071091573164928,9.87596551265704,9.781180928887007,9.541283269881175,9.104636634372993,9.122133656394778,8.519242181368945,8.589858182164551,8.58091704017509,13.626058267268885,13.49889197820332,10.876115768679064,9.612783365217547,10.978142547580582,11.043005119345848,10.77230379677689,10.47388958928924,10.227928505401474,9.96386966811064,9.956856951929003,9.943023129016384,9.639877787948976,9.608650701064391,9.461654220215372,9.277845010799718,9.030457582075163,8.883025019643123,8.656405472363243,13.33707305431719,12.95495273331576,11.705765791747725,10.760057501213051,10.371694842011712,10.948164205607842,10.63892129143957,10.118197508885016,9.965869600872637,9.489879547316832,9.655140436551893,9.957242286852429,9.281642248964808,9.492314942836446,9.595385869201356,9.360939375023976,9.1166414845171,8.954110336774212,8.799186945224422,12.45994577013073,11.780596797755225,12.08206427921951,12.01473814695064,10.574858503066771,10.577740890016209,10.11485244275561,9.472146625312575,9.935962401022666,9.755634704679569,9.688941554887636,9.646758143299122,9.582020416838528,9.65776437693841,9.418894302050465,9.16839296437079,9.11755188478969,8.901645465603291,8.906731799032933,12.204299434132489,10.649565028600998,9.525384282352457,9.711251067891116,9.938475943427903,9.80431226109945,9.509420792632426,9.395857971934271,9.345927876355995,9.570237749016297,9.370858411094806,9.268028200486832,8.890511613940701,8.859061104307488,8.803656129859837,8.838948314122517,13.255544035692663,13.066103069906148,11.693155248515314,11.195433428959182,10.563720638258795,10.317295415865464,9.76534038734838,9.737606123309718,9.41074024732079,9.023669383136356,9.062837390247427,9.005752805005939,8.86545937144725,8.4950887375096,8.60304431850689,8.874745206142308,8.540798755331563,8.56587226888354,8.530928060809046,12.728291157458736,12.794273980517188,12.324140346507637,9.296515987296594,10.554356364812993,10.401359137116357,9.248802315432368,8.751814098852963,9.548582743542278,9.393986459824658,9.132342222663707,9.232467792179747,8.959619071997396,8.664550587335672,8.23858001305085,8.723660497604511,8.678858034370224,8.538534649541665,8.30601731083491,11.581664378297278,9.886172984431772,9.110178861118587,8.322028190765671,8.453173404032933,9.657367002578823,10.080046286882428,9.40443683634472,8.420649122626743,8.661510593221951,9.082276628703916,8.932920272434837,8.671914052424125,8.40043279329079,8.514344392806207,8.367202344229064,8.488331441178243,8.3940599562875,12.147587414715462,11.277294954920585,11.51549935843826,11.440507680682725,8.211995113851,8.942465137423053,8.477293648234987,9.417879632964096,8.486177803559956,9.0317582789782,9.299968167924687,8.82764255390481,9.199070761101323,8.953578631493588,8.163293624491356,8.112381986517725,8.427001750746486,8.295468065005773,12.189037661124926,13.242385077901565,11.524397523288943,10.899828277309808,10.68038204499332,11.194869253684065,11.374466338667904,10.125492385670492,9.465824170137486,8.401120719376385,9.184040510099452,9.31525132005222,9.102325938225492,9.03618339198064,8.836242943367784,8.98928344006832,8.76765267030204,8.509649596433766,8.36510740937082,8.216015958568391,8.40626320174628,9.768472902704836,11.289023116931832,11.277965150200195,9.894284426854062,8.57257323524692,7.433729331349987,8.637898705090999,9.204344107106,9.075160300405017,8.823836267921028,8.966073815037696,9.015854183809898,8.412626261268082,8.439027431375493,8.381405595416117,8.242882945405803,8.499210275693065],\"coloraxis\":\"coloraxis\",\"size\":[50,50,50,50,50,50,50,50,50,50,50,50,50,50,50,50,50,50,50,50,50,50,50,50,50,50,50,50,50,50,50,50,50,50,50,50,50,50,50,50,50,50,50,50,50,50,50,50,50,50,50,50,50,50,50,50,50,50,50,50,50,50,50,50,50,50,50,50,50,50,50,50,50,50,50,50,50,50,50,50,50,50,50,50,50,50,50,50,50,50,50,50,50,50,50,50,50,50,50,50,50,50,50,50,50,50,50,50,50,50,50,50,50,50,50,50,50,50,50,50,50,50,50,50,50,50,50,50,50,50,50,50,50,50,50,50,50,50,50,50,50,50,50,50,50,50,50,50,50,50,50,50,50,50,50,50,50,50,50,50,50,50,50,50,50,50,50,50,50,50,50,50,50,50,50,50,50,50,50,50,50,50,50,50,50,50,50,50,50,50,50,50,50,50,50,50,50,50,50,50,50,50,50,50,50,50,50,50,50,50,50,50,50,50,50,50,50,50,50,50,50,50,50,50,50,50,50,50,50,50,50,50,50,50,50,50,50,50,50,50,50,50,50,50,50,50,50,50,50,50,50,50,50,50,50,50,50,50,50,50,50,50,50,50,50,50,50,50,50,50,50,50,50],\"sizemode\":\"area\",\"sizeref\":0.125},\"mode\":\"markers\",\"name\":\"\",\"showlegend\":false,\"subplot\":\"mapbox\",\"type\":\"scattermapbox\"}],\"name\":\"2013\"},{\"data\":[{\"hovertemplate\":\"annee=2014<br>size=%{marker.size}<br>latitude=%{lat}<br>longitude=%{lon}<br>retour_\\u00e9nerg\\u00e9tique=%{marker.color}<extra></extra>\",\"lat\":[41.0,41.5,42.0,42.5,43.0,43.5,41.0,41.5,42.0,42.5,43.0,50.5,52.0,41.0,41.5,42.0,42.5,43.0,48.0,48.5,50.5,51.0,52.0,52.5,41.0,41.5,42.0,42.5,43.0,48.0,48.5,51.0,52.0,52.5,41.0,41.5,42.0,42.5,43.0,47.0,47.5,48.0,48.5,51.0,51.5,52.0,52.5,41.0,41.5,42.0,42.5,43.0,43.5,44.0,44.5,45.0,46.0,46.5,47.0,47.5,48.0,48.5,49.0,51.0,51.5,52.0,52.5,41.0,41.5,42.0,42.5,43.0,43.5,44.0,44.5,45.0,45.5,46.0,46.5,47.0,47.5,48.0,48.5,49.0,51.0,51.5,52.0,52.5,41.5,42.0,42.5,43.0,43.5,44.0,44.5,45.0,45.5,46.0,46.5,47.0,47.5,48.0,48.5,49.0,49.5,52.0,52.5,41.5,42.0,42.5,43.0,43.5,44.0,44.5,45.0,45.5,46.0,46.5,47.0,47.5,48.0,48.5,49.0,49.5,50.0,50.5,42.0,42.5,43.0,43.5,44.0,44.5,45.0,45.5,46.0,46.5,47.0,47.5,48.0,48.5,49.0,49.5,50.0,50.5,51.0,44.0,44.5,45.0,45.5,46.0,46.5,47.0,47.5,48.0,48.5,49.0,49.5,50.0,50.5,51.0,51.5,43.5,44.0,44.5,45.0,45.5,46.0,46.5,47.0,47.5,48.0,48.5,49.0,49.5,50.0,50.5,51.0,51.5,52.0,52.5,43.5,44.0,44.5,45.0,45.5,46.0,46.5,47.0,47.5,48.0,48.5,49.0,49.5,50.0,50.5,51.0,51.5,52.0,52.5,44.0,44.5,45.0,45.5,46.0,46.5,47.0,47.5,48.0,48.5,49.0,49.5,50.0,50.5,51.0,51.5,52.0,52.5,44.0,44.5,45.0,45.5,46.0,46.5,47.0,47.5,48.0,48.5,49.0,49.5,50.0,50.5,51.0,51.5,52.0,52.5,41.0,41.5,42.0,42.5,44.5,45.0,45.5,46.0,46.5,47.0,47.5,48.0,48.5,49.0,49.5,50.0,50.5,51.0,51.5,52.0,52.5,44.5,45.0,45.5,46.0,46.5,47.0,47.5,48.0,48.5,49.0,49.5,50.0,50.5,51.0,51.5,52.0,52.5],\"legendgroup\":\"\",\"lon\":[-6,-6,-6,-6,-6,-6,-5,-5,-5,-5,-5,-5,-5,-4,-4,-4,-4,-4,-4,-4,-4,-4,-4,-4,-3,-3,-3,-3,-3,-3,-3,-3,-3,-3,-2,-2,-2,-2,-2,-2,-2,-2,-2,-2,-2,-2,-2,-1,-1,-1,-1,-1,-1,-1,-1,-1,-1,-1,-1,-1,-1,-1,-1,-1,-1,-1,-1,0,0,0,0,0,0,0,0,0,0,0,0,0,0,0,0,0,0,0,0,0,1,1,1,1,1,1,1,1,1,1,1,1,1,1,1,1,1,1,1,2,2,2,2,2,2,2,2,2,2,2,2,2,2,2,2,2,2,2,3,3,3,3,3,3,3,3,3,3,3,3,3,3,3,3,3,3,3,4,4,4,4,4,4,4,4,4,4,4,4,4,4,4,4,5,5,5,5,5,5,5,5,5,5,5,5,5,5,5,5,5,5,5,6,6,6,6,6,6,6,6,6,6,6,6,6,6,6,6,6,6,6,7,7,7,7,7,7,7,7,7,7,7,7,7,7,7,7,7,7,8,8,8,8,8,8,8,8,8,8,8,8,8,8,8,8,8,8,9,9,9,9,9,9,9,9,9,9,9,9,9,9,9,9,9,9,9,9,9,10,10,10,10,10,10,10,10,10,10,10,10,10,10,10,10,10],\"marker\":{\"color\":[13.833103807373558,13.666811904605463,13.583614001230224,13.40489491949076,11.850067190087458,10.759188472821087,14.054750629721386,13.946079030620789,13.829564723906266,13.400401655983025,11.732161489384152,9.482982555654896,9.13810944232092,12.521362290435404,13.452112420652606,13.413894653402874,12.97020480180811,11.669406548609809,10.355418691782903,9.865504191195017,9.16137820513332,9.160533766377634,8.673490088971814,8.495268345395207,13.790417074387248,13.21874312766335,12.346070070024956,12.044555160478826,11.141661585785164,10.570736127159064,10.16473481838692,9.53643174193981,8.961417363833243,8.677440191493003,13.264421186254776,13.273787502756417,12.71863684305088,12.68597998191436,9.146746204086384,11.420489965560284,11.074908822542664,10.564272628165194,10.374682592269124,9.614647069935224,9.34350875231677,9.122738365826278,8.810083183584938,13.29885426553954,13.551819528554212,13.56405144976094,12.66414825211076,11.009191523776266,10.959101048315077,11.12497996193972,11.578554190622429,11.40244372635073,11.742099496687723,11.404424250082307,10.90329665645201,10.894407393487455,10.560223145570967,10.094198607606208,9.959658419274184,9.780305625394986,9.363746387806415,9.289735049890592,9.057304541056755,13.5690771482121,13.83336042977948,14.018948119298052,12.082331481736,10.082362893298589,11.456250885204152,11.341897547831056,11.548570449144986,11.321037437008766,11.311476446472724,11.260537519110462,11.132939123736149,10.986904338454393,10.720056292153378,10.531556518409513,10.121896315538708,9.724860373560908,9.917553592368977,9.405448732712458,9.242004376883182,9.127108316321218,13.597678397586892,13.520537935858648,11.212337016227664,10.231410675170553,11.81133515649796,11.759243872679422,11.428825779292843,11.171338649988767,10.974697225782784,10.799327442216953,10.938907849289809,10.832143296877067,10.606658886011443,10.563923630449093,10.121980007861596,9.911840332663616,9.606066527300344,9.564371443927111,9.151412800379672,13.471273292751802,12.957020816583052,12.162570018736654,11.499718357383914,11.417542054891625,11.728323317136118,11.38562222614698,10.969128439311357,10.672654915966532,10.601023116495195,10.839955358653498,10.809003281677338,10.401850565010552,10.426028817405015,10.27872529445076,9.988495495665164,9.702248780159213,9.551880673454958,9.458838524445644,12.692794667612723,12.013098594644392,12.503718387292457,12.337970375173706,11.246169510063703,11.206920875213498,10.926233533528883,10.339046955727603,10.79380221661454,10.895266936263052,10.726866964706357,10.558767541255998,10.521732411468648,10.32940716160942,10.122951334977785,9.785834645243945,9.697470437396444,9.372321749835432,9.55105549779713,12.30226374244198,10.796880590991416,10.59443323990478,10.85562990190567,10.838789503435462,10.8444840837732,10.403107263246891,10.558919457050465,10.35834347214088,10.469661996006115,10.248681209859956,10.099752654889125,9.487575782965909,9.415800677721116,9.3217724624071,9.434299818629151,13.346855497512308,13.149327751906055,11.792727003967965,11.791038564254272,11.285009825612368,11.41398779443814,11.06644013721466,10.918092320864451,10.455830653947013,10.124968560748082,10.01531505442073,9.848633949516383,9.737368034338855,9.149705789359809,9.358959435022635,9.508509443798202,9.127456108705733,9.211878861924166,9.022283718388511,12.823688730945046,12.899219848406862,12.397316404323854,10.05264810552835,11.18223528827585,11.096206439178408,9.702005875413883,9.648553551578946,10.507961996253142,10.408193742609097,10.113936059248084,9.903674457396622,9.695183382323586,9.310619274680374,8.91690118240963,9.362369660039867,9.156841453722844,9.094682539392709,8.85701691888479,11.766089350147842,10.115483090311594,9.428883531682429,9.231054070509362,9.345713939223735,10.030836441451685,10.813554407444927,10.17302137988064,9.035165804243082,9.51509538020951,10.146410212820076,9.708548834686416,9.45577722417823,9.039976617000343,9.211574262801324,8.947472959135672,8.938214962464315,8.881982696336724,12.252224927106862,11.413334235470312,11.63487978062183,11.518812538303408,8.476183539254688,9.3641498913335,8.78094668867698,10.078815929473082,9.183470789387073,9.982213682707904,10.301807009592965,9.59966869795826,9.875217024559245,9.574588801244778,8.804444603478945,8.712715701572785,9.11224778488607,8.977990121989285,12.88367051529076,13.484106164238646,12.067769309418797,11.377619576447811,10.682188471181384,11.497239984725525,11.659378136085612,10.285880075979094,9.578534598755462,8.75538492265195,9.975051385652757,9.954271099940522,9.862220416740612,10.071873552785137,9.742360314233885,9.73584654147326,9.435295589449064,9.147616983669064,8.942984073604718,8.927813035554017,9.097692617331726,10.012720519444956,11.70165720646689,11.753674064680077,10.103377619667697,8.789578964404212,7.642483303929004,8.8719705174218,9.887573499205525,9.69645109846817,9.769300121418498,9.913084480699837,9.823287871814331,9.08469918215829,9.135860437774989,9.110821402178171,8.926059218053659,8.993364846797915],\"coloraxis\":\"coloraxis\",\"size\":[50,50,50,50,50,50,50,50,50,50,50,50,50,50,50,50,50,50,50,50,50,50,50,50,50,50,50,50,50,50,50,50,50,50,50,50,50,50,50,50,50,50,50,50,50,50,50,50,50,50,50,50,50,50,50,50,50,50,50,50,50,50,50,50,50,50,50,50,50,50,50,50,50,50,50,50,50,50,50,50,50,50,50,50,50,50,50,50,50,50,50,50,50,50,50,50,50,50,50,50,50,50,50,50,50,50,50,50,50,50,50,50,50,50,50,50,50,50,50,50,50,50,50,50,50,50,50,50,50,50,50,50,50,50,50,50,50,50,50,50,50,50,50,50,50,50,50,50,50,50,50,50,50,50,50,50,50,50,50,50,50,50,50,50,50,50,50,50,50,50,50,50,50,50,50,50,50,50,50,50,50,50,50,50,50,50,50,50,50,50,50,50,50,50,50,50,50,50,50,50,50,50,50,50,50,50,50,50,50,50,50,50,50,50,50,50,50,50,50,50,50,50,50,50,50,50,50,50,50,50,50,50,50,50,50,50,50,50,50,50,50,50,50,50,50,50,50,50,50,50,50,50,50,50,50,50,50,50,50,50,50,50,50,50,50,50,50,50,50,50,50,50,50],\"sizemode\":\"area\",\"sizeref\":0.125},\"mode\":\"markers\",\"name\":\"\",\"showlegend\":false,\"subplot\":\"mapbox\",\"type\":\"scattermapbox\"}],\"name\":\"2014\"},{\"data\":[{\"hovertemplate\":\"annee=2015<br>size=%{marker.size}<br>latitude=%{lat}<br>longitude=%{lon}<br>retour_\\u00e9nerg\\u00e9tique=%{marker.color}<extra></extra>\",\"lat\":[41.0,41.5,42.0,42.5,43.0,43.5,41.0,41.5,42.0,42.5,43.0,50.5,52.0,41.0,41.5,42.0,42.5,43.0,48.0,48.5,50.5,51.0,52.0,52.5,41.0,41.5,42.0,42.5,43.0,48.0,48.5,51.0,52.0,52.5,41.0,41.5,42.0,42.5,43.0,47.0,47.5,48.0,48.5,51.0,51.5,52.0,52.5,41.0,41.5,42.0,42.5,43.0,43.5,44.0,44.5,45.0,46.0,46.5,47.0,47.5,48.0,48.5,49.0,51.0,51.5,52.0,52.5,41.0,41.5,42.0,42.5,43.0,43.5,44.0,44.5,45.0,45.5,46.0,46.5,47.0,47.5,48.0,48.5,49.0,51.0,51.5,52.0,52.5,41.5,42.0,42.5,43.0,43.5,44.0,44.5,45.0,45.5,46.0,46.5,47.0,47.5,48.0,48.5,49.0,49.5,52.0,52.5,41.5,42.0,42.5,43.0,43.5,44.0,44.5,45.0,45.5,46.0,46.5,47.0,47.5,48.0,48.5,49.0,49.5,50.0,50.5,42.0,42.5,43.0,43.5,44.0,44.5,45.0,45.5,46.0,46.5,47.0,47.5,48.0,48.5,49.0,49.5,50.0,50.5,51.0,44.0,44.5,45.0,45.5,46.0,46.5,47.0,47.5,48.0,48.5,49.0,49.5,50.0,50.5,51.0,51.5,43.5,44.0,44.5,45.0,45.5,46.0,46.5,47.0,47.5,48.0,48.5,49.0,49.5,50.0,50.5,51.0,51.5,52.0,52.5,43.5,44.0,44.5,45.0,45.5,46.0,46.5,47.0,47.5,48.0,48.5,49.0,49.5,50.0,50.5,51.0,51.5,52.0,52.5,44.0,44.5,45.0,45.5,46.0,46.5,47.0,47.5,48.0,48.5,49.0,49.5,50.0,50.5,51.0,51.5,52.0,52.5,44.0,44.5,45.0,45.5,46.0,46.5,47.0,47.5,48.0,48.5,49.0,49.5,50.0,50.5,51.0,51.5,52.0,52.5,41.0,41.5,42.0,42.5,44.5,45.0,45.5,46.0,46.5,47.0,47.5,48.0,48.5,49.0,49.5,50.0,50.5,51.0,51.5,52.0,52.5,44.5,45.0,45.5,46.0,46.5,47.0,47.5,48.0,48.5,49.0,49.5,50.0,50.5,51.0,51.5,52.0,52.5],\"legendgroup\":\"\",\"lon\":[-6,-6,-6,-6,-6,-6,-5,-5,-5,-5,-5,-5,-5,-4,-4,-4,-4,-4,-4,-4,-4,-4,-4,-4,-3,-3,-3,-3,-3,-3,-3,-3,-3,-3,-2,-2,-2,-2,-2,-2,-2,-2,-2,-2,-2,-2,-2,-1,-1,-1,-1,-1,-1,-1,-1,-1,-1,-1,-1,-1,-1,-1,-1,-1,-1,-1,-1,0,0,0,0,0,0,0,0,0,0,0,0,0,0,0,0,0,0,0,0,0,1,1,1,1,1,1,1,1,1,1,1,1,1,1,1,1,1,1,1,2,2,2,2,2,2,2,2,2,2,2,2,2,2,2,2,2,2,2,3,3,3,3,3,3,3,3,3,3,3,3,3,3,3,3,3,3,3,4,4,4,4,4,4,4,4,4,4,4,4,4,4,4,4,5,5,5,5,5,5,5,5,5,5,5,5,5,5,5,5,5,5,5,6,6,6,6,6,6,6,6,6,6,6,6,6,6,6,6,6,6,6,7,7,7,7,7,7,7,7,7,7,7,7,7,7,7,7,7,7,8,8,8,8,8,8,8,8,8,8,8,8,8,8,8,8,8,8,9,9,9,9,9,9,9,9,9,9,9,9,9,9,9,9,9,9,9,9,9,10,10,10,10,10,10,10,10,10,10,10,10,10,10,10,10,10],\"marker\":{\"color\":[13.98169562296329,13.687589490565344,13.55218808123329,13.490710488152455,12.154220852174896,10.313257899741116,14.002465182632395,13.923614829104212,13.78354853957442,13.619220597192395,12.131262231146652,9.253326735541563,9.113158914821458,12.888030542371654,13.659012757860552,13.668423073028883,12.960912837945552,11.555345878984838,10.01803596699305,9.465693852361833,8.995469375333975,9.088092843830015,8.58546101524726,8.335502692621574,14.15425022152335,13.379034210617544,12.711837626203826,12.08200889781317,10.989822114049511,10.163810992318856,9.76984824411207,9.172200928579004,8.956227783117738,8.835608685368927,13.54221891732826,13.598557860156864,13.024701346072725,12.985084012610878,9.395566471646625,11.083777509016326,10.661262398842188,10.362920136106386,10.239895194181267,9.14448935705335,9.002698290602547,8.888546450998987,8.700881484461872,13.5657605389318,13.8053435673393,13.883599099754868,13.351162842939212,11.640496432972784,11.224167331030582,11.359350717118708,11.606487652604836,11.398510187175043,11.574573296331176,11.278072264698883,10.89071690498966,10.793637896552516,10.541786901596089,10.066657558276356,9.827237244672723,9.398217628455493,9.050390218515403,8.968860435132916,9.03425069903342,13.704882207003797,13.854283948298884,14.096608903567278,12.570006939063113,10.673892861868977,11.571640343749868,11.61703602283862,11.68342628960326,11.476095670243556,11.369073109065582,11.221055829962694,11.159775318803495,11.035252087289749,10.707293687193944,10.577238225314929,10.250467716253649,9.925457372759064,9.67329809527064,9.08947985984201,9.018454448026604,9.043791842741369,13.733607572020462,13.869443568514775,12.145372377360731,10.28073930970475,11.773670254749987,12.033810729851323,11.79724821356085,11.505365509639809,11.38419091960317,11.017989797789957,11.094932885731444,10.909311047993944,10.744697953390611,10.690972151939125,10.384813011652428,10.290432661072275,9.866717766360017,9.269622332671902,9.054773851575773,13.92366758372448,13.607021729710402,12.737769769064926,11.732513405751444,11.605020373685106,12.030277702585254,12.012676265817127,11.774572190934125,11.431916995734955,10.867360982568112,10.96500832535832,11.154407043668854,10.52574241930552,10.547088631483588,10.628419911489956,10.3445037389596,10.042407871894005,9.906373553051296,9.62844878768475,13.35926910475564,12.85304890259564,12.836172969547189,12.889895779381206,11.687562748002962,12.015031617327844,11.654351197207696,10.939695812144958,11.280713644026267,11.214996272293588,11.0084209268957,10.879287175062634,10.647592531160194,10.597336495210223,10.468898695753529,10.111738387867932,9.93881136941597,9.633285722370164,9.62235522772927,13.086354058224986,11.711880511924331,11.197499177305522,11.38339157400838,11.336809025413022,11.159733509125196,10.779538476381564,10.740500203315907,10.717803969029688,10.751884329318084,10.60716899327326,10.324594962492844,9.720098083379687,9.684677332532068,9.537107920454362,9.616754992791266,13.737931699691712,13.612829188882932,12.345304872649091,12.16441861943442,11.831245173391476,11.763769168383972,11.410963779939689,11.279772160118496,10.859582412314094,10.348025821283708,10.238100077766564,10.049217814784184,9.933496359665552,9.45866719962076,9.631879078428916,9.737424218374272,9.42108591722939,9.408653449590712,9.145189725277618,13.321684830746802,13.385736820110196,13.068644193565136,10.753397722926625,11.671779120162546,11.489946494299362,10.714076194762931,10.3411507195057,10.922752166388886,10.650039820183409,10.35479431932698,10.111580999602488,9.93839130254338,9.484439400396624,9.111255405610196,9.633462738564868,9.477957003136297,9.333122113230058,8.982517022951994,12.375748739486712,10.827034125001862,9.89093593130951,9.810220121872932,9.848344930082249,10.729902653809573,11.136487838752368,10.776687100101029,9.624291752794154,9.861606770327814,10.152630807068618,9.724770333171682,9.56443795130314,9.282100550167993,9.348658858274929,9.24048773488722,9.19053257677982,9.034374303911338,12.909107727876236,12.06421877024558,12.332257407333469,12.187322369820285,9.181548565713022,9.999436570416623,9.28065209654844,10.635461668250938,9.70569067254186,10.278641966959272,10.352965492491029,9.732812968392158,9.954309918001355,9.785064850992455,9.079574176600373,9.122178165825432,9.255939695890952,9.013581103167589,13.09229803730695,13.826328231601146,12.79700379497564,11.602150318036951,11.619496226893348,12.199089495824929,12.307861715425313,11.181362246738498,10.339726271792188,9.390809945801506,10.444190927066831,10.50971260323719,10.2160180006571,10.11343346751308,9.84568436062329,9.936124094298616,9.669926250516564,9.501234778672218,9.24716188753076,9.099798716030772,9.098946178018034,11.138141108719212,12.234503023010848,12.33631783486966,10.795250816166652,9.44671539596204,8.140962002705106,9.705457107480344,10.303495376340374,10.133792591858528,9.984211061650106,10.03325782744558,10.063961673137992,9.5246778228318,9.60857094892061,9.50617452284582,9.11302597025973,9.154485410420444],\"coloraxis\":\"coloraxis\",\"size\":[50,50,50,50,50,50,50,50,50,50,50,50,50,50,50,50,50,50,50,50,50,50,50,50,50,50,50,50,50,50,50,50,50,50,50,50,50,50,50,50,50,50,50,50,50,50,50,50,50,50,50,50,50,50,50,50,50,50,50,50,50,50,50,50,50,50,50,50,50,50,50,50,50,50,50,50,50,50,50,50,50,50,50,50,50,50,50,50,50,50,50,50,50,50,50,50,50,50,50,50,50,50,50,50,50,50,50,50,50,50,50,50,50,50,50,50,50,50,50,50,50,50,50,50,50,50,50,50,50,50,50,50,50,50,50,50,50,50,50,50,50,50,50,50,50,50,50,50,50,50,50,50,50,50,50,50,50,50,50,50,50,50,50,50,50,50,50,50,50,50,50,50,50,50,50,50,50,50,50,50,50,50,50,50,50,50,50,50,50,50,50,50,50,50,50,50,50,50,50,50,50,50,50,50,50,50,50,50,50,50,50,50,50,50,50,50,50,50,50,50,50,50,50,50,50,50,50,50,50,50,50,50,50,50,50,50,50,50,50,50,50,50,50,50,50,50,50,50,50,50,50,50,50,50,50,50,50,50,50,50,50,50,50,50,50,50,50,50,50,50,50,50,50],\"sizemode\":\"area\",\"sizeref\":0.125},\"mode\":\"markers\",\"name\":\"\",\"showlegend\":false,\"subplot\":\"mapbox\",\"type\":\"scattermapbox\"}],\"name\":\"2015\"},{\"data\":[{\"hovertemplate\":\"annee=2016<br>size=%{marker.size}<br>latitude=%{lat}<br>longitude=%{lon}<br>retour_\\u00e9nerg\\u00e9tique=%{marker.color}<extra></extra>\",\"lat\":[41.0,41.5,42.0,42.5,43.0,43.5,41.0,41.5,42.0,42.5,43.0,50.5,52.0,41.0,41.5,42.0,42.5,43.0,48.0,48.5,50.5,51.0,52.0,52.5,41.0,41.5,42.0,42.5,43.0,48.0,48.5,51.0,52.0,52.5,41.0,41.5,42.0,42.5,43.0,47.0,47.5,48.0,48.5,51.0,51.5,52.0,52.5,41.0,41.5,42.0,42.5,43.0,43.5,44.0,44.5,45.0,46.0,46.5,47.0,47.5,48.0,48.5,49.0,51.0,51.5,52.0,52.5,41.0,41.5,42.0,42.5,43.0,43.5,44.0,44.5,45.0,45.5,46.0,46.5,47.0,47.5,48.0,48.5,49.0,51.0,51.5,52.0,52.5,41.5,42.0,42.5,43.0,43.5,44.0,44.5,45.0,45.5,46.0,46.5,47.0,47.5,48.0,48.5,49.0,49.5,52.0,52.5,41.5,42.0,42.5,43.0,43.5,44.0,44.5,45.0,45.5,46.0,46.5,47.0,47.5,48.0,48.5,49.0,49.5,50.0,50.5,42.0,42.5,43.0,43.5,44.0,44.5,45.0,45.5,46.0,46.5,47.0,47.5,48.0,48.5,49.0,49.5,50.0,50.5,51.0,44.0,44.5,45.0,45.5,46.0,46.5,47.0,47.5,48.0,48.5,49.0,49.5,50.0,50.5,51.0,51.5,43.5,44.0,44.5,45.0,45.5,46.0,46.5,47.0,47.5,48.0,48.5,49.0,49.5,50.0,50.5,51.0,51.5,52.0,52.5,43.5,44.0,44.5,45.0,45.5,46.0,46.5,47.0,47.5,48.0,48.5,49.0,49.5,50.0,50.5,51.0,51.5,52.0,52.5,44.0,44.5,45.0,45.5,46.0,46.5,47.0,47.5,48.0,48.5,49.0,49.5,50.0,50.5,51.0,51.5,52.0,52.5,44.0,44.5,45.0,45.5,46.0,46.5,47.0,47.5,48.0,48.5,49.0,49.5,50.0,50.5,51.0,51.5,52.0,52.5,41.0,41.5,42.0,42.5,44.5,45.0,45.5,46.0,46.5,47.0,47.5,48.0,48.5,49.0,49.5,50.0,50.5,51.0,51.5,52.0,52.5,44.5,45.0,45.5,46.0,46.5,47.0,47.5,48.0,48.5,49.0,49.5,50.0,50.5,51.0,51.5,52.0,52.5],\"legendgroup\":\"\",\"lon\":[-6,-6,-6,-6,-6,-6,-5,-5,-5,-5,-5,-5,-5,-4,-4,-4,-4,-4,-4,-4,-4,-4,-4,-4,-3,-3,-3,-3,-3,-3,-3,-3,-3,-3,-2,-2,-2,-2,-2,-2,-2,-2,-2,-2,-2,-2,-2,-1,-1,-1,-1,-1,-1,-1,-1,-1,-1,-1,-1,-1,-1,-1,-1,-1,-1,-1,-1,0,0,0,0,0,0,0,0,0,0,0,0,0,0,0,0,0,0,0,0,0,1,1,1,1,1,1,1,1,1,1,1,1,1,1,1,1,1,1,1,2,2,2,2,2,2,2,2,2,2,2,2,2,2,2,2,2,2,2,3,3,3,3,3,3,3,3,3,3,3,3,3,3,3,3,3,3,3,4,4,4,4,4,4,4,4,4,4,4,4,4,4,4,4,5,5,5,5,5,5,5,5,5,5,5,5,5,5,5,5,5,5,5,6,6,6,6,6,6,6,6,6,6,6,6,6,6,6,6,6,6,6,7,7,7,7,7,7,7,7,7,7,7,7,7,7,7,7,7,7,8,8,8,8,8,8,8,8,8,8,8,8,8,8,8,8,8,8,9,9,9,9,9,9,9,9,9,9,9,9,9,9,9,9,9,9,9,9,9,10,10,10,10,10,10,10,10,10,10,10,10,10,10,10,10,10],\"marker\":{\"color\":[13.368215493658491,13.332522724519922,12.280380564752392,12.243473782651142,11.010067477306052,10.828821646264714,13.671559448939416,13.719185123470249,13.74021706988138,13.306449173008644,11.214925196478344,9.382983867840606,9.06706326965318,13.628915474193043,13.5472888266862,13.533595755727244,13.321083800841649,11.412468119070784,9.719771917450398,9.814977297755814,9.201958103099027,8.859822938575725,8.60957651608336,8.865004536972556,13.56909625871864,13.44896530538144,13.270629953307242,12.852784758004148,11.48479959219876,9.852926986893705,9.800299546851468,8.423824316598106,7.889045959140471,7.751323273550353,13.421973254340518,13.201695498299864,12.37025320450141,12.651061597244148,9.827058324695994,11.013164968848226,10.446470824785518,10.100225980487185,10.278122805220011,8.745133226652927,8.775862172745576,8.798719706482169,8.588698090724847,13.173898629193165,13.01319973770138,13.221190847825486,13.308743305810635,11.350587168395426,11.70586932423995,11.653348487932451,11.610082548617392,11.526679318130904,10.776365239182242,10.65782137539614,10.346989401587214,10.20077300323513,9.794607155502124,9.848648900944982,9.746130256351588,8.907946024235695,8.783207615162928,8.82144031150583,8.624449524752348,13.95042212286602,14.060632653773077,13.776433518009805,12.66337108160626,10.823415282732036,11.109111759522303,11.421500250011112,11.323844734997571,11.104215941049118,10.635268884681054,10.652476230572184,10.46631940407147,10.372256164943163,10.06209110293126,9.514595408601826,9.707160717521468,9.878931585270609,9.00706852630385,8.99692125170992,8.92343571490705,8.941190234930115,14.035628496057988,13.917194811354326,12.63281411703501,11.164297908096946,11.505289326184982,11.485428634496587,11.307178288138315,11.0415935800051,10.56580170286513,10.37905202534135,10.383684070713194,10.330800810894118,10.199685367869,9.76142522901644,9.716879461154356,9.634623844315964,9.888247700971766,9.064080991866753,8.80026031651306,13.687371168797542,13.366869046898046,13.040696496499416,11.63442825862391,11.541317740210458,11.34705333850028,11.131583695464537,11.042715947320398,10.436879845108493,10.383018618241769,10.37714869993376,10.188230172710336,10.18515945979284,9.59345568554406,9.653628933407868,9.341296553988196,9.488745206872895,9.7581451758423,9.599867524411856,13.007533030482511,12.295270647530844,11.557264009888463,11.256993248378553,11.159589904827868,10.959405529941767,10.96921124938013,9.880322614427987,10.245091918933436,10.16692482164894,10.073837725411291,10.042363720635992,9.713560735851946,9.479565465148612,9.280590141518166,9.522728011245247,9.434812983815965,9.836818221310663,9.843418021315127,11.577105730344115,10.41780076820891,10.514492982397035,10.312243442894832,10.242923142200071,10.166237698192422,9.94951449447037,9.901100200387868,9.524472780926915,9.57919865820882,9.460556144012482,9.381483681128705,9.412662026538404,9.78881669747278,9.84074271266766,9.799893781369716,12.882655255815395,12.325077518746143,11.222030506869,11.516213472759532,10.466310356252778,10.372173786013311,10.340478839342897,10.28990649457016,10.140358528850427,9.429944527697687,9.317111880561113,9.388092310053016,9.124248650321205,8.753024821674297,9.089528375759295,9.147573343175011,9.187449196166051,9.01171725195958,9.05480165117059,12.514816916616883,12.248534650849146,11.554146744484475,10.62288548547754,10.308420520599268,10.174959211679802,10.167178087605992,9.735463461845756,10.159592148330548,9.364464442306796,9.367605713616824,9.202848583577245,9.076609258129771,8.92335022742135,9.178875074563791,9.138351572873582,9.154479674520756,9.00039923340687,9.237069593858836,12.19232040739266,12.170204255030546,9.89003625042129,9.493091443326916,9.50310803531379,9.848442479339534,10.077437662755903,9.976523984452154,9.048157516662211,9.281238884711527,9.253465583713195,8.967251411168016,8.903584610795487,9.282061141718165,9.154026553923432,9.177130158949565,9.050231189338866,9.058808375524876,11.926481192875636,11.852177951969653,12.133728776608969,9.90363096283513,9.467373675395756,9.593330767273107,9.459574309752004,9.832730942183524,9.580097821674324,9.19327591843644,9.233683841539504,9.297968228503938,9.2545489870351,8.850246916986054,9.072713296588166,9.124845076691976,8.89140767716952,8.857273102935265,13.495155222425398,13.539354546391172,13.471329324195905,12.627665105571053,12.002574077725336,11.98668078156644,9.22907339418647,9.012561281911768,9.207732508546826,9.778242862007362,10.060892339921052,9.804095252724682,9.706957214567211,9.61333834008266,9.51749005388626,9.555818510982393,8.744435304187006,9.144834918695546,9.038120129285604,9.016697273519608,9.061619182553866,11.855076318534357,12.086055455097451,9.646155508135816,10.10215754384504,8.642295427551856,8.191848752518581,9.094616533345937,9.52163942731748,9.656241272155905,9.61428777731492,9.68348345160385,9.683021064289,9.14023716747519,9.10404122287138,9.156192557938166,9.27213653121589,9.005672433478985],\"coloraxis\":\"coloraxis\",\"size\":[50,50,50,50,50,50,50,50,50,50,50,50,50,50,50,50,50,50,50,50,50,50,50,50,50,50,50,50,50,50,50,50,50,50,50,50,50,50,50,50,50,50,50,50,50,50,50,50,50,50,50,50,50,50,50,50,50,50,50,50,50,50,50,50,50,50,50,50,50,50,50,50,50,50,50,50,50,50,50,50,50,50,50,50,50,50,50,50,50,50,50,50,50,50,50,50,50,50,50,50,50,50,50,50,50,50,50,50,50,50,50,50,50,50,50,50,50,50,50,50,50,50,50,50,50,50,50,50,50,50,50,50,50,50,50,50,50,50,50,50,50,50,50,50,50,50,50,50,50,50,50,50,50,50,50,50,50,50,50,50,50,50,50,50,50,50,50,50,50,50,50,50,50,50,50,50,50,50,50,50,50,50,50,50,50,50,50,50,50,50,50,50,50,50,50,50,50,50,50,50,50,50,50,50,50,50,50,50,50,50,50,50,50,50,50,50,50,50,50,50,50,50,50,50,50,50,50,50,50,50,50,50,50,50,50,50,50,50,50,50,50,50,50,50,50,50,50,50,50,50,50,50,50,50,50,50,50,50,50,50,50,50,50,50,50,50,50,50,50,50,50,50,50],\"sizemode\":\"area\",\"sizeref\":0.125},\"mode\":\"markers\",\"name\":\"\",\"showlegend\":false,\"subplot\":\"mapbox\",\"type\":\"scattermapbox\"}],\"name\":\"2016\"}]);\n",
              "                        }).then(function(){\n",
              "                            \n",
              "var gd = document.getElementById('1bd5e0e0-cf2f-492d-87ae-bea81ec12227');\n",
              "var x = new MutationObserver(function (mutations, observer) {{\n",
              "        var display = window.getComputedStyle(gd).display;\n",
              "        if (!display || display === 'none') {{\n",
              "            console.log([gd, 'removed!']);\n",
              "            Plotly.purge(gd);\n",
              "            observer.disconnect();\n",
              "        }}\n",
              "}});\n",
              "\n",
              "// Listen for the removal of the full notebook cells\n",
              "var notebookContainer = gd.closest('#notebook-container');\n",
              "if (notebookContainer) {{\n",
              "    x.observe(notebookContainer, {childList: true});\n",
              "}}\n",
              "\n",
              "// Listen for the clearing of the current output cell\n",
              "var outputEl = gd.closest('.output');\n",
              "if (outputEl) {{\n",
              "    x.observe(outputEl, {childList: true});\n",
              "}}\n",
              "\n",
              "                        })                };                            </script>        </div>\n",
              "</body>\n",
              "</html>"
            ]
          },
          "metadata": {}
        }
      ]
    },
    {
      "cell_type": "markdown",
      "source": [
        "Sur la carte précédente, nous observons ainsi le taux de retour énergétique obtenu sur toute la France, nous constatons que nous dépassons les 10 points sur toutes la partie sud du pays, ce qui ferait autant de terrain aménageable et énergétiquement intéressant."
      ],
      "metadata": {
        "id": "Q4T0aMNcu4mL"
      }
    },
    {
      "cell_type": "markdown",
      "source": [
        "Pour conclure, nous allons vous présenter quel serait selon nous les points que nous pourrions améliorer ou poursuivre pour approfondir ce projet :\n",
        "\n",
        "- la modélisation des rendements est loin d'être optimale, il aurait été pertinent de tenir compte de l'angle d'incidence et donc de la variation de rendement qui peut apparaître selon la latitude. Ce qui aurait certainement compenser la hausse du rendement selon la latitude que nous avons observée.\n",
        "\n",
        "- De même nous aurions préféré pouvoir observer la variation de température du capteur au cours du temps tout le long de l'année afin de ne pas avoir besoin de modéliser la différence de température faute de données.\n",
        "\n",
        "- Il serait intéressant de prolonger notre sujet en le portant sur les différents types de technologies solaires qui existent que se soit les 3 sous-types de photovoltaïques ou encore le solaire thermique et les solaire à concentration. \n",
        "\n",
        "- Il serait pertinent de ne prendre en compte dans les observations que les zones géographiques qui aurait été capable de supporter des infrastructures solaires.\n",
        "\n",
        "- Enfin, afin de comparer ces panneaux solaires à l'énergie nucléaire par exemple, il sera nécessaire de tenir compte du coût économique de ces infrastructures et non-seulement du coût énergétique."
      ],
      "metadata": {
        "id": "a3SHVEVJ9Mex"
      }
    }
  ],
  "metadata": {
    "colab": {
      "provenance": [],
      "include_colab_link": true
    },
    "kernelspec": {
      "display_name": "Python 3",
      "name": "python3"
    },
    "language_info": {
      "name": "python"
    }
  },
  "nbformat": 4,
  "nbformat_minor": 0
}