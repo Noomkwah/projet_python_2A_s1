{
  "nbformat": 4,
  "nbformat_minor": 0,
  "metadata": {
    "colab": {
      "provenance": [],
      "authorship_tag": "ABX9TyMuPgNnD+TYIrwHmFiTk4iA",
      "include_colab_link": true
    },
    "kernelspec": {
      "name": "python3",
      "display_name": "Python 3"
    },
    "language_info": {
      "name": "python"
    }
  },
  "cells": [
    {
      "cell_type": "markdown",
      "metadata": {
        "id": "view-in-github",
        "colab_type": "text"
      },
      "source": [
        "<a href=\"https://colab.research.google.com/github/Noomkwah/projet_python_2A_s1/blob/main/ProjetPython_RAYMONDjulien_DUPIREpaul_MASSINkeryann.ipynb\" target=\"_parent\"><img src=\"https://colab.research.google.com/assets/colab-badge.svg\" alt=\"Open In Colab\"/></a>"
      ]
    },
    {
      "cell_type": "markdown",
      "source": [
        "# Introduction"
      ],
      "metadata": {
        "id": "LwFNVGuTdjNE"
      }
    },
    {
      "cell_type": "markdown",
      "source": [
        "**Contexte :** Les énergies renouvelables sont au coeur des préoccupations environnementales de ces dernières décennies. La France dispose d'un taux d'ensoleillement de son territoire qui lui permet notamment d'exploiter l'énergie solaire. Cependant, la mise en place de panneaux solaires thermiques ou photovoltaïques présente des coûts incompressibles qu'il convient de prendre en compte. En particulier, les disparités d'ensoleillement et de températures selon les régions laissent présager que certaines régions sont plus propices à l'exploitation solaire que d'autres.\n",
        "\n",
        "**Quelles sont les meilleures régions pour l'implantation de panneaux solaires ?**\n",
        "\n",
        "**Notre projet :** Ce projet tente de répondre à cette précédente question. Pour cela, on s'appuie sur une modélisation du rendement d'un panneau solaire photovoltaïque selon la position (latitude, longitude) en fonction de différents paramètres tels que la température extérieure et le niveau d'ensoleillement durant la journée."
      ],
      "metadata": {
        "id": "aEZWrSJnbU-t"
      }
    },
    {
      "cell_type": "markdown",
      "source": [
        "# Librairies importées"
      ],
      "metadata": {
        "id": "nvQAkZMwfJNa"
      }
    },
    {
      "cell_type": "markdown",
      "source": [
        "On commence par importer toutes les librairies utiles."
      ],
      "metadata": {
        "id": "mrDynHLNfPkC"
      }
    },
    {
      "cell_type": "code",
      "source": [
        "import numpy as np\n",
        "from sklearn.linear_model import LinearRegression\n",
        "from sklearn.model_selection import train_test_split\n",
        "import sklearn.metrics\n",
        "import matplotlib.pyplot as plt\n",
        "import seaborn as sns\n",
        "import pandas as pd\n",
        "import urllib.request\n",
        "import urllib.error\n",
        "import plotly.express as px\n",
        "import plotly.io as pio\n",
        "import plotly.graph_objects as go\n",
        "pio.renderers.default = \"browser\"\n",
        "import plotly.graph_objects as go\n"
      ],
      "metadata": {
        "id": "Fvuuy4rHc3xj"
      },
      "execution_count": 1,
      "outputs": []
    },
    {
      "cell_type": "markdown",
      "source": [
        "# Création de la base de donnée"
      ],
      "metadata": {
        "id": "kqdYJYJficFd"
      }
    },
    {
      "cell_type": "markdown",
      "source": [
        "La première étape du projet consiste en l'extraction des données utiles. On s'appuie pour cela sur l'API du [site de la commission européenne](https://re.jrc.ec.europa.eu)."
      ],
      "metadata": {
        "id": "BcIdYiDdfT16"
      }
    },
    {
      "cell_type": "code",
      "source": [
        "def extraction(latitude,longitude, startyear, endyear):\n",
        "    \"\"\"Extraction de la base de données pour les paramètres de longitudes, latitudes et de périodes\n",
        "    à partir de l'API de la comission européenne https://re.jrc.ec.europa.eu\"\"\"\n",
        "    \n",
        "    req = \"https://re.jrc.ec.europa.eu/api/seriescalc?lat=\"+str(latitude)+\"&lon=\"+str(longitude)+\"&startyear=\"+str(startyear)+\"&endyear=\"+str(endyear)+\"&month=0&showtemperatures=1&outputformat=csv&browser=1\"\n",
        "    url = urllib.request.urlopen(req) \n",
        "    return url\n",
        "\n",
        "def normalisation(url, latitude,longitude):\n",
        "    \"\"\"On standardise les données récupérées pour les rendre comparables entre elles\"\"\"\n",
        "    \n",
        "    df_norm = pd.read_csv(url,skiprows=(8),skipfooter=9,engine='python') #On se débarasse des informations superflues\n",
        "    \n",
        "    df_norm['annee'] = df_norm['time'].str[:4] #On extrait la variable d'année à partir de la variable temps\n",
        "    df_norm = df_norm.groupby(['annee'])['G(i)', 'WS10m'].mean() #On calcule la moyenne annuelle de la variable ensoleillement et de la variable vitesse du vent\n",
        "    df_norm['latitude'] = latitude #On rajoute les paramètres de latitude et de longitude\n",
        "    df_norm[\"longitude\"] = longitude\n",
        "\n",
        "    return df_norm\n",
        "\n",
        "\n",
        "def creation_df_zone(latitude_1,latitude_2,longitude_1, longitude_2, precision,startyear,endyear):\n",
        "    \"\"\"Cette fonction sert à créer une base de données des moyennes d'ensoleillement et de vitesses du vent par an\n",
        "        sur une zone géographique définie par ses paramètres de latitude et de longitude. \n",
        "        La variables précision donne la precision du quadrillage réalisé, type = int, > 0.\n",
        "        Les variables startyear et endyear permettent de définir l'intervalle de temps considéré (2005-2016).\n",
        "        Exemple : zone(1,2,-1,1,2,2010,2012)\"\"\"\n",
        "\n",
        "    ls_df = [] #création d'une liste vide qui servira a réunir les bases de données années par années\n",
        "    for longitude in range(longitude_1, (longitude_2+1), 1): #On parcourt un à un les longitude comprises entre longitude_1 et longitude_2\n",
        "        for latitude in range(latitude_1*precision,(latitude_2+1)*precision,1): #On parcourt les latitudes selon le meme principe en affinant le  quadrillage à l'aide de la variable précision\n",
        "            latitude = latitude/precision \n",
        "            \n",
        "            try :  #try permet de ne pas considérer les coordonnées manquantes (ex : océan). \n",
        "                url = extraction(latitude, longitude, startyear, endyear)#Récupération de la base de données brute\n",
        "                df_norm = normalisation(url, latitude, longitude)#Standardisation de la base de données\n",
        "                ls_df.append(df_norm)#Ajout de la base de données à la liste \n",
        "                \n",
        "                \n",
        "            except urllib.error.HTTPError:     #au cas où l'on tombe sur des lieux sans mesures, ignorer\n",
        "                pass    \n",
        "                \n",
        "            \n",
        "    df_final = pd.concat(ls_df, axis=0, ignore_index=False) #Concaténation des différents df (un par coordonnées)\n",
        "    df_final.reset_index(level=0, inplace=True) #On enleve l'indexation par année\n",
        "    \n",
        "    \n",
        "    \n",
        "    \n",
        "    df_final.to_csv('BaseDonneesEnsoleilementPythonDS.csv')  #Mettre le chemin d'accès et le nom du fichier avant le .csv    \n",
        "    return df_final\n",
        "\n",
        "\n",
        "\n",
        "###-----------------Création d'une carte intéractive-----------------------\n",
        "\n",
        "def carte_interactive(df,parametre):\n",
        "    \"\"\"Création d'une carte intéractive avec plotly, permet de visualiser les données\n",
        "        Paramètre = \"G(i)\" [ensoleillement] ou \"WS10m\" [vitesse du vent]\n",
        "        Il est nécessaire d'avoir construit le df d'abord au moyen de la fonction creation_df_zone\n",
        "        \n",
        "        Exemple : carte_interactive(df, \"G(i)\")\n",
        "        \"\"\"\n",
        "    df[\"size\"] = pd.Series([50 for x in range(len(df.index))])  #Création d'une variable de taille pour les \n",
        "    \n",
        "    fig = px.scatter_mapbox(df.dropna(), #On se débarasse des valeurs manquantes\n",
        "                        lat=\"latitude\", #On donne les variables de coordonnées \n",
        "                        lon=\"longitude\", \n",
        "                        color=str(parametre), #La couleur vient du parametre regardé : \"G(i)\" ou \"WS10m\"\n",
        "                        size =\"size\", #La taille de chaque point\n",
        "                        mapbox_style=\"carto-positron\", #Le fond de carte\n",
        "                        \n",
        "                        #On joue avec les paramètres de légende pour les rendre cohérent avec les paramètres étudiés et consistants à travers le temps\n",
        "                        color_continuous_scale=[[0, 'blue'], [0.15, 'green'],[0.30, \"yellow\"], [0.45, 'orange'], [0.60, 'pink'], [0.75, 'crimson'] ,[1.0, 'red']],\n",
        "                        color_continuous_midpoint = df[parametre].mean(),\n",
        "                        range_color=([df[parametre].min(),df[parametre].max()]),\n",
        "                        \n",
        "                        #On anime le tout en fonction de l'année\n",
        "                        animation_frame = 'annee')\n",
        "    \n",
        "    fig.show()\n",
        "\n"
      ],
      "metadata": {
        "id": "ObwhtNSrjqMj"
      },
      "execution_count": null,
      "outputs": []
    }
  ]
}