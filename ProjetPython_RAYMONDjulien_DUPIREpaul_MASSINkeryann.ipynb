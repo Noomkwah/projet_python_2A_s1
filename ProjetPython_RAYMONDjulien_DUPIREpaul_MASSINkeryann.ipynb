{
  "cells": [
    {
      "cell_type": "markdown",
      "metadata": {
        "id": "view-in-github",
        "colab_type": "text"
      },
      "source": [
        "<a href=\"https://colab.research.google.com/github/Noomkwah/projet_python_2A_s1/blob/main/ProjetPython_RAYMONDjulien_DUPIREpaul_MASSINkeryann.ipynb\" target=\"_parent\"><img src=\"https://colab.research.google.com/assets/colab-badge.svg\" alt=\"Open In Colab\"/></a>"
      ]
    },
    {
      "cell_type": "markdown",
      "metadata": {
        "id": "LwFNVGuTdjNE"
      },
      "source": [
        "# Introduction"
      ]
    },
    {
      "cell_type": "markdown",
      "metadata": {
        "id": "aEZWrSJnbU-t"
      },
      "source": [
        "**Contexte :** Les énergies renouvelables sont au coeur des préoccupations environnementales de ces dernières décennies. La France dispose d'un taux d'ensoleillement de son territoire qui lui permet notamment d'exploiter l'énergie solaire. Cependant, la mise en place de panneaux solaires thermiques ou photovoltaïques présente des coûts incompressibles qu'il convient de prendre en compte. En particulier, les disparités d'ensoleillement et de températures selon les régions laissent présager que certaines régions sont plus propices à l'exploitation solaire que d'autres.\n",
        "\n",
        "**Quelles sont les meilleures régions pour l'implantation de panneaux solaires ?**\n",
        "\n",
        "**Notre projet :** Ce projet tente de répondre à cette précédente question. Pour cela, on s'appuie sur une modélisation du rendement d'un panneau solaire photovoltaïque selon la position (latitude, longitude) en fonction de différents paramètres tels que la température extérieure et le niveau d'ensoleillement durant la journée."
      ]
    },
    {
      "cell_type": "markdown",
      "metadata": {
        "id": "nvQAkZMwfJNa"
      },
      "source": [
        "# Librairies importées"
      ]
    },
    {
      "cell_type": "markdown",
      "metadata": {
        "id": "mrDynHLNfPkC"
      },
      "source": [
        "On commence par importer toutes les librairies utiles."
      ]
    },
    {
      "cell_type": "code",
      "execution_count": 17,
      "metadata": {
        "id": "Fvuuy4rHc3xj"
      },
      "outputs": [],
      "source": [
        "import numpy as np\n",
        "from scipy.optimize import minimize\n",
        "from sklearn.linear_model import LinearRegression\n",
        "from sklearn.model_selection import train_test_split\n",
        "import sklearn.metrics\n",
        "import matplotlib.pyplot as plt\n",
        "import seaborn as sns\n",
        "import pandas as pd\n",
        "import urllib.request\n",
        "import urllib.error\n",
        "import plotly.express as px\n",
        "from google.colab import files\n"
      ]
    },
    {
      "cell_type": "markdown",
      "metadata": {
        "id": "kqdYJYJficFd"
      },
      "source": [
        "# Création de la base de donnée"
      ]
    },
    {
      "cell_type": "markdown",
      "metadata": {
        "id": "BcIdYiDdfT16"
      },
      "source": [
        "La première étape du projet consiste en l'extraction des données utiles. On s'appuie pour cela sur l'API du [site de la commission européenne](https://re.jrc.ec.europa.eu). En particulier à partir de la base de données PVGIS. \n",
        "\n",
        "L’API donne accès pour chacun des points de coordonnées considéré à des variables d’intérets comme [l’ensoleillement] (“G(i)”) en [unités] et la vitesse du vent (“WS10”) en [unités] pour une date donnée (Année-Mois-Jour-Heure). Les mesures sont réalisées de manière hebdomadaire.\n",
        "\n",
        "Notre objectif est de réunir ces données en des variables moyennes sur une zone géographique choisie. "
      ]
    },
    {
      "cell_type": "code",
      "execution_count": 14,
      "metadata": {
        "id": "ObwhtNSrjqMj"
      },
      "outputs": [],
      "source": [
        "def extraction(latitude,longitude, startyear, endyear):\n",
        "    \"\"\"Extraction de la base de données pour les paramètres de longitudes, latitudes et de périodes\n",
        "    à partir de l'API de la comission européenne https://re.jrc.ec.europa.eu\"\"\"\n",
        "    \n",
        "    req = \"https://re.jrc.ec.europa.eu/api/seriescalc?lat=\"+str(latitude)+\"&lon=\"+str(longitude)+\"&startyear=\"+str(startyear)+\"&endyear=\"+str(endyear)+\"&month=0&showtemperatures=1&outputformat=csv&browser=1\"\n",
        "    url = urllib.request.urlopen(req) \n",
        "    return url\n",
        "\n",
        "def normalisation(url, latitude,longitude):\n",
        "    \"\"\"On standardise les données récupérées pour les rendre comparables entre elles\"\"\"\n",
        "    \n",
        "    df_norm = pd.read_csv(url,skiprows=(8),skipfooter=9,engine='python') #On se débarasse des informations superflues\n",
        "    \n",
        "    df_norm['annee'] = df_norm['time'].str[:4] #On extrait la variable d'année à partir de la variable temps\n",
        "    df_norm = df_norm.groupby(['annee'])['G(i)', 'WS10m'].mean() #On calcule la moyenne annuelle de la variable ensoleillement et de la variable vitesse du vent\n",
        "    df_norm['latitude'] = latitude #On rajoute les paramètres de latitude et de longitude\n",
        "    df_norm[\"longitude\"] = longitude\n",
        "\n",
        "    return df_norm\n",
        "\n",
        "\n",
        "def creation_df_zone(latitude_1,latitude_2,longitude_1, longitude_2, precision,startyear,endyear):\n",
        "    \"\"\"Cette fonction sert à créer une base de données des moyennes d'ensoleillement et de vitesses du vent par an\n",
        "        sur une zone géographique définie par ses paramètres de latitude et de longitude. \n",
        "        La variables précision donne la precision du quadrillage réalisé, type = int, > 0.\n",
        "        Les variables startyear et endyear permettent de définir l'intervalle de temps considéré (2005-2016).\n",
        "        Exemple : zone(1,2,-1,1,2,2010,2012)\"\"\"\n",
        "\n",
        "    ls_df = [] #création d'une liste vide qui servira a réunir les bases de données années par années\n",
        "    for longitude in range(longitude_1, (longitude_2+1), 1): #On parcourt un à un les longitude comprises entre longitude_1 et longitude_2\n",
        "        for latitude in range(latitude_1*precision,(latitude_2+1)*precision,1): #On parcourt les latitudes selon le meme principe en affinant le  quadrillage à l'aide de la variable précision\n",
        "            latitude = latitude/precision #La précision désigne le nombre de points supplémentaires \n",
        "            \n",
        "            try :  #try permet de ne pas considérer les coordonnées manquantes (ex : océan). \n",
        "                url = extraction(latitude, longitude, startyear, endyear)#Récupération de la base de données brute\n",
        "                df_norm = normalisation(url, latitude, longitude)#Standardisation de la base de données\n",
        "                ls_df.append(df_norm)#Ajout de la base de données à la liste \n",
        "                \n",
        "                \n",
        "            except urllib.error.HTTPError:     #au cas où l'on tombe sur des lieux sans mesures, ignorer\n",
        "                pass    \n",
        "                \n",
        "            \n",
        "    df_final = pd.concat(ls_df, axis=0, ignore_index=False) #Concaténation des différents df (un par coordonnées)\n",
        "    df_final.reset_index(level=0, inplace=True) #On enleve l'indexation par année\n",
        "    \n",
        "    \n",
        "    \n",
        "    \n",
        "    df_final.to_csv('BaseDonneesEnsoleilementPythonDS.csv')  #Mettre le chemin d'accès et le nom du fichier avant le .csv    \n",
        "    return df_final"
      ]
    },
    {
      "cell_type": "markdown",
      "source": [
        "**VISUALISATION DES DONNEES \"BRUTES\"**"
      ],
      "metadata": {
        "id": "H4VCpwuaA6fh"
      }
    },
    {
      "cell_type": "code",
      "source": [
        "def carte_interactive(df,parametre):\n",
        "    \"\"\"Création d'une carte intéractive avec plotly, permet de visualiser les données\n",
        "        Paramètre = \"G(i)\" [ensoleillement] ou \"WS10m\" [vitesse du vent]\n",
        "        Il est nécessaire d'avoir construit le df d'abord au moyen de la fonction creation_df_zone\n",
        "        \n",
        "        Exemple : carte_interactive(df, \"G(i)\")\n",
        "        \"\"\"\n",
        "    df[\"size\"] = pd.Series([50 for x in range(len(df.index))])  #Création d'une variable de taille pour les \n",
        "    \n",
        "    fig = px.scatter_mapbox(df.dropna(), #On se débarasse des valeurs manquantes\n",
        "                        lat=\"latitude\", #On donne les variables de coordonnées \n",
        "                        lon=\"longitude\", \n",
        "                        color=str(parametre), #La couleur vient du parametre regardé : \"G(i)\" ou \"WS10m\"\n",
        "                        size =\"size\", #La taille de chaque point\n",
        "                        mapbox_style=\"carto-positron\", #Le fond de carte\n",
        "                        \n",
        "                        #On joue avec les paramètres de légende pour les rendre cohérent avec les paramètres étudiés et consistants à travers le temps\n",
        "                        color_continuous_scale=[[0, 'blue'], [0.15, 'green'],[0.30, \"yellow\"], [0.45, 'orange'], [0.60, 'pink'], [0.75, 'crimson'] ,[1.0, 'red']],\n",
        "                        color_continuous_midpoint = df[parametre].mean(),\n",
        "                        range_color=([df[parametre].min(),df[parametre].max()]),\n",
        "                        zoom = 10,\n",
        "\n",
        "                        #On anime le tout en fonction de l'année\n",
        "                        animation_frame = 'annee')\n",
        "    \n",
        "    fig.show()"
      ],
      "metadata": {
        "id": "QLtEML9uA2aB"
      },
      "execution_count": 16,
      "outputs": []
    },
    {
      "cell_type": "markdown",
      "source": [
        "Il ne reste plus qu'à récupérer les données. La ligne ci-dessous s'en occupe. Son exécution est assez longue (13 minutes depuis Google Colab, sur un Core AMD Ryzen 5). Notez que le résultat de cette ligne est déjà enregistré dans le github du projet. Il suffit de l'importer en utilisant le lien csv ci-après."
      ],
      "metadata": {
        "id": "qV7BEDCss7oa"
      }
    },
    {
      "cell_type": "code",
      "execution_count": 15,
      "metadata": {
        "colab": {
          "base_uri": "https://localhost:8080/"
        },
        "id": "imvqB_wwoLi1",
        "outputId": "eb56c2e5-e33c-4535-b0bd-b3937b0adc6c"
      },
      "outputs": [
        {
          "output_type": "stream",
          "name": "stderr",
          "text": [
            "<ipython-input-14-f14cbfd4a909>:15: FutureWarning:\n",
            "\n",
            "Indexing with multiple keys (implicitly converted to a tuple of keys) will be deprecated, use a list instead.\n",
            "\n"
          ]
        }
      ],
      "source": [
        "df = creation_df_zone(41,52,-6,10,2,2013,2016) #On crée la base de données sur le territoire de France métropolitaine"
      ]
    },
    {
      "cell_type": "code",
      "source": [
        "df = pd.read_csv('https://raw.githubusercontent.com/Noomkwah/projet_python_2A_s1/main/BD_G(i).csv', index_col = 0)\n",
        "df.head()"
      ],
      "metadata": {
        "id": "t2A9_wvWzZwK",
        "outputId": "0a1b4572-83f1-4f0c-acb1-dfe03ec0e5a0",
        "colab": {
          "base_uri": "https://localhost:8080/",
          "height": 206
        }
      },
      "execution_count": 20,
      "outputs": [
        {
          "output_type": "execute_result",
          "data": {
            "text/plain": [
              "   annee        G(i)     WS10m  latitude  longitude\n",
              "0   2013  192.259062  3.304105      41.0         -6\n",
              "1   2014  195.657178  3.172605      41.0         -6\n",
              "2   2015  197.981887  2.955639      41.0         -6\n",
              "3   2016  187.812598  3.534647      41.0         -6\n",
              "4   2013  190.524902  3.312728      41.5         -6"
            ],
            "text/html": [
              "\n",
              "  <div id=\"df-15bcdfe7-503a-4c58-8a43-2c249f374dba\">\n",
              "    <div class=\"colab-df-container\">\n",
              "      <div>\n",
              "<style scoped>\n",
              "    .dataframe tbody tr th:only-of-type {\n",
              "        vertical-align: middle;\n",
              "    }\n",
              "\n",
              "    .dataframe tbody tr th {\n",
              "        vertical-align: top;\n",
              "    }\n",
              "\n",
              "    .dataframe thead th {\n",
              "        text-align: right;\n",
              "    }\n",
              "</style>\n",
              "<table border=\"1\" class=\"dataframe\">\n",
              "  <thead>\n",
              "    <tr style=\"text-align: right;\">\n",
              "      <th></th>\n",
              "      <th>annee</th>\n",
              "      <th>G(i)</th>\n",
              "      <th>WS10m</th>\n",
              "      <th>latitude</th>\n",
              "      <th>longitude</th>\n",
              "    </tr>\n",
              "  </thead>\n",
              "  <tbody>\n",
              "    <tr>\n",
              "      <th>0</th>\n",
              "      <td>2013</td>\n",
              "      <td>192.259062</td>\n",
              "      <td>3.304105</td>\n",
              "      <td>41.0</td>\n",
              "      <td>-6</td>\n",
              "    </tr>\n",
              "    <tr>\n",
              "      <th>1</th>\n",
              "      <td>2014</td>\n",
              "      <td>195.657178</td>\n",
              "      <td>3.172605</td>\n",
              "      <td>41.0</td>\n",
              "      <td>-6</td>\n",
              "    </tr>\n",
              "    <tr>\n",
              "      <th>2</th>\n",
              "      <td>2015</td>\n",
              "      <td>197.981887</td>\n",
              "      <td>2.955639</td>\n",
              "      <td>41.0</td>\n",
              "      <td>-6</td>\n",
              "    </tr>\n",
              "    <tr>\n",
              "      <th>3</th>\n",
              "      <td>2016</td>\n",
              "      <td>187.812598</td>\n",
              "      <td>3.534647</td>\n",
              "      <td>41.0</td>\n",
              "      <td>-6</td>\n",
              "    </tr>\n",
              "    <tr>\n",
              "      <th>4</th>\n",
              "      <td>2013</td>\n",
              "      <td>190.524902</td>\n",
              "      <td>3.312728</td>\n",
              "      <td>41.5</td>\n",
              "      <td>-6</td>\n",
              "    </tr>\n",
              "  </tbody>\n",
              "</table>\n",
              "</div>\n",
              "      <button class=\"colab-df-convert\" onclick=\"convertToInteractive('df-15bcdfe7-503a-4c58-8a43-2c249f374dba')\"\n",
              "              title=\"Convert this dataframe to an interactive table.\"\n",
              "              style=\"display:none;\">\n",
              "        \n",
              "  <svg xmlns=\"http://www.w3.org/2000/svg\" height=\"24px\"viewBox=\"0 0 24 24\"\n",
              "       width=\"24px\">\n",
              "    <path d=\"M0 0h24v24H0V0z\" fill=\"none\"/>\n",
              "    <path d=\"M18.56 5.44l.94 2.06.94-2.06 2.06-.94-2.06-.94-.94-2.06-.94 2.06-2.06.94zm-11 1L8.5 8.5l.94-2.06 2.06-.94-2.06-.94L8.5 2.5l-.94 2.06-2.06.94zm10 10l.94 2.06.94-2.06 2.06-.94-2.06-.94-.94-2.06-.94 2.06-2.06.94z\"/><path d=\"M17.41 7.96l-1.37-1.37c-.4-.4-.92-.59-1.43-.59-.52 0-1.04.2-1.43.59L10.3 9.45l-7.72 7.72c-.78.78-.78 2.05 0 2.83L4 21.41c.39.39.9.59 1.41.59.51 0 1.02-.2 1.41-.59l7.78-7.78 2.81-2.81c.8-.78.8-2.07 0-2.86zM5.41 20L4 18.59l7.72-7.72 1.47 1.35L5.41 20z\"/>\n",
              "  </svg>\n",
              "      </button>\n",
              "      \n",
              "  <style>\n",
              "    .colab-df-container {\n",
              "      display:flex;\n",
              "      flex-wrap:wrap;\n",
              "      gap: 12px;\n",
              "    }\n",
              "\n",
              "    .colab-df-convert {\n",
              "      background-color: #E8F0FE;\n",
              "      border: none;\n",
              "      border-radius: 50%;\n",
              "      cursor: pointer;\n",
              "      display: none;\n",
              "      fill: #1967D2;\n",
              "      height: 32px;\n",
              "      padding: 0 0 0 0;\n",
              "      width: 32px;\n",
              "    }\n",
              "\n",
              "    .colab-df-convert:hover {\n",
              "      background-color: #E2EBFA;\n",
              "      box-shadow: 0px 1px 2px rgba(60, 64, 67, 0.3), 0px 1px 3px 1px rgba(60, 64, 67, 0.15);\n",
              "      fill: #174EA6;\n",
              "    }\n",
              "\n",
              "    [theme=dark] .colab-df-convert {\n",
              "      background-color: #3B4455;\n",
              "      fill: #D2E3FC;\n",
              "    }\n",
              "\n",
              "    [theme=dark] .colab-df-convert:hover {\n",
              "      background-color: #434B5C;\n",
              "      box-shadow: 0px 1px 3px 1px rgba(0, 0, 0, 0.15);\n",
              "      filter: drop-shadow(0px 1px 2px rgba(0, 0, 0, 0.3));\n",
              "      fill: #FFFFFF;\n",
              "    }\n",
              "  </style>\n",
              "\n",
              "      <script>\n",
              "        const buttonEl =\n",
              "          document.querySelector('#df-15bcdfe7-503a-4c58-8a43-2c249f374dba button.colab-df-convert');\n",
              "        buttonEl.style.display =\n",
              "          google.colab.kernel.accessAllowed ? 'block' : 'none';\n",
              "\n",
              "        async function convertToInteractive(key) {\n",
              "          const element = document.querySelector('#df-15bcdfe7-503a-4c58-8a43-2c249f374dba');\n",
              "          const dataTable =\n",
              "            await google.colab.kernel.invokeFunction('convertToInteractive',\n",
              "                                                     [key], {});\n",
              "          if (!dataTable) return;\n",
              "\n",
              "          const docLinkHtml = 'Like what you see? Visit the ' +\n",
              "            '<a target=\"_blank\" href=https://colab.research.google.com/notebooks/data_table.ipynb>data table notebook</a>'\n",
              "            + ' to learn more about interactive tables.';\n",
              "          element.innerHTML = '';\n",
              "          dataTable['output_type'] = 'display_data';\n",
              "          await google.colab.output.renderOutput(dataTable, element);\n",
              "          const docLink = document.createElement('div');\n",
              "          docLink.innerHTML = docLinkHtml;\n",
              "          element.appendChild(docLink);\n",
              "        }\n",
              "      </script>\n",
              "    </div>\n",
              "  </div>\n",
              "  "
            ]
          },
          "metadata": {},
          "execution_count": 20
        }
      ]
    },
    {
      "cell_type": "code",
      "source": [
        "carte_interactive(df,\"G(i)\")"
      ],
      "metadata": {
        "colab": {
          "base_uri": "https://localhost:8080/",
          "height": 542
        },
        "id": "yKipe3sPWpO5",
        "outputId": "e225c53c-feed-4b5a-f721-dc36d0efce7b"
      },
      "execution_count": 21,
      "outputs": [
        {
          "output_type": "display_data",
          "data": {
            "text/html": [
              "<html>\n",
              "<head><meta charset=\"utf-8\" /></head>\n",
              "<body>\n",
              "    <div>            <script src=\"https://cdnjs.cloudflare.com/ajax/libs/mathjax/2.7.5/MathJax.js?config=TeX-AMS-MML_SVG\"></script><script type=\"text/javascript\">if (window.MathJax) {MathJax.Hub.Config({SVG: {font: \"STIX-Web\"}});}</script>                <script type=\"text/javascript\">window.PlotlyConfig = {MathJaxConfig: 'local'};</script>\n",
              "        <script src=\"https://cdn.plot.ly/plotly-2.8.3.min.js\"></script>                <div id=\"15e3d142-3e56-4b4f-9247-b0f792e3a5ae\" class=\"plotly-graph-div\" style=\"height:525px; width:100%;\"></div>            <script type=\"text/javascript\">                                    window.PLOTLYENV=window.PLOTLYENV || {};                                    if (document.getElementById(\"15e3d142-3e56-4b4f-9247-b0f792e3a5ae\")) {                    Plotly.newPlot(                        \"15e3d142-3e56-4b4f-9247-b0f792e3a5ae\",                        [{\"hovertemplate\":\"annee=2013<br>size=%{marker.size}<br>latitude=%{lat}<br>longitude=%{lon}<br>G(i)=%{marker.color}<extra></extra>\",\"lat\":[41.0,41.5,42.0,42.5,43.0,43.5,41.0,41.5,42.0,42.5,43.0,50.5,52.0,41.0,41.5,42.0,42.5,43.0,48.0,48.5,50.5,51.0,52.0,52.5,41.0,41.5,42.0,42.5,43.0,48.0,48.5,51.0,52.0,52.5,41.0,41.5,42.0,42.5,43.0,47.0,47.5,48.0,48.5,51.0,51.5,52.0,52.5,41.0,41.5,42.0,42.5,43.0,43.5,44.0,44.5,45.0,46.0,46.5,47.0,47.5,48.0,48.5,49.0,51.0,51.5,52.0,52.5,41.0,41.5,42.0,42.5,43.0,43.5,44.0,44.5,45.0,45.5,46.0,46.5,47.0,47.5,48.0,48.5,49.0,51.0,51.5,52.0,52.5,41.5,42.0,42.5,43.0,43.5,44.0,44.5,45.0,45.5,46.0,46.5,47.0,47.5,48.0,48.5,49.0,49.5,52.0,52.5,41.5,42.0,42.5,43.0,43.5,44.0,44.5,45.0,45.5,46.0,46.5,47.0,47.5,48.0,48.5,49.0,49.5,50.0,50.5,42.0,42.5,43.0,43.5,44.0,44.5,45.0,45.5,46.0,46.5,47.0,47.5,48.0,48.5,49.0,49.5,50.0,50.5,51.0,44.0,44.5,45.0,45.5,46.0,46.5,47.0,47.5,48.0,48.5,49.0,49.5,50.0,50.5,51.0,51.5,43.5,44.0,44.5,45.0,45.5,46.0,46.5,47.0,47.5,48.0,48.5,49.0,49.5,50.0,50.5,51.0,51.5,52.0,52.5,43.5,44.0,44.5,45.0,45.5,46.0,46.5,47.0,47.5,48.0,48.5,49.0,49.5,50.0,50.5,51.0,51.5,52.0,52.5,44.0,44.5,45.0,45.5,46.0,46.5,47.0,47.5,48.0,48.5,49.0,49.5,50.0,50.5,51.0,51.5,52.0,52.5,44.0,44.5,45.0,45.5,46.0,46.5,47.0,47.5,48.0,48.5,49.0,49.5,50.0,50.5,51.0,51.5,52.0,52.5,41.0,41.5,42.0,42.5,44.5,45.0,45.5,46.0,46.5,47.0,47.5,48.0,48.5,49.0,49.5,50.0,50.5,51.0,51.5,52.0,52.5,44.5,45.0,45.5,46.0,46.5,47.0,47.5,48.0,48.5,49.0,49.5,50.0,50.5,51.0,51.5,52.0,52.5],\"legendgroup\":\"\",\"lon\":[-6,-6,-6,-6,-6,-6,-5,-5,-5,-5,-5,-5,-5,-4,-4,-4,-4,-4,-4,-4,-4,-4,-4,-4,-3,-3,-3,-3,-3,-3,-3,-3,-3,-3,-2,-2,-2,-2,-2,-2,-2,-2,-2,-2,-2,-2,-2,-1,-1,-1,-1,-1,-1,-1,-1,-1,-1,-1,-1,-1,-1,-1,-1,-1,-1,-1,-1,0,0,0,0,0,0,0,0,0,0,0,0,0,0,0,0,0,0,0,0,0,1,1,1,1,1,1,1,1,1,1,1,1,1,1,1,1,1,1,1,2,2,2,2,2,2,2,2,2,2,2,2,2,2,2,2,2,2,2,3,3,3,3,3,3,3,3,3,3,3,3,3,3,3,3,3,3,3,4,4,4,4,4,4,4,4,4,4,4,4,4,4,4,4,5,5,5,5,5,5,5,5,5,5,5,5,5,5,5,5,5,5,5,6,6,6,6,6,6,6,6,6,6,6,6,6,6,6,6,6,6,6,7,7,7,7,7,7,7,7,7,7,7,7,7,7,7,7,7,7,8,8,8,8,8,8,8,8,8,8,8,8,8,8,8,8,8,8,9,9,9,9,9,9,9,9,9,9,9,9,9,9,9,9,9,9,9,9,9,10,10,10,10,10,10,10,10,10,10,10,10,10,10,10,10,10],\"marker\":{\"color\":[192.2590616438356,190.524901826484,188.56732420091325,185.0926757990868,160.8848607305936,136.5638310502283,192.1702865296804,188.89528310502283,187.13770433789955,182.65618607305936,157.52069063926942,117.61939840182649,116.34672374429223,168.31195662100455,180.42101940639267,179.04940296803653,170.46744292237443,147.01001255707763,133.55380821917808,122.32440296803654,116.29085273972602,115.5358801369863,108.17710502283104,108.55392579908676,188.90874429223743,180.25548401826484,164.93682648401827,153.77108904109588,138.20578767123288,133.22352283105025,127.09721461187216,120.186100456621,109.68956621004564,106.27611643835615,179.34715525114157,180.52145433789957,168.9079805936073,169.78286872146117,114.20503652968036,144.89520662100458,138.35331506849317,133.95607534246574,130.65623744292236,116.76824200913242,114.4696689497717,110.3124794520548,106.75807648401826,179.60291210045662,184.19017808219175,189.97805479452052,172.51996232876712,146.44388926940638,142.01999771689498,144.18248173515985,149.25337328767125,146.84314611872145,149.45400799086758,145.41233447488585,137.35156621004566,136.63019520547945,133.4811506849315,125.87814269406392,122.66089726027396,120.23735616438356,113.60651940639268,111.57277168949771,111.20612214611872,185.1683127853881,197.369198630137,199.70935730593607,170.95460273972603,127.90762328767124,149.9096506849315,146.07877397260273,149.35495319634703,146.87062328767124,143.80398744292236,143.2607876712329,139.64100228310502,136.80075114155252,133.74801712328767,132.2651187214612,128.51193607305936,121.6806289954338,121.9543687214612,112.52217237442922,113.6269200913242,113.48703652968037,192.4179646118721,190.42845662100456,149.3953002283105,129.63055022831048,150.99150228310504,152.0062728310502,147.7711689497717,143.1024988584475,139.25445433789957,135.12327168949773,135.0135582191781,134.7971289954338,130.0544406392694,129.56589497716894,127.26614497716896,124.39046232876711,120.52010273972604,118.21349543378994,114.66804794520549,187.8968105022831,181.91856392694064,162.37511872146118,147.57957648401828,141.50366894977168,150.52249315068494,145.6844086757991,137.5377203196347,135.1545605022831,127.70772831050228,130.29322374429222,135.01958675799088,124.44986986301372,127.7458299086758,129.35836757990867,125.69046803652968,121.86844406392694,119.32565525114155,116.9018892694064,174.17421347031964,163.54584474885846,168.26228310502285,167.20897031963472,144.68215068493149,144.72724543378993,137.48538698630136,127.43029794520548,134.68666438356163,131.8654497716895,130.8220399543379,130.16208333333336,129.14926598173517,130.33427511415525,126.59716894977169,122.67809246575344,121.88268721461188,118.50484589041096,118.58442123287672,170.17464383561642,145.8509292237443,128.2631974885845,131.1710707762557,134.72598858447486,132.62700684931508,128.0134497716895,126.23676712328768,125.45561415525114,128.96492694063926,125.8456506849315,124.2368789954338,118.33065753424655,117.83861643835615,116.9718093607306,117.52395319634702,186.621294520548,183.65750342465756,162.1778276255708,154.39100342465753,144.50789954337898,140.65259360730593,132.01729452054795,131.58339383561645,126.46959931506848,120.41390182648402,121.02668264840185,120.133598173516,117.93871689497718,112.14429337899544,113.83325114155252,118.08399315068492,112.85942351598176,113.2516621004566,112.70496232876712,178.37245890410958,179.40475570776255,172.04954680365296,124.6825684931507,144.36139611872147,141.96776484018264,123.9360913242009,116.16074429223744,128.62613584474886,126.2074874429224,122.11408105022832,123.6805388127854,119.41183904109587,114.7955125570776,108.13123173515982,115.72028310502284,115.01935159817351,112.82396689497716,109.1862488584475,160.43356050228311,133.90771232876713,121.76733675799088,109.43677283105023,111.4885308219178,130.32805821917808,136.94084703196347,126.37098287671232,110.9796906392694,114.74795205479452,121.33080821917808,118.99413812785389,114.91071347031964,110.66340753424656,112.44554680365296,110.1435194063927,112.0385410958904,110.5636700913242,169.2873881278539,155.67172146118722,159.39841324200916,158.22517351598174,107.71531278538814,119.14346689497717,111.8658904109589,126.58129452054791,112.00488242009132,120.54045205479451,124.73657762557076,117.34707534246576,123.15804452054796,119.31733675799089,106.9533812785388,106.15687214611872,111.07904223744292,109.02120662100457,169.93587442922376,186.41542351598176,159.53762442922374,149.7662808219178,146.3330593607306,154.38217694063923,157.19196118721462,137.651848173516,127.33138356164385,110.6741700913242,122.92289726027398,124.97568150684933,121.64447831050228,120.60968264840184,117.48162785388128,119.87593607305936,116.40853767123288,112.37209703196346,110.11074429223744,107.77818378995434,110.75458904109588,132.06630251141553,155.85520776255706,155.68220662100455,134.03461529680365,113.35653310502283,95.53939726027396,114.37854566210044,123.24054566210044,121.21947374429224,117.28752625570776,119.51282305936073,120.29163356164383,110.85417351598171,111.26721803652968,110.36572831050228,108.19851598173516,112.2087397260274],\"coloraxis\":\"coloraxis\",\"size\":[50,50,50,50,50,50,50,50,50,50,50,50,50,50,50,50,50,50,50,50,50,50,50,50,50,50,50,50,50,50,50,50,50,50,50,50,50,50,50,50,50,50,50,50,50,50,50,50,50,50,50,50,50,50,50,50,50,50,50,50,50,50,50,50,50,50,50,50,50,50,50,50,50,50,50,50,50,50,50,50,50,50,50,50,50,50,50,50,50,50,50,50,50,50,50,50,50,50,50,50,50,50,50,50,50,50,50,50,50,50,50,50,50,50,50,50,50,50,50,50,50,50,50,50,50,50,50,50,50,50,50,50,50,50,50,50,50,50,50,50,50,50,50,50,50,50,50,50,50,50,50,50,50,50,50,50,50,50,50,50,50,50,50,50,50,50,50,50,50,50,50,50,50,50,50,50,50,50,50,50,50,50,50,50,50,50,50,50,50,50,50,50,50,50,50,50,50,50,50,50,50,50,50,50,50,50,50,50,50,50,50,50,50,50,50,50,50,50,50,50,50,50,50,50,50,50,50,50,50,50,50,50,50,50,50,50,50,50,50,50,50,50,50,50,50,50,50,50,50,50,50,50,50,50,50,50,50,50,50,50,50,50,50,50,50,50,50,50,50,50,50,50,50],\"sizemode\":\"area\",\"sizeref\":0.125},\"mode\":\"markers\",\"name\":\"\",\"showlegend\":false,\"subplot\":\"mapbox\",\"type\":\"scattermapbox\"}],                        {\"template\":{\"data\":{\"bar\":[{\"error_x\":{\"color\":\"#2a3f5f\"},\"error_y\":{\"color\":\"#2a3f5f\"},\"marker\":{\"line\":{\"color\":\"#E5ECF6\",\"width\":0.5},\"pattern\":{\"fillmode\":\"overlay\",\"size\":10,\"solidity\":0.2}},\"type\":\"bar\"}],\"barpolar\":[{\"marker\":{\"line\":{\"color\":\"#E5ECF6\",\"width\":0.5},\"pattern\":{\"fillmode\":\"overlay\",\"size\":10,\"solidity\":0.2}},\"type\":\"barpolar\"}],\"carpet\":[{\"aaxis\":{\"endlinecolor\":\"#2a3f5f\",\"gridcolor\":\"white\",\"linecolor\":\"white\",\"minorgridcolor\":\"white\",\"startlinecolor\":\"#2a3f5f\"},\"baxis\":{\"endlinecolor\":\"#2a3f5f\",\"gridcolor\":\"white\",\"linecolor\":\"white\",\"minorgridcolor\":\"white\",\"startlinecolor\":\"#2a3f5f\"},\"type\":\"carpet\"}],\"choropleth\":[{\"colorbar\":{\"outlinewidth\":0,\"ticks\":\"\"},\"type\":\"choropleth\"}],\"contour\":[{\"colorbar\":{\"outlinewidth\":0,\"ticks\":\"\"},\"colorscale\":[[0.0,\"#0d0887\"],[0.1111111111111111,\"#46039f\"],[0.2222222222222222,\"#7201a8\"],[0.3333333333333333,\"#9c179e\"],[0.4444444444444444,\"#bd3786\"],[0.5555555555555556,\"#d8576b\"],[0.6666666666666666,\"#ed7953\"],[0.7777777777777778,\"#fb9f3a\"],[0.8888888888888888,\"#fdca26\"],[1.0,\"#f0f921\"]],\"type\":\"contour\"}],\"contourcarpet\":[{\"colorbar\":{\"outlinewidth\":0,\"ticks\":\"\"},\"type\":\"contourcarpet\"}],\"heatmap\":[{\"colorbar\":{\"outlinewidth\":0,\"ticks\":\"\"},\"colorscale\":[[0.0,\"#0d0887\"],[0.1111111111111111,\"#46039f\"],[0.2222222222222222,\"#7201a8\"],[0.3333333333333333,\"#9c179e\"],[0.4444444444444444,\"#bd3786\"],[0.5555555555555556,\"#d8576b\"],[0.6666666666666666,\"#ed7953\"],[0.7777777777777778,\"#fb9f3a\"],[0.8888888888888888,\"#fdca26\"],[1.0,\"#f0f921\"]],\"type\":\"heatmap\"}],\"heatmapgl\":[{\"colorbar\":{\"outlinewidth\":0,\"ticks\":\"\"},\"colorscale\":[[0.0,\"#0d0887\"],[0.1111111111111111,\"#46039f\"],[0.2222222222222222,\"#7201a8\"],[0.3333333333333333,\"#9c179e\"],[0.4444444444444444,\"#bd3786\"],[0.5555555555555556,\"#d8576b\"],[0.6666666666666666,\"#ed7953\"],[0.7777777777777778,\"#fb9f3a\"],[0.8888888888888888,\"#fdca26\"],[1.0,\"#f0f921\"]],\"type\":\"heatmapgl\"}],\"histogram\":[{\"marker\":{\"pattern\":{\"fillmode\":\"overlay\",\"size\":10,\"solidity\":0.2}},\"type\":\"histogram\"}],\"histogram2d\":[{\"colorbar\":{\"outlinewidth\":0,\"ticks\":\"\"},\"colorscale\":[[0.0,\"#0d0887\"],[0.1111111111111111,\"#46039f\"],[0.2222222222222222,\"#7201a8\"],[0.3333333333333333,\"#9c179e\"],[0.4444444444444444,\"#bd3786\"],[0.5555555555555556,\"#d8576b\"],[0.6666666666666666,\"#ed7953\"],[0.7777777777777778,\"#fb9f3a\"],[0.8888888888888888,\"#fdca26\"],[1.0,\"#f0f921\"]],\"type\":\"histogram2d\"}],\"histogram2dcontour\":[{\"colorbar\":{\"outlinewidth\":0,\"ticks\":\"\"},\"colorscale\":[[0.0,\"#0d0887\"],[0.1111111111111111,\"#46039f\"],[0.2222222222222222,\"#7201a8\"],[0.3333333333333333,\"#9c179e\"],[0.4444444444444444,\"#bd3786\"],[0.5555555555555556,\"#d8576b\"],[0.6666666666666666,\"#ed7953\"],[0.7777777777777778,\"#fb9f3a\"],[0.8888888888888888,\"#fdca26\"],[1.0,\"#f0f921\"]],\"type\":\"histogram2dcontour\"}],\"mesh3d\":[{\"colorbar\":{\"outlinewidth\":0,\"ticks\":\"\"},\"type\":\"mesh3d\"}],\"parcoords\":[{\"line\":{\"colorbar\":{\"outlinewidth\":0,\"ticks\":\"\"}},\"type\":\"parcoords\"}],\"pie\":[{\"automargin\":true,\"type\":\"pie\"}],\"scatter\":[{\"marker\":{\"colorbar\":{\"outlinewidth\":0,\"ticks\":\"\"}},\"type\":\"scatter\"}],\"scatter3d\":[{\"line\":{\"colorbar\":{\"outlinewidth\":0,\"ticks\":\"\"}},\"marker\":{\"colorbar\":{\"outlinewidth\":0,\"ticks\":\"\"}},\"type\":\"scatter3d\"}],\"scattercarpet\":[{\"marker\":{\"colorbar\":{\"outlinewidth\":0,\"ticks\":\"\"}},\"type\":\"scattercarpet\"}],\"scattergeo\":[{\"marker\":{\"colorbar\":{\"outlinewidth\":0,\"ticks\":\"\"}},\"type\":\"scattergeo\"}],\"scattergl\":[{\"marker\":{\"colorbar\":{\"outlinewidth\":0,\"ticks\":\"\"}},\"type\":\"scattergl\"}],\"scattermapbox\":[{\"marker\":{\"colorbar\":{\"outlinewidth\":0,\"ticks\":\"\"}},\"type\":\"scattermapbox\"}],\"scatterpolar\":[{\"marker\":{\"colorbar\":{\"outlinewidth\":0,\"ticks\":\"\"}},\"type\":\"scatterpolar\"}],\"scatterpolargl\":[{\"marker\":{\"colorbar\":{\"outlinewidth\":0,\"ticks\":\"\"}},\"type\":\"scatterpolargl\"}],\"scatterternary\":[{\"marker\":{\"colorbar\":{\"outlinewidth\":0,\"ticks\":\"\"}},\"type\":\"scatterternary\"}],\"surface\":[{\"colorbar\":{\"outlinewidth\":0,\"ticks\":\"\"},\"colorscale\":[[0.0,\"#0d0887\"],[0.1111111111111111,\"#46039f\"],[0.2222222222222222,\"#7201a8\"],[0.3333333333333333,\"#9c179e\"],[0.4444444444444444,\"#bd3786\"],[0.5555555555555556,\"#d8576b\"],[0.6666666666666666,\"#ed7953\"],[0.7777777777777778,\"#fb9f3a\"],[0.8888888888888888,\"#fdca26\"],[1.0,\"#f0f921\"]],\"type\":\"surface\"}],\"table\":[{\"cells\":{\"fill\":{\"color\":\"#EBF0F8\"},\"line\":{\"color\":\"white\"}},\"header\":{\"fill\":{\"color\":\"#C8D4E3\"},\"line\":{\"color\":\"white\"}},\"type\":\"table\"}]},\"layout\":{\"annotationdefaults\":{\"arrowcolor\":\"#2a3f5f\",\"arrowhead\":0,\"arrowwidth\":1},\"autotypenumbers\":\"strict\",\"coloraxis\":{\"colorbar\":{\"outlinewidth\":0,\"ticks\":\"\"}},\"colorscale\":{\"diverging\":[[0,\"#8e0152\"],[0.1,\"#c51b7d\"],[0.2,\"#de77ae\"],[0.3,\"#f1b6da\"],[0.4,\"#fde0ef\"],[0.5,\"#f7f7f7\"],[0.6,\"#e6f5d0\"],[0.7,\"#b8e186\"],[0.8,\"#7fbc41\"],[0.9,\"#4d9221\"],[1,\"#276419\"]],\"sequential\":[[0.0,\"#0d0887\"],[0.1111111111111111,\"#46039f\"],[0.2222222222222222,\"#7201a8\"],[0.3333333333333333,\"#9c179e\"],[0.4444444444444444,\"#bd3786\"],[0.5555555555555556,\"#d8576b\"],[0.6666666666666666,\"#ed7953\"],[0.7777777777777778,\"#fb9f3a\"],[0.8888888888888888,\"#fdca26\"],[1.0,\"#f0f921\"]],\"sequentialminus\":[[0.0,\"#0d0887\"],[0.1111111111111111,\"#46039f\"],[0.2222222222222222,\"#7201a8\"],[0.3333333333333333,\"#9c179e\"],[0.4444444444444444,\"#bd3786\"],[0.5555555555555556,\"#d8576b\"],[0.6666666666666666,\"#ed7953\"],[0.7777777777777778,\"#fb9f3a\"],[0.8888888888888888,\"#fdca26\"],[1.0,\"#f0f921\"]]},\"colorway\":[\"#636efa\",\"#EF553B\",\"#00cc96\",\"#ab63fa\",\"#FFA15A\",\"#19d3f3\",\"#FF6692\",\"#B6E880\",\"#FF97FF\",\"#FECB52\"],\"font\":{\"color\":\"#2a3f5f\"},\"geo\":{\"bgcolor\":\"white\",\"lakecolor\":\"white\",\"landcolor\":\"#E5ECF6\",\"showlakes\":true,\"showland\":true,\"subunitcolor\":\"white\"},\"hoverlabel\":{\"align\":\"left\"},\"hovermode\":\"closest\",\"mapbox\":{\"style\":\"light\"},\"paper_bgcolor\":\"white\",\"plot_bgcolor\":\"#E5ECF6\",\"polar\":{\"angularaxis\":{\"gridcolor\":\"white\",\"linecolor\":\"white\",\"ticks\":\"\"},\"bgcolor\":\"#E5ECF6\",\"radialaxis\":{\"gridcolor\":\"white\",\"linecolor\":\"white\",\"ticks\":\"\"}},\"scene\":{\"xaxis\":{\"backgroundcolor\":\"#E5ECF6\",\"gridcolor\":\"white\",\"gridwidth\":2,\"linecolor\":\"white\",\"showbackground\":true,\"ticks\":\"\",\"zerolinecolor\":\"white\"},\"yaxis\":{\"backgroundcolor\":\"#E5ECF6\",\"gridcolor\":\"white\",\"gridwidth\":2,\"linecolor\":\"white\",\"showbackground\":true,\"ticks\":\"\",\"zerolinecolor\":\"white\"},\"zaxis\":{\"backgroundcolor\":\"#E5ECF6\",\"gridcolor\":\"white\",\"gridwidth\":2,\"linecolor\":\"white\",\"showbackground\":true,\"ticks\":\"\",\"zerolinecolor\":\"white\"}},\"shapedefaults\":{\"line\":{\"color\":\"#2a3f5f\"}},\"ternary\":{\"aaxis\":{\"gridcolor\":\"white\",\"linecolor\":\"white\",\"ticks\":\"\"},\"baxis\":{\"gridcolor\":\"white\",\"linecolor\":\"white\",\"ticks\":\"\"},\"bgcolor\":\"#E5ECF6\",\"caxis\":{\"gridcolor\":\"white\",\"linecolor\":\"white\",\"ticks\":\"\"}},\"title\":{\"x\":0.05},\"xaxis\":{\"automargin\":true,\"gridcolor\":\"white\",\"linecolor\":\"white\",\"ticks\":\"\",\"title\":{\"standoff\":15},\"zerolinecolor\":\"white\",\"zerolinewidth\":2},\"yaxis\":{\"automargin\":true,\"gridcolor\":\"white\",\"linecolor\":\"white\",\"ticks\":\"\",\"title\":{\"standoff\":15},\"zerolinecolor\":\"white\",\"zerolinewidth\":2}}},\"mapbox\":{\"domain\":{\"x\":[0.0,1.0],\"y\":[0.0,1.0]},\"center\":{\"lat\":46.972527472527474,\"lon\":3.021978021978022},\"zoom\":10,\"style\":\"carto-positron\"},\"coloraxis\":{\"colorbar\":{\"title\":{\"text\":\"G(i)\"}},\"colorscale\":[[0,\"blue\"],[0.15,\"green\"],[0.3,\"yellow\"],[0.45,\"orange\"],[0.6,\"pink\"],[0.75,\"crimson\"],[1.0,\"red\"]],\"cmid\":143.3911740724112,\"cmin\":95.53939726027396,\"cmax\":200.6814920091324},\"legend\":{\"tracegroupgap\":0,\"itemsizing\":\"constant\"},\"margin\":{\"t\":60},\"updatemenus\":[{\"buttons\":[{\"args\":[null,{\"frame\":{\"duration\":500,\"redraw\":true},\"mode\":\"immediate\",\"fromcurrent\":true,\"transition\":{\"duration\":500,\"easing\":\"linear\"}}],\"label\":\"&#9654;\",\"method\":\"animate\"},{\"args\":[[null],{\"frame\":{\"duration\":0,\"redraw\":true},\"mode\":\"immediate\",\"fromcurrent\":true,\"transition\":{\"duration\":0,\"easing\":\"linear\"}}],\"label\":\"&#9724;\",\"method\":\"animate\"}],\"direction\":\"left\",\"pad\":{\"r\":10,\"t\":70},\"showactive\":false,\"type\":\"buttons\",\"x\":0.1,\"xanchor\":\"right\",\"y\":0,\"yanchor\":\"top\"}],\"sliders\":[{\"active\":0,\"currentvalue\":{\"prefix\":\"annee=\"},\"len\":0.9,\"pad\":{\"b\":10,\"t\":60},\"steps\":[{\"args\":[[\"2013\"],{\"frame\":{\"duration\":0,\"redraw\":true},\"mode\":\"immediate\",\"fromcurrent\":true,\"transition\":{\"duration\":0,\"easing\":\"linear\"}}],\"label\":\"2013\",\"method\":\"animate\"},{\"args\":[[\"2014\"],{\"frame\":{\"duration\":0,\"redraw\":true},\"mode\":\"immediate\",\"fromcurrent\":true,\"transition\":{\"duration\":0,\"easing\":\"linear\"}}],\"label\":\"2014\",\"method\":\"animate\"},{\"args\":[[\"2015\"],{\"frame\":{\"duration\":0,\"redraw\":true},\"mode\":\"immediate\",\"fromcurrent\":true,\"transition\":{\"duration\":0,\"easing\":\"linear\"}}],\"label\":\"2015\",\"method\":\"animate\"},{\"args\":[[\"2016\"],{\"frame\":{\"duration\":0,\"redraw\":true},\"mode\":\"immediate\",\"fromcurrent\":true,\"transition\":{\"duration\":0,\"easing\":\"linear\"}}],\"label\":\"2016\",\"method\":\"animate\"}],\"x\":0.1,\"xanchor\":\"left\",\"y\":0,\"yanchor\":\"top\"}]},                        {\"responsive\": true}                    ).then(function(){\n",
              "                            Plotly.addFrames('15e3d142-3e56-4b4f-9247-b0f792e3a5ae', [{\"data\":[{\"hovertemplate\":\"annee=2013<br>size=%{marker.size}<br>latitude=%{lat}<br>longitude=%{lon}<br>G(i)=%{marker.color}<extra></extra>\",\"lat\":[41.0,41.5,42.0,42.5,43.0,43.5,41.0,41.5,42.0,42.5,43.0,50.5,52.0,41.0,41.5,42.0,42.5,43.0,48.0,48.5,50.5,51.0,52.0,52.5,41.0,41.5,42.0,42.5,43.0,48.0,48.5,51.0,52.0,52.5,41.0,41.5,42.0,42.5,43.0,47.0,47.5,48.0,48.5,51.0,51.5,52.0,52.5,41.0,41.5,42.0,42.5,43.0,43.5,44.0,44.5,45.0,46.0,46.5,47.0,47.5,48.0,48.5,49.0,51.0,51.5,52.0,52.5,41.0,41.5,42.0,42.5,43.0,43.5,44.0,44.5,45.0,45.5,46.0,46.5,47.0,47.5,48.0,48.5,49.0,51.0,51.5,52.0,52.5,41.5,42.0,42.5,43.0,43.5,44.0,44.5,45.0,45.5,46.0,46.5,47.0,47.5,48.0,48.5,49.0,49.5,52.0,52.5,41.5,42.0,42.5,43.0,43.5,44.0,44.5,45.0,45.5,46.0,46.5,47.0,47.5,48.0,48.5,49.0,49.5,50.0,50.5,42.0,42.5,43.0,43.5,44.0,44.5,45.0,45.5,46.0,46.5,47.0,47.5,48.0,48.5,49.0,49.5,50.0,50.5,51.0,44.0,44.5,45.0,45.5,46.0,46.5,47.0,47.5,48.0,48.5,49.0,49.5,50.0,50.5,51.0,51.5,43.5,44.0,44.5,45.0,45.5,46.0,46.5,47.0,47.5,48.0,48.5,49.0,49.5,50.0,50.5,51.0,51.5,52.0,52.5,43.5,44.0,44.5,45.0,45.5,46.0,46.5,47.0,47.5,48.0,48.5,49.0,49.5,50.0,50.5,51.0,51.5,52.0,52.5,44.0,44.5,45.0,45.5,46.0,46.5,47.0,47.5,48.0,48.5,49.0,49.5,50.0,50.5,51.0,51.5,52.0,52.5,44.0,44.5,45.0,45.5,46.0,46.5,47.0,47.5,48.0,48.5,49.0,49.5,50.0,50.5,51.0,51.5,52.0,52.5,41.0,41.5,42.0,42.5,44.5,45.0,45.5,46.0,46.5,47.0,47.5,48.0,48.5,49.0,49.5,50.0,50.5,51.0,51.5,52.0,52.5,44.5,45.0,45.5,46.0,46.5,47.0,47.5,48.0,48.5,49.0,49.5,50.0,50.5,51.0,51.5,52.0,52.5],\"legendgroup\":\"\",\"lon\":[-6,-6,-6,-6,-6,-6,-5,-5,-5,-5,-5,-5,-5,-4,-4,-4,-4,-4,-4,-4,-4,-4,-4,-4,-3,-3,-3,-3,-3,-3,-3,-3,-3,-3,-2,-2,-2,-2,-2,-2,-2,-2,-2,-2,-2,-2,-2,-1,-1,-1,-1,-1,-1,-1,-1,-1,-1,-1,-1,-1,-1,-1,-1,-1,-1,-1,-1,0,0,0,0,0,0,0,0,0,0,0,0,0,0,0,0,0,0,0,0,0,1,1,1,1,1,1,1,1,1,1,1,1,1,1,1,1,1,1,1,2,2,2,2,2,2,2,2,2,2,2,2,2,2,2,2,2,2,2,3,3,3,3,3,3,3,3,3,3,3,3,3,3,3,3,3,3,3,4,4,4,4,4,4,4,4,4,4,4,4,4,4,4,4,5,5,5,5,5,5,5,5,5,5,5,5,5,5,5,5,5,5,5,6,6,6,6,6,6,6,6,6,6,6,6,6,6,6,6,6,6,6,7,7,7,7,7,7,7,7,7,7,7,7,7,7,7,7,7,7,8,8,8,8,8,8,8,8,8,8,8,8,8,8,8,8,8,8,9,9,9,9,9,9,9,9,9,9,9,9,9,9,9,9,9,9,9,9,9,10,10,10,10,10,10,10,10,10,10,10,10,10,10,10,10,10],\"marker\":{\"color\":[192.2590616438356,190.524901826484,188.56732420091325,185.0926757990868,160.8848607305936,136.5638310502283,192.1702865296804,188.89528310502283,187.13770433789955,182.65618607305936,157.52069063926942,117.61939840182649,116.34672374429223,168.31195662100455,180.42101940639267,179.04940296803653,170.46744292237443,147.01001255707763,133.55380821917808,122.32440296803654,116.29085273972602,115.5358801369863,108.17710502283104,108.55392579908676,188.90874429223743,180.25548401826484,164.93682648401827,153.77108904109588,138.20578767123288,133.22352283105025,127.09721461187216,120.186100456621,109.68956621004564,106.27611643835615,179.34715525114157,180.52145433789957,168.9079805936073,169.78286872146117,114.20503652968036,144.89520662100458,138.35331506849317,133.95607534246574,130.65623744292236,116.76824200913242,114.4696689497717,110.3124794520548,106.75807648401826,179.60291210045662,184.19017808219175,189.97805479452052,172.51996232876712,146.44388926940638,142.01999771689498,144.18248173515985,149.25337328767125,146.84314611872145,149.45400799086758,145.41233447488585,137.35156621004566,136.63019520547945,133.4811506849315,125.87814269406392,122.66089726027396,120.23735616438356,113.60651940639268,111.57277168949771,111.20612214611872,185.1683127853881,197.369198630137,199.70935730593607,170.95460273972603,127.90762328767124,149.9096506849315,146.07877397260273,149.35495319634703,146.87062328767124,143.80398744292236,143.2607876712329,139.64100228310502,136.80075114155252,133.74801712328767,132.2651187214612,128.51193607305936,121.6806289954338,121.9543687214612,112.52217237442922,113.6269200913242,113.48703652968037,192.4179646118721,190.42845662100456,149.3953002283105,129.63055022831048,150.99150228310504,152.0062728310502,147.7711689497717,143.1024988584475,139.25445433789957,135.12327168949773,135.0135582191781,134.7971289954338,130.0544406392694,129.56589497716894,127.26614497716896,124.39046232876711,120.52010273972604,118.21349543378994,114.66804794520549,187.8968105022831,181.91856392694064,162.37511872146118,147.57957648401828,141.50366894977168,150.52249315068494,145.6844086757991,137.5377203196347,135.1545605022831,127.70772831050228,130.29322374429222,135.01958675799088,124.44986986301372,127.7458299086758,129.35836757990867,125.69046803652968,121.86844406392694,119.32565525114155,116.9018892694064,174.17421347031964,163.54584474885846,168.26228310502285,167.20897031963472,144.68215068493149,144.72724543378993,137.48538698630136,127.43029794520548,134.68666438356163,131.8654497716895,130.8220399543379,130.16208333333336,129.14926598173517,130.33427511415525,126.59716894977169,122.67809246575344,121.88268721461188,118.50484589041096,118.58442123287672,170.17464383561642,145.8509292237443,128.2631974885845,131.1710707762557,134.72598858447486,132.62700684931508,128.0134497716895,126.23676712328768,125.45561415525114,128.96492694063926,125.8456506849315,124.2368789954338,118.33065753424655,117.83861643835615,116.9718093607306,117.52395319634702,186.621294520548,183.65750342465756,162.1778276255708,154.39100342465753,144.50789954337898,140.65259360730593,132.01729452054795,131.58339383561645,126.46959931506848,120.41390182648402,121.02668264840185,120.133598173516,117.93871689497718,112.14429337899544,113.83325114155252,118.08399315068492,112.85942351598176,113.2516621004566,112.70496232876712,178.37245890410958,179.40475570776255,172.04954680365296,124.6825684931507,144.36139611872147,141.96776484018264,123.9360913242009,116.16074429223744,128.62613584474886,126.2074874429224,122.11408105022832,123.6805388127854,119.41183904109587,114.7955125570776,108.13123173515982,115.72028310502284,115.01935159817351,112.82396689497716,109.1862488584475,160.43356050228311,133.90771232876713,121.76733675799088,109.43677283105023,111.4885308219178,130.32805821917808,136.94084703196347,126.37098287671232,110.9796906392694,114.74795205479452,121.33080821917808,118.99413812785389,114.91071347031964,110.66340753424656,112.44554680365296,110.1435194063927,112.0385410958904,110.5636700913242,169.2873881278539,155.67172146118722,159.39841324200916,158.22517351598174,107.71531278538814,119.14346689497717,111.8658904109589,126.58129452054791,112.00488242009132,120.54045205479451,124.73657762557076,117.34707534246576,123.15804452054796,119.31733675799089,106.9533812785388,106.15687214611872,111.07904223744292,109.02120662100457,169.93587442922376,186.41542351598176,159.53762442922374,149.7662808219178,146.3330593607306,154.38217694063923,157.19196118721462,137.651848173516,127.33138356164385,110.6741700913242,122.92289726027398,124.97568150684933,121.64447831050228,120.60968264840184,117.48162785388128,119.87593607305936,116.40853767123288,112.37209703196346,110.11074429223744,107.77818378995434,110.75458904109588,132.06630251141553,155.85520776255706,155.68220662100455,134.03461529680365,113.35653310502283,95.53939726027396,114.37854566210044,123.24054566210044,121.21947374429224,117.28752625570776,119.51282305936073,120.29163356164383,110.85417351598171,111.26721803652968,110.36572831050228,108.19851598173516,112.2087397260274],\"coloraxis\":\"coloraxis\",\"size\":[50,50,50,50,50,50,50,50,50,50,50,50,50,50,50,50,50,50,50,50,50,50,50,50,50,50,50,50,50,50,50,50,50,50,50,50,50,50,50,50,50,50,50,50,50,50,50,50,50,50,50,50,50,50,50,50,50,50,50,50,50,50,50,50,50,50,50,50,50,50,50,50,50,50,50,50,50,50,50,50,50,50,50,50,50,50,50,50,50,50,50,50,50,50,50,50,50,50,50,50,50,50,50,50,50,50,50,50,50,50,50,50,50,50,50,50,50,50,50,50,50,50,50,50,50,50,50,50,50,50,50,50,50,50,50,50,50,50,50,50,50,50,50,50,50,50,50,50,50,50,50,50,50,50,50,50,50,50,50,50,50,50,50,50,50,50,50,50,50,50,50,50,50,50,50,50,50,50,50,50,50,50,50,50,50,50,50,50,50,50,50,50,50,50,50,50,50,50,50,50,50,50,50,50,50,50,50,50,50,50,50,50,50,50,50,50,50,50,50,50,50,50,50,50,50,50,50,50,50,50,50,50,50,50,50,50,50,50,50,50,50,50,50,50,50,50,50,50,50,50,50,50,50,50,50,50,50,50,50,50,50,50,50,50,50,50,50,50,50,50,50,50,50],\"sizemode\":\"area\",\"sizeref\":0.125},\"mode\":\"markers\",\"name\":\"\",\"showlegend\":false,\"subplot\":\"mapbox\",\"type\":\"scattermapbox\"}],\"name\":\"2013\"},{\"data\":[{\"hovertemplate\":\"annee=2014<br>size=%{marker.size}<br>latitude=%{lat}<br>longitude=%{lon}<br>G(i)=%{marker.color}<extra></extra>\",\"lat\":[41.0,41.5,42.0,42.5,43.0,43.5,41.0,41.5,42.0,42.5,43.0,50.5,52.0,41.0,41.5,42.0,42.5,43.0,48.0,48.5,50.5,51.0,52.0,52.5,41.0,41.5,42.0,42.5,43.0,48.0,48.5,51.0,52.0,52.5,41.0,41.5,42.0,42.5,43.0,47.0,47.5,48.0,48.5,51.0,51.5,52.0,52.5,41.0,41.5,42.0,42.5,43.0,43.5,44.0,44.5,45.0,46.0,46.5,47.0,47.5,48.0,48.5,49.0,51.0,51.5,52.0,52.5,41.0,41.5,42.0,42.5,43.0,43.5,44.0,44.5,45.0,45.5,46.0,46.5,47.0,47.5,48.0,48.5,49.0,51.0,51.5,52.0,52.5,41.5,42.0,42.5,43.0,43.5,44.0,44.5,45.0,45.5,46.0,46.5,47.0,47.5,48.0,48.5,49.0,49.5,52.0,52.5,41.5,42.0,42.5,43.0,43.5,44.0,44.5,45.0,45.5,46.0,46.5,47.0,47.5,48.0,48.5,49.0,49.5,50.0,50.5,42.0,42.5,43.0,43.5,44.0,44.5,45.0,45.5,46.0,46.5,47.0,47.5,48.0,48.5,49.0,49.5,50.0,50.5,51.0,44.0,44.5,45.0,45.5,46.0,46.5,47.0,47.5,48.0,48.5,49.0,49.5,50.0,50.5,51.0,51.5,43.5,44.0,44.5,45.0,45.5,46.0,46.5,47.0,47.5,48.0,48.5,49.0,49.5,50.0,50.5,51.0,51.5,52.0,52.5,43.5,44.0,44.5,45.0,45.5,46.0,46.5,47.0,47.5,48.0,48.5,49.0,49.5,50.0,50.5,51.0,51.5,52.0,52.5,44.0,44.5,45.0,45.5,46.0,46.5,47.0,47.5,48.0,48.5,49.0,49.5,50.0,50.5,51.0,51.5,52.0,52.5,44.0,44.5,45.0,45.5,46.0,46.5,47.0,47.5,48.0,48.5,49.0,49.5,50.0,50.5,51.0,51.5,52.0,52.5,41.0,41.5,42.0,42.5,44.5,45.0,45.5,46.0,46.5,47.0,47.5,48.0,48.5,49.0,49.5,50.0,50.5,51.0,51.5,52.0,52.5,44.5,45.0,45.5,46.0,46.5,47.0,47.5,48.0,48.5,49.0,49.5,50.0,50.5,51.0,51.5,52.0,52.5],\"legendgroup\":\"\",\"lon\":[-6,-6,-6,-6,-6,-6,-5,-5,-5,-5,-5,-5,-5,-4,-4,-4,-4,-4,-4,-4,-4,-4,-4,-4,-3,-3,-3,-3,-3,-3,-3,-3,-3,-3,-2,-2,-2,-2,-2,-2,-2,-2,-2,-2,-2,-2,-2,-1,-1,-1,-1,-1,-1,-1,-1,-1,-1,-1,-1,-1,-1,-1,-1,-1,-1,-1,-1,0,0,0,0,0,0,0,0,0,0,0,0,0,0,0,0,0,0,0,0,0,1,1,1,1,1,1,1,1,1,1,1,1,1,1,1,1,1,1,1,2,2,2,2,2,2,2,2,2,2,2,2,2,2,2,2,2,2,2,3,3,3,3,3,3,3,3,3,3,3,3,3,3,3,3,3,3,3,4,4,4,4,4,4,4,4,4,4,4,4,4,4,4,4,5,5,5,5,5,5,5,5,5,5,5,5,5,5,5,5,5,5,5,6,6,6,6,6,6,6,6,6,6,6,6,6,6,6,6,6,6,6,7,7,7,7,7,7,7,7,7,7,7,7,7,7,7,7,7,7,8,8,8,8,8,8,8,8,8,8,8,8,8,8,8,8,8,8,9,9,9,9,9,9,9,9,9,9,9,9,9,9,9,9,9,9,9,9,9,10,10,10,10,10,10,10,10,10,10,10,10,10,10,10,10,10],\"marker\":{\"color\":[195.65717808219176,193.05555251141556,191.75392694063925,188.9578789954338,164.63270433789955,147.5659805936073,199.1248276255708,197.4246678082192,195.6018093607306,188.8875821917808,162.7880776255708,127.59982534246576,122.20427397260272,175.1350707762557,189.6965936073059,189.09867922374428,182.1571815068493,161.80628082191782,141.2490296803653,133.584350456621,122.56834703196348,122.55513584474886,114.93533561643837,112.14706849315068,194.98934703196343,186.04554680365297,172.39263584474887,167.67545547945204,153.54974657534248,144.61765639269404,138.26579337899545,128.43603424657533,119.43993835616438,114.99713470319637,186.76017694063927,186.90671232876716,178.22141780821917,177.71050342465753,122.3394303652968,157.911997716895,152.50540410958905,144.51653538812786,141.55041210045664,129.65970776255708,125.41776712328766,121.96379452054796,117.07232534246576,187.2988801369863,191.25650456621003,191.44787214611875,177.36894748858447,151.4772614155251,150.6935993150685,153.2887636986301,160.38490182648405,157.62966552511415,162.94355707762557,157.6606506849315,149.82054337899544,149.6814714611872,144.4531815068493,137.16225913242008,135.05738698630137,132.25142465753424,125.73438356164382,124.57644634703196,120.94008675799084,191.52649885844747,195.66119292237445,198.5646997716895,168.26646347031962,136.9770901826484,158.47147488584474,156.68242465753426,159.91580821917807,156.35606963470318,156.2064885844749,155.4095525114155,153.41328424657533,151.12857990867582,146.9537602739726,144.00469406392693,137.5955878995434,131.38398744292238,134.3986598173516,126.38681392694065,123.82970319634704,122.03216210045662,191.97396347031963,190.7671061643836,154.6554589041096,139.30893264840182,164.02674429223745,163.21177968036528,158.0424109589041,154.01404223744294,150.937600456621,148.19395205479452,150.37767808219178,148.70735388127852,145.17966552511413,144.51107534246574,137.59689726027398,134.30927625570777,129.52546575342467,128.87311415525113,122.41240410958903,189.99636415525117,181.9509189497717,169.5217899543379,159.1515205479452,157.8658778538813,162.7280296803653,157.36649429223743,150.85047716894977,146.2121689497717,145.09149429223743,148.82957305936074,148.3453299086758,141.97545319634702,142.3537203196347,140.04916666666665,135.50854109589042,131.0302305936073,128.6777317351598,127.22209360730594,177.81711872146118,167.1833196347032,174.85903310502283,172.26591666666667,155.18476598173515,154.57072374429225,150.1793892694064,140.99289497716896,148.1075102739726,149.69491894977168,147.0603127853881,144.43040867579907,143.85099657534246,140.8420810502283,137.61209360730592,132.33792579908675,130.95547374429222,125.86854452054794,128.66482191780824,171.7072888127854,148.1556712328767,144.98839611872148,149.0748002283105,148.81133333333332,148.90042465753424,141.99511415525114,144.43278538812783,141.29478767123288,143.0363584474886,139.5791289954338,137.24915182648402,127.67168607305936,126.5487694063927,125.07770433789952,126.83818721461188,188.0498561643836,184.95954794520543,163.7356210045662,163.70920547945204,155.7924200913242,157.8102716894977,152.37291210045663,150.0520205479452,142.81996803652967,137.64365296803652,135.9281312785388,133.3204166666667,131.57966894977167,122.38573287671232,125.6594920091324,127.9991917808219,122.03763812785388,123.35839155251142,120.3921883561644,179.86494748858448,181.0466267123288,173.19438127853883,136.51220433789953,154.1845194063927,152.83860388127854,131.02643036529682,130.1901723744292,143.63555936073058,142.07469178082192,137.4710502283105,134.1815216894977,130.91969292237442,124.90321347031964,118.7435205479452,125.71284474885844,122.49736986301367,121.52486301369863,117.806600456621,163.31887671232877,137.49525342465753,126.75344977168947,123.65842123287672,125.45226712328768,136.1709623287671,148.41653196347033,138.39543607305936,120.59376255707764,128.10222831050228,137.97910616438355,131.12879452054796,127.1741997716895,120.66902739726028,123.35366095890411,119.22181392694064,119.07693835616438,118.1971883561644,170.92443493150685,157.80004680365295,161.2661118721461,159.45024771689498,111.84852283105022,125.74069634703196,116.61652168949772,136.92159817351595,122.91398401826484,135.4102625570776,140.41027853881278,129.42537214611872,133.73630707762558,129.03299885844748,116.98414497716897,115.54905251141552,121.79967009132422,119.69921803652969,180.80335844748856,190.19713356164385,168.0386392694064,157.24129337899544,146.3613207762557,159.11274657534247,161.64938698630135,140.16110273972603,129.09473059360732,116.2166095890411,135.2982089041096,134.97310273972602,133.53297602739724,136.81298515981734,131.65777283105024,131.55586529680363,126.85376598173517,122.35305365296804,119.15158561643835,118.914200913242,121.57195547945206,135.8875399543379,162.3108401826484,163.1246404109589,137.30586415525113,116.75157305936074,98.80533904109588,118.04058333333332,133.92962328767123,130.93952625570776,132.07924429223743,134.3287408675799,132.9238789954338,121.36870890410958,122.16912328767124,121.77738926940638,118.88676255707765,119.93975456621004],\"coloraxis\":\"coloraxis\",\"size\":[50,50,50,50,50,50,50,50,50,50,50,50,50,50,50,50,50,50,50,50,50,50,50,50,50,50,50,50,50,50,50,50,50,50,50,50,50,50,50,50,50,50,50,50,50,50,50,50,50,50,50,50,50,50,50,50,50,50,50,50,50,50,50,50,50,50,50,50,50,50,50,50,50,50,50,50,50,50,50,50,50,50,50,50,50,50,50,50,50,50,50,50,50,50,50,50,50,50,50,50,50,50,50,50,50,50,50,50,50,50,50,50,50,50,50,50,50,50,50,50,50,50,50,50,50,50,50,50,50,50,50,50,50,50,50,50,50,50,50,50,50,50,50,50,50,50,50,50,50,50,50,50,50,50,50,50,50,50,50,50,50,50,50,50,50,50,50,50,50,50,50,50,50,50,50,50,50,50,50,50,50,50,50,50,50,50,50,50,50,50,50,50,50,50,50,50,50,50,50,50,50,50,50,50,50,50,50,50,50,50,50,50,50,50,50,50,50,50,50,50,50,50,50,50,50,50,50,50,50,50,50,50,50,50,50,50,50,50,50,50,50,50,50,50,50,50,50,50,50,50,50,50,50,50,50,50,50,50,50,50,50,50,50,50,50,50,50,50,50,50,50,50,50],\"sizemode\":\"area\",\"sizeref\":0.125},\"mode\":\"markers\",\"name\":\"\",\"showlegend\":false,\"subplot\":\"mapbox\",\"type\":\"scattermapbox\"}],\"name\":\"2014\"},{\"data\":[{\"hovertemplate\":\"annee=2015<br>size=%{marker.size}<br>latitude=%{lat}<br>longitude=%{lon}<br>G(i)=%{marker.color}<extra></extra>\",\"lat\":[41.0,41.5,42.0,42.5,43.0,43.5,41.0,41.5,42.0,42.5,43.0,50.5,52.0,41.0,41.5,42.0,42.5,43.0,48.0,48.5,50.5,51.0,52.0,52.5,41.0,41.5,42.0,42.5,43.0,48.0,48.5,51.0,52.0,52.5,41.0,41.5,42.0,42.5,43.0,47.0,47.5,48.0,48.5,51.0,51.5,52.0,52.5,41.0,41.5,42.0,42.5,43.0,43.5,44.0,44.5,45.0,46.0,46.5,47.0,47.5,48.0,48.5,49.0,51.0,51.5,52.0,52.5,41.0,41.5,42.0,42.5,43.0,43.5,44.0,44.5,45.0,45.5,46.0,46.5,47.0,47.5,48.0,48.5,49.0,51.0,51.5,52.0,52.5,41.5,42.0,42.5,43.0,43.5,44.0,44.5,45.0,45.5,46.0,46.5,47.0,47.5,48.0,48.5,49.0,49.5,52.0,52.5,41.5,42.0,42.5,43.0,43.5,44.0,44.5,45.0,45.5,46.0,46.5,47.0,47.5,48.0,48.5,49.0,49.5,50.0,50.5,42.0,42.5,43.0,43.5,44.0,44.5,45.0,45.5,46.0,46.5,47.0,47.5,48.0,48.5,49.0,49.5,50.0,50.5,51.0,44.0,44.5,45.0,45.5,46.0,46.5,47.0,47.5,48.0,48.5,49.0,49.5,50.0,50.5,51.0,51.5,43.5,44.0,44.5,45.0,45.5,46.0,46.5,47.0,47.5,48.0,48.5,49.0,49.5,50.0,50.5,51.0,51.5,52.0,52.5,43.5,44.0,44.5,45.0,45.5,46.0,46.5,47.0,47.5,48.0,48.5,49.0,49.5,50.0,50.5,51.0,51.5,52.0,52.5,44.0,44.5,45.0,45.5,46.0,46.5,47.0,47.5,48.0,48.5,49.0,49.5,50.0,50.5,51.0,51.5,52.0,52.5,44.0,44.5,45.0,45.5,46.0,46.5,47.0,47.5,48.0,48.5,49.0,49.5,50.0,50.5,51.0,51.5,52.0,52.5,41.0,41.5,42.0,42.5,44.5,45.0,45.5,46.0,46.5,47.0,47.5,48.0,48.5,49.0,49.5,50.0,50.5,51.0,51.5,52.0,52.5,44.5,45.0,45.5,46.0,46.5,47.0,47.5,48.0,48.5,49.0,49.5,50.0,50.5,51.0,51.5,52.0,52.5],\"legendgroup\":\"\",\"lon\":[-6,-6,-6,-6,-6,-6,-5,-5,-5,-5,-5,-5,-5,-4,-4,-4,-4,-4,-4,-4,-4,-4,-4,-4,-3,-3,-3,-3,-3,-3,-3,-3,-3,-3,-2,-2,-2,-2,-2,-2,-2,-2,-2,-2,-2,-2,-2,-1,-1,-1,-1,-1,-1,-1,-1,-1,-1,-1,-1,-1,-1,-1,-1,-1,-1,-1,-1,0,0,0,0,0,0,0,0,0,0,0,0,0,0,0,0,0,0,0,0,0,1,1,1,1,1,1,1,1,1,1,1,1,1,1,1,1,1,1,1,2,2,2,2,2,2,2,2,2,2,2,2,2,2,2,2,2,2,2,3,3,3,3,3,3,3,3,3,3,3,3,3,3,3,3,3,3,3,4,4,4,4,4,4,4,4,4,4,4,4,4,4,4,4,5,5,5,5,5,5,5,5,5,5,5,5,5,5,5,5,5,5,5,6,6,6,6,6,6,6,6,6,6,6,6,6,6,6,6,6,6,6,7,7,7,7,7,7,7,7,7,7,7,7,7,7,7,7,7,7,8,8,8,8,8,8,8,8,8,8,8,8,8,8,8,8,8,8,9,9,9,9,9,9,9,9,9,9,9,9,9,9,9,9,9,9,9,9,9,10,10,10,10,10,10,10,10,10,10,10,10,10,10,10,10,10],\"marker\":{\"color\":[197.9818869863014,193.38061643835616,191.2622705479452,190.30045776255707,169.39116780821917,140.58942694063924,198.30682534246577,197.07321689497715,194.8818892694064,192.3109897260274,169.0319817351598,124.00687557077626,121.81392465753424,180.8715707762557,192.93353538812784,193.0807591324201,182.01180936073055,160.0218093607306,135.9706997716895,127.32934474885846,119.97271461187216,121.42180251141552,113.55812671232876,109.64754566210046,200.6814920091324,188.5532899543379,178.11504452054794,168.26141666666666,151.1742283105023,138.2513401826484,132.0878196347032,122.73766780821916,119.35874771689498,117.4716700913242,191.106303652968,191.98772260273967,183.00977625570772,182.38996575342463,126.23220662100456,152.64415410958904,146.03393378995435,141.3663892694064,139.44167237442923,122.30412214611871,120.0858105022831,118.29987785388128,115.36387214611872,191.4746107305936,195.22287100456623,196.44717351598172,188.11724429223744,161.35398401826484,154.84054337899542,156.9554783105023,160.82191894977169,157.56812557077626,160.3226210045662,155.68388242009132,149.62373401826483,148.10493949771688,144.16474771689496,136.7313812785388,132.98566666666667,126.27368378995432,120.83194748858448,119.55638470319636,120.57941095890408,193.6511598173516,195.9885399543379,199.77969748858447,175.89611301369862,146.23153652968037,160.27673515981735,160.98694748858446,162.02561872146117,158.78194520547947,157.10758447488584,154.79186415525115,153.83313470319635,151.88497716894975,146.7540901826484,144.7193812785388,139.60707876712328,134.52231392694063,130.577299086758,121.44350228310503,120.3322796803653,120.72868150684933,194.10056621004568,196.2257111872146,169.25273401826485,140.08067579908675,163.4374794520548,167.5073595890411,163.80635502283104,159.2398698630137,157.34410159817352,151.61490981735162,152.81867922374428,149.9146381278539,147.33927739726028,146.4987408675799,141.708901826484,140.23232762557078,133.60333675799086,124.26178424657536,120.90049429223744,197.0740422374429,192.1201392694064,178.52075114155252,162.79358333333334,160.79896347031962,167.45208561643835,167.1767123287671,163.4515901826484,158.09077283105023,149.25833219178082,150.78601826484018,153.7491484018265,143.91373287671234,144.24769292237443,145.52011529680365,141.07826598173517,136.35199657534247,134.2237488584475,129.87563470319634,188.24406621004567,180.32428538812783,180.0602625570776,180.90075228310505,162.09033333333335,167.21356164383562,161.5707408675799,150.39000570776255,155.72520662100456,154.69706278538814,151.46520547945204,149.44491666666667,145.8200696347032,145.03381735159817,143.02441666666667,137.43666780821917,134.73123630136985,129.9513082191781,129.780301369863,183.97432876712327,162.47078310502283,154.42332191780824,157.33159589041097,156.60281506849313,153.8324805936073,147.88435502283104,147.27360388127855,146.91852283105024,147.45170776255708,145.18764611872146,140.76679452054793,131.30948173515984,130.75532648401827,128.44661301369865,129.69268607305935,194.1682168949772,192.21099657534248,172.38066438356162,169.5507111872146,164.33823515981734,163.28257762557075,157.7629611872146,155.71047716894978,149.13663698630137,141.13336872146118,139.4135878995434,136.45853767123288,134.64808333333332,127.21941324200914,129.929301369863,131.5805479452055,126.63145662100456,126.43691666666666,122.31504452054794,187.65606278538812,188.658151826484,183.6972591324201,147.47538470319634,161.84339954337898,158.99864041095893,146.8602020547945,141.0258082191781,150.12492351598175,145.85835730593607,141.2392614155251,137.43420547945203,134.72466438356165,127.62261757990866,121.78417922374427,129.95407762557076,127.521200913242,125.25523401826486,119.77004109589042,172.85695662100457,148.6274212328767,133.98222831050228,132.71943493150684,133.31589497716894,147.10780593607305,153.46880365296803,147.83974543378994,129.81059817351598,133.52337557077627,138.0764269406393,131.38257876712328,128.87418949771688,124.45703995433789,125.4983401826484,123.8060102739726,123.0244303652968,120.58134474885846,181.20132191780823,167.9830913242009,172.17653767123286,169.90903881278538,122.88391095890412,135.67971347031963,124.43437899543378,145.63028310502284,131.0840787671233,140.04786301369865,141.210649543379,131.50840525114154,134.9737100456621,132.32588242009132,121.28852853881278,121.95506506849314,124.0477203196347,120.25603652968036,184.0673219178082,195.55117465753423,179.44746347031963,160.75406164383563,161.02543721461188,170.09313470319637,171.7948687214612,154.1708607305936,141.00352283105025,126.15779109589042,142.63786529680365,143.66294748858448,139.06811529680363,137.46318721461188,133.2742705479452,134.68919406392695,130.52454680365298,127.8853801369863,123.91042694063928,121.60490525114156,121.59156735159816,153.4946689497717,170.64717694063927,172.24006278538812,148.13017351598174,127.0324280821918,106.60400456621004,131.08042465753425,140.43669292237442,137.78170433789955,135.4415114155251,136.20884474885844,136.68920433789953,128.25214497716897,129.56464726027397,127.9626621004566,121.81184474885843,122.46047488584476],\"coloraxis\":\"coloraxis\",\"size\":[50,50,50,50,50,50,50,50,50,50,50,50,50,50,50,50,50,50,50,50,50,50,50,50,50,50,50,50,50,50,50,50,50,50,50,50,50,50,50,50,50,50,50,50,50,50,50,50,50,50,50,50,50,50,50,50,50,50,50,50,50,50,50,50,50,50,50,50,50,50,50,50,50,50,50,50,50,50,50,50,50,50,50,50,50,50,50,50,50,50,50,50,50,50,50,50,50,50,50,50,50,50,50,50,50,50,50,50,50,50,50,50,50,50,50,50,50,50,50,50,50,50,50,50,50,50,50,50,50,50,50,50,50,50,50,50,50,50,50,50,50,50,50,50,50,50,50,50,50,50,50,50,50,50,50,50,50,50,50,50,50,50,50,50,50,50,50,50,50,50,50,50,50,50,50,50,50,50,50,50,50,50,50,50,50,50,50,50,50,50,50,50,50,50,50,50,50,50,50,50,50,50,50,50,50,50,50,50,50,50,50,50,50,50,50,50,50,50,50,50,50,50,50,50,50,50,50,50,50,50,50,50,50,50,50,50,50,50,50,50,50,50,50,50,50,50,50,50,50,50,50,50,50,50,50,50,50,50,50,50,50,50,50,50,50,50,50,50,50,50,50,50,50],\"sizemode\":\"area\",\"sizeref\":0.125},\"mode\":\"markers\",\"name\":\"\",\"showlegend\":false,\"subplot\":\"mapbox\",\"type\":\"scattermapbox\"}],\"name\":\"2015\"},{\"data\":[{\"hovertemplate\":\"annee=2016<br>size=%{marker.size}<br>latitude=%{lat}<br>longitude=%{lon}<br>G(i)=%{marker.color}<extra></extra>\",\"lat\":[41.0,41.5,42.0,42.5,43.0,43.5,41.0,41.5,42.0,42.5,43.0,50.5,52.0,41.0,41.5,42.0,42.5,43.0,48.0,48.5,50.5,51.0,52.0,52.5,41.0,41.5,42.0,42.5,43.0,48.0,48.5,51.0,52.0,52.5,41.0,41.5,42.0,42.5,43.0,47.0,47.5,48.0,48.5,51.0,51.5,52.0,52.5,41.0,41.5,42.0,42.5,43.0,43.5,44.0,44.5,45.0,46.0,46.5,47.0,47.5,48.0,48.5,49.0,51.0,51.5,52.0,52.5,41.0,41.5,42.0,42.5,43.0,43.5,44.0,44.5,45.0,45.5,46.0,46.5,47.0,47.5,48.0,48.5,49.0,51.0,51.5,52.0,52.5,41.5,42.0,42.5,43.0,43.5,44.0,44.5,45.0,45.5,46.0,46.5,47.0,47.5,48.0,48.5,49.0,49.5,52.0,52.5,41.5,42.0,42.5,43.0,43.5,44.0,44.5,45.0,45.5,46.0,46.5,47.0,47.5,48.0,48.5,49.0,49.5,50.0,50.5,42.0,42.5,43.0,43.5,44.0,44.5,45.0,45.5,46.0,46.5,47.0,47.5,48.0,48.5,49.0,49.5,50.0,50.5,51.0,44.0,44.5,45.0,45.5,46.0,46.5,47.0,47.5,48.0,48.5,49.0,49.5,50.0,50.5,51.0,51.5,43.5,44.0,44.5,45.0,45.5,46.0,46.5,47.0,47.5,48.0,48.5,49.0,49.5,50.0,50.5,51.0,51.5,52.0,52.5,43.5,44.0,44.5,45.0,45.5,46.0,46.5,47.0,47.5,48.0,48.5,49.0,49.5,50.0,50.5,51.0,51.5,52.0,52.5,44.0,44.5,45.0,45.5,46.0,46.5,47.0,47.5,48.0,48.5,49.0,49.5,50.0,50.5,51.0,51.5,52.0,52.5,44.0,44.5,45.0,45.5,46.0,46.5,47.0,47.5,48.0,48.5,49.0,49.5,50.0,50.5,51.0,51.5,52.0,52.5,41.0,41.5,42.0,42.5,44.5,45.0,45.5,46.0,46.5,47.0,47.5,48.0,48.5,49.0,49.5,50.0,50.5,51.0,51.5,52.0,52.5,44.5,45.0,45.5,46.0,46.5,47.0,47.5,48.0,48.5,49.0,49.5,50.0,50.5,51.0,51.5,52.0,52.5],\"legendgroup\":\"\",\"lon\":[-6,-6,-6,-6,-6,-6,-5,-5,-5,-5,-5,-5,-5,-4,-4,-4,-4,-4,-4,-4,-4,-4,-4,-4,-3,-3,-3,-3,-3,-3,-3,-3,-3,-3,-2,-2,-2,-2,-2,-2,-2,-2,-2,-2,-2,-2,-2,-1,-1,-1,-1,-1,-1,-1,-1,-1,-1,-1,-1,-1,-1,-1,-1,-1,-1,-1,-1,0,0,0,0,0,0,0,0,0,0,0,0,0,0,0,0,0,0,0,0,0,1,1,1,1,1,1,1,1,1,1,1,1,1,1,1,1,1,1,1,2,2,2,2,2,2,2,2,2,2,2,2,2,2,2,2,2,2,2,3,3,3,3,3,3,3,3,3,3,3,3,3,3,3,3,3,3,3,4,4,4,4,4,4,4,4,4,4,4,4,4,4,4,4,5,5,5,5,5,5,5,5,5,5,5,5,5,5,5,5,5,5,5,6,6,6,6,6,6,6,6,6,6,6,6,6,6,6,6,6,6,6,7,7,7,7,7,7,7,7,7,7,7,7,7,7,7,7,7,7,8,8,8,8,8,8,8,8,8,8,8,8,8,8,8,8,8,8,9,9,9,9,9,9,9,9,9,9,9,9,9,9,9,9,9,9,9,9,9,10,10,10,10,10,10,10,10,10,10,10,10,10,10,10,10,10],\"marker\":{\"color\":[187.81259790528236,187.2557126593807,170.83999430783243,170.2641678051002,151.0203324225865,148.1925011384335,192.5454269125683,193.288491575592,193.61663592896176,186.84890824225863,154.21656079234972,125.63427026411657,120.705183287796,191.88008765938068,190.60653346994536,190.3928916211293,187.07724043715848,157.2986623406193,130.88890027322407,132.37431238615665,122.80987249544626,117.47181580145718,113.567389571949,117.5526252276867,190.94677709471767,189.0724715391621,186.29005009107468,179.7707513661202,158.4271914845173,132.96641051912567,132.14530737704916,110.66928392531877,102.3255373406193,100.17676229508196,188.6513365209472,185.2145218579235,172.24220400728598,176.62342896174863,132.5628028233151,151.06866006375228,142.22699225865207,136.82481557377048,139.60039503642986,115.6824055100182,116.16184426229508,116.51843693078324,113.2416404826958,184.7808299180328,182.27357581967212,185.51869193989072,186.88470173041893,156.3331841985428,161.87636270491802,161.05692281420764,160.38187955373405,159.08060678506376,147.3740664845173,145.524522996357,140.67486452641165,138.39356898907104,132.05649362477232,132.8996630236794,131.30014799635703,118.22264116575592,116.2764492258652,116.87292805100182,113.7994410291439,196.89629439890712,198.61581967213112,194.181691712204,176.81548383424408,148.10815004553734,152.5656397996357,157.43958333333333,155.9159437613843,152.48925432604736,145.1726548269581,145.44112704918035,142.53667349726774,141.069081284153,136.22982809653917,127.6876980874317,130.69213797814209,133.37213911657557,119.76916894353369,119.61084927140254,118.4642793715847,118.74128870673952,198.22570013661203,196.3778756830601,176.3387283697632,153.42666438979964,158.74687613843352,158.43700591985427,155.6559107468124,151.51220856102003,144.08881489071038,141.1751115664845,141.2473816029144,140.4222871129326,138.37659949908925,131.53878301457195,130.8437716302368,129.560404143898,133.51749089253187,120.6586532331512,116.54247381602914,192.7921243169399,187.79159039162116,182.7025853825137,160.76172586520948,159.3089981785064,156.27804872495446,152.91625113843352,151.5297199453552,142.07735200364297,141.2369990892532,141.14541552823317,138.19787340619305,138.1499635701275,128.91809084699457,129.8569250910747,124.98385701275043,127.28437841530054,131.48760701275043,129.01812955373407,182.1851627959927,171.07231215846994,159.5577948542805,154.87291438979963,153.35320924408015,150.22989526411658,150.38288592896174,133.39384221311477,139.08504098360655,137.8654633424408,136.41310109289617,135.9220377959927,130.7919922586521,127.14115437158468,124.03670423497267,127.81458447176684,126.4429178051002,132.71507855191257,132.81804986338798,159.86736908014572,141.7796766848816,143.2882866575592,140.13275159380694,139.05120332422587,137.85474271402552,134.47338683970855,133.71801798724954,127.84180669398908,128.69565004553735,126.84456739526412,125.61086407103826,126.09731443533698,131.96614981785063,132.7763091985428,132.1389765482696,180.23679644808743,171.53736452641166,154.3274191712204,158.917316712204,142.53653233151184,141.06779599271405,140.57328551912568,139.78424635701276,137.45097108378872,126.36695924408014,124.60652322404373,125.71397313296904,121.5974351092896,115.80553164845172,121.05572290528232,121.96135132058288,122.58350182149364,119.84166438979965,120.5138752276867,174.4977140255009,170.34312841530055,159.50915869763205,144.97944672131146,140.07310564663024,137.99081739526412,137.86941484517305,131.1337226775956,137.75105760473588,125.34532673041896,125.394337431694,122.82376593806922,120.85415642076502,118.46298041894352,122.44972677595628,121.8174715391621,122.06910519125684,119.66507855191256,123.35765368852458,169.46606329690346,169.12100295992713,133.54539617486338,127.35218920765026,127.5084699453552,132.89644239526413,136.46926798724954,134.89479394353367,120.41024704007287,124.04682604735883,123.61350182149364,119.14793488160292,118.15459357923496,124.0596550546448,122.06203551912569,122.42250227686704,120.4425660291439,120.57638888888889,165.31839025500912,164.1590972222222,168.5519057377049,133.75750341530053,126.95093579234972,128.916141848816,126.82924863387976,132.6513080601093,128.70967896174864,122.67441142987248,123.30486338797812,124.30784039162114,123.63040528233152,117.32240892531875,120.79337090163934,121.6067406648452,117.96457194899818,117.43199795081968,189.7931352459016,190.4827413479053,189.42139913479053,176.25839253187613,166.50560564663024,166.25763547358835,123.23293032786886,119.8548679417122,122.89996584699456,131.80117486338798,136.2111247723133,132.2045286885246,130.68896288706742,129.2283037340619,127.7328608834244,128.33086862477234,115.67151639344262,121.9186259107468,120.25364184881605,119.91936361566484,120.62024362477231,164.20431807832423,167.80809767759564,129.7403233151184,136.85495218579234,114.07791097449908,107.04995787795993,121.13510928961747,127.79760018214937,129.897683287796,129.2431170309654,130.322720856102,130.31550660291438,121.84689093806922,121.2821550546448,122.0958299180328,123.90477459016394,119.747352003643],\"coloraxis\":\"coloraxis\",\"size\":[50,50,50,50,50,50,50,50,50,50,50,50,50,50,50,50,50,50,50,50,50,50,50,50,50,50,50,50,50,50,50,50,50,50,50,50,50,50,50,50,50,50,50,50,50,50,50,50,50,50,50,50,50,50,50,50,50,50,50,50,50,50,50,50,50,50,50,50,50,50,50,50,50,50,50,50,50,50,50,50,50,50,50,50,50,50,50,50,50,50,50,50,50,50,50,50,50,50,50,50,50,50,50,50,50,50,50,50,50,50,50,50,50,50,50,50,50,50,50,50,50,50,50,50,50,50,50,50,50,50,50,50,50,50,50,50,50,50,50,50,50,50,50,50,50,50,50,50,50,50,50,50,50,50,50,50,50,50,50,50,50,50,50,50,50,50,50,50,50,50,50,50,50,50,50,50,50,50,50,50,50,50,50,50,50,50,50,50,50,50,50,50,50,50,50,50,50,50,50,50,50,50,50,50,50,50,50,50,50,50,50,50,50,50,50,50,50,50,50,50,50,50,50,50,50,50,50,50,50,50,50,50,50,50,50,50,50,50,50,50,50,50,50,50,50,50,50,50,50,50,50,50,50,50,50,50,50,50,50,50,50,50,50,50,50,50,50,50,50,50,50,50,50],\"sizemode\":\"area\",\"sizeref\":0.125},\"mode\":\"markers\",\"name\":\"\",\"showlegend\":false,\"subplot\":\"mapbox\",\"type\":\"scattermapbox\"}],\"name\":\"2016\"}]);\n",
              "                        }).then(function(){\n",
              "                            \n",
              "var gd = document.getElementById('15e3d142-3e56-4b4f-9247-b0f792e3a5ae');\n",
              "var x = new MutationObserver(function (mutations, observer) {{\n",
              "        var display = window.getComputedStyle(gd).display;\n",
              "        if (!display || display === 'none') {{\n",
              "            console.log([gd, 'removed!']);\n",
              "            Plotly.purge(gd);\n",
              "            observer.disconnect();\n",
              "        }}\n",
              "}});\n",
              "\n",
              "// Listen for the removal of the full notebook cells\n",
              "var notebookContainer = gd.closest('#notebook-container');\n",
              "if (notebookContainer) {{\n",
              "    x.observe(notebookContainer, {childList: true});\n",
              "}}\n",
              "\n",
              "// Listen for the clearing of the current output cell\n",
              "var outputEl = gd.closest('.output');\n",
              "if (outputEl) {{\n",
              "    x.observe(outputEl, {childList: true});\n",
              "}}\n",
              "\n",
              "                        })                };                            </script>        </div>\n",
              "</body>\n",
              "</html>"
            ]
          },
          "metadata": {}
        }
      ]
    },
    {
      "cell_type": "code",
      "source": [
        "df.sample(10)"
      ],
      "metadata": {
        "colab": {
          "base_uri": "https://localhost:8080/",
          "height": 363
        },
        "id": "7ED7fe0AnFoy",
        "outputId": "b1c09ee6-627e-42f8-8e99-eff6199581c8"
      },
      "execution_count": null,
      "outputs": [
        {
          "output_type": "execute_result",
          "data": {
            "text/plain": [
              "     annee        G(i)     WS10m  latitude  longitude  size\n",
              "125   2014  153.288764  2.467200      44.0         -1    50\n",
              "498   2015  149.444917  3.319015      47.5          3    50\n",
              "191   2016  106.671456  5.087653      54.0         -1    50\n",
              "272   2013  121.680629  3.520871      49.0          0    50\n",
              "826   2015  131.382579  3.283612      49.5          7    50\n",
              "873   2014   85.062300  2.946023      60.0          7    50\n",
              "202   2015  195.905377  3.589591      40.0          0    50\n",
              "389   2014  159.151521  2.972715      43.0          2    50\n",
              "550   2015  157.331596  2.571890      45.5          4    50\n",
              "405   2014  150.850477  2.898603      45.0          2    50"
            ],
            "text/html": [
              "\n",
              "  <div id=\"df-c52eb566-76e7-4b30-b1c6-d1241144253b\">\n",
              "    <div class=\"colab-df-container\">\n",
              "      <div>\n",
              "<style scoped>\n",
              "    .dataframe tbody tr th:only-of-type {\n",
              "        vertical-align: middle;\n",
              "    }\n",
              "\n",
              "    .dataframe tbody tr th {\n",
              "        vertical-align: top;\n",
              "    }\n",
              "\n",
              "    .dataframe thead th {\n",
              "        text-align: right;\n",
              "    }\n",
              "</style>\n",
              "<table border=\"1\" class=\"dataframe\">\n",
              "  <thead>\n",
              "    <tr style=\"text-align: right;\">\n",
              "      <th></th>\n",
              "      <th>annee</th>\n",
              "      <th>G(i)</th>\n",
              "      <th>WS10m</th>\n",
              "      <th>latitude</th>\n",
              "      <th>longitude</th>\n",
              "      <th>size</th>\n",
              "    </tr>\n",
              "  </thead>\n",
              "  <tbody>\n",
              "    <tr>\n",
              "      <th>125</th>\n",
              "      <td>2014</td>\n",
              "      <td>153.288764</td>\n",
              "      <td>2.467200</td>\n",
              "      <td>44.0</td>\n",
              "      <td>-1</td>\n",
              "      <td>50</td>\n",
              "    </tr>\n",
              "    <tr>\n",
              "      <th>498</th>\n",
              "      <td>2015</td>\n",
              "      <td>149.444917</td>\n",
              "      <td>3.319015</td>\n",
              "      <td>47.5</td>\n",
              "      <td>3</td>\n",
              "      <td>50</td>\n",
              "    </tr>\n",
              "    <tr>\n",
              "      <th>191</th>\n",
              "      <td>2016</td>\n",
              "      <td>106.671456</td>\n",
              "      <td>5.087653</td>\n",
              "      <td>54.0</td>\n",
              "      <td>-1</td>\n",
              "      <td>50</td>\n",
              "    </tr>\n",
              "    <tr>\n",
              "      <th>272</th>\n",
              "      <td>2013</td>\n",
              "      <td>121.680629</td>\n",
              "      <td>3.520871</td>\n",
              "      <td>49.0</td>\n",
              "      <td>0</td>\n",
              "      <td>50</td>\n",
              "    </tr>\n",
              "    <tr>\n",
              "      <th>826</th>\n",
              "      <td>2015</td>\n",
              "      <td>131.382579</td>\n",
              "      <td>3.283612</td>\n",
              "      <td>49.5</td>\n",
              "      <td>7</td>\n",
              "      <td>50</td>\n",
              "    </tr>\n",
              "    <tr>\n",
              "      <th>873</th>\n",
              "      <td>2014</td>\n",
              "      <td>85.062300</td>\n",
              "      <td>2.946023</td>\n",
              "      <td>60.0</td>\n",
              "      <td>7</td>\n",
              "      <td>50</td>\n",
              "    </tr>\n",
              "    <tr>\n",
              "      <th>202</th>\n",
              "      <td>2015</td>\n",
              "      <td>195.905377</td>\n",
              "      <td>3.589591</td>\n",
              "      <td>40.0</td>\n",
              "      <td>0</td>\n",
              "      <td>50</td>\n",
              "    </tr>\n",
              "    <tr>\n",
              "      <th>389</th>\n",
              "      <td>2014</td>\n",
              "      <td>159.151521</td>\n",
              "      <td>2.972715</td>\n",
              "      <td>43.0</td>\n",
              "      <td>2</td>\n",
              "      <td>50</td>\n",
              "    </tr>\n",
              "    <tr>\n",
              "      <th>550</th>\n",
              "      <td>2015</td>\n",
              "      <td>157.331596</td>\n",
              "      <td>2.571890</td>\n",
              "      <td>45.5</td>\n",
              "      <td>4</td>\n",
              "      <td>50</td>\n",
              "    </tr>\n",
              "    <tr>\n",
              "      <th>405</th>\n",
              "      <td>2014</td>\n",
              "      <td>150.850477</td>\n",
              "      <td>2.898603</td>\n",
              "      <td>45.0</td>\n",
              "      <td>2</td>\n",
              "      <td>50</td>\n",
              "    </tr>\n",
              "  </tbody>\n",
              "</table>\n",
              "</div>\n",
              "      <button class=\"colab-df-convert\" onclick=\"convertToInteractive('df-c52eb566-76e7-4b30-b1c6-d1241144253b')\"\n",
              "              title=\"Convert this dataframe to an interactive table.\"\n",
              "              style=\"display:none;\">\n",
              "        \n",
              "  <svg xmlns=\"http://www.w3.org/2000/svg\" height=\"24px\"viewBox=\"0 0 24 24\"\n",
              "       width=\"24px\">\n",
              "    <path d=\"M0 0h24v24H0V0z\" fill=\"none\"/>\n",
              "    <path d=\"M18.56 5.44l.94 2.06.94-2.06 2.06-.94-2.06-.94-.94-2.06-.94 2.06-2.06.94zm-11 1L8.5 8.5l.94-2.06 2.06-.94-2.06-.94L8.5 2.5l-.94 2.06-2.06.94zm10 10l.94 2.06.94-2.06 2.06-.94-2.06-.94-.94-2.06-.94 2.06-2.06.94z\"/><path d=\"M17.41 7.96l-1.37-1.37c-.4-.4-.92-.59-1.43-.59-.52 0-1.04.2-1.43.59L10.3 9.45l-7.72 7.72c-.78.78-.78 2.05 0 2.83L4 21.41c.39.39.9.59 1.41.59.51 0 1.02-.2 1.41-.59l7.78-7.78 2.81-2.81c.8-.78.8-2.07 0-2.86zM5.41 20L4 18.59l7.72-7.72 1.47 1.35L5.41 20z\"/>\n",
              "  </svg>\n",
              "      </button>\n",
              "      \n",
              "  <style>\n",
              "    .colab-df-container {\n",
              "      display:flex;\n",
              "      flex-wrap:wrap;\n",
              "      gap: 12px;\n",
              "    }\n",
              "\n",
              "    .colab-df-convert {\n",
              "      background-color: #E8F0FE;\n",
              "      border: none;\n",
              "      border-radius: 50%;\n",
              "      cursor: pointer;\n",
              "      display: none;\n",
              "      fill: #1967D2;\n",
              "      height: 32px;\n",
              "      padding: 0 0 0 0;\n",
              "      width: 32px;\n",
              "    }\n",
              "\n",
              "    .colab-df-convert:hover {\n",
              "      background-color: #E2EBFA;\n",
              "      box-shadow: 0px 1px 2px rgba(60, 64, 67, 0.3), 0px 1px 3px 1px rgba(60, 64, 67, 0.15);\n",
              "      fill: #174EA6;\n",
              "    }\n",
              "\n",
              "    [theme=dark] .colab-df-convert {\n",
              "      background-color: #3B4455;\n",
              "      fill: #D2E3FC;\n",
              "    }\n",
              "\n",
              "    [theme=dark] .colab-df-convert:hover {\n",
              "      background-color: #434B5C;\n",
              "      box-shadow: 0px 1px 3px 1px rgba(0, 0, 0, 0.15);\n",
              "      filter: drop-shadow(0px 1px 2px rgba(0, 0, 0, 0.3));\n",
              "      fill: #FFFFFF;\n",
              "    }\n",
              "  </style>\n",
              "\n",
              "      <script>\n",
              "        const buttonEl =\n",
              "          document.querySelector('#df-c52eb566-76e7-4b30-b1c6-d1241144253b button.colab-df-convert');\n",
              "        buttonEl.style.display =\n",
              "          google.colab.kernel.accessAllowed ? 'block' : 'none';\n",
              "\n",
              "        async function convertToInteractive(key) {\n",
              "          const element = document.querySelector('#df-c52eb566-76e7-4b30-b1c6-d1241144253b');\n",
              "          const dataTable =\n",
              "            await google.colab.kernel.invokeFunction('convertToInteractive',\n",
              "                                                     [key], {});\n",
              "          if (!dataTable) return;\n",
              "\n",
              "          const docLinkHtml = 'Like what you see? Visit the ' +\n",
              "            '<a target=\"_blank\" href=https://colab.research.google.com/notebooks/data_table.ipynb>data table notebook</a>'\n",
              "            + ' to learn more about interactive tables.';\n",
              "          element.innerHTML = '';\n",
              "          dataTable['output_type'] = 'display_data';\n",
              "          await google.colab.output.renderOutput(dataTable, element);\n",
              "          const docLink = document.createElement('div');\n",
              "          docLink.innerHTML = docLinkHtml;\n",
              "          element.appendChild(docLink);\n",
              "        }\n",
              "      </script>\n",
              "    </div>\n",
              "  </div>\n",
              "  "
            ]
          },
          "metadata": {},
          "execution_count": 55
        }
      ]
    },
    {
      "cell_type": "markdown",
      "metadata": {
        "id": "UAIlIZgqnEoL"
      },
      "source": [
        "La base de donnée ainsi formée renseigne pour chaque latitude (précision  de 0.5 degré) et chaque longitude (précision de 1 degré) "
      ]
    },
    {
      "cell_type": "markdown",
      "source": [
        "# Modélisation"
      ],
      "metadata": {
        "id": "NKAQTwE9tugh"
      }
    },
    {
      "cell_type": "markdown",
      "source": [
        "**JUSTIFICATION DE POURQUOI ON UTILISE LES QUATRE BASES DE DONNÉES CI-DESSOUS**"
      ],
      "metadata": {
        "id": "9pY_ZxGe1JaL"
      }
    },
    {
      "cell_type": "code",
      "source": [
        "dfG1 = pd.read_csv('https://raw.githubusercontent.com/Noomkwah/projet_python_2A_s1/main/Plant_1_Generation_Data_.csv')\n",
        "dfW1 = pd.read_csv('https://raw.githubusercontent.com/Noomkwah/projet_python_2A_s1/main/Plant_1_Weather_Sensor_Data.csv')\n",
        "dfG2 = pd.read_csv('https://raw.githubusercontent.com/Noomkwah/projet_python_2A_s1/main/Plant_2_Generation_Data_.csv')\n",
        "dfW2 = pd.read_csv('https://raw.githubusercontent.com/Noomkwah/projet_python_2A_s1/main/Plant_2_Weather_Sensor_Data.csv')"
      ],
      "metadata": {
        "id": "cyXbkT18xZdB"
      },
      "execution_count": null,
      "outputs": []
    },
    {
      "cell_type": "code",
      "source": [
        "dfG1.sample(10)"
      ],
      "metadata": {
        "colab": {
          "base_uri": "https://localhost:8080/",
          "height": 363
        },
        "id": "1iY4sOpwAOiS",
        "outputId": "0efaf96c-9ca3-41bf-dbd6-52a71e662ccf"
      },
      "execution_count": null,
      "outputs": [
        {
          "output_type": "execute_result",
          "data": {
            "text/plain": [
              "              DATE_TIME  PLANT_ID       SOURCE_KEY     DC_POWER    AC_POWER  \\\n",
              "13327  22-05-2020 02:00   4135001  ZoEaEvLYb1n2sOq     0.000000    0.000000   \n",
              "35243  02-06-2020 00:00   4135001  z9Y9gH1T5YWrNuG     0.000000    0.000000   \n",
              "22789  26-05-2020 16:45   4135001  rGa61gmuvPhdLxV  6156.375000  603.175000   \n",
              "29454  30-05-2020 06:15   4135001  adLQvlD726eNBSB   333.125000   32.187500   \n",
              "3502   16-05-2020 19:30   4135001  adLQvlD726eNBSB     0.000000    0.000000   \n",
              "23454  27-05-2020 00:45   4135001  sjndEbLyjtCKgGv     0.000000    0.000000   \n",
              "22884  26-05-2020 18:00   4135001  1BY6WEcLGh8j5v7   340.285714   32.871429   \n",
              "45696  07-06-2020 01:00   4135001  wCURE6d3bPkepu2     0.000000    0.000000   \n",
              "53368  10-06-2020 16:15   4135001  iCRJl6heRkivqQ3  5383.625000  527.675000   \n",
              "54915  11-06-2020 09:45   4135001  z9Y9gH1T5YWrNuG  4734.750000  464.400000   \n",
              "\n",
              "       DAILY_YIELD  TOTAL_YIELD  \n",
              "13327     0.000000  7146685.000  \n",
              "35243   847.285714  7139828.000  \n",
              "22789  7518.250000  7199620.250  \n",
              "29454     5.375000  6387357.375  \n",
              "3502   6705.000000  6284443.000  \n",
              "23454     0.000000  7105889.000  \n",
              "22884  7456.428571  6343664.429  \n",
              "45696     0.000000  6953094.000  \n",
              "53368  6132.250000  7379352.250  \n",
              "54915   806.250000  7206271.250  "
            ],
            "text/html": [
              "\n",
              "  <div id=\"df-1e6ecdf0-cf43-4053-872b-957ae7664d62\">\n",
              "    <div class=\"colab-df-container\">\n",
              "      <div>\n",
              "<style scoped>\n",
              "    .dataframe tbody tr th:only-of-type {\n",
              "        vertical-align: middle;\n",
              "    }\n",
              "\n",
              "    .dataframe tbody tr th {\n",
              "        vertical-align: top;\n",
              "    }\n",
              "\n",
              "    .dataframe thead th {\n",
              "        text-align: right;\n",
              "    }\n",
              "</style>\n",
              "<table border=\"1\" class=\"dataframe\">\n",
              "  <thead>\n",
              "    <tr style=\"text-align: right;\">\n",
              "      <th></th>\n",
              "      <th>DATE_TIME</th>\n",
              "      <th>PLANT_ID</th>\n",
              "      <th>SOURCE_KEY</th>\n",
              "      <th>DC_POWER</th>\n",
              "      <th>AC_POWER</th>\n",
              "      <th>DAILY_YIELD</th>\n",
              "      <th>TOTAL_YIELD</th>\n",
              "    </tr>\n",
              "  </thead>\n",
              "  <tbody>\n",
              "    <tr>\n",
              "      <th>13327</th>\n",
              "      <td>22-05-2020 02:00</td>\n",
              "      <td>4135001</td>\n",
              "      <td>ZoEaEvLYb1n2sOq</td>\n",
              "      <td>0.000000</td>\n",
              "      <td>0.000000</td>\n",
              "      <td>0.000000</td>\n",
              "      <td>7146685.000</td>\n",
              "    </tr>\n",
              "    <tr>\n",
              "      <th>35243</th>\n",
              "      <td>02-06-2020 00:00</td>\n",
              "      <td>4135001</td>\n",
              "      <td>z9Y9gH1T5YWrNuG</td>\n",
              "      <td>0.000000</td>\n",
              "      <td>0.000000</td>\n",
              "      <td>847.285714</td>\n",
              "      <td>7139828.000</td>\n",
              "    </tr>\n",
              "    <tr>\n",
              "      <th>22789</th>\n",
              "      <td>26-05-2020 16:45</td>\n",
              "      <td>4135001</td>\n",
              "      <td>rGa61gmuvPhdLxV</td>\n",
              "      <td>6156.375000</td>\n",
              "      <td>603.175000</td>\n",
              "      <td>7518.250000</td>\n",
              "      <td>7199620.250</td>\n",
              "    </tr>\n",
              "    <tr>\n",
              "      <th>29454</th>\n",
              "      <td>30-05-2020 06:15</td>\n",
              "      <td>4135001</td>\n",
              "      <td>adLQvlD726eNBSB</td>\n",
              "      <td>333.125000</td>\n",
              "      <td>32.187500</td>\n",
              "      <td>5.375000</td>\n",
              "      <td>6387357.375</td>\n",
              "    </tr>\n",
              "    <tr>\n",
              "      <th>3502</th>\n",
              "      <td>16-05-2020 19:30</td>\n",
              "      <td>4135001</td>\n",
              "      <td>adLQvlD726eNBSB</td>\n",
              "      <td>0.000000</td>\n",
              "      <td>0.000000</td>\n",
              "      <td>6705.000000</td>\n",
              "      <td>6284443.000</td>\n",
              "    </tr>\n",
              "    <tr>\n",
              "      <th>23454</th>\n",
              "      <td>27-05-2020 00:45</td>\n",
              "      <td>4135001</td>\n",
              "      <td>sjndEbLyjtCKgGv</td>\n",
              "      <td>0.000000</td>\n",
              "      <td>0.000000</td>\n",
              "      <td>0.000000</td>\n",
              "      <td>7105889.000</td>\n",
              "    </tr>\n",
              "    <tr>\n",
              "      <th>22884</th>\n",
              "      <td>26-05-2020 18:00</td>\n",
              "      <td>4135001</td>\n",
              "      <td>1BY6WEcLGh8j5v7</td>\n",
              "      <td>340.285714</td>\n",
              "      <td>32.871429</td>\n",
              "      <td>7456.428571</td>\n",
              "      <td>6343664.429</td>\n",
              "    </tr>\n",
              "    <tr>\n",
              "      <th>45696</th>\n",
              "      <td>07-06-2020 01:00</td>\n",
              "      <td>4135001</td>\n",
              "      <td>wCURE6d3bPkepu2</td>\n",
              "      <td>0.000000</td>\n",
              "      <td>0.000000</td>\n",
              "      <td>0.000000</td>\n",
              "      <td>6953094.000</td>\n",
              "    </tr>\n",
              "    <tr>\n",
              "      <th>53368</th>\n",
              "      <td>10-06-2020 16:15</td>\n",
              "      <td>4135001</td>\n",
              "      <td>iCRJl6heRkivqQ3</td>\n",
              "      <td>5383.625000</td>\n",
              "      <td>527.675000</td>\n",
              "      <td>6132.250000</td>\n",
              "      <td>7379352.250</td>\n",
              "    </tr>\n",
              "    <tr>\n",
              "      <th>54915</th>\n",
              "      <td>11-06-2020 09:45</td>\n",
              "      <td>4135001</td>\n",
              "      <td>z9Y9gH1T5YWrNuG</td>\n",
              "      <td>4734.750000</td>\n",
              "      <td>464.400000</td>\n",
              "      <td>806.250000</td>\n",
              "      <td>7206271.250</td>\n",
              "    </tr>\n",
              "  </tbody>\n",
              "</table>\n",
              "</div>\n",
              "      <button class=\"colab-df-convert\" onclick=\"convertToInteractive('df-1e6ecdf0-cf43-4053-872b-957ae7664d62')\"\n",
              "              title=\"Convert this dataframe to an interactive table.\"\n",
              "              style=\"display:none;\">\n",
              "        \n",
              "  <svg xmlns=\"http://www.w3.org/2000/svg\" height=\"24px\"viewBox=\"0 0 24 24\"\n",
              "       width=\"24px\">\n",
              "    <path d=\"M0 0h24v24H0V0z\" fill=\"none\"/>\n",
              "    <path d=\"M18.56 5.44l.94 2.06.94-2.06 2.06-.94-2.06-.94-.94-2.06-.94 2.06-2.06.94zm-11 1L8.5 8.5l.94-2.06 2.06-.94-2.06-.94L8.5 2.5l-.94 2.06-2.06.94zm10 10l.94 2.06.94-2.06 2.06-.94-2.06-.94-.94-2.06-.94 2.06-2.06.94z\"/><path d=\"M17.41 7.96l-1.37-1.37c-.4-.4-.92-.59-1.43-.59-.52 0-1.04.2-1.43.59L10.3 9.45l-7.72 7.72c-.78.78-.78 2.05 0 2.83L4 21.41c.39.39.9.59 1.41.59.51 0 1.02-.2 1.41-.59l7.78-7.78 2.81-2.81c.8-.78.8-2.07 0-2.86zM5.41 20L4 18.59l7.72-7.72 1.47 1.35L5.41 20z\"/>\n",
              "  </svg>\n",
              "      </button>\n",
              "      \n",
              "  <style>\n",
              "    .colab-df-container {\n",
              "      display:flex;\n",
              "      flex-wrap:wrap;\n",
              "      gap: 12px;\n",
              "    }\n",
              "\n",
              "    .colab-df-convert {\n",
              "      background-color: #E8F0FE;\n",
              "      border: none;\n",
              "      border-radius: 50%;\n",
              "      cursor: pointer;\n",
              "      display: none;\n",
              "      fill: #1967D2;\n",
              "      height: 32px;\n",
              "      padding: 0 0 0 0;\n",
              "      width: 32px;\n",
              "    }\n",
              "\n",
              "    .colab-df-convert:hover {\n",
              "      background-color: #E2EBFA;\n",
              "      box-shadow: 0px 1px 2px rgba(60, 64, 67, 0.3), 0px 1px 3px 1px rgba(60, 64, 67, 0.15);\n",
              "      fill: #174EA6;\n",
              "    }\n",
              "\n",
              "    [theme=dark] .colab-df-convert {\n",
              "      background-color: #3B4455;\n",
              "      fill: #D2E3FC;\n",
              "    }\n",
              "\n",
              "    [theme=dark] .colab-df-convert:hover {\n",
              "      background-color: #434B5C;\n",
              "      box-shadow: 0px 1px 3px 1px rgba(0, 0, 0, 0.15);\n",
              "      filter: drop-shadow(0px 1px 2px rgba(0, 0, 0, 0.3));\n",
              "      fill: #FFFFFF;\n",
              "    }\n",
              "  </style>\n",
              "\n",
              "      <script>\n",
              "        const buttonEl =\n",
              "          document.querySelector('#df-1e6ecdf0-cf43-4053-872b-957ae7664d62 button.colab-df-convert');\n",
              "        buttonEl.style.display =\n",
              "          google.colab.kernel.accessAllowed ? 'block' : 'none';\n",
              "\n",
              "        async function convertToInteractive(key) {\n",
              "          const element = document.querySelector('#df-1e6ecdf0-cf43-4053-872b-957ae7664d62');\n",
              "          const dataTable =\n",
              "            await google.colab.kernel.invokeFunction('convertToInteractive',\n",
              "                                                     [key], {});\n",
              "          if (!dataTable) return;\n",
              "\n",
              "          const docLinkHtml = 'Like what you see? Visit the ' +\n",
              "            '<a target=\"_blank\" href=https://colab.research.google.com/notebooks/data_table.ipynb>data table notebook</a>'\n",
              "            + ' to learn more about interactive tables.';\n",
              "          element.innerHTML = '';\n",
              "          dataTable['output_type'] = 'display_data';\n",
              "          await google.colab.output.renderOutput(dataTable, element);\n",
              "          const docLink = document.createElement('div');\n",
              "          docLink.innerHTML = docLinkHtml;\n",
              "          element.appendChild(docLink);\n",
              "        }\n",
              "      </script>\n",
              "    </div>\n",
              "  </div>\n",
              "  "
            ]
          },
          "metadata": {},
          "execution_count": 9
        }
      ]
    },
    {
      "cell_type": "markdown",
      "source": [
        "**Partie 1 : Nettoyage des données.** Pour utiliser ces bases de données, la première chose à faire est de les nettoyer. On commence par retravailler les données temporelles pour qu'elles soient toutes au format jj/mm/aaaa hh:mm."
      ],
      "metadata": {
        "id": "fqnkQhD81DMf"
      }
    },
    {
      "cell_type": "code",
      "source": [
        "def ref_time(dfW):\n",
        "    vect_time=[]\n",
        "    for i in range(dfW.shape[0]):\n",
        "        a = dfW['DATE_TIME'][i]\n",
        "        vect_time.append(a[8:10]+a[4:8]+a[:4]+' '+a[11:16])\n",
        "\n",
        "    dfW['DATE_TIME']=np.array(vect_time).tolist()\n",
        "\n",
        "ref_time(dfW1) # Formatage des données temporelles\n"
      ],
      "metadata": {
        "id": "MRNYqm5E0fjz"
      },
      "execution_count": null,
      "outputs": []
    },
    {
      "cell_type": "markdown",
      "source": [
        "La deuxième étape consiste à supprimer les lignes qui ne sont pas à la fois dans dfG et dans dfW."
      ],
      "metadata": {
        "id": "nCpYItP11pll"
      }
    },
    {
      "cell_type": "code",
      "source": [
        "def epuration(dfG,dfW):\n",
        "    dateG = list(dfG['DATE_TIME'].to_numpy())\n",
        "    dateW = list(dfW['DATE_TIME'].to_numpy())\n",
        "\n",
        "    LW,LG=[],[]\n",
        "\n",
        "    for i in range(len(dateW)):\n",
        "        if dateW[i] not in dateG:\n",
        "            LW.append(i)\n",
        "    for i in range(len(dateG)):\n",
        "        if dateG[i] not in dateW:\n",
        "            LG.append(i)\n",
        "\n",
        "    dfG_=dfG.drop(LG).reset_index().drop(columns=[\"index\"])\n",
        "    dfW_=dfW.drop(LW).reset_index().drop(columns=[\"index\"])\n",
        "\n",
        "    return dfG_,dfW_\n",
        "\n",
        "dfG1,dfW1 = epuration(dfG1,dfW1)"
      ],
      "metadata": {
        "id": "HN4RgxBb0p47"
      },
      "execution_count": null,
      "outputs": []
    },
    {
      "cell_type": "markdown",
      "source": [
        "On s'occupe ensuite de dupliquer les données jointes afin d'aligner chaque date de dfW à la date de dfG correspondante."
      ],
      "metadata": {
        "id": "iG2VdEuo2W59"
      }
    },
    {
      "cell_type": "code",
      "source": [
        "def dupli_join(dfG,dfW):\n",
        "\n",
        "    #duplication des données de dfW pour s'aligner à dfG\n",
        "    v = dfW['DATE_TIME'].to_numpy()\n",
        "    for time in v:\n",
        "        index = np.where(v==time)\n",
        "        df_try = dfW.loc[index]\n",
        "        d=dfG.where(dfG['DATE_TIME']==time, inplace=False).count()['DATE_TIME']\n",
        "        for j in range(d-1):\n",
        "            dfW=dfW.append(df_try)\n",
        "\n",
        "    #tri sur l'order alphabétique des dates :\n",
        "    dfW = dfW.sort_values(by=['DATE_TIME'])\n",
        "    dfG = dfG.sort_values(by=['DATE_TIME'])\n",
        "\n",
        "    #Jointure indirecte sur les dates\n",
        "    dfG['Jointure'] = list(range(dfG.shape[0]))\n",
        "    dfW['Jointure'] = list(range(dfW.shape[0]))\n",
        "\n",
        "    df = pd.merge(dfG,dfW,on='Jointure')\n",
        "    return df\n",
        "    \n",
        "df1 = dupli_join(dfG1,dfW1)"
      ],
      "metadata": {
        "id": "nWs6dQZ20xnw"
      },
      "execution_count": null,
      "outputs": []
    },
    {
      "cell_type": "markdown",
      "source": [
        "On peut alors construire la base de données finale."
      ],
      "metadata": {
        "id": "tzZJV-Katt3m"
      }
    },
    {
      "cell_type": "code",
      "source": [
        "df1rl = df1[['DATE_TIME_x','AMBIENT_TEMPERATURE', 'MODULE_TEMPERATURE',\n",
        "       'IRRADIATION','AC_POWER']]\n",
        "\n",
        "df1rl['AC_POWER']=df1rl['AC_POWER']*10**(-4)*10**3 #pour ramener de kW à l'hectare en W au mètre carré\n",
        "df1rl['IRRADIATION']=df1rl['IRRADIATION']*10**3 #pour ramener de kW en W\n",
        "\n",
        "df1rl['Delta_T']=df1rl['MODULE_TEMPERATURE']-df1rl['AMBIENT_TEMPERATURE']\n",
        "\n",
        "df1rl['Delta_T2']= df1rl['Delta_T'] ** 2"
      ],
      "metadata": {
        "id": "6kWpnvQ23HDI",
        "colab": {
          "base_uri": "https://localhost:8080/"
        },
        "outputId": "95b26a06-667b-424d-f82a-1e918c38d8ef"
      },
      "execution_count": null,
      "outputs": [
        {
          "output_type": "stream",
          "name": "stderr",
          "text": [
            "<ipython-input-13-0424ba8449bc>:4: SettingWithCopyWarning:\n",
            "\n",
            "\n",
            "A value is trying to be set on a copy of a slice from a DataFrame.\n",
            "Try using .loc[row_indexer,col_indexer] = value instead\n",
            "\n",
            "See the caveats in the documentation: https://pandas.pydata.org/pandas-docs/stable/user_guide/indexing.html#returning-a-view-versus-a-copy\n",
            "\n",
            "<ipython-input-13-0424ba8449bc>:5: SettingWithCopyWarning:\n",
            "\n",
            "\n",
            "A value is trying to be set on a copy of a slice from a DataFrame.\n",
            "Try using .loc[row_indexer,col_indexer] = value instead\n",
            "\n",
            "See the caveats in the documentation: https://pandas.pydata.org/pandas-docs/stable/user_guide/indexing.html#returning-a-view-versus-a-copy\n",
            "\n",
            "<ipython-input-13-0424ba8449bc>:7: SettingWithCopyWarning:\n",
            "\n",
            "\n",
            "A value is trying to be set on a copy of a slice from a DataFrame.\n",
            "Try using .loc[row_indexer,col_indexer] = value instead\n",
            "\n",
            "See the caveats in the documentation: https://pandas.pydata.org/pandas-docs/stable/user_guide/indexing.html#returning-a-view-versus-a-copy\n",
            "\n",
            "<ipython-input-13-0424ba8449bc>:9: SettingWithCopyWarning:\n",
            "\n",
            "\n",
            "A value is trying to be set on a copy of a slice from a DataFrame.\n",
            "Try using .loc[row_indexer,col_indexer] = value instead\n",
            "\n",
            "See the caveats in the documentation: https://pandas.pydata.org/pandas-docs/stable/user_guide/indexing.html#returning-a-view-versus-a-copy\n",
            "\n"
          ]
        }
      ]
    },
    {
      "cell_type": "markdown",
      "source": [
        "**Partie 2 : Modélisation de la différence de température entre capteur et extérieur.** On cherche à inférer une relation Delta_T  = f(minutes journalière). "
      ],
      "metadata": {
        "id": "1HJcYJqP3fAN"
      }
    },
    {
      "cell_type": "code",
      "source": [
        "def minutes(dfrl):\n",
        "    c= []\n",
        "    for i in range(len(dfrl['DATE_TIME_x'])):\n",
        "        t = int(dfrl['DATE_TIME_x'][i][14:]) + 60*(int(dfrl['DATE_TIME_x'][i][11:13]))\n",
        "        c.append(t)\n",
        "\n",
        "    dfrl['minutes']=c\n",
        "\n",
        "minutes(df1rl)\n",
        "\n",
        "def g(x):\n",
        "    \"\"\"\n",
        "    Au vu des données, nous allons supposer que Delta_T  = f(minutes journalière) est une fonction symétrique centré en 720,\n",
        "    les resultats de cette transformation seront nommées \"minutes ajustées\" (en minutes carrées)\n",
        "    \"\"\"\n",
        "    return (x - 720)**2\n",
        "\n",
        "df1rl['minutes_ajustées'] = df1rl['minutes'].apply(g)"
      ],
      "metadata": {
        "id": "ByXCF47b4-_l",
        "colab": {
          "base_uri": "https://localhost:8080/"
        },
        "outputId": "76c57e93-ebb5-4c8b-c295-6ef83408ed04"
      },
      "execution_count": null,
      "outputs": [
        {
          "output_type": "stream",
          "name": "stderr",
          "text": [
            "<ipython-input-15-3544c57a62a2>:7: SettingWithCopyWarning:\n",
            "\n",
            "\n",
            "A value is trying to be set on a copy of a slice from a DataFrame.\n",
            "Try using .loc[row_indexer,col_indexer] = value instead\n",
            "\n",
            "See the caveats in the documentation: https://pandas.pydata.org/pandas-docs/stable/user_guide/indexing.html#returning-a-view-versus-a-copy\n",
            "\n",
            "<ipython-input-15-3544c57a62a2>:18: SettingWithCopyWarning:\n",
            "\n",
            "\n",
            "A value is trying to be set on a copy of a slice from a DataFrame.\n",
            "Try using .loc[row_indexer,col_indexer] = value instead\n",
            "\n",
            "See the caveats in the documentation: https://pandas.pydata.org/pandas-docs/stable/user_guide/indexing.html#returning-a-view-versus-a-copy\n",
            "\n"
          ]
        }
      ]
    },
    {
      "cell_type": "markdown",
      "source": [
        "Le code ci-dessous permet de construire un graphique des données."
      ],
      "metadata": {
        "id": "MFd5319Z5Auf"
      }
    },
    {
      "cell_type": "code",
      "source": [
        "def graphes(labelX,labelY,titre,size=0.5):\n",
        "    df1rl.plot.scatter(x=labelX, y=labelY, alpha=size)\n",
        "    plt.title(titre)\n",
        "    plt.show()\n",
        "\n",
        "graphes('minutes','Delta_T','Différence de température en fonction des minutes dans la journée')\n",
        "graphes('minutes_ajustées','Delta_T','Différence de température en fonction des minutes_ajustées dans la journée')"
      ],
      "metadata": {
        "id": "Cmnkm-nb6Vtt",
        "colab": {
          "base_uri": "https://localhost:8080/",
          "height": 575
        },
        "outputId": "842167b8-527a-4ea5-b076-763ea2ed97da"
      },
      "execution_count": null,
      "outputs": [
        {
          "output_type": "display_data",
          "data": {
            "text/plain": [
              "<Figure size 432x288 with 1 Axes>"
            ],
            "image/png": "[encoded data removed]"
          },
          "metadata": {
            "needs_background": "light"
          }
        },
        {
          "output_type": "display_data",
          "data": {
            "text/plain": [
              "<Figure size 432x288 with 1 Axes>"
            ],
            "image/png": "[encoded data removed]"
          },
          "metadata": {
            "needs_background": "light"
          }
        }
      ]
    },
    {
      "cell_type": "markdown",
      "source": [
        "Finalement, on peut modéliser la relation Delta_T = f(minutes journalières) comme suit :"
      ],
      "metadata": {
        "id": "eeCp4AkD6gUL"
      }
    },
    {
      "cell_type": "code",
      "source": [
        "def f_opt(coeff):\n",
        "    \"\"\"\n",
        "    Nous prenons un modele de la forme Delta_T = exp ( x/w + b1 ) + b2 où x : minutes ajustées.\n",
        "    Nous cherchons alors w,b1,b2 qui réduit la mse (Mean Square Error)\n",
        "    \"\"\"\n",
        "    [w,b1,b2] = coeff\n",
        "    Y = df1rl['Delta_T'].to_numpy() #target\n",
        "    PY = np.exp(-df1rl['minutes_ajustées'].to_numpy()*(1/w) + b1) + b2 #prediction\n",
        "    return np.mean((Y - PY)**2)\n",
        "\n",
        "res = minimize(f_opt,[10**4,3,0])\n",
        "\n",
        "def f(x):\n",
        "    \"\"\" Fonction optimale pour le modèle pris \"\"\"\n",
        "    [w,b1,b2] = list(res['x'])\n",
        "    return np.exp(-x/w + b1) + b2\n",
        "\n",
        "df1rl['prediction_dtemp'] = df1rl['minutes_ajustées'].apply(f)"
      ],
      "metadata": {
        "id": "AS6Yq15v6oQx",
        "colab": {
          "base_uri": "https://localhost:8080/"
        },
        "outputId": "213a55ce-4040-4c50-ed96-bf6d7dee7033"
      },
      "execution_count": null,
      "outputs": [
        {
          "output_type": "stream",
          "name": "stderr",
          "text": [
            "<ipython-input-17-8caa9ea92377>:18: SettingWithCopyWarning:\n",
            "\n",
            "\n",
            "A value is trying to be set on a copy of a slice from a DataFrame.\n",
            "Try using .loc[row_indexer,col_indexer] = value instead\n",
            "\n",
            "See the caveats in the documentation: https://pandas.pydata.org/pandas-docs/stable/user_guide/indexing.html#returning-a-view-versus-a-copy\n",
            "\n"
          ]
        }
      ]
    },
    {
      "cell_type": "markdown",
      "source": [
        "Maintenant le modèle formé, on peut comparer ses prédictions aux données effectivement observées sur l'année 2015."
      ],
      "metadata": {
        "id": "a0AKPbGN6so3"
      }
    },
    {
      "cell_type": "code",
      "source": [
        "plt.scatter(df1rl['minutes_ajustées'].to_numpy(),df1rl['Delta_T'].to_numpy())\n",
        "plt.scatter(df1rl['minutes_ajustées'].to_numpy(),df1rl['prediction_dtemp'])\n",
        "plt.show()"
      ],
      "metadata": {
        "id": "hCm2PAdP64gj",
        "colab": {
          "base_uri": "https://localhost:8080/",
          "height": 265
        },
        "outputId": "2e78d278-70dc-4f0f-8ace-189d9486c055"
      },
      "execution_count": null,
      "outputs": [
        {
          "output_type": "display_data",
          "data": {
            "text/plain": [
              "<Figure size 432x288 with 1 Axes>"
            ],
            "image/png": "[encoded data removed]"
          },
          "metadata": {
            "needs_background": "light"
          }
        }
      ]
    },
    {
      "cell_type": "code",
      "source": [
        "plt.scatter(df1rl['minutes'].to_numpy(),df1rl['Delta_T'].to_numpy())\n",
        "plt.scatter(df1rl['minutes'].to_numpy(),df1rl['prediction_dtemp'])\n",
        "plt.show()"
      ],
      "metadata": {
        "id": "g01_0bdI6-Aj",
        "colab": {
          "base_uri": "https://localhost:8080/",
          "height": 265
        },
        "outputId": "ebf77362-ec46-44b2-8b9c-a9d0b7229c46"
      },
      "execution_count": null,
      "outputs": [
        {
          "output_type": "display_data",
          "data": {
            "text/plain": [
              "<Figure size 432x288 with 1 Axes>"
            ],
            "image/png": "[encoded data removed]"
          },
          "metadata": {
            "needs_background": "light"
          }
        }
      ]
    },
    {
      "cell_type": "markdown",
      "source": [
        "**AJOUTER TEXTE**"
      ],
      "metadata": {
        "id": "cV2om8Mg7NFt"
      }
    },
    {
      "cell_type": "code",
      "source": [
        "ref_time(dfW2)\n",
        "ref_time(dfG2)\n",
        "dfG2,dfW2 = epuration(dfG2,dfW2)\n",
        "df2 = dupli_join(dfG2,dfW2)\n",
        "df2rl = df2[['DATE_TIME_x','AMBIENT_TEMPERATURE', 'MODULE_TEMPERATURE',\n",
        "       'IRRADIATION','AC_POWER']]\n",
        "df2rl['AC_POWER'] = df2rl['AC_POWER']*10**(-4)*10**3\n",
        "df2rl['IRRADIATION']=df2rl['IRRADIATION']*10**3\n",
        "df2rl['Delta_T']=df2rl['MODULE_TEMPERATURE']-df1rl['AMBIENT_TEMPERATURE']\n",
        "df2rl['Delta_T2']= df2rl['Delta_T'] ** 2\n",
        "minutes(df2rl)\n",
        "df2rl['minutes_ajustées'] = df2rl['minutes'].apply(g)\n",
        "df2rl['prediction_dtemp'] = df2rl['minutes_ajustées'].apply(f)\n",
        "\n",
        "plt.scatter(df2rl['minutes_ajustées'].to_numpy(),df2rl['Delta_T'].to_numpy())\n",
        "plt.scatter(df2rl['minutes_ajustées'].to_numpy(),df2rl['prediction_dtemp'])\n",
        "plt.show()"
      ],
      "metadata": {
        "id": "9QKlAJOg7RhQ",
        "colab": {
          "base_uri": "https://localhost:8080/",
          "height": 1000
        },
        "outputId": "52d77117-d54b-431e-8d0c-df1aefe4bb90"
      },
      "execution_count": null,
      "outputs": [
        {
          "output_type": "stream",
          "name": "stderr",
          "text": [
            "<ipython-input-20-dc8300206f22>:7: SettingWithCopyWarning:\n",
            "\n",
            "\n",
            "A value is trying to be set on a copy of a slice from a DataFrame.\n",
            "Try using .loc[row_indexer,col_indexer] = value instead\n",
            "\n",
            "See the caveats in the documentation: https://pandas.pydata.org/pandas-docs/stable/user_guide/indexing.html#returning-a-view-versus-a-copy\n",
            "\n",
            "<ipython-input-20-dc8300206f22>:8: SettingWithCopyWarning:\n",
            "\n",
            "\n",
            "A value is trying to be set on a copy of a slice from a DataFrame.\n",
            "Try using .loc[row_indexer,col_indexer] = value instead\n",
            "\n",
            "See the caveats in the documentation: https://pandas.pydata.org/pandas-docs/stable/user_guide/indexing.html#returning-a-view-versus-a-copy\n",
            "\n",
            "<ipython-input-20-dc8300206f22>:9: SettingWithCopyWarning:\n",
            "\n",
            "\n",
            "A value is trying to be set on a copy of a slice from a DataFrame.\n",
            "Try using .loc[row_indexer,col_indexer] = value instead\n",
            "\n",
            "See the caveats in the documentation: https://pandas.pydata.org/pandas-docs/stable/user_guide/indexing.html#returning-a-view-versus-a-copy\n",
            "\n",
            "<ipython-input-20-dc8300206f22>:10: SettingWithCopyWarning:\n",
            "\n",
            "\n",
            "A value is trying to be set on a copy of a slice from a DataFrame.\n",
            "Try using .loc[row_indexer,col_indexer] = value instead\n",
            "\n",
            "See the caveats in the documentation: https://pandas.pydata.org/pandas-docs/stable/user_guide/indexing.html#returning-a-view-versus-a-copy\n",
            "\n",
            "<ipython-input-20-dc8300206f22>:12: SettingWithCopyWarning:\n",
            "\n",
            "\n",
            "A value is trying to be set on a copy of a slice from a DataFrame.\n",
            "Try using .loc[row_indexer,col_indexer] = value instead\n",
            "\n",
            "See the caveats in the documentation: https://pandas.pydata.org/pandas-docs/stable/user_guide/indexing.html#returning-a-view-versus-a-copy\n",
            "\n",
            "<ipython-input-20-dc8300206f22>:13: SettingWithCopyWarning:\n",
            "\n",
            "\n",
            "A value is trying to be set on a copy of a slice from a DataFrame.\n",
            "Try using .loc[row_indexer,col_indexer] = value instead\n",
            "\n",
            "See the caveats in the documentation: https://pandas.pydata.org/pandas-docs/stable/user_guide/indexing.html#returning-a-view-versus-a-copy\n",
            "\n"
          ]
        },
        {
          "output_type": "display_data",
          "data": {
            "text/plain": [
              "<Figure size 432x288 with 1 Axes>"
            ],
            "image/png": "[encoded data removed]"
          },
          "metadata": {
            "needs_background": "light"
          }
        }
      ]
    },
    {
      "cell_type": "markdown",
      "source": [
        "Nous observons une erreur due au fait que les données de df2rl ne sont pas aussi symétriques que celles de df1rl, nous nous permettrons néamoins de conserver cette hypothèse pour la suite."
      ],
      "metadata": {
        "id": "3t21sRQ-7UbU"
      }
    },
    {
      "cell_type": "code",
      "source": [
        "plt.scatter(df2rl['minutes'].to_numpy(),df2rl['Delta_T'].to_numpy())\n",
        "plt.scatter(df2rl['minutes'].to_numpy(),df2rl['prediction_dtemp'])\n",
        "plt.show()"
      ],
      "metadata": {
        "id": "iWj3Rm_P7RcJ",
        "colab": {
          "base_uri": "https://localhost:8080/",
          "height": 265
        },
        "outputId": "937cc87c-5c52-4928-e64f-25006db32952"
      },
      "execution_count": null,
      "outputs": [
        {
          "output_type": "display_data",
          "data": {
            "text/plain": [
              "<Figure size 432x288 with 1 Axes>"
            ],
            "image/png": "[encoded data removed]"
          },
          "metadata": {
            "needs_background": "light"
          }
        }
      ]
    },
    {
      "cell_type": "markdown",
      "source": [
        "**Partie 3 : Modelisation de la puissance fournie par un panneau solaire.** Cette modélisation se base sur une régression linéaire, que la fonction ci-dessous nous permet de réaliser."
      ],
      "metadata": {
        "id": "q2mpayhP7aTe"
      }
    },
    {
      "cell_type": "code",
      "source": [
        "def RL(X_train,Y_train,X_test,Y_test):\n",
        "    \"\"\"\n",
        "    Fonction de regression linéaire\n",
        "    \"\"\"\n",
        "    x_train = X_train.to_numpy()\n",
        "    y_train = Y_train.to_numpy()\n",
        "    x_test = X_test.to_numpy()\n",
        "    y_test = Y_test.to_numpy()\n",
        "\n",
        "    # Création du modèle\n",
        "    model_linRegMul = LinearRegression()\n",
        "\n",
        "    # Entrainement du modèle\n",
        "    model_linRegMul.fit(x_train, y_train)\n",
        "\n",
        "    # Précision du modèle\n",
        "    precision_train = model_linRegMul.score(x_train, y_train)\n",
        "    precision_test = model_linRegMul.score(x_test, y_test)\n",
        "    print('accuracy_train =',precision_train)\n",
        "    print('accuracy_test =',precision_test)\n",
        "\n",
        "    # Coefficient du modèle\n",
        "    print('cons_ =', model_linRegMul.intercept_)\n",
        "    print('coeff_ =',model_linRegMul.coef_)\n",
        "    a=model_linRegMul.intercept_[0]\n",
        "    b=model_linRegMul.coef_[0]\n",
        "\n",
        "    return a,b"
      ],
      "metadata": {
        "id": "xWIwRsAD7o-7"
      },
      "execution_count": null,
      "outputs": []
    },
    {
      "cell_type": "code",
      "source": [
        "# Modele de la RL : P_fournie = f(Delta_T, Delta_T2, IRRADIATION)\n",
        "alpha,beta = RL(df1rl[['Delta_T', 'Delta_T2','IRRADIATION']],df1rl[['AC_POWER']],df2rl[['Delta_T', 'Delta_T2','IRRADIATION']],df2rl[['AC_POWER']])"
      ],
      "metadata": {
        "id": "DKeTVPDo72_s"
      },
      "execution_count": null,
      "outputs": []
    },
    {
      "cell_type": "markdown",
      "source": [
        "Enfin il ne reste plus qu'à construire et visualiser les prédictions."
      ],
      "metadata": {
        "id": "9fQOEjVE75Ed"
      }
    },
    {
      "cell_type": "code",
      "source": [
        "# Visualisation des données\n",
        "graphes(\"IRRADIATION\",\"AC_POWER\",'P=f(G)')\n",
        "graphes(\"Delta_T\", \"AC_POWER\",'P=f(Delta_T)')\n",
        "graphes(\"Delta_T2\", \"AC_POWER\",'P=f(Delta_T2)')\n",
        "\n",
        "# Construction de la prediction\n",
        "df1rl['Y']=alpha + beta[0]*df1rl['Delta_T']+beta[1]*df1rl['Delta_T2']+beta[2]*df1rl['IRRADIATION']\n",
        "df2rl['Y']=alpha + beta[0]*df2rl['Delta_T']+beta[1]*df2rl['Delta_T2']+beta[2]*df2rl['IRRADIATION']"
      ],
      "metadata": {
        "id": "qjB3XKm98iAU"
      },
      "execution_count": null,
      "outputs": []
    },
    {
      "cell_type": "code",
      "source": [
        "# Visualisation de la prédiction sur df1rl\n",
        "df1rl.plot.scatter(x=\"AC_POWER\", y=\"Y\", alpha=0.5, label=\"prediction = AC_POWER + e\")\n",
        "plt.plot([0,140],[0,140], label=\"x = y\",color='r')\n",
        "plt.legend()\n",
        "plt.show()"
      ],
      "metadata": {
        "id": "v7rmxUY88ljs"
      },
      "execution_count": null,
      "outputs": []
    },
    {
      "cell_type": "code",
      "source": [
        "# Visualisation de la prédiction sur df2rl\n",
        "df2rl.plot.scatter(x=\"AC_POWER\", y=\"Y\", alpha=0.5, label=\"prediction = AC_POWER + e\")\n",
        "plt.plot([0,140],[0,140], label=\"x = y\",color='r')\n",
        "plt.legend()\n",
        "plt.show()"
      ],
      "metadata": {
        "id": "TRmWPAh58mpJ",
        "colab": {
          "base_uri": "https://localhost:8080/",
          "height": 753
        },
        "outputId": "bc8f1703-cf6f-4b55-b3b1-b6c5c401bf91"
      },
      "execution_count": null,
      "outputs": [
        {
          "output_type": "error",
          "ename": "KeyError",
          "evalue": "ignored",
          "traceback": [
            "\u001b[0;31m---------------------------------------------------------------------------\u001b[0m",
            "\u001b[0;31mKeyError\u001b[0m                                  Traceback (most recent call last)",
            "\u001b[0;32m/usr/local/lib/python3.8/dist-packages/pandas/core/indexes/base.py\u001b[0m in \u001b[0;36mget_loc\u001b[0;34m(self, key, method, tolerance)\u001b[0m\n\u001b[1;32m   3360\u001b[0m             \u001b[0;32mtry\u001b[0m\u001b[0;34m:\u001b[0m\u001b[0;34m\u001b[0m\u001b[0;34m\u001b[0m\u001b[0m\n\u001b[0;32m-> 3361\u001b[0;31m                 \u001b[0;32mreturn\u001b[0m \u001b[0mself\u001b[0m\u001b[0;34m.\u001b[0m\u001b[0m_engine\u001b[0m\u001b[0;34m.\u001b[0m\u001b[0mget_loc\u001b[0m\u001b[0;34m(\u001b[0m\u001b[0mcasted_key\u001b[0m\u001b[0;34m)\u001b[0m\u001b[0;34m\u001b[0m\u001b[0;34m\u001b[0m\u001b[0m\n\u001b[0m\u001b[1;32m   3362\u001b[0m             \u001b[0;32mexcept\u001b[0m \u001b[0mKeyError\u001b[0m \u001b[0;32mas\u001b[0m \u001b[0merr\u001b[0m\u001b[0;34m:\u001b[0m\u001b[0;34m\u001b[0m\u001b[0;34m\u001b[0m\u001b[0m\n",
            "\u001b[0;32m/usr/local/lib/python3.8/dist-packages/pandas/_libs/index.pyx\u001b[0m in \u001b[0;36mpandas._libs.index.IndexEngine.get_loc\u001b[0;34m()\u001b[0m\n",
            "\u001b[0;32m/usr/local/lib/python3.8/dist-packages/pandas/_libs/index.pyx\u001b[0m in \u001b[0;36mpandas._libs.index.IndexEngine.get_loc\u001b[0;34m()\u001b[0m\n",
            "\u001b[0;32mpandas/_libs/hashtable_class_helper.pxi\u001b[0m in \u001b[0;36mpandas._libs.hashtable.PyObjectHashTable.get_item\u001b[0;34m()\u001b[0m\n",
            "\u001b[0;32mpandas/_libs/hashtable_class_helper.pxi\u001b[0m in \u001b[0;36mpandas._libs.hashtable.PyObjectHashTable.get_item\u001b[0;34m()\u001b[0m\n",
            "\u001b[0;31mKeyError\u001b[0m: 'Y'",
            "\nThe above exception was the direct cause of the following exception:\n",
            "\u001b[0;31mKeyError\u001b[0m                                  Traceback (most recent call last)",
            "\u001b[0;32m<ipython-input-26-28a57b133549>\u001b[0m in \u001b[0;36m<module>\u001b[0;34m\u001b[0m\n\u001b[1;32m      1\u001b[0m \u001b[0;31m# Visualisation de la prédiction sur df2rl\u001b[0m\u001b[0;34m\u001b[0m\u001b[0;34m\u001b[0m\u001b[0;34m\u001b[0m\u001b[0m\n\u001b[0;32m----> 2\u001b[0;31m \u001b[0mdf2rl\u001b[0m\u001b[0;34m.\u001b[0m\u001b[0mplot\u001b[0m\u001b[0;34m.\u001b[0m\u001b[0mscatter\u001b[0m\u001b[0;34m(\u001b[0m\u001b[0mx\u001b[0m\u001b[0;34m=\u001b[0m\u001b[0;34m\"AC_POWER\"\u001b[0m\u001b[0;34m,\u001b[0m \u001b[0my\u001b[0m\u001b[0;34m=\u001b[0m\u001b[0;34m\"Y\"\u001b[0m\u001b[0;34m,\u001b[0m \u001b[0malpha\u001b[0m\u001b[0;34m=\u001b[0m\u001b[0;36m0.5\u001b[0m\u001b[0;34m,\u001b[0m \u001b[0mlabel\u001b[0m\u001b[0;34m=\u001b[0m\u001b[0;34m\"prediction = AC_POWER + e\"\u001b[0m\u001b[0;34m)\u001b[0m\u001b[0;34m\u001b[0m\u001b[0;34m\u001b[0m\u001b[0m\n\u001b[0m\u001b[1;32m      3\u001b[0m \u001b[0mplt\u001b[0m\u001b[0;34m.\u001b[0m\u001b[0mplot\u001b[0m\u001b[0;34m(\u001b[0m\u001b[0;34m[\u001b[0m\u001b[0;36m0\u001b[0m\u001b[0;34m,\u001b[0m\u001b[0;36m140\u001b[0m\u001b[0;34m]\u001b[0m\u001b[0;34m,\u001b[0m\u001b[0;34m[\u001b[0m\u001b[0;36m0\u001b[0m\u001b[0;34m,\u001b[0m\u001b[0;36m140\u001b[0m\u001b[0;34m]\u001b[0m\u001b[0;34m,\u001b[0m \u001b[0mlabel\u001b[0m\u001b[0;34m=\u001b[0m\u001b[0;34m\"x = y\"\u001b[0m\u001b[0;34m,\u001b[0m\u001b[0mcolor\u001b[0m\u001b[0;34m=\u001b[0m\u001b[0;34m'r'\u001b[0m\u001b[0;34m)\u001b[0m\u001b[0;34m\u001b[0m\u001b[0;34m\u001b[0m\u001b[0m\n\u001b[1;32m      4\u001b[0m \u001b[0mplt\u001b[0m\u001b[0;34m.\u001b[0m\u001b[0mlegend\u001b[0m\u001b[0;34m(\u001b[0m\u001b[0;34m)\u001b[0m\u001b[0;34m\u001b[0m\u001b[0;34m\u001b[0m\u001b[0m\n\u001b[1;32m      5\u001b[0m \u001b[0mplt\u001b[0m\u001b[0;34m.\u001b[0m\u001b[0mshow\u001b[0m\u001b[0;34m(\u001b[0m\u001b[0;34m)\u001b[0m\u001b[0;34m\u001b[0m\u001b[0;34m\u001b[0m\u001b[0m\n",
            "\u001b[0;32m/usr/local/lib/python3.8/dist-packages/pandas/plotting/_core.py\u001b[0m in \u001b[0;36mscatter\u001b[0;34m(self, x, y, s, c, **kwargs)\u001b[0m\n\u001b[1;32m   1634\u001b[0m             ...                       colormap='viridis')\n\u001b[1;32m   1635\u001b[0m         \"\"\"\n\u001b[0;32m-> 1636\u001b[0;31m         \u001b[0;32mreturn\u001b[0m \u001b[0mself\u001b[0m\u001b[0;34m(\u001b[0m\u001b[0mkind\u001b[0m\u001b[0;34m=\u001b[0m\u001b[0;34m\"scatter\"\u001b[0m\u001b[0;34m,\u001b[0m \u001b[0mx\u001b[0m\u001b[0;34m=\u001b[0m\u001b[0mx\u001b[0m\u001b[0;34m,\u001b[0m \u001b[0my\u001b[0m\u001b[0;34m=\u001b[0m\u001b[0my\u001b[0m\u001b[0;34m,\u001b[0m \u001b[0ms\u001b[0m\u001b[0;34m=\u001b[0m\u001b[0ms\u001b[0m\u001b[0;34m,\u001b[0m \u001b[0mc\u001b[0m\u001b[0;34m=\u001b[0m\u001b[0mc\u001b[0m\u001b[0;34m,\u001b[0m \u001b[0;34m**\u001b[0m\u001b[0mkwargs\u001b[0m\u001b[0;34m)\u001b[0m\u001b[0;34m\u001b[0m\u001b[0;34m\u001b[0m\u001b[0m\n\u001b[0m\u001b[1;32m   1637\u001b[0m \u001b[0;34m\u001b[0m\u001b[0m\n\u001b[1;32m   1638\u001b[0m     \u001b[0;32mdef\u001b[0m \u001b[0mhexbin\u001b[0m\u001b[0;34m(\u001b[0m\u001b[0mself\u001b[0m\u001b[0;34m,\u001b[0m \u001b[0mx\u001b[0m\u001b[0;34m,\u001b[0m \u001b[0my\u001b[0m\u001b[0;34m,\u001b[0m \u001b[0mC\u001b[0m\u001b[0;34m=\u001b[0m\u001b[0;32mNone\u001b[0m\u001b[0;34m,\u001b[0m \u001b[0mreduce_C_function\u001b[0m\u001b[0;34m=\u001b[0m\u001b[0;32mNone\u001b[0m\u001b[0;34m,\u001b[0m \u001b[0mgridsize\u001b[0m\u001b[0;34m=\u001b[0m\u001b[0;32mNone\u001b[0m\u001b[0;34m,\u001b[0m \u001b[0;34m**\u001b[0m\u001b[0mkwargs\u001b[0m\u001b[0;34m)\u001b[0m\u001b[0;34m:\u001b[0m\u001b[0;34m\u001b[0m\u001b[0;34m\u001b[0m\u001b[0m\n",
            "\u001b[0;32m/usr/local/lib/python3.8/dist-packages/pandas/plotting/_core.py\u001b[0m in \u001b[0;36m__call__\u001b[0;34m(self, *args, **kwargs)\u001b[0m\n\u001b[1;32m    915\u001b[0m         \u001b[0;32mif\u001b[0m \u001b[0mkind\u001b[0m \u001b[0;32min\u001b[0m \u001b[0mself\u001b[0m\u001b[0;34m.\u001b[0m\u001b[0m_dataframe_kinds\u001b[0m\u001b[0;34m:\u001b[0m\u001b[0;34m\u001b[0m\u001b[0;34m\u001b[0m\u001b[0m\n\u001b[1;32m    916\u001b[0m             \u001b[0;32mif\u001b[0m \u001b[0misinstance\u001b[0m\u001b[0;34m(\u001b[0m\u001b[0mdata\u001b[0m\u001b[0;34m,\u001b[0m \u001b[0mABCDataFrame\u001b[0m\u001b[0;34m)\u001b[0m\u001b[0;34m:\u001b[0m\u001b[0;34m\u001b[0m\u001b[0;34m\u001b[0m\u001b[0m\n\u001b[0;32m--> 917\u001b[0;31m                 \u001b[0;32mreturn\u001b[0m \u001b[0mplot_backend\u001b[0m\u001b[0;34m.\u001b[0m\u001b[0mplot\u001b[0m\u001b[0;34m(\u001b[0m\u001b[0mdata\u001b[0m\u001b[0;34m,\u001b[0m \u001b[0mx\u001b[0m\u001b[0;34m=\u001b[0m\u001b[0mx\u001b[0m\u001b[0;34m,\u001b[0m \u001b[0my\u001b[0m\u001b[0;34m=\u001b[0m\u001b[0my\u001b[0m\u001b[0;34m,\u001b[0m \u001b[0mkind\u001b[0m\u001b[0;34m=\u001b[0m\u001b[0mkind\u001b[0m\u001b[0;34m,\u001b[0m \u001b[0;34m**\u001b[0m\u001b[0mkwargs\u001b[0m\u001b[0;34m)\u001b[0m\u001b[0;34m\u001b[0m\u001b[0;34m\u001b[0m\u001b[0m\n\u001b[0m\u001b[1;32m    918\u001b[0m             \u001b[0;32melse\u001b[0m\u001b[0;34m:\u001b[0m\u001b[0;34m\u001b[0m\u001b[0;34m\u001b[0m\u001b[0m\n\u001b[1;32m    919\u001b[0m                 \u001b[0;32mraise\u001b[0m \u001b[0mValueError\u001b[0m\u001b[0;34m(\u001b[0m\u001b[0;34mf\"plot kind {kind} can only be used for data frames\"\u001b[0m\u001b[0;34m)\u001b[0m\u001b[0;34m\u001b[0m\u001b[0;34m\u001b[0m\u001b[0m\n",
            "\u001b[0;32m/usr/local/lib/python3.8/dist-packages/pandas/plotting/_matplotlib/__init__.py\u001b[0m in \u001b[0;36mplot\u001b[0;34m(data, kind, **kwargs)\u001b[0m\n\u001b[1;32m     69\u001b[0m             \u001b[0mkwargs\u001b[0m\u001b[0;34m[\u001b[0m\u001b[0;34m\"ax\"\u001b[0m\u001b[0;34m]\u001b[0m \u001b[0;34m=\u001b[0m \u001b[0mgetattr\u001b[0m\u001b[0;34m(\u001b[0m\u001b[0max\u001b[0m\u001b[0;34m,\u001b[0m \u001b[0;34m\"left_ax\"\u001b[0m\u001b[0;34m,\u001b[0m \u001b[0max\u001b[0m\u001b[0;34m)\u001b[0m\u001b[0;34m\u001b[0m\u001b[0;34m\u001b[0m\u001b[0m\n\u001b[1;32m     70\u001b[0m     \u001b[0mplot_obj\u001b[0m \u001b[0;34m=\u001b[0m \u001b[0mPLOT_CLASSES\u001b[0m\u001b[0;34m[\u001b[0m\u001b[0mkind\u001b[0m\u001b[0;34m]\u001b[0m\u001b[0;34m(\u001b[0m\u001b[0mdata\u001b[0m\u001b[0;34m,\u001b[0m \u001b[0;34m**\u001b[0m\u001b[0mkwargs\u001b[0m\u001b[0;34m)\u001b[0m\u001b[0;34m\u001b[0m\u001b[0;34m\u001b[0m\u001b[0m\n\u001b[0;32m---> 71\u001b[0;31m     \u001b[0mplot_obj\u001b[0m\u001b[0;34m.\u001b[0m\u001b[0mgenerate\u001b[0m\u001b[0;34m(\u001b[0m\u001b[0;34m)\u001b[0m\u001b[0;34m\u001b[0m\u001b[0;34m\u001b[0m\u001b[0m\n\u001b[0m\u001b[1;32m     72\u001b[0m     \u001b[0mplot_obj\u001b[0m\u001b[0;34m.\u001b[0m\u001b[0mdraw\u001b[0m\u001b[0;34m(\u001b[0m\u001b[0;34m)\u001b[0m\u001b[0;34m\u001b[0m\u001b[0;34m\u001b[0m\u001b[0m\n\u001b[1;32m     73\u001b[0m     \u001b[0;32mreturn\u001b[0m \u001b[0mplot_obj\u001b[0m\u001b[0;34m.\u001b[0m\u001b[0mresult\u001b[0m\u001b[0;34m\u001b[0m\u001b[0;34m\u001b[0m\u001b[0m\n",
            "\u001b[0;32m/usr/local/lib/python3.8/dist-packages/pandas/plotting/_matplotlib/core.py\u001b[0m in \u001b[0;36mgenerate\u001b[0;34m(self)\u001b[0m\n\u001b[1;32m    286\u001b[0m         \u001b[0mself\u001b[0m\u001b[0;34m.\u001b[0m\u001b[0m_compute_plot_data\u001b[0m\u001b[0;34m(\u001b[0m\u001b[0;34m)\u001b[0m\u001b[0;34m\u001b[0m\u001b[0;34m\u001b[0m\u001b[0m\n\u001b[1;32m    287\u001b[0m         \u001b[0mself\u001b[0m\u001b[0;34m.\u001b[0m\u001b[0m_setup_subplots\u001b[0m\u001b[0;34m(\u001b[0m\u001b[0;34m)\u001b[0m\u001b[0;34m\u001b[0m\u001b[0;34m\u001b[0m\u001b[0m\n\u001b[0;32m--> 288\u001b[0;31m         \u001b[0mself\u001b[0m\u001b[0;34m.\u001b[0m\u001b[0m_make_plot\u001b[0m\u001b[0;34m(\u001b[0m\u001b[0;34m)\u001b[0m\u001b[0;34m\u001b[0m\u001b[0;34m\u001b[0m\u001b[0m\n\u001b[0m\u001b[1;32m    289\u001b[0m         \u001b[0mself\u001b[0m\u001b[0;34m.\u001b[0m\u001b[0m_add_table\u001b[0m\u001b[0;34m(\u001b[0m\u001b[0;34m)\u001b[0m\u001b[0;34m\u001b[0m\u001b[0;34m\u001b[0m\u001b[0m\n\u001b[1;32m    290\u001b[0m         \u001b[0mself\u001b[0m\u001b[0;34m.\u001b[0m\u001b[0m_make_legend\u001b[0m\u001b[0;34m(\u001b[0m\u001b[0;34m)\u001b[0m\u001b[0;34m\u001b[0m\u001b[0;34m\u001b[0m\u001b[0m\n",
            "\u001b[0;32m/usr/local/lib/python3.8/dist-packages/pandas/plotting/_matplotlib/core.py\u001b[0m in \u001b[0;36m_make_plot\u001b[0;34m(self)\u001b[0m\n\u001b[1;32m   1070\u001b[0m         scatter = ax.scatter(\n\u001b[1;32m   1071\u001b[0m             \u001b[0mdata\u001b[0m\u001b[0;34m[\u001b[0m\u001b[0mx\u001b[0m\u001b[0;34m]\u001b[0m\u001b[0;34m.\u001b[0m\u001b[0mvalues\u001b[0m\u001b[0;34m,\u001b[0m\u001b[0;34m\u001b[0m\u001b[0;34m\u001b[0m\u001b[0m\n\u001b[0;32m-> 1072\u001b[0;31m             \u001b[0mdata\u001b[0m\u001b[0;34m[\u001b[0m\u001b[0my\u001b[0m\u001b[0;34m]\u001b[0m\u001b[0;34m.\u001b[0m\u001b[0mvalues\u001b[0m\u001b[0;34m,\u001b[0m\u001b[0;34m\u001b[0m\u001b[0;34m\u001b[0m\u001b[0m\n\u001b[0m\u001b[1;32m   1073\u001b[0m             \u001b[0mc\u001b[0m\u001b[0;34m=\u001b[0m\u001b[0mc_values\u001b[0m\u001b[0;34m,\u001b[0m\u001b[0;34m\u001b[0m\u001b[0;34m\u001b[0m\u001b[0m\n\u001b[1;32m   1074\u001b[0m             \u001b[0mlabel\u001b[0m\u001b[0;34m=\u001b[0m\u001b[0mlabel\u001b[0m\u001b[0;34m,\u001b[0m\u001b[0;34m\u001b[0m\u001b[0;34m\u001b[0m\u001b[0m\n",
            "\u001b[0;32m/usr/local/lib/python3.8/dist-packages/pandas/core/frame.py\u001b[0m in \u001b[0;36m__getitem__\u001b[0;34m(self, key)\u001b[0m\n\u001b[1;32m   3456\u001b[0m             \u001b[0;32mif\u001b[0m \u001b[0mself\u001b[0m\u001b[0;34m.\u001b[0m\u001b[0mcolumns\u001b[0m\u001b[0;34m.\u001b[0m\u001b[0mnlevels\u001b[0m \u001b[0;34m>\u001b[0m \u001b[0;36m1\u001b[0m\u001b[0;34m:\u001b[0m\u001b[0;34m\u001b[0m\u001b[0;34m\u001b[0m\u001b[0m\n\u001b[1;32m   3457\u001b[0m                 \u001b[0;32mreturn\u001b[0m \u001b[0mself\u001b[0m\u001b[0;34m.\u001b[0m\u001b[0m_getitem_multilevel\u001b[0m\u001b[0;34m(\u001b[0m\u001b[0mkey\u001b[0m\u001b[0;34m)\u001b[0m\u001b[0;34m\u001b[0m\u001b[0;34m\u001b[0m\u001b[0m\n\u001b[0;32m-> 3458\u001b[0;31m             \u001b[0mindexer\u001b[0m \u001b[0;34m=\u001b[0m \u001b[0mself\u001b[0m\u001b[0;34m.\u001b[0m\u001b[0mcolumns\u001b[0m\u001b[0;34m.\u001b[0m\u001b[0mget_loc\u001b[0m\u001b[0;34m(\u001b[0m\u001b[0mkey\u001b[0m\u001b[0;34m)\u001b[0m\u001b[0;34m\u001b[0m\u001b[0;34m\u001b[0m\u001b[0m\n\u001b[0m\u001b[1;32m   3459\u001b[0m             \u001b[0;32mif\u001b[0m \u001b[0mis_integer\u001b[0m\u001b[0;34m(\u001b[0m\u001b[0mindexer\u001b[0m\u001b[0;34m)\u001b[0m\u001b[0;34m:\u001b[0m\u001b[0;34m\u001b[0m\u001b[0;34m\u001b[0m\u001b[0m\n\u001b[1;32m   3460\u001b[0m                 \u001b[0mindexer\u001b[0m \u001b[0;34m=\u001b[0m \u001b[0;34m[\u001b[0m\u001b[0mindexer\u001b[0m\u001b[0;34m]\u001b[0m\u001b[0;34m\u001b[0m\u001b[0;34m\u001b[0m\u001b[0m\n",
            "\u001b[0;32m/usr/local/lib/python3.8/dist-packages/pandas/core/indexes/base.py\u001b[0m in \u001b[0;36mget_loc\u001b[0;34m(self, key, method, tolerance)\u001b[0m\n\u001b[1;32m   3361\u001b[0m                 \u001b[0;32mreturn\u001b[0m \u001b[0mself\u001b[0m\u001b[0;34m.\u001b[0m\u001b[0m_engine\u001b[0m\u001b[0;34m.\u001b[0m\u001b[0mget_loc\u001b[0m\u001b[0;34m(\u001b[0m\u001b[0mcasted_key\u001b[0m\u001b[0;34m)\u001b[0m\u001b[0;34m\u001b[0m\u001b[0;34m\u001b[0m\u001b[0m\n\u001b[1;32m   3362\u001b[0m             \u001b[0;32mexcept\u001b[0m \u001b[0mKeyError\u001b[0m \u001b[0;32mas\u001b[0m \u001b[0merr\u001b[0m\u001b[0;34m:\u001b[0m\u001b[0;34m\u001b[0m\u001b[0;34m\u001b[0m\u001b[0m\n\u001b[0;32m-> 3363\u001b[0;31m                 \u001b[0;32mraise\u001b[0m \u001b[0mKeyError\u001b[0m\u001b[0;34m(\u001b[0m\u001b[0mkey\u001b[0m\u001b[0;34m)\u001b[0m \u001b[0;32mfrom\u001b[0m \u001b[0merr\u001b[0m\u001b[0;34m\u001b[0m\u001b[0;34m\u001b[0m\u001b[0m\n\u001b[0m\u001b[1;32m   3364\u001b[0m \u001b[0;34m\u001b[0m\u001b[0m\n\u001b[1;32m   3365\u001b[0m         \u001b[0;32mif\u001b[0m \u001b[0mis_scalar\u001b[0m\u001b[0;34m(\u001b[0m\u001b[0mkey\u001b[0m\u001b[0;34m)\u001b[0m \u001b[0;32mand\u001b[0m \u001b[0misna\u001b[0m\u001b[0;34m(\u001b[0m\u001b[0mkey\u001b[0m\u001b[0;34m)\u001b[0m \u001b[0;32mand\u001b[0m \u001b[0;32mnot\u001b[0m \u001b[0mself\u001b[0m\u001b[0;34m.\u001b[0m\u001b[0mhasnans\u001b[0m\u001b[0;34m:\u001b[0m\u001b[0;34m\u001b[0m\u001b[0;34m\u001b[0m\u001b[0m\n",
            "\u001b[0;31mKeyError\u001b[0m: 'Y'"
          ]
        },
        {
          "output_type": "display_data",
          "data": {
            "text/plain": [
              "<Figure size 432x288 with 1 Axes>"
            ],
            "image/png": "[encoded data removed]"
          },
          "metadata": {
            "needs_background": "light"
          }
        }
      ]
    },
    {
      "cell_type": "markdown",
      "source": [
        "Nous avons désormais un modèle pour déterminer la différence de température entre l'extérieur et le capteur au cours du temps dans une journée, et nous savons également comment déterminer la puissance fournie par le panneau solaire en fonction de ces températures et de la puissance solaire reçue."
      ],
      "metadata": {
        "id": "bOawZfo2-Rar"
      }
    },
    {
      "cell_type": "markdown",
      "source": [
        "# Visualisation des données"
      ],
      "metadata": {
        "id": "cH9WTMvUUZSn"
      }
    },
    {
      "cell_type": "markdown",
      "source": [
        "Nous allons commencer par appliquer le modèle que nous venons de construire sur notre base de données principale, en redéfinissant la fonction \"normalisation\" de la partie 'Création de la base de données' :"
      ],
      "metadata": {
        "id": "VO9n-dAoUp0B"
      }
    },
    {
      "cell_type": "code",
      "source": [
        "def normalisation(url, latitude,longitude):\n",
        "    \"\"\"On standardise les données récupérées pour les rendre comparables entre elles\"\"\"\n",
        "\n",
        "    delta_t = 1\n",
        "\n",
        "    df_norm = pd.read_csv(url,skiprows=(8),skipfooter=9,engine='python') #On se débarasse des informations superflues\n",
        "\n",
        "    df_norm['annee'] = df_norm['time'].str[:4] #On extrait la variable d'année à partir de la variable temps\n",
        "\n",
        "    #transformation en minutes\n",
        "    c = []\n",
        "    for i in range(len(df_norm)):\n",
        "        c.append(int(df_norm['time'][i][9:11])*60 + int(df_norm['time'][i][11:]))\n",
        "    df_norm['minutes']=c\n",
        "\n",
        "    #construction de Delta_T\n",
        "    df_norm['Delta_T'] = df_norm['minutes'].apply(g).apply(f)\n",
        "    df_norm['Delta_T2'] = df_norm['Delta_T']**2\n",
        "\n",
        "    #construction de P_fournie\n",
        "    df_norm['P_fournie'] = alpha + beta[0]*df_norm['Delta_T'] + beta[1]*df_norm['Delta_T2']+beta[2]*df_norm['G(i)']\n",
        "    df_norm['Energie_recue'] = df_norm['G(i)']*delta_t #en Wh par m2\n",
        "    df_norm['Energie_fournie'] = df_norm['P_fournie']*delta_t #en Wh par m2\n",
        "    df_norm['rendement'] = df_norm['Energie_fournie'] / df_norm['Energie_recue']\n",
        "\n",
        "\n",
        "    df_norm = df_norm.groupby(['annee'])['Energie_recue', 'Energie_fournie'].sum() #On calcule la moyenne annuelle de la variable ensoleillement et de la variable vitesse du vent\n",
        "    df_norm['latitude'] = latitude #On rajoute les paramètres de latitude et de longitude\n",
        "    df_norm['longitude'] = longitude\n",
        "    df_norm['rendement_annuel'] = df_norm['Energie_fournie'] / df_norm['Energie_recue']\n",
        "\n",
        "    return df_norm\n",
        "\n"
      ],
      "metadata": {
        "id": "gDjG9gk4UVvu"
      },
      "execution_count": null,
      "outputs": []
    },
    {
      "cell_type": "code",
      "source": [
        "df = creation_df_zone(40,60,-2,8,2,2013,2016)\n",
        "#carte_interactive(df,\"G(i)\")"
      ],
      "metadata": {
        "id": "9f_d563DVS-G"
      },
      "execution_count": null,
      "outputs": []
    },
    {
      "cell_type": "markdown",
      "source": [
        "Nous pouvons donc désormais visualiser l'énergie fournie par un mètre carré de panneau solaire ainsi que le rendement obtenue pour chaque point donnée dans l'espace."
      ],
      "metadata": {
        "id": "i2IaeG02WPDE"
      }
    },
    {
      "cell_type": "code",
      "source": [
        "#cartes"
      ],
      "metadata": {
        "id": "n-Ymow3kYxUh"
      },
      "execution_count": null,
      "outputs": []
    },
    {
      "cell_type": "markdown",
      "source": [
        "Nous constatons qu'un mètre carré de panneaux solaires peut produire jusqu'à 220 kWh dans l'année. Or nous savons que pour produire une telle surface, sans tenir compte du transport, il est nécessaire de mobiliser environ 420 kWh.\n",
        "\n",
        "Nous en déduisons que d'un point de vue énergétique, ces panneaux solaires là deviennent rentable à partir de la troisième année de fonctionnement.\n",
        "Aujourd'hui un panneau photovoltaïque a une durée de vie estimée de 25 ans. Dans le meilleur des cas, nous pourrions alors obtenir un taux de retour énergétique équivalent à 12,5. \n",
        "C'est-à-dire que pour un kWh investit nous en récupérions 12,5 avec ces panneaux photovoltaïques.\n",
        "\n",
        "Ce qui en fait une source d'énergie plutôt intéressante lorsqu'on sait que le pétrole conventionnel, la reine des énergies, à aujourd'hui un taux de retour énergétique de 8. Il ne faut néanmoins pas oublié que le gaz naturel et le charbon, encore prisé pour la production d'énergie en Europe, conserve un taux de retour énergétique de 5 et 80 respectivement.\n",
        "\n",
        "\n",
        "\n"
      ],
      "metadata": {
        "id": "N2EPzIjqYyX3"
      }
    }
  ],
  "metadata": {
    "colab": {
      "provenance": [],
      "include_colab_link": true
    },
    "kernelspec": {
      "display_name": "Python 3",
      "name": "python3"
    },
    "language_info": {
      "name": "python"
    }
  },
  "nbformat": 4,
  "nbformat_minor": 0
}